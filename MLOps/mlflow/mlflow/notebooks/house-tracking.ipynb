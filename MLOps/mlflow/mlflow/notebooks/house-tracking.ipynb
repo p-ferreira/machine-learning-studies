{
 "metadata": {
  "language_info": {
   "codemirror_mode": {
    "name": "ipython",
    "version": 3
   },
   "file_extension": ".py",
   "mimetype": "text/x-python",
   "name": "python",
   "nbconvert_exporter": "python",
   "pygments_lexer": "ipython3",
   "version": "3.8.5"
  },
  "orig_nbformat": 2,
  "kernelspec": {
   "name": "python385jvsc74a57bd0694c8744488563f6cd2d93f9dc805a9ad929a19bb6157c2d6f3cab25a4c31ca1",
   "display_name": "Python 3.8.5 64-bit ('base': conda)"
  }
 },
 "nbformat": 4,
 "nbformat_minor": 2,
 "cells": [
  {
   "cell_type": "code",
   "execution_count": 2,
   "metadata": {},
   "outputs": [
    {
     "output_type": "execute_result",
     "data": {
      "text/plain": [
       "    size  year  garage   price\n",
       "0  159.0  2003       2  208500\n",
       "1  117.0  1976       2  181500\n",
       "2  166.0  2001       2  223500\n",
       "3  160.0  1915       3  140000\n",
       "4  204.0  2000       3  250000"
      ],
      "text/html": "<div>\n<style scoped>\n    .dataframe tbody tr th:only-of-type {\n        vertical-align: middle;\n    }\n\n    .dataframe tbody tr th {\n        vertical-align: top;\n    }\n\n    .dataframe thead th {\n        text-align: right;\n    }\n</style>\n<table border=\"1\" class=\"dataframe\">\n  <thead>\n    <tr style=\"text-align: right;\">\n      <th></th>\n      <th>size</th>\n      <th>year</th>\n      <th>garage</th>\n      <th>price</th>\n    </tr>\n  </thead>\n  <tbody>\n    <tr>\n      <th>0</th>\n      <td>159.0</td>\n      <td>2003</td>\n      <td>2</td>\n      <td>208500</td>\n    </tr>\n    <tr>\n      <th>1</th>\n      <td>117.0</td>\n      <td>1976</td>\n      <td>2</td>\n      <td>181500</td>\n    </tr>\n    <tr>\n      <th>2</th>\n      <td>166.0</td>\n      <td>2001</td>\n      <td>2</td>\n      <td>223500</td>\n    </tr>\n    <tr>\n      <th>3</th>\n      <td>160.0</td>\n      <td>1915</td>\n      <td>3</td>\n      <td>140000</td>\n    </tr>\n    <tr>\n      <th>4</th>\n      <td>204.0</td>\n      <td>2000</td>\n      <td>3</td>\n      <td>250000</td>\n    </tr>\n  </tbody>\n</table>\n</div>"
     },
     "metadata": {},
     "execution_count": 2
    }
   ],
   "source": [
    "import pandas as pd\n",
    "\n",
    "df = pd.read_csv('../data/processed/data.csv')\n",
    "df.head()"
   ]
  },
  {
   "cell_type": "code",
   "execution_count": 2,
   "metadata": {},
   "outputs": [],
   "source": [
    "X = df.drop('price', axis = 1)\n",
    "y = df['price'].copy()"
   ]
  },
  {
   "cell_type": "code",
   "execution_count": 4,
   "metadata": {},
   "outputs": [],
   "source": [
    "from sklearn.model_selection import train_test_split\n",
    "\n",
    "X_train, X_test, y_train, y_test = train_test_split(X, y, test_size = 0.3, random_state = 42)"
   ]
  },
  {
   "source": [
    "## Set MLFlow Experiment"
   ],
   "cell_type": "markdown",
   "metadata": {}
  },
  {
   "cell_type": "code",
   "execution_count": 21,
   "metadata": {},
   "outputs": [
    {
     "output_type": "stream",
     "name": "stdout",
     "text": [
      "INFO: 'house-prices-eda' does not exist. Creating a new experiment\n"
     ]
    }
   ],
   "source": [
    "import mlflow\n",
    "mlflow.set_experiment('house-prices-eda')"
   ]
  },
  {
   "source": [
    "# Linear Regression"
   ],
   "cell_type": "markdown",
   "metadata": {}
  },
  {
   "cell_type": "code",
   "execution_count": 22,
   "metadata": {},
   "outputs": [
    {
     "output_type": "execute_result",
     "data": {
      "text/plain": [
       "<ActiveRun: >"
      ]
     },
     "metadata": {},
     "execution_count": 22
    }
   ],
   "source": [
    "mlflow.start_run() # Starts execution"
   ]
  },
  {
   "cell_type": "code",
   "execution_count": 23,
   "metadata": {},
   "outputs": [
    {
     "output_type": "execute_result",
     "data": {
      "text/plain": [
       "LinearRegression()"
      ]
     },
     "metadata": {},
     "execution_count": 23
    }
   ],
   "source": [
    "from sklearn.linear_model import LinearRegression\n",
    "\n",
    "linearRegressionModel =  LinearRegression()\n",
    "\n",
    "linearRegressionModel.fit(X_train, y_train)"
   ]
  },
  {
   "cell_type": "code",
   "execution_count": 29,
   "metadata": {},
   "outputs": [],
   "source": [
    "# Dumps model into MLFlow\n",
    "mlflow.sklearn.log_model(linearRegressionModel, 'LinearRegressionModel')"
   ]
  },
  {
   "cell_type": "code",
   "execution_count": 30,
   "metadata": {},
   "outputs": [],
   "source": [
    "X_test_prediction = linearRegressionModel.predict(X_test)"
   ]
  },
  {
   "cell_type": "code",
   "execution_count": 31,
   "metadata": {},
   "outputs": [
    {
     "output_type": "stream",
     "name": "stdout",
     "text": [
      "mse 2078666917.9289908\nrmse 45592.39978251848\nr2 0.7021153642898048\n"
     ]
    }
   ],
   "source": [
    "from sklearn.metrics import mean_squared_error, r2_score\n",
    "import math\n",
    "\n",
    "mse = mean_squared_error(y_test, X_test_prediction)\n",
    "rmse = math.sqrt(mse)\n",
    "r2 = r2_score(y_test, X_test_prediction)\n",
    "\n",
    "print('mse', mse)\n",
    "print('rmse', rmse)\n",
    "print('r2', r2)"
   ]
  },
  {
   "cell_type": "code",
   "execution_count": 32,
   "metadata": {},
   "outputs": [],
   "source": [
    "# Logs model metric into ML Flow\n",
    "\n",
    "mlflow.log_metric('mse', mse)\n",
    "mlflow.log_metric('rmse', rmse)\n",
    "mlflow.log_metric('r2', r2)"
   ]
  },
  {
   "cell_type": "code",
   "execution_count": 34,
   "metadata": {},
   "outputs": [],
   "source": [
    "# Manual approach to finish execution\n",
    "mlflow.end_run()"
   ]
  },
  {
   "cell_type": "code",
   "execution_count": 39,
   "metadata": {},
   "outputs": [
    {
     "output_type": "stream",
     "name": "stdout",
     "text": [
      "mse 1318418524.4896371\nrmse 36310.03338596148\nr2 0.81106322590997\n"
     ]
    }
   ],
   "source": [
    "from xgboost import XGBRFRegressor, XGBRegressor\n",
    "\n",
    "with mlflow.start_run():    \n",
    "    xgb = XGBRFRegressor(random_state = 42)     \n",
    "    xgb.fit(X_train, y_train)\n",
    "\n",
    "    mlflow.xgboost.log_model(xgb, 'xgboost rf')\n",
    "\n",
    "    xgb_predicted = xgb.predict(X_test)\n",
    "\n",
    "    mse = mean_squared_error(y_test, xgb_predicted)\n",
    "    rmse = math.sqrt(mse)\n",
    "    r2 = r2_score(y_test, xgb_predicted)\n",
    "\n",
    "    print('mse', mse)\n",
    "    print('rmse', rmse)\n",
    "    print('r2', r2)\n",
    "\n",
    "    mlflow.log_metric('mse', mse)\n",
    "    mlflow.log_metric('rmse', rmse)\n",
    "    mlflow.log_metric('r2', r2)"
   ]
  },
  {
   "cell_type": "code",
   "execution_count": 40,
   "metadata": {},
   "outputs": [
    {
     "output_type": "stream",
     "name": "stdout",
     "text": [
      "mse 1386727460.1346002\nrmse 37238.789724353286\nr2 0.8012741720529797\n"
     ]
    }
   ],
   "source": [
    "xgb_params = {\n",
    "    'learning_rate': 0.2,\n",
    "    'n_estimators': 50,\n",
    "    'random_state': 42\n",
    "}\n",
    "\n",
    "with mlflow.start_run():        \n",
    "    xgb = XGBRegressor(**xgb_params)\n",
    "    xgb.fit(X_train, y_train)\n",
    "\n",
    "    mlflow.xgboost.log_model(xgb, 'xgboost')\n",
    "\n",
    "    xgb_predicted = xgb.predict(X_test)\n",
    "\n",
    "    mse = mean_squared_error(y_test, xgb_predicted)\n",
    "    rmse = math.sqrt(mse)\n",
    "    r2 = r2_score(y_test, xgb_predicted)\n",
    "\n",
    "    print('mse', mse)\n",
    "    print('rmse', rmse)\n",
    "    print('r2', r2)\n",
    "\n",
    "    mlflow.log_metric('mse', mse)\n",
    "    mlflow.log_metric('rmse', rmse)\n",
    "    mlflow.log_metric('r2', r2)"
   ]
  },
  {
   "source": [
    "# Consuming existing experiments with MLFlow Tracking API"
   ],
   "cell_type": "markdown",
   "metadata": {}
  },
  {
   "cell_type": "code",
   "execution_count": 41,
   "metadata": {},
   "outputs": [
    {
     "output_type": "execute_result",
     "data": {
      "text/plain": [
       "<Experiment: artifact_location='file:///C:/Users/PedroFerreira/PycharmProjects/data-science-studies/Machine%20Learning/MLOps/mlflow/mlflow/notebooks/mlruns/1', experiment_id='1', lifecycle_stage='active', name='house-prices-eda', tags={}>"
      ]
     },
     "metadata": {},
     "execution_count": 41
    }
   ],
   "source": [
    "mlflow.get_experiment_by_name('house-prices-eda')"
   ]
  },
  {
   "cell_type": "code",
   "execution_count": 42,
   "metadata": {},
   "outputs": [
    {
     "output_type": "execute_result",
     "data": {
      "text/plain": [
       "[<RunInfo: artifact_uri='file:///C:/Users/PedroFerreira/PycharmProjects/data-science-studies/Machine%20Learning/MLOps/mlflow/mlflow/notebooks/mlruns/1/7bc6caff5624419ba52c3328a177f451/artifacts', end_time=1623248845736, experiment_id='1', lifecycle_stage='active', run_id='7bc6caff5624419ba52c3328a177f451', run_uuid='7bc6caff5624419ba52c3328a177f451', start_time=1623248845518, status='FINISHED', user_id='PedroFerreira'>,\n",
       " <RunInfo: artifact_uri='file:///C:/Users/PedroFerreira/PycharmProjects/data-science-studies/Machine%20Learning/MLOps/mlflow/mlflow/notebooks/mlruns/1/fe7a5c3d8cf7441e9fbeac94050bd2c5/artifacts', end_time=1623248843732, experiment_id='1', lifecycle_stage='active', run_id='fe7a5c3d8cf7441e9fbeac94050bd2c5', run_uuid='fe7a5c3d8cf7441e9fbeac94050bd2c5', start_time=1623248843461, status='FINISHED', user_id='PedroFerreira'>,\n",
       " <RunInfo: artifact_uri='file:///C:/Users/PedroFerreira/PycharmProjects/data-science-studies/Machine%20Learning/MLOps/mlflow/mlflow/notebooks/mlruns/1/ab9c4201473c4e32b5f4fc3b113163dd/artifacts', end_time=1623248415533, experiment_id='1', lifecycle_stage='active', run_id='ab9c4201473c4e32b5f4fc3b113163dd', run_uuid='ab9c4201473c4e32b5f4fc3b113163dd', start_time=1623247843474, status='FINISHED', user_id='PedroFerreira'>]"
      ]
     },
     "metadata": {},
     "execution_count": 42
    }
   ],
   "source": [
    "mlflow.list_run_infos(experiment_id='1')"
   ]
  },
  {
   "cell_type": "code",
   "execution_count": 43,
   "metadata": {},
   "outputs": [
    {
     "output_type": "execute_result",
     "data": {
      "text/plain": [
       "<Run: data=<RunData: metrics={'mse': 2078666917.9289908, 'r2': 0.7021153642898048, 'rmse': 45592.39978251848}, params={}, tags={'mlflow.log-model.history': '[{\"run_id\": \"ab9c4201473c4e32b5f4fc3b113163dd\", '\n",
       "                             '\"artifact_path\": \"LinearRegressionModel\", '\n",
       "                             '\"utc_time_created\": \"2021-06-09 '\n",
       "                             '14:10:43.584596\", \"flavors\": {\"python_function\": '\n",
       "                             '{\"model_path\": \"model.pkl\", \"loader_module\": '\n",
       "                             '\"mlflow.sklearn\", \"python_version\": \"3.8.5\", '\n",
       "                             '\"env\": \"conda.yaml\"}, \"sklearn\": '\n",
       "                             '{\"pickled_model\": \"model.pkl\", '\n",
       "                             '\"sklearn_version\": \"0.23.2\", '\n",
       "                             '\"serialization_format\": \"cloudpickle\"}}}, '\n",
       "                             '{\"run_id\": \"ab9c4201473c4e32b5f4fc3b113163dd\", '\n",
       "                             '\"artifact_path\": \"LinearRegressionModel\", '\n",
       "                             '\"utc_time_created\": \"2021-06-09 '\n",
       "                             '14:12:35.696154\", \"flavors\": {\"python_function\": '\n",
       "                             '{\"model_path\": \"model.pkl\", \"loader_module\": '\n",
       "                             '\"mlflow.sklearn\", \"python_version\": \"3.8.5\", '\n",
       "                             '\"env\": \"conda.yaml\"}, \"sklearn\": '\n",
       "                             '{\"pickled_model\": \"model.pkl\", '\n",
       "                             '\"sklearn_version\": \"0.23.2\", '\n",
       "                             '\"serialization_format\": \"cloudpickle\"}}}]',\n",
       " 'mlflow.source.name': 'ipykernel_launcher',\n",
       " 'mlflow.source.type': 'LOCAL',\n",
       " 'mlflow.user': 'PedroFerreira'}>, info=<RunInfo: artifact_uri='file:///C:/Users/PedroFerreira/PycharmProjects/data-science-studies/Machine%20Learning/MLOps/mlflow/mlflow/notebooks/mlruns/1/ab9c4201473c4e32b5f4fc3b113163dd/artifacts', end_time=1623248415533, experiment_id='1', lifecycle_stage='active', run_id='ab9c4201473c4e32b5f4fc3b113163dd', run_uuid='ab9c4201473c4e32b5f4fc3b113163dd', start_time=1623247843474, status='FINISHED', user_id='PedroFerreira'>>"
      ]
     },
     "metadata": {},
     "execution_count": 43
    }
   ],
   "source": [
    "mlflow.get_run('ab9c4201473c4e32b5f4fc3b113163dd')"
   ]
  }
 ]
}