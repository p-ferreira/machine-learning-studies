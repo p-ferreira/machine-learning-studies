{
 "metadata": {
  "language_info": {
   "codemirror_mode": {
    "name": "ipython",
    "version": 3
   },
   "file_extension": ".py",
   "mimetype": "text/x-python",
   "name": "python",
   "nbconvert_exporter": "python",
   "pygments_lexer": "ipython3",
   "version": 3
  },
  "orig_nbformat": 2
 },
 "nbformat": 4,
 "nbformat_minor": 2,
 "cells": [
  {
   "cell_type": "code",
   "execution_count": null,
   "metadata": {},
   "outputs": [],
   "source": [
    "import requests\n",
    "\n",
    "url = 'http\"//127.0.0.1:5010/invocations'\n",
    "\n",
    "data = {\n",
    "    'columns': ['size', 'year', 'garage']\n",
    "    'data' : [[159.0,2003, 2]]\n",
    "}\n",
    "\n",
    "header = {'Content-Type': 'application/json' }\n",
    "\n",
    "response = requests.post(url, json = data, headers = header)\n",
    "\n",
    "print(response.text)"
   ]
  }
 ]
}