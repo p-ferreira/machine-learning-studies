{
 "metadata": {
  "language_info": {
   "codemirror_mode": {
    "name": "ipython",
    "version": 3
   },
   "file_extension": ".py",
   "mimetype": "text/x-python",
   "name": "python",
   "nbconvert_exporter": "python",
   "pygments_lexer": "ipython3",
   "version": "3.8.5"
  },
  "orig_nbformat": 2,
  "kernelspec": {
   "name": "python385jvsc74a57bd0694c8744488563f6cd2d93f9dc805a9ad929a19bb6157c2d6f3cab25a4c31ca1",
   "display_name": "Python 3.8.5 64-bit ('base': conda)"
  }
 },
 "nbformat": 4,
 "nbformat_minor": 2,
 "cells": [
  {
   "cell_type": "code",
   "execution_count": 4,
   "metadata": {},
   "outputs": [
    {
     "output_type": "execute_result",
     "data": {
      "text/plain": [
       "{'price': 165669.32965898537}"
      ]
     },
     "metadata": {},
     "execution_count": 4
    }
   ],
   "source": [
    "import requests\n",
    "\n",
    "url = 'http://localhost:5000/price_quote/'\n",
    "\n",
    "data = {\n",
    "    \"size\": 120,\n",
    "    \"year\": 2001,\n",
    "    \"garage\": 1\n",
    "}\n",
    "\n",
    "auth = requests.auth.HTTPBasicAuth('john', '123')\n",
    "\n",
    "response = requests.post(url, json = data, auth=auth)\n",
    "response.json()"
   ]
  }
 ]
}