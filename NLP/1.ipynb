{
 "metadata": {
  "language_info": {
   "codemirror_mode": {
    "name": "ipython",
    "version": 3
   },
   "file_extension": ".py",
   "mimetype": "text/x-python",
   "name": "python",
   "nbconvert_exporter": "python",
   "pygments_lexer": "ipython3",
   "version": "3.9.5"
  },
  "orig_nbformat": 4,
  "kernelspec": {
   "name": "python3",
   "display_name": "Python 3.9.5 64-bit (windows store)"
  },
  "interpreter": {
   "hash": "0fba0a1fa6bc17c602a67f3068b6b2b898f48db247aa3201eef7eaa1254b4529"
  }
 },
 "nbformat": 4,
 "nbformat_minor": 2,
 "cells": [
  {
   "cell_type": "code",
   "execution_count": 1,
   "metadata": {},
   "outputs": [
    {
     "output_type": "execute_result",
     "data": {
      "text/plain": [
       "      Id                                             Título  \\\n",
       "0   2402         Como fazer hash de senhas de forma segura?   \n",
       "1   6441  Qual é a diferença entre INNER JOIN e OUTER JOIN?   \n",
       "2    579  Por que não devemos usar funções do tipo mysql_*?   \n",
       "3   2539           As mensagens de erro devem se desculpar?   \n",
       "4  17501  Qual é a diferença de API, biblioteca e Framew...   \n",
       "\n",
       "                                             Questão  \\\n",
       "0  <p>Se eu fizer o <em><a href=\"http://pt.wikipe...   \n",
       "1  <p>Qual é a diferença entre <code>INNER JOIN</...   \n",
       "2  <p>Uma dúvida muito comum é por que devemos pa...   \n",
       "3  <p>É comum encontrar uma mensagem de erro que ...   \n",
       "4  <p>Me parecem termos muito próximos e eventual...   \n",
       "\n",
       "                                         Tags  Pontuação  Visualizações  \n",
       "0     <hash><segurança><senhas><criptografia>        350          22367  \n",
       "1                                 <sql><join>        276         176953  \n",
       "2                                <php><mysql>        226           9761  \n",
       "3           <aplicação-web><gui><console><ux>        214           5075  \n",
       "4  <api><framework><terminologia><biblioteca>        193          54191  "
      ],
      "text/html": "<div>\n<style scoped>\n    .dataframe tbody tr th:only-of-type {\n        vertical-align: middle;\n    }\n\n    .dataframe tbody tr th {\n        vertical-align: top;\n    }\n\n    .dataframe thead th {\n        text-align: right;\n    }\n</style>\n<table border=\"1\" class=\"dataframe\">\n  <thead>\n    <tr style=\"text-align: right;\">\n      <th></th>\n      <th>Id</th>\n      <th>Título</th>\n      <th>Questão</th>\n      <th>Tags</th>\n      <th>Pontuação</th>\n      <th>Visualizações</th>\n    </tr>\n  </thead>\n  <tbody>\n    <tr>\n      <th>0</th>\n      <td>2402</td>\n      <td>Como fazer hash de senhas de forma segura?</td>\n      <td>&lt;p&gt;Se eu fizer o &lt;em&gt;&lt;a href=\"http://pt.wikipe...</td>\n      <td>&lt;hash&gt;&lt;segurança&gt;&lt;senhas&gt;&lt;criptografia&gt;</td>\n      <td>350</td>\n      <td>22367</td>\n    </tr>\n    <tr>\n      <th>1</th>\n      <td>6441</td>\n      <td>Qual é a diferença entre INNER JOIN e OUTER JOIN?</td>\n      <td>&lt;p&gt;Qual é a diferença entre &lt;code&gt;INNER JOIN&lt;/...</td>\n      <td>&lt;sql&gt;&lt;join&gt;</td>\n      <td>276</td>\n      <td>176953</td>\n    </tr>\n    <tr>\n      <th>2</th>\n      <td>579</td>\n      <td>Por que não devemos usar funções do tipo mysql_*?</td>\n      <td>&lt;p&gt;Uma dúvida muito comum é por que devemos pa...</td>\n      <td>&lt;php&gt;&lt;mysql&gt;</td>\n      <td>226</td>\n      <td>9761</td>\n    </tr>\n    <tr>\n      <th>3</th>\n      <td>2539</td>\n      <td>As mensagens de erro devem se desculpar?</td>\n      <td>&lt;p&gt;É comum encontrar uma mensagem de erro que ...</td>\n      <td>&lt;aplicação-web&gt;&lt;gui&gt;&lt;console&gt;&lt;ux&gt;</td>\n      <td>214</td>\n      <td>5075</td>\n    </tr>\n    <tr>\n      <th>4</th>\n      <td>17501</td>\n      <td>Qual é a diferença de API, biblioteca e Framew...</td>\n      <td>&lt;p&gt;Me parecem termos muito próximos e eventual...</td>\n      <td>&lt;api&gt;&lt;framework&gt;&lt;terminologia&gt;&lt;biblioteca&gt;</td>\n      <td>193</td>\n      <td>54191</td>\n    </tr>\n  </tbody>\n</table>\n</div>"
     },
     "metadata": {},
     "execution_count": 1
    }
   ],
   "source": [
    "import pandas as pd\n",
    "\n",
    "portuguese_data = pd.read_csv('stackoverflow_portugues.csv')\n",
    "\n",
    "portuguese_data.head()"
   ]
  },
  {
   "cell_type": "code",
   "execution_count": null,
   "metadata": {},
   "outputs": [],
   "source": []
  }
 ]
}