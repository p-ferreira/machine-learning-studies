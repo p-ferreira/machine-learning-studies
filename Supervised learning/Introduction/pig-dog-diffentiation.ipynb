{
 "metadata": {
  "language_info": {
   "codemirror_mode": {
    "name": "ipython",
    "version": 3
   },
   "file_extension": ".py",
   "mimetype": "text/x-python",
   "name": "python",
   "nbconvert_exporter": "python",
   "pygments_lexer": "ipython3",
   "version": "3.8.5"
  },
  "orig_nbformat": 2,
  "kernelspec": {
   "name": "python385jvsc74a57bd0694c8744488563f6cd2d93f9dc805a9ad929a19bb6157c2d6f3cab25a4c31ca1",
   "display_name": "Python 3.8.5 64-bit ('base': conda)"
  }
 },
 "nbformat": 4,
 "nbformat_minor": 2,
 "cells": [
  {
   "source": [
    "# Learning how to differentiate a pig from a dog"
   ],
   "cell_type": "markdown",
   "metadata": {}
  },
  {
   "cell_type": "code",
   "execution_count": 1,
   "metadata": {},
   "outputs": [],
   "source": [
    "# features\n",
    "#   - Has long fur?\n",
    "#   - Has Short legs?\n",
    "#   - Makes woof woof?\n",
    "\n",
    "pig1 = [0, 1, 0]\n",
    "pig2 = [0, 1, 1] # this is a special pig that makes woof woof \n",
    "pig3 = [1, 1, 0]\n",
    "\n",
    "dog1 = [0, 1, 1]\n",
    "dog2 = [1, 0, 1]\n",
    "dog3 = [1, 1, 1]\n",
    "\n",
    "train_x = [pig1, pig2, pig3, dog1, dog2, dog3]\n",
    "\n",
    "# 1 => pig, 0 => dog\n",
    "train_y = [1,1,1,0,0,0] # labels"
   ]
  },
  {
   "cell_type": "code",
   "execution_count": 2,
   "metadata": {},
   "outputs": [
    {
     "output_type": "execute_result",
     "data": {
      "text/plain": [
       "LinearSVC()"
      ]
     },
     "metadata": {},
     "execution_count": 2
    }
   ],
   "source": [
    "from sklearn.svm import LinearSVC\n",
    "\n",
    "model = LinearSVC()\n",
    "model.fit(train_x, train_y)"
   ]
  },
  {
   "cell_type": "code",
   "execution_count": 3,
   "metadata": {},
   "outputs": [
    {
     "output_type": "execute_result",
     "data": {
      "text/plain": [
       "array([0])"
      ]
     },
     "metadata": {},
     "execution_count": 3
    }
   ],
   "source": [
    "unknown_animal = [1,1,1]\n",
    "\n",
    "model.predict([unknown_animal])"
   ]
  },
  {
   "source": [
    "Array([0]) represents that the model has predicted that the unknown animal is a dog (0)"
   ],
   "cell_type": "markdown",
   "metadata": {}
  },
  {
   "cell_type": "code",
   "execution_count": 4,
   "metadata": {},
   "outputs": [],
   "source": [
    "unknown_animal1 = [1,1,1]\n",
    "unknown_animal2 = [1,1,0]\n",
    "unknown_animal3 = [0,1,1]\n",
    "\n",
    "test_x = [unknown_animal1, unknown_animal2, unknown_animal3]\n",
    "test_y = [0,1,1] # real expectations for unknown animals (dog, pig, pig)\n"
   ]
  },
  {
   "cell_type": "code",
   "execution_count": 5,
   "metadata": {},
   "outputs": [],
   "source": [
    "predictions = model.predict(test_x)"
   ]
  },
  {
   "cell_type": "code",
   "execution_count": 8,
   "metadata": {},
   "outputs": [
    {
     "output_type": "stream",
     "name": "stdout",
     "text": [
      "Hit rate: 66.67\n"
     ]
    }
   ],
   "source": [
    "correct_predictions = (predictions == test_y).sum()\n",
    "total_tests = len(test_x)\n",
    "hit_rate = correct_predictions / total_tests\n",
    "print(\"Hit rate: %.2f\" % (hit_rate * 100))"
   ]
  },
  {
   "cell_type": "code",
   "execution_count": 9,
   "metadata": {},
   "outputs": [
    {
     "output_type": "stream",
     "name": "stdout",
     "text": [
      "Hit rate: 66.67\n"
     ]
    }
   ],
   "source": [
    "from sklearn.metrics import accuracy_score\n",
    "\n",
    "hit_rate = accuracy_score(test_y, predictions) \n",
    "print(\"Hit rate: %.2f\" % (hit_rate * 100))"
   ]
  }
 ]
}