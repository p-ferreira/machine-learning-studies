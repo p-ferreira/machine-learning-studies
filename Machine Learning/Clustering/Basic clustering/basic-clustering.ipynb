{
 "metadata": {
  "language_info": {
   "codemirror_mode": {
    "name": "ipython",
    "version": 3
   },
   "file_extension": ".py",
   "mimetype": "text/x-python",
   "name": "python",
   "nbconvert_exporter": "python",
   "pygments_lexer": "ipython3",
   "version": "3.8.5"
  },
  "orig_nbformat": 2,
  "kernelspec": {
   "name": "python385jvsc74a57bd0694c8744488563f6cd2d93f9dc805a9ad929a19bb6157c2d6f3cab25a4c31ca1",
   "display_name": "Python 3.8.5 64-bit ('base': conda)"
  }
 },
 "nbformat": 4,
 "nbformat_minor": 2,
 "cells": [
  {
   "cell_type": "code",
   "execution_count": 1,
   "metadata": {},
   "outputs": [],
   "source": [
    "import plotly.graph_objects as go\n",
    "import pandas as pd\n",
    "import numpy as np"
   ]
  },
  {
   "cell_type": "code",
   "execution_count": 2,
   "metadata": {},
   "outputs": [
    {
     "output_type": "execute_result",
     "data": {
      "text/plain": [
       "(178, 14)"
      ]
     },
     "metadata": {},
     "execution_count": 2
    }
   ],
   "source": [
    "df = pd.read_csv('wine.csv')\n",
    "df.shape"
   ]
  },
  {
   "cell_type": "code",
   "execution_count": 3,
   "metadata": {},
   "outputs": [
    {
     "output_type": "execute_result",
     "data": {
      "text/plain": [
       "          Alcohol  Malic_Acid         Ash  Ash_Alcanity   Magnesium  \\\n",
       "count  178.000000  178.000000  178.000000    178.000000  178.000000   \n",
       "mean    13.000618    2.336348    2.366517     19.494944   99.741573   \n",
       "std      0.811827    1.117146    0.274344      3.339564   14.282484   \n",
       "min     11.030000    0.740000    1.360000     10.600000   70.000000   \n",
       "25%     12.362500    1.602500    2.210000     17.200000   88.000000   \n",
       "50%     13.050000    1.865000    2.360000     19.500000   98.000000   \n",
       "75%     13.677500    3.082500    2.557500     21.500000  107.000000   \n",
       "max     14.830000    5.800000    3.230000     30.000000  162.000000   \n",
       "\n",
       "       Total_Phenols  Flavanoids  Nonflavanoid_Phenols  Proanthocyanins  \\\n",
       "count     178.000000  178.000000            178.000000       178.000000   \n",
       "mean        2.295112    2.029270              0.361854         1.590899   \n",
       "std         0.625851    0.998859              0.124453         0.572359   \n",
       "min         0.980000    0.340000              0.130000         0.410000   \n",
       "25%         1.742500    1.205000              0.270000         1.250000   \n",
       "50%         2.355000    2.135000              0.340000         1.555000   \n",
       "75%         2.800000    2.875000              0.437500         1.950000   \n",
       "max         3.880000    5.080000              0.660000         3.580000   \n",
       "\n",
       "       Color_Intensity         Hue       OD280      Proline  Customer_Segment  \n",
       "count       178.000000  178.000000  178.000000   178.000000        178.000000  \n",
       "mean          5.058090    0.957449    2.611685   746.893258          1.938202  \n",
       "std           2.318286    0.228572    0.709990   314.907474          0.775035  \n",
       "min           1.280000    0.480000    1.270000   278.000000          1.000000  \n",
       "25%           3.220000    0.782500    1.937500   500.500000          1.000000  \n",
       "50%           4.690000    0.965000    2.780000   673.500000          2.000000  \n",
       "75%           6.200000    1.120000    3.170000   985.000000          3.000000  \n",
       "max          13.000000    1.710000    4.000000  1680.000000          3.000000  "
      ],
      "text/html": "<div>\n<style scoped>\n    .dataframe tbody tr th:only-of-type {\n        vertical-align: middle;\n    }\n\n    .dataframe tbody tr th {\n        vertical-align: top;\n    }\n\n    .dataframe thead th {\n        text-align: right;\n    }\n</style>\n<table border=\"1\" class=\"dataframe\">\n  <thead>\n    <tr style=\"text-align: right;\">\n      <th></th>\n      <th>Alcohol</th>\n      <th>Malic_Acid</th>\n      <th>Ash</th>\n      <th>Ash_Alcanity</th>\n      <th>Magnesium</th>\n      <th>Total_Phenols</th>\n      <th>Flavanoids</th>\n      <th>Nonflavanoid_Phenols</th>\n      <th>Proanthocyanins</th>\n      <th>Color_Intensity</th>\n      <th>Hue</th>\n      <th>OD280</th>\n      <th>Proline</th>\n      <th>Customer_Segment</th>\n    </tr>\n  </thead>\n  <tbody>\n    <tr>\n      <th>count</th>\n      <td>178.000000</td>\n      <td>178.000000</td>\n      <td>178.000000</td>\n      <td>178.000000</td>\n      <td>178.000000</td>\n      <td>178.000000</td>\n      <td>178.000000</td>\n      <td>178.000000</td>\n      <td>178.000000</td>\n      <td>178.000000</td>\n      <td>178.000000</td>\n      <td>178.000000</td>\n      <td>178.000000</td>\n      <td>178.000000</td>\n    </tr>\n    <tr>\n      <th>mean</th>\n      <td>13.000618</td>\n      <td>2.336348</td>\n      <td>2.366517</td>\n      <td>19.494944</td>\n      <td>99.741573</td>\n      <td>2.295112</td>\n      <td>2.029270</td>\n      <td>0.361854</td>\n      <td>1.590899</td>\n      <td>5.058090</td>\n      <td>0.957449</td>\n      <td>2.611685</td>\n      <td>746.893258</td>\n      <td>1.938202</td>\n    </tr>\n    <tr>\n      <th>std</th>\n      <td>0.811827</td>\n      <td>1.117146</td>\n      <td>0.274344</td>\n      <td>3.339564</td>\n      <td>14.282484</td>\n      <td>0.625851</td>\n      <td>0.998859</td>\n      <td>0.124453</td>\n      <td>0.572359</td>\n      <td>2.318286</td>\n      <td>0.228572</td>\n      <td>0.709990</td>\n      <td>314.907474</td>\n      <td>0.775035</td>\n    </tr>\n    <tr>\n      <th>min</th>\n      <td>11.030000</td>\n      <td>0.740000</td>\n      <td>1.360000</td>\n      <td>10.600000</td>\n      <td>70.000000</td>\n      <td>0.980000</td>\n      <td>0.340000</td>\n      <td>0.130000</td>\n      <td>0.410000</td>\n      <td>1.280000</td>\n      <td>0.480000</td>\n      <td>1.270000</td>\n      <td>278.000000</td>\n      <td>1.000000</td>\n    </tr>\n    <tr>\n      <th>25%</th>\n      <td>12.362500</td>\n      <td>1.602500</td>\n      <td>2.210000</td>\n      <td>17.200000</td>\n      <td>88.000000</td>\n      <td>1.742500</td>\n      <td>1.205000</td>\n      <td>0.270000</td>\n      <td>1.250000</td>\n      <td>3.220000</td>\n      <td>0.782500</td>\n      <td>1.937500</td>\n      <td>500.500000</td>\n      <td>1.000000</td>\n    </tr>\n    <tr>\n      <th>50%</th>\n      <td>13.050000</td>\n      <td>1.865000</td>\n      <td>2.360000</td>\n      <td>19.500000</td>\n      <td>98.000000</td>\n      <td>2.355000</td>\n      <td>2.135000</td>\n      <td>0.340000</td>\n      <td>1.555000</td>\n      <td>4.690000</td>\n      <td>0.965000</td>\n      <td>2.780000</td>\n      <td>673.500000</td>\n      <td>2.000000</td>\n    </tr>\n    <tr>\n      <th>75%</th>\n      <td>13.677500</td>\n      <td>3.082500</td>\n      <td>2.557500</td>\n      <td>21.500000</td>\n      <td>107.000000</td>\n      <td>2.800000</td>\n      <td>2.875000</td>\n      <td>0.437500</td>\n      <td>1.950000</td>\n      <td>6.200000</td>\n      <td>1.120000</td>\n      <td>3.170000</td>\n      <td>985.000000</td>\n      <td>3.000000</td>\n    </tr>\n    <tr>\n      <th>max</th>\n      <td>14.830000</td>\n      <td>5.800000</td>\n      <td>3.230000</td>\n      <td>30.000000</td>\n      <td>162.000000</td>\n      <td>3.880000</td>\n      <td>5.080000</td>\n      <td>0.660000</td>\n      <td>3.580000</td>\n      <td>13.000000</td>\n      <td>1.710000</td>\n      <td>4.000000</td>\n      <td>1680.000000</td>\n      <td>3.000000</td>\n    </tr>\n  </tbody>\n</table>\n</div>"
     },
     "metadata": {},
     "execution_count": 3
    }
   ],
   "source": [
    "df.describe()"
   ]
  },
  {
   "cell_type": "code",
   "execution_count": 4,
   "metadata": {},
   "outputs": [
    {
     "output_type": "execute_result",
     "data": {
      "text/plain": [
       "                       Alcohol  Malic_Acid       Ash  Ash_Alcanity  Magnesium  \\\n",
       "Alcohol               1.000000    0.094397  0.211545     -0.310235   0.270798   \n",
       "Malic_Acid            0.094397    1.000000  0.164045      0.288500  -0.054575   \n",
       "Ash                   0.211545    0.164045  1.000000      0.443367   0.286587   \n",
       "Ash_Alcanity         -0.310235    0.288500  0.443367      1.000000  -0.083333   \n",
       "Magnesium             0.270798   -0.054575  0.286587     -0.083333   1.000000   \n",
       "Total_Phenols         0.289101   -0.335167  0.128980     -0.321113   0.214401   \n",
       "Flavanoids            0.236815   -0.411007  0.115077     -0.351370   0.195784   \n",
       "Nonflavanoid_Phenols -0.155929    0.292977  0.186230      0.361922  -0.256294   \n",
       "Proanthocyanins       0.136698   -0.220746  0.009652     -0.197327   0.236441   \n",
       "Color_Intensity       0.546364    0.248985  0.258887      0.018732   0.199950   \n",
       "Hue                  -0.071747   -0.561296 -0.074667     -0.273955   0.055398   \n",
       "OD280                 0.072343   -0.368710  0.003911     -0.276769   0.066004   \n",
       "Proline               0.643720   -0.192011  0.223626     -0.440597   0.393351   \n",
       "Customer_Segment     -0.328222    0.437776 -0.049643      0.517859  -0.209179   \n",
       "\n",
       "                      Total_Phenols  Flavanoids  Nonflavanoid_Phenols  \\\n",
       "Alcohol                    0.289101    0.236815             -0.155929   \n",
       "Malic_Acid                -0.335167   -0.411007              0.292977   \n",
       "Ash                        0.128980    0.115077              0.186230   \n",
       "Ash_Alcanity              -0.321113   -0.351370              0.361922   \n",
       "Magnesium                  0.214401    0.195784             -0.256294   \n",
       "Total_Phenols              1.000000    0.864564             -0.449935   \n",
       "Flavanoids                 0.864564    1.000000             -0.537900   \n",
       "Nonflavanoid_Phenols      -0.449935   -0.537900              1.000000   \n",
       "Proanthocyanins            0.612413    0.652692             -0.365845   \n",
       "Color_Intensity           -0.055136   -0.172379              0.139057   \n",
       "Hue                        0.433681    0.543479             -0.262640   \n",
       "OD280                      0.699949    0.787194             -0.503270   \n",
       "Proline                    0.498115    0.494193             -0.311385   \n",
       "Customer_Segment          -0.719163   -0.847498              0.489109   \n",
       "\n",
       "                      Proanthocyanins  Color_Intensity       Hue     OD280  \\\n",
       "Alcohol                      0.136698         0.546364 -0.071747  0.072343   \n",
       "Malic_Acid                  -0.220746         0.248985 -0.561296 -0.368710   \n",
       "Ash                          0.009652         0.258887 -0.074667  0.003911   \n",
       "Ash_Alcanity                -0.197327         0.018732 -0.273955 -0.276769   \n",
       "Magnesium                    0.236441         0.199950  0.055398  0.066004   \n",
       "Total_Phenols                0.612413        -0.055136  0.433681  0.699949   \n",
       "Flavanoids                   0.652692        -0.172379  0.543479  0.787194   \n",
       "Nonflavanoid_Phenols        -0.365845         0.139057 -0.262640 -0.503270   \n",
       "Proanthocyanins              1.000000        -0.025250  0.295544  0.519067   \n",
       "Color_Intensity             -0.025250         1.000000 -0.521813 -0.428815   \n",
       "Hue                          0.295544        -0.521813  1.000000  0.565468   \n",
       "OD280                        0.519067        -0.428815  0.565468  1.000000   \n",
       "Proline                      0.330417         0.316100  0.236183  0.312761   \n",
       "Customer_Segment            -0.499130         0.265668 -0.617369 -0.788230   \n",
       "\n",
       "                       Proline  Customer_Segment  \n",
       "Alcohol               0.643720         -0.328222  \n",
       "Malic_Acid           -0.192011          0.437776  \n",
       "Ash                   0.223626         -0.049643  \n",
       "Ash_Alcanity         -0.440597          0.517859  \n",
       "Magnesium             0.393351         -0.209179  \n",
       "Total_Phenols         0.498115         -0.719163  \n",
       "Flavanoids            0.494193         -0.847498  \n",
       "Nonflavanoid_Phenols -0.311385          0.489109  \n",
       "Proanthocyanins       0.330417         -0.499130  \n",
       "Color_Intensity       0.316100          0.265668  \n",
       "Hue                   0.236183         -0.617369  \n",
       "OD280                 0.312761         -0.788230  \n",
       "Proline               1.000000         -0.633717  \n",
       "Customer_Segment     -0.633717          1.000000  "
      ],
      "text/html": "<div>\n<style scoped>\n    .dataframe tbody tr th:only-of-type {\n        vertical-align: middle;\n    }\n\n    .dataframe tbody tr th {\n        vertical-align: top;\n    }\n\n    .dataframe thead th {\n        text-align: right;\n    }\n</style>\n<table border=\"1\" class=\"dataframe\">\n  <thead>\n    <tr style=\"text-align: right;\">\n      <th></th>\n      <th>Alcohol</th>\n      <th>Malic_Acid</th>\n      <th>Ash</th>\n      <th>Ash_Alcanity</th>\n      <th>Magnesium</th>\n      <th>Total_Phenols</th>\n      <th>Flavanoids</th>\n      <th>Nonflavanoid_Phenols</th>\n      <th>Proanthocyanins</th>\n      <th>Color_Intensity</th>\n      <th>Hue</th>\n      <th>OD280</th>\n      <th>Proline</th>\n      <th>Customer_Segment</th>\n    </tr>\n  </thead>\n  <tbody>\n    <tr>\n      <th>Alcohol</th>\n      <td>1.000000</td>\n      <td>0.094397</td>\n      <td>0.211545</td>\n      <td>-0.310235</td>\n      <td>0.270798</td>\n      <td>0.289101</td>\n      <td>0.236815</td>\n      <td>-0.155929</td>\n      <td>0.136698</td>\n      <td>0.546364</td>\n      <td>-0.071747</td>\n      <td>0.072343</td>\n      <td>0.643720</td>\n      <td>-0.328222</td>\n    </tr>\n    <tr>\n      <th>Malic_Acid</th>\n      <td>0.094397</td>\n      <td>1.000000</td>\n      <td>0.164045</td>\n      <td>0.288500</td>\n      <td>-0.054575</td>\n      <td>-0.335167</td>\n      <td>-0.411007</td>\n      <td>0.292977</td>\n      <td>-0.220746</td>\n      <td>0.248985</td>\n      <td>-0.561296</td>\n      <td>-0.368710</td>\n      <td>-0.192011</td>\n      <td>0.437776</td>\n    </tr>\n    <tr>\n      <th>Ash</th>\n      <td>0.211545</td>\n      <td>0.164045</td>\n      <td>1.000000</td>\n      <td>0.443367</td>\n      <td>0.286587</td>\n      <td>0.128980</td>\n      <td>0.115077</td>\n      <td>0.186230</td>\n      <td>0.009652</td>\n      <td>0.258887</td>\n      <td>-0.074667</td>\n      <td>0.003911</td>\n      <td>0.223626</td>\n      <td>-0.049643</td>\n    </tr>\n    <tr>\n      <th>Ash_Alcanity</th>\n      <td>-0.310235</td>\n      <td>0.288500</td>\n      <td>0.443367</td>\n      <td>1.000000</td>\n      <td>-0.083333</td>\n      <td>-0.321113</td>\n      <td>-0.351370</td>\n      <td>0.361922</td>\n      <td>-0.197327</td>\n      <td>0.018732</td>\n      <td>-0.273955</td>\n      <td>-0.276769</td>\n      <td>-0.440597</td>\n      <td>0.517859</td>\n    </tr>\n    <tr>\n      <th>Magnesium</th>\n      <td>0.270798</td>\n      <td>-0.054575</td>\n      <td>0.286587</td>\n      <td>-0.083333</td>\n      <td>1.000000</td>\n      <td>0.214401</td>\n      <td>0.195784</td>\n      <td>-0.256294</td>\n      <td>0.236441</td>\n      <td>0.199950</td>\n      <td>0.055398</td>\n      <td>0.066004</td>\n      <td>0.393351</td>\n      <td>-0.209179</td>\n    </tr>\n    <tr>\n      <th>Total_Phenols</th>\n      <td>0.289101</td>\n      <td>-0.335167</td>\n      <td>0.128980</td>\n      <td>-0.321113</td>\n      <td>0.214401</td>\n      <td>1.000000</td>\n      <td>0.864564</td>\n      <td>-0.449935</td>\n      <td>0.612413</td>\n      <td>-0.055136</td>\n      <td>0.433681</td>\n      <td>0.699949</td>\n      <td>0.498115</td>\n      <td>-0.719163</td>\n    </tr>\n    <tr>\n      <th>Flavanoids</th>\n      <td>0.236815</td>\n      <td>-0.411007</td>\n      <td>0.115077</td>\n      <td>-0.351370</td>\n      <td>0.195784</td>\n      <td>0.864564</td>\n      <td>1.000000</td>\n      <td>-0.537900</td>\n      <td>0.652692</td>\n      <td>-0.172379</td>\n      <td>0.543479</td>\n      <td>0.787194</td>\n      <td>0.494193</td>\n      <td>-0.847498</td>\n    </tr>\n    <tr>\n      <th>Nonflavanoid_Phenols</th>\n      <td>-0.155929</td>\n      <td>0.292977</td>\n      <td>0.186230</td>\n      <td>0.361922</td>\n      <td>-0.256294</td>\n      <td>-0.449935</td>\n      <td>-0.537900</td>\n      <td>1.000000</td>\n      <td>-0.365845</td>\n      <td>0.139057</td>\n      <td>-0.262640</td>\n      <td>-0.503270</td>\n      <td>-0.311385</td>\n      <td>0.489109</td>\n    </tr>\n    <tr>\n      <th>Proanthocyanins</th>\n      <td>0.136698</td>\n      <td>-0.220746</td>\n      <td>0.009652</td>\n      <td>-0.197327</td>\n      <td>0.236441</td>\n      <td>0.612413</td>\n      <td>0.652692</td>\n      <td>-0.365845</td>\n      <td>1.000000</td>\n      <td>-0.025250</td>\n      <td>0.295544</td>\n      <td>0.519067</td>\n      <td>0.330417</td>\n      <td>-0.499130</td>\n    </tr>\n    <tr>\n      <th>Color_Intensity</th>\n      <td>0.546364</td>\n      <td>0.248985</td>\n      <td>0.258887</td>\n      <td>0.018732</td>\n      <td>0.199950</td>\n      <td>-0.055136</td>\n      <td>-0.172379</td>\n      <td>0.139057</td>\n      <td>-0.025250</td>\n      <td>1.000000</td>\n      <td>-0.521813</td>\n      <td>-0.428815</td>\n      <td>0.316100</td>\n      <td>0.265668</td>\n    </tr>\n    <tr>\n      <th>Hue</th>\n      <td>-0.071747</td>\n      <td>-0.561296</td>\n      <td>-0.074667</td>\n      <td>-0.273955</td>\n      <td>0.055398</td>\n      <td>0.433681</td>\n      <td>0.543479</td>\n      <td>-0.262640</td>\n      <td>0.295544</td>\n      <td>-0.521813</td>\n      <td>1.000000</td>\n      <td>0.565468</td>\n      <td>0.236183</td>\n      <td>-0.617369</td>\n    </tr>\n    <tr>\n      <th>OD280</th>\n      <td>0.072343</td>\n      <td>-0.368710</td>\n      <td>0.003911</td>\n      <td>-0.276769</td>\n      <td>0.066004</td>\n      <td>0.699949</td>\n      <td>0.787194</td>\n      <td>-0.503270</td>\n      <td>0.519067</td>\n      <td>-0.428815</td>\n      <td>0.565468</td>\n      <td>1.000000</td>\n      <td>0.312761</td>\n      <td>-0.788230</td>\n    </tr>\n    <tr>\n      <th>Proline</th>\n      <td>0.643720</td>\n      <td>-0.192011</td>\n      <td>0.223626</td>\n      <td>-0.440597</td>\n      <td>0.393351</td>\n      <td>0.498115</td>\n      <td>0.494193</td>\n      <td>-0.311385</td>\n      <td>0.330417</td>\n      <td>0.316100</td>\n      <td>0.236183</td>\n      <td>0.312761</td>\n      <td>1.000000</td>\n      <td>-0.633717</td>\n    </tr>\n    <tr>\n      <th>Customer_Segment</th>\n      <td>-0.328222</td>\n      <td>0.437776</td>\n      <td>-0.049643</td>\n      <td>0.517859</td>\n      <td>-0.209179</td>\n      <td>-0.719163</td>\n      <td>-0.847498</td>\n      <td>0.489109</td>\n      <td>-0.499130</td>\n      <td>0.265668</td>\n      <td>-0.617369</td>\n      <td>-0.788230</td>\n      <td>-0.633717</td>\n      <td>1.000000</td>\n    </tr>\n  </tbody>\n</table>\n</div>"
     },
     "metadata": {},
     "execution_count": 4
    }
   ],
   "source": [
    "correlation_matrix = df.corr()\n",
    "correlation_matrix"
   ]
  },
  {
   "cell_type": "code",
   "execution_count": 5,
   "metadata": {},
   "outputs": [],
   "source": [
    "columns = df.columns"
   ]
  },
  {
   "cell_type": "code",
   "execution_count": 6,
   "metadata": {},
   "outputs": [
    {
     "output_type": "stream",
     "name": "stdout",
     "text": [
      "Requirement already satisfied: biokit==0.4.2 in c:\\users\\pedroferreira\\anaconda3\\lib\\site-packages (0.4.2)\n",
      "Requirement already satisfied: bioservices>=1.4.5 in c:\\users\\pedroferreira\\anaconda3\\lib\\site-packages (from biokit==0.4.2) (1.7.11)\n",
      "Requirement already satisfied: pyyaml in c:\\users\\pedroferreira\\anaconda3\\lib\\site-packages (from biokit==0.4.2) (5.3.1)\n",
      "Requirement already satisfied: numpydoc in c:\\users\\pedroferreira\\anaconda3\\lib\\site-packages (from biokit==0.4.2) (1.1.0)\n",
      "Requirement already satisfied: suds-jurko in c:\\users\\pedroferreira\\anaconda3\\lib\\site-packages (from biokit==0.4.2) (0.6)\n",
      "Requirement already satisfied: biopython in c:\\users\\pedroferreira\\anaconda3\\lib\\site-packages (from biokit==0.4.2) (1.78)\n",
      "Requirement already satisfied: easydev>=0.9.11 in c:\\users\\pedroferreira\\anaconda3\\lib\\site-packages (from biokit==0.4.2) (0.11.1)\n",
      "Requirement already satisfied: pandas in c:\\users\\pedroferreira\\anaconda3\\lib\\site-packages (from biokit==0.4.2) (1.1.3)\n",
      "Requirement already satisfied: matplotlib in c:\\users\\pedroferreira\\anaconda3\\lib\\site-packages (from biokit==0.4.2) (3.2.2)\n",
      "Requirement already satisfied: colorlog in c:\\users\\pedroferreira\\anaconda3\\lib\\site-packages (from biokit==0.4.2) (5.0.1)\n",
      "Requirement already satisfied: colormap in c:\\users\\pedroferreira\\anaconda3\\lib\\site-packages (from biokit==0.4.2) (1.0.3)\n",
      "Requirement already satisfied: scipy in c:\\users\\pedroferreira\\anaconda3\\lib\\site-packages (from biokit==0.4.2) (1.5.2)\n",
      "Requirement already satisfied: requests-cache in c:\\users\\pedroferreira\\anaconda3\\lib\\site-packages (from bioservices>=1.4.5->biokit==0.4.2) (0.6.3)\n",
      "Requirement already satisfied: lxml in c:\\users\\pedroferreira\\anaconda3\\lib\\site-packages (from bioservices>=1.4.5->biokit==0.4.2) (4.6.1)\n",
      "Requirement already satisfied: grequests in c:\\users\\pedroferreira\\anaconda3\\lib\\site-packages (from bioservices>=1.4.5->biokit==0.4.2) (0.6.0)\n",
      "Requirement already satisfied: wrapt in c:\\users\\pedroferreira\\anaconda3\\lib\\site-packages (from bioservices>=1.4.5->biokit==0.4.2) (1.11.2)\n",
      "Requirement already satisfied: xmltodict in c:\\users\\pedroferreira\\anaconda3\\lib\\site-packages (from bioservices>=1.4.5->biokit==0.4.2) (0.12.0)\n",
      "Requirement already satisfied: requests in c:\\users\\pedroferreira\\anaconda3\\lib\\site-packages (from bioservices>=1.4.5->biokit==0.4.2) (2.24.0)\n",
      "Requirement already satisfied: appdirs in c:\\users\\pedroferreira\\anaconda3\\lib\\site-packages (from bioservices>=1.4.5->biokit==0.4.2) (1.4.4)\n",
      "Requirement already satisfied: beautifulsoup4 in c:\\users\\pedroferreira\\anaconda3\\lib\\site-packages (from bioservices>=1.4.5->biokit==0.4.2) (4.9.3)\n",
      "Requirement already satisfied: Jinja2>=2.3 in c:\\users\\pedroferreira\\anaconda3\\lib\\site-packages (from numpydoc->biokit==0.4.2) (2.11.2)\n",
      "Requirement already satisfied: sphinx>=1.6.5 in c:\\users\\pedroferreira\\anaconda3\\lib\\site-packages (from numpydoc->biokit==0.4.2) (3.2.1)\n",
      "Requirement already satisfied: numpy in c:\\users\\pedroferreira\\anaconda3\\lib\\site-packages (from biopython->biokit==0.4.2) (1.19.2)\n",
      "Requirement already satisfied: colorama in c:\\users\\pedroferreira\\anaconda3\\lib\\site-packages (from easydev>=0.9.11->biokit==0.4.2) (0.4.4)\n",
      "Requirement already satisfied: pexpect in c:\\users\\pedroferreira\\anaconda3\\lib\\site-packages (from easydev>=0.9.11->biokit==0.4.2) (4.8.0)\n",
      "Requirement already satisfied: python-dateutil>=2.7.3 in c:\\users\\pedroferreira\\anaconda3\\lib\\site-packages (from pandas->biokit==0.4.2) (2.8.1)\n",
      "Requirement already satisfied: pytz>=2017.2 in c:\\users\\pedroferreira\\anaconda3\\lib\\site-packages (from pandas->biokit==0.4.2) (2020.1)\n",
      "Requirement already satisfied: cycler>=0.10 in c:\\users\\pedroferreira\\anaconda3\\lib\\site-packages (from matplotlib->biokit==0.4.2) (0.10.0)\n",
      "Requirement already satisfied: pyparsing!=2.0.4,!=2.1.2,!=2.1.6,>=2.0.1 in c:\\users\\pedroferreira\\anaconda3\\lib\\site-packages (from matplotlib->biokit==0.4.2) (2.4.7)\n",
      "Requirement already satisfied: kiwisolver>=1.0.1 in c:\\users\\pedroferreira\\anaconda3\\lib\\site-packages (from matplotlib->biokit==0.4.2) (1.3.0)\n",
      "Requirement already satisfied: itsdangerous in c:\\users\\pedroferreira\\anaconda3\\lib\\site-packages (from requests-cache->bioservices>=1.4.5->biokit==0.4.2) (1.1.0)\n",
      "Requirement already satisfied: url-normalize>=1.4 in c:\\users\\pedroferreira\\anaconda3\\lib\\site-packages (from requests-cache->bioservices>=1.4.5->biokit==0.4.2) (1.4.3)\n",
      "Requirement already satisfied: gevent in c:\\users\\pedroferreira\\anaconda3\\lib\\site-packages (from grequests->bioservices>=1.4.5->biokit==0.4.2) (20.9.0)\n",
      "Requirement already satisfied: urllib3!=1.25.0,!=1.25.1,<1.26,>=1.21.1 in c:\\users\\pedroferreira\\anaconda3\\lib\\site-packages (from requests->bioservices>=1.4.5->biokit==0.4.2) (1.25.11)\n",
      "Requirement already satisfied: certifi>=2017.4.17 in c:\\users\\pedroferreira\\anaconda3\\lib\\site-packages (from requests->bioservices>=1.4.5->biokit==0.4.2) (2020.6.20)\n",
      "Requirement already satisfied: idna<3,>=2.5 in c:\\users\\pedroferreira\\anaconda3\\lib\\site-packages (from requests->bioservices>=1.4.5->biokit==0.4.2) (2.10)\n",
      "Requirement already satisfied: chardet<4,>=3.0.2 in c:\\users\\pedroferreira\\anaconda3\\lib\\site-packages (from requests->bioservices>=1.4.5->biokit==0.4.2) (3.0.4)\n",
      "Note: you may need to restart the kernel to use updated packages.Requirement already satisfied: soupsieve>1.2; python_version >= \"3.0\" in c:\\users\\pedroferreira\\anaconda3\\lib\\site-packages (from beautifulsoup4->bioservices>=1.4.5->biokit==0.4.2) (2.0.1)\n",
      "Requirement already satisfied: MarkupSafe>=0.23 in c:\\users\\pedroferreira\\anaconda3\\lib\\site-packages (from Jinja2>=2.3->numpydoc->biokit==0.4.2) (1.1.1)\n",
      "\n",
      "Requirement already satisfied: sphinxcontrib-serializinghtml in c:\\users\\pedroferreira\\anaconda3\\lib\\site-packages (from sphinx>=1.6.5->numpydoc->biokit==0.4.2) (1.1.4)\n",
      "Requirement already satisfied: snowballstemmer>=1.1 in c:\\users\\pedroferreira\\anaconda3\\lib\\site-packages (from sphinx>=1.6.5->numpydoc->biokit==0.4.2) (2.0.0)\n",
      "Requirement already satisfied: babel>=1.3 in c:\\users\\pedroferreira\\anaconda3\\lib\\site-packages (from sphinx>=1.6.5->numpydoc->biokit==0.4.2) (2.8.1)\n",
      "Requirement already satisfied: Pygments>=2.0 in c:\\users\\pedroferreira\\anaconda3\\lib\\site-packages (from sphinx>=1.6.5->numpydoc->biokit==0.4.2) (2.7.2)\n",
      "Requirement already satisfied: sphinxcontrib-qthelp in c:\\users\\pedroferreira\\anaconda3\\lib\\site-packages (from sphinx>=1.6.5->numpydoc->biokit==0.4.2) (1.0.3)\n",
      "Requirement already satisfied: imagesize in c:\\users\\pedroferreira\\anaconda3\\lib\\site-packages (from sphinx>=1.6.5->numpydoc->biokit==0.4.2) (1.2.0)\n",
      "Requirement already satisfied: sphinxcontrib-htmlhelp in c:\\users\\pedroferreira\\anaconda3\\lib\\site-packages (from sphinx>=1.6.5->numpydoc->biokit==0.4.2) (1.0.3)\n",
      "Requirement already satisfied: docutils>=0.12 in c:\\users\\pedroferreira\\anaconda3\\lib\\site-packages (from sphinx>=1.6.5->numpydoc->biokit==0.4.2) (0.16)\n",
      "Requirement already satisfied: alabaster<0.8,>=0.7 in c:\\users\\pedroferreira\\anaconda3\\lib\\site-packages (from sphinx>=1.6.5->numpydoc->biokit==0.4.2) (0.7.12)\n",
      "Requirement already satisfied: setuptools in c:\\users\\pedroferreira\\anaconda3\\lib\\site-packages (from sphinx>=1.6.5->numpydoc->biokit==0.4.2) (50.3.1.post20201107)\n",
      "Requirement already satisfied: packaging in c:\\users\\pedroferreira\\anaconda3\\lib\\site-packages (from sphinx>=1.6.5->numpydoc->biokit==0.4.2) (20.4)\n",
      "Requirement already satisfied: sphinxcontrib-jsmath in c:\\users\\pedroferreira\\anaconda3\\lib\\site-packages (from sphinx>=1.6.5->numpydoc->biokit==0.4.2) (1.0.1)\n",
      "Requirement already satisfied: sphinxcontrib-applehelp in c:\\users\\pedroferreira\\anaconda3\\lib\\site-packages (from sphinx>=1.6.5->numpydoc->biokit==0.4.2) (1.0.2)\n",
      "Requirement already satisfied: sphinxcontrib-devhelp in c:\\users\\pedroferreira\\anaconda3\\lib\\site-packages (from sphinx>=1.6.5->numpydoc->biokit==0.4.2) (1.0.2)\n",
      "Requirement already satisfied: ptyprocess>=0.5 in c:\\users\\pedroferreira\\anaconda3\\lib\\site-packages (from pexpect->easydev>=0.9.11->biokit==0.4.2) (0.7.0)\n",
      "Requirement already satisfied: six>=1.5 in c:\\users\\pedroferreira\\anaconda3\\lib\\site-packages (from python-dateutil>=2.7.3->pandas->biokit==0.4.2) (1.15.0)\n",
      "Requirement already satisfied: zope.event in c:\\users\\pedroferreira\\anaconda3\\lib\\site-packages (from gevent->grequests->bioservices>=1.4.5->biokit==0.4.2) (4.5.0)\n",
      "Requirement already satisfied: cffi>=1.12.2; platform_python_implementation == \"CPython\" and sys_platform == \"win32\" in c:\\users\\pedroferreira\\anaconda3\\lib\\site-packages (from gevent->grequests->bioservices>=1.4.5->biokit==0.4.2) (1.14.3)\n",
      "Requirement already satisfied: greenlet>=0.4.17; platform_python_implementation == \"CPython\" in c:\\users\\pedroferreira\\anaconda3\\lib\\site-packages (from gevent->grequests->bioservices>=1.4.5->biokit==0.4.2) (0.4.17)\n",
      "Requirement already satisfied: zope.interface in c:\\users\\pedroferreira\\anaconda3\\lib\\site-packages (from gevent->grequests->bioservices>=1.4.5->biokit==0.4.2) (5.1.2)\n",
      "Requirement already satisfied: pycparser in c:\\users\\pedroferreira\\anaconda3\\lib\\site-packages (from cffi>=1.12.2; platform_python_implementation == \"CPython\" and sys_platform == \"win32\"->gevent->grequests->bioservices>=1.4.5->biokit==0.4.2) (2.20)\n"
     ]
    }
   ],
   "source": [
    "pip install biokit==\"0.4.2\""
   ]
  },
  {
   "cell_type": "code",
   "execution_count": 7,
   "metadata": {},
   "outputs": [
    {
     "output_type": "stream",
     "name": "stdout",
     "text": [
      "Requirement already satisfied: matplotlib==3.2.2 in c:\\users\\pedroferreira\\anaconda3\\lib\\site-packages (3.2.2)\nRequirement already satisfied: python-dateutil>=2.1 in c:\\users\\pedroferreira\\anaconda3\\lib\\site-packages (from matplotlib==3.2.2) (2.8.1)\nRequirement already satisfied: kiwisolver>=1.0.1 in c:\\users\\pedroferreira\\anaconda3\\lib\\site-packages (from matplotlib==3.2.2) (1.3.0)\nRequirement already satisfied: cycler>=0.10 in c:\\users\\pedroferreira\\anaconda3\\lib\\site-packages (from matplotlib==3.2.2) (0.10.0)\nRequirement already satisfied: pyparsing!=2.0.4,!=2.1.2,!=2.1.6,>=2.0.1 in c:\\users\\pedroferreira\\anaconda3\\lib\\site-packages (from matplotlib==3.2.2) (2.4.7)\nRequirement already satisfied: numpy>=1.11 in c:\\users\\pedroferreira\\anaconda3\\lib\\site-packages (from matplotlib==3.2.2) (1.19.2)\nRequirement already satisfied: six>=1.5 in c:\\users\\pedroferreira\\anaconda3\\lib\\site-packages (from python-dateutil>=2.1->matplotlib==3.2.2) (1.15.0)\nNote: you may need to restart the kernel to use updated packages.\n"
     ]
    }
   ],
   "source": [
    "pip install matplotlib==3.2.2"
   ]
  },
  {
   "cell_type": "code",
   "execution_count": 8,
   "metadata": {},
   "outputs": [
    {
     "output_type": "stream",
     "name": "stderr",
     "text": [
      "C:\\Users\\PedroFerreira\\anaconda3\\lib\\site-packages\\biokit\\viz\\linkage.py:41: ClusterWarning: scipy.cluster: The symmetric non-negative hollow observation matrix looks suspiciously like an uncondensed distance matrix\n",
      "  Y = hierarchy.linkage(D, method=method, metric=metric)\n",
      "C:\\Users\\PedroFerreira\\anaconda3\\lib\\site-packages\\biokit\\viz\\corrplot.py:335: MatplotlibDeprecationWarning: \n",
      "The set_clim function was deprecated in Matplotlib 3.1 and will be removed in 3.3. Use ScalarMappable.set_clim instead.\n",
      "  cb.set_clim(0,1) # make sure it goes from -1 to 1 even though actual values may not reach that range\n",
      "<ipython-input-8-ba2b4c0857c6>:8: UserWarning: Matplotlib is currently using module://ipykernel.pylab.backend_inline, which is a non-GUI backend, so cannot show the figure.\n",
      "  fig.show()\n"
     ]
    },
    {
     "output_type": "display_data",
     "data": {
      "text/plain": "<Figure size 936x576 with 2 Axes>",
      "image/svg+xml": "<?xml version=\"1.0\" encoding=\"utf-8\" standalone=\"no\"?>\r\n<!DOCTYPE svg PUBLIC \"-//W3C//DTD SVG 1.1//EN\"\r\n  \"http://www.w3.org/Graphics/SVG/1.1/DTD/svg11.dtd\">\r\n<!-- Created with matplotlib (https://matplotlib.org/) -->\r\n<svg height=\"440.043729pt\" version=\"1.1\" viewBox=\"0 0 578.735921 440.043729\" width=\"578.735921pt\" xmlns=\"http://www.w3.org/2000/svg\" xmlns:xlink=\"http://www.w3.org/1999/xlink\">\r\n <defs>\r\n  <style type=\"text/css\">\r\n*{stroke-linecap:butt;stroke-linejoin:round;}\r\n  </style>\r\n </defs>\r\n <g id=\"figure_1\">\r\n  <g id=\"patch_1\">\r\n   <path d=\"M 0 440.043729 \r\nL 578.735921 440.043729 \r\nL 578.735921 0 \r\nL 0 0 \r\nz\r\n\" style=\"fill:#ffffff;\"/>\r\n  </g>\r\n  <g id=\"axes_1\">\r\n   <g id=\"PatchCollection_1\">\r\n    <path clip-path=\"url(#p9ead55e914)\" d=\"M 117.044989 110.71647 \r\nC 119.058573 108.702886 120.989957 106.771502 122.413776 105.347683 \r\nC 123.837595 103.923864 124.637601 103.123858 124.637601 103.123858 \r\nC 124.637601 103.123858 123.837595 103.923864 122.413776 105.347683 \r\nC 120.989957 106.771502 119.058573 108.702886 117.044989 110.71647 \r\nC 115.031404 112.730055 113.10002 114.661439 111.676201 116.085258 \r\nC 110.252382 117.509077 109.452376 118.309083 109.452376 118.309083 \r\nC 109.452376 118.309083 110.252382 117.509077 111.676201 116.085258 \r\nC 113.10002 114.661439 115.031404 112.730055 117.044989 110.71647 \r\nz\r\n\" style=\"fill:#00008b;stroke:#000000;\"/>\r\n    <path clip-path=\"url(#p9ead55e914)\" d=\"M 135.557608 105.367811 \r\nC 137.571192 103.354227 140.066145 101.986411 142.492981 101.565609 \r\nC 144.919818 101.144808 147.080398 101.705377 148.498879 103.123858 \r\nC 149.91736 104.542339 150.47793 106.702919 150.057128 109.129756 \r\nC 149.636326 111.556593 148.268511 114.051545 146.254926 116.06513 \r\nC 144.241342 118.078714 141.746389 119.44653 139.319553 119.867331 \r\nC 136.892716 120.288133 134.732136 119.727564 133.313655 118.309083 \r\nC 131.895174 116.890602 131.334605 114.730021 131.755406 112.303185 \r\nC 132.176208 109.876348 133.544023 107.381395 135.557608 105.367811 \r\nz\r\n\" style=\"fill:#c2c2e3;stroke:#000000;\"/>\r\n    <path clip-path=\"url(#p9ead55e914)\" d=\"M 140.906267 134.577749 \r\nC 142.919851 132.564164 144.851236 130.63278 146.275055 129.208961 \r\nC 147.698874 127.785142 148.498879 126.985137 148.498879 126.985137 \r\nC 148.498879 126.985137 147.698874 127.785142 146.275055 129.208961 \r\nC 144.851236 130.63278 142.919851 132.564164 140.906267 134.577749 \r\nC 138.892683 136.591333 136.961299 138.522717 135.537479 139.946536 \r\nC 134.11366 141.370356 133.313655 142.170361 133.313655 142.170361 \r\nC 133.313655 142.170361 134.11366 141.370356 135.537479 139.946536 \r\nC 136.961299 138.522717 138.892683 136.591333 140.906267 134.577749 \r\nz\r\n\" style=\"fill:#00008b;stroke:#000000;\"/>\r\n    <path clip-path=\"url(#p9ead55e914)\" d=\"M 161.468315 107.41724 \r\nC 163.481899 105.403655 165.760911 103.819899 167.803425 103.014774 \r\nC 169.845938 102.20965 171.485192 102.248892 172.360158 103.123858 \r\nC 173.235124 103.998824 173.274366 105.638078 172.469242 107.680591 \r\nC 171.664117 109.723105 170.080361 112.002117 168.066776 114.015701 \r\nC 166.053192 116.029286 163.77418 117.613042 161.731666 118.418167 \r\nC 159.689153 119.223291 158.049899 119.184049 157.174933 118.309083 \r\nC 156.299967 117.434116 156.260725 115.794863 157.065849 113.75235 \r\nC 157.870974 111.709836 159.45473 109.430824 161.468315 107.41724 \r\nz\r\n\" style=\"fill:#7878c2;stroke:#000000;\"/>\r\n    <path clip-path=\"url(#p9ead55e914)\" d=\"M 161.116008 130.926212 \r\nC 163.129593 128.912627 165.445726 127.365992 167.554306 126.626935 \r\nC 169.662887 125.887877 171.391759 126.016738 172.360158 126.985137 \r\nC 173.328557 127.953535 173.457417 129.682407 172.71836 131.790988 \r\nC 171.979302 133.899568 170.432667 136.215702 168.419083 138.229286 \r\nC 166.405498 140.24287 164.089365 141.789505 161.980784 142.528563 \r\nC 159.872204 143.267621 158.143332 143.13876 157.174933 142.170361 \r\nC 156.206534 141.201962 156.077674 139.47309 156.816731 137.36451 \r\nC 157.555789 135.255929 159.102424 132.939796 161.116008 130.926212 \r\nz\r\n\" style=\"fill:#8484c7;stroke:#000000;\"/>\r\n    <path clip-path=\"url(#p9ead55e914)\" d=\"M 164.767545 158.439027 \r\nC 166.78113 156.425443 168.712514 154.494059 170.136333 153.07024 \r\nC 171.560152 151.64642 172.360158 150.846415 172.360158 150.846415 \r\nC 172.360158 150.846415 171.560152 151.64642 170.136333 153.07024 \r\nC 168.712514 154.494059 166.78113 156.425443 164.767545 158.439027 \r\nC 162.753961 160.452612 160.822577 162.383996 159.398758 163.807815 \r\nC 157.974939 165.231634 157.174933 166.03164 157.174933 166.03164 \r\nC 157.174933 166.03164 157.974939 165.231634 159.398758 163.807815 \r\nC 160.822577 162.383996 162.753961 160.452612 164.767545 158.439027 \r\nz\r\n\" style=\"fill:#00008b;stroke:#000000;\"/>\r\n    <path clip-path=\"url(#p9ead55e914)\" d=\"M 184.328986 106.416632 \r\nC 186.34257 104.403048 188.727012 102.924722 190.957167 102.307238 \r\nC 193.187321 101.689754 195.081106 101.983528 196.221436 103.123858 \r\nC 197.361767 104.264189 197.65554 106.157973 197.038056 108.388127 \r\nC 196.420572 110.618282 194.942246 113.002724 192.928662 115.016308 \r\nC 190.915078 117.029893 188.530635 118.508219 186.300481 119.125703 \r\nC 184.070326 119.743186 182.176542 119.449413 181.036212 118.309083 \r\nC 179.895881 117.168752 179.602108 115.274968 180.219592 113.044813 \r\nC 180.837075 110.814659 182.315401 108.430217 184.328986 106.416632 \r\nz\r\n\" style=\"fill:#9c9cd2;stroke:#000000;\"/>\r\n    <path clip-path=\"url(#p9ead55e914)\" d=\"M 185.686027 131.634952 \r\nC 187.699611 129.621367 189.941067 128.000055 191.91674 127.128089 \r\nC 193.892412 126.256124 195.440997 126.204698 196.221436 126.985137 \r\nC 197.001875 127.765575 196.950449 129.31416 196.078483 131.289833 \r\nC 195.206518 133.265506 193.585205 135.506962 191.571621 137.520546 \r\nC 189.558037 139.53413 187.316581 141.155443 185.340908 142.027408 \r\nC 183.365235 142.899374 181.81665 142.9508 181.036212 142.170361 \r\nC 180.255773 141.389922 180.307199 139.841337 181.179164 137.865665 \r\nC 182.05113 135.889992 183.672442 133.648536 185.686027 131.634952 \r\nz\r\n\" style=\"fill:#6a6abb;stroke:#000000;\"/>\r\n    <path clip-path=\"url(#p9ead55e914)\" d=\"M 186.350656 156.160859 \r\nC 188.36424 154.147275 190.535666 152.455933 192.386703 151.459331 \r\nC 194.23774 150.46273 195.617259 150.242238 196.221436 150.846415 \r\nC 196.825613 151.450592 196.605121 152.830111 195.60852 154.681148 \r\nC 194.611918 156.532185 192.920576 158.703611 190.906992 160.717195 \r\nC 188.893408 162.73078 186.721981 164.422122 184.870944 165.418723 \r\nC 183.019907 166.415324 181.640389 166.635817 181.036212 166.03164 \r\nC 180.432034 165.427462 180.652527 164.047944 181.649128 162.196907 \r\nC 182.645729 160.34587 184.337071 158.174443 186.350656 156.160859 \r\nz\r\n\" style=\"fill:#5252b0;stroke:#000000;\"/>\r\n    <path clip-path=\"url(#p9ead55e914)\" d=\"M 188.628824 182.300306 \r\nC 190.642408 180.286721 192.573792 178.355337 193.997611 176.931518 \r\nC 195.421431 175.507699 196.221436 174.707693 196.221436 174.707693 \r\nC 196.221436 174.707693 195.421431 175.507699 193.997611 176.931518 \r\nC 192.573792 178.355337 190.642408 180.286721 188.628824 182.300306 \r\nC 186.61524 184.31389 184.683855 186.245274 183.260036 187.669093 \r\nC 181.836217 189.092912 181.036212 189.892918 181.036212 189.892918 \r\nC 181.036212 189.892918 181.836217 189.092912 183.260036 187.669093 \r\nC 184.683855 186.245274 186.61524 184.31389 188.628824 182.300306 \r\nz\r\n\" style=\"fill:#00008b;stroke:#000000;\"/>\r\n    <path clip-path=\"url(#p9ead55e914)\" d=\"M 209.023912 107.25028 \r\nC 211.037496 105.236696 213.3341 103.670531 215.407923 102.896716 \r\nC 217.481746 102.122901 219.16347 102.204614 220.082715 103.123858 \r\nC 221.001959 104.043103 221.083672 105.724826 220.309857 107.798649 \r\nC 219.536041 109.872472 217.969877 112.169076 215.956292 114.182661 \r\nC 213.942708 116.196245 211.646104 117.76241 209.572281 118.536225 \r\nC 207.498458 119.31004 205.816734 119.228327 204.89749 118.309083 \r\nC 203.978246 117.389838 203.896533 115.708114 204.670348 113.634291 \r\nC 205.444163 111.560468 207.010328 109.263864 209.023912 107.25028 \r\nz\r\n\" style=\"fill:#7e7ec4;stroke:#000000;\"/>\r\n    <path clip-path=\"url(#p9ead55e914)\" d=\"M 209.853125 131.940772 \r\nC 211.86671 129.927188 214.075943 128.273652 215.994266 127.344337 \r\nC 217.912589 126.415022 219.38338 126.285802 220.082715 126.985137 \r\nC 220.782049 127.684471 220.652829 129.155262 219.723514 131.073585 \r\nC 218.794199 132.991909 217.140663 135.201141 215.127079 137.214726 \r\nC 213.113495 139.22831 210.904262 140.881846 208.985939 141.811161 \r\nC 207.067616 142.740476 205.596824 142.869696 204.89749 142.170361 \r\nC 204.198156 141.471027 204.327375 140.000236 205.25669 138.081912 \r\nC 206.186005 136.163589 207.839541 133.954356 209.853125 131.940772 \r\nz\r\n\" style=\"fill:#6060b7;stroke:#000000;\"/>\r\n    <path clip-path=\"url(#p9ead55e914)\" d=\"M 210.874348 156.823273 \r\nC 212.887932 154.809689 214.989563 153.048551 216.716379 151.927729 \r\nC 218.443196 150.806907 219.654212 150.417912 220.082715 150.846415 \r\nC 220.511218 151.274918 220.122222 152.485934 219.001401 154.21275 \r\nC 217.880579 155.939567 216.119441 158.041197 214.105856 160.054781 \r\nC 212.092272 162.068366 209.990642 163.829504 208.263825 164.950326 \r\nC 206.537009 166.071147 205.325993 166.460143 204.89749 166.03164 \r\nC 204.468987 165.603136 204.857982 164.392121 205.978804 162.665304 \r\nC 207.099626 160.938488 208.860764 158.836857 210.874348 156.823273 \r\nz\r\n\" style=\"fill:#3a3aa5;stroke:#000000;\"/>\r\n    <path clip-path=\"url(#p9ead55e914)\" d=\"M 211.461785 181.271989 \r\nC 213.47537 179.258404 215.515104 177.43537 217.13176 176.204388 \r\nC 218.748416 174.973406 219.810002 174.434981 220.082715 174.707693 \r\nC 220.355427 174.980406 219.817002 176.041992 218.58602 177.658648 \r\nC 217.355038 179.275304 215.532003 181.315038 213.518419 183.328622 \r\nC 211.504835 185.342207 209.465101 187.165241 207.848444 188.396223 \r\nC 206.231788 189.627205 205.170203 190.165631 204.89749 189.892918 \r\nC 204.624777 189.620205 205.163203 188.55862 206.394185 186.941963 \r\nC 207.625167 185.325307 209.448201 183.285573 211.461785 181.271989 \r\nz\r\n\" style=\"fill:#24249b;stroke:#000000;\"/>\r\n    <path clip-path=\"url(#p9ead55e914)\" d=\"M 212.490102 206.161584 \r\nC 214.503687 204.148 216.435071 202.216616 217.85889 200.792796 \r\nC 219.282709 199.368977 220.082715 198.568972 220.082715 198.568972 \r\nC 220.082715 198.568972 219.282709 199.368977 217.85889 200.792796 \r\nC 216.435071 202.216616 214.503687 204.148 212.490102 206.161584 \r\nC 210.476518 208.175168 208.545134 210.106553 207.121315 211.530372 \r\nC 205.697495 212.954191 204.89749 213.754196 204.89749 213.754196 \r\nC 204.89749 213.754196 205.697495 212.954191 207.121315 211.530372 \r\nC 208.545134 210.106553 210.476518 208.175168 212.490102 206.161584 \r\nz\r\n\" style=\"fill:#00008b;stroke:#000000;\"/>\r\n    <path clip-path=\"url(#p9ead55e914)\" d=\"M 230.552018 104.917107 \r\nC 232.565602 102.903523 235.108044 101.583196 237.619399 101.246914 \r\nC 240.130755 100.910631 242.405984 101.585849 243.943993 103.123858 \r\nC 245.482002 104.661867 246.15722 106.937096 245.820937 109.448452 \r\nC 245.484655 111.959807 244.164328 114.502249 242.150744 116.515833 \r\nC 240.137159 118.529418 237.594718 119.849744 235.083362 120.186027 \r\nC 232.572006 120.522309 230.296777 119.847092 228.758768 118.309083 \r\nC 227.220759 116.771074 226.545542 114.495845 226.881824 111.984489 \r\nC 227.218107 109.473133 228.538433 106.930692 230.552018 104.917107 \r\nz\r\n\" style=\"fill:#d2d2eb;stroke:#000000;\"/>\r\n    <path clip-path=\"url(#p9ead55e914)\" d=\"M 231.267494 129.493862 \r\nC 233.281079 127.480278 235.748133 126.084564 238.125318 125.614111 \r\nC 240.502502 125.143657 242.595731 125.636874 243.943993 126.985137 \r\nC 245.292255 128.333399 245.785472 130.426627 245.315019 132.803812 \r\nC 244.844565 135.180996 243.448851 137.648051 241.435267 139.661635 \r\nC 239.421683 141.67522 236.954628 143.070933 234.577444 143.541387 \r\nC 232.200259 144.011841 230.107031 143.518624 228.758768 142.170361 \r\nC 227.410506 140.822099 226.917289 138.728871 227.387742 136.351686 \r\nC 227.858196 133.974501 229.25391 131.507447 231.267494 129.493862 \r\nz\r\n\" style=\"fill:#b8b8df;stroke:#000000;\"/>\r\n    <path clip-path=\"url(#p9ead55e914)\" d=\"M 231.133442 153.221089 \r\nC 233.147026 151.207504 235.628205 149.825915 238.030528 149.3806 \r\nC 240.432851 148.935285 242.560179 149.462601 243.943993 150.846415 \r\nC 245.327806 152.230228 245.855123 154.357556 245.409808 156.759879 \r\nC 244.964493 159.162202 243.582904 161.643382 241.569319 163.656966 \r\nC 239.555735 165.67055 237.074556 167.05214 234.672233 167.497455 \r\nC 232.26991 167.94277 230.142582 167.415453 228.758768 166.03164 \r\nC 227.374955 164.647826 226.847638 162.520498 227.292953 160.118175 \r\nC 227.738268 157.715852 229.119858 155.234673 231.133442 153.221089 \r\nz\r\n\" style=\"fill:#bebee1;stroke:#000000;\"/>\r\n    <path clip-path=\"url(#p9ead55e914)\" d=\"M 232.540762 178.489686 \r\nC 234.554346 176.476102 236.887241 174.946229 239.025654 174.237003 \r\nC 241.164066 173.527778 242.933405 173.697105 243.943993 174.707693 \r\nC 244.954581 175.718281 245.123908 177.48762 244.414683 179.626033 \r\nC 243.705457 181.764445 242.175584 184.09734 240.162 186.110925 \r\nC 238.148415 188.124509 235.81552 189.654382 233.677108 190.363608 \r\nC 231.538695 191.072833 229.769356 190.903506 228.758768 189.892918 \r\nC 227.74818 188.88233 227.578853 187.112991 228.288078 184.974579 \r\nC 228.997304 182.836166 230.527177 180.503271 232.540762 178.489686 \r\nz\r\n\" style=\"fill:#8a8aca;stroke:#000000;\"/>\r\n    <path clip-path=\"url(#p9ead55e914)\" d=\"M 232.510985 202.321189 \r\nC 234.524569 200.307604 236.860602 198.780868 239.004599 198.077227 \r\nC 241.148595 197.373585 242.925508 197.550487 243.943993 198.568972 \r\nC 244.962478 199.587457 245.13938 201.364369 244.435738 203.508366 \r\nC 243.732096 205.652363 242.20536 207.988395 240.191776 210.00198 \r\nC 238.178192 212.015564 235.842159 213.5423 233.698163 214.245941 \r\nC 231.554166 214.949583 229.777253 214.772681 228.758768 213.754196 \r\nC 227.740284 212.735712 227.563382 210.958799 228.267023 208.814802 \r\nC 228.970665 206.670805 230.497401 204.334773 232.510985 202.321189 \r\nz\r\n\" style=\"fill:#8c8ccb;stroke:#000000;\"/>\r\n    <path clip-path=\"url(#p9ead55e914)\" d=\"M 236.351381 230.022862 \r\nC 238.364965 228.009278 240.296349 226.077894 241.720168 224.654075 \r\nC 243.143987 223.230256 243.943993 222.43025 243.943993 222.43025 \r\nC 243.943993 222.43025 243.143987 223.230256 241.720168 224.654075 \r\nC 240.296349 226.077894 238.364965 228.009278 236.351381 230.022862 \r\nC 234.337796 232.036447 232.406412 233.967831 230.982593 235.39165 \r\nC 229.558774 236.815469 228.758768 237.615475 228.758768 237.615475 \r\nC 228.758768 237.615475 229.558774 236.815469 230.982593 235.39165 \r\nC 232.406412 233.967831 234.337796 232.036447 236.351381 230.022862 \r\nz\r\n\" style=\"fill:#00008b;stroke:#000000;\"/>\r\n    <path clip-path=\"url(#p9ead55e914)\" d=\"M 267.260523 103.668607 \r\nC 269.274107 105.682191 270.462884 108.356183 270.565039 111.101666 \r\nC 270.667194 113.847149 269.674387 116.439967 267.805271 118.309083 \r\nC 265.936156 120.178198 263.343338 121.171005 260.597855 121.06885 \r\nC 257.852371 120.966695 255.17838 119.777918 253.164795 117.764334 \r\nC 251.151211 115.75075 249.962434 113.076758 249.860279 110.331275 \r\nC 249.758124 107.585792 250.750931 104.992973 252.620047 103.123858 \r\nC 254.489162 101.254743 257.08198 100.261936 259.827464 100.364091 \r\nC 262.572947 100.466246 265.246938 101.655022 267.260523 103.668607 \r\nz\r\n\" style=\"fill:#f1d6d6;stroke:#000000;\"/>\r\n    <path clip-path=\"url(#p9ead55e914)\" d=\"M 253.657941 128.023031 \r\nC 255.671525 126.009446 258.293556 124.768709 260.946561 124.574076 \r\nC 263.599566 124.379442 266.06694 125.246805 267.805271 126.985137 \r\nC 269.543603 128.723468 270.410965 131.190842 270.216332 133.843847 \r\nC 270.021699 136.496852 268.780961 139.118883 266.767377 141.132467 \r\nC 264.753793 143.146051 262.131762 144.386789 259.478757 144.581422 \r\nC 256.825752 144.776055 254.358378 143.908693 252.620047 142.170361 \r\nC 250.881715 140.43203 250.014353 137.964656 250.208986 135.311651 \r\nC 250.403619 132.658646 251.644357 130.036615 253.657941 128.023031 \r\nz\r\n\" style=\"fill:#eeeef7;stroke:#000000;\"/>\r\n    <path clip-path=\"url(#p9ead55e914)\" d=\"M 253.169321 151.395689 \r\nC 255.182905 149.382104 257.85642 148.192851 260.601054 148.089847 \r\nC 263.345689 147.986844 265.937356 148.9785 267.805271 150.846415 \r\nC 269.673187 152.71433 270.664843 155.305997 270.561839 158.050632 \r\nC 270.458836 160.795267 269.269582 163.468781 267.255998 165.482366 \r\nC 265.242413 167.49595 262.568898 168.685204 259.824264 168.788207 \r\nC 257.079629 168.891211 254.487962 167.899555 252.620047 166.03164 \r\nC 250.752132 164.163724 249.760475 161.572057 249.863479 158.827422 \r\nC 249.966483 156.082788 251.155736 153.409273 253.169321 151.395689 \r\nz\r\n\" style=\"fill:#fffefe;stroke:#000000;\"/>\r\n    <path clip-path=\"url(#p9ead55e914)\" d=\"M 254.815079 176.902726 \r\nC 256.828664 174.889142 259.328771 173.526481 261.764782 173.114853 \r\nC 264.200792 172.703225 266.373817 173.276238 267.805271 174.707693 \r\nC 269.236726 176.139148 269.80974 178.312173 269.398112 180.748183 \r\nC 268.986484 183.184194 267.623823 185.684301 265.610239 187.697885 \r\nC 263.596654 189.711469 261.096547 191.074131 258.660537 191.485758 \r\nC 256.224526 191.897386 254.051502 191.324373 252.620047 189.892918 \r\nC 251.188592 188.461463 250.615579 186.288439 251.027206 183.852428 \r\nC 251.438834 181.416418 252.801495 178.91631 254.815079 176.902726 \r\nz\r\n\" style=\"fill:#c4c4e4;stroke:#000000;\"/>\r\n    <path clip-path=\"url(#p9ead55e914)\" d=\"M 254.418091 200.367016 \r\nC 256.431675 198.353431 258.973611 197.032599 261.484068 196.695418 \r\nC 263.994525 196.358236 266.268534 197.032234 267.805271 198.568972 \r\nC 269.342009 200.105709 270.016007 202.379718 269.678825 204.890175 \r\nC 269.341644 207.400632 268.020812 209.942568 266.007227 211.956152 \r\nC 263.993643 213.969737 261.451707 215.290569 258.94125 215.62775 \r\nC 256.430793 215.964932 254.156784 215.290934 252.620047 213.754196 \r\nC 251.083309 212.217459 250.409311 209.94345 250.746493 207.432993 \r\nC 251.083674 204.922536 252.404506 202.3806 254.418091 200.367016 \r\nz\r\n\" style=\"fill:#d2d2eb;stroke:#000000;\"/>\r\n    <path clip-path=\"url(#p9ead55e914)\" d=\"M 257.507563 227.317767 \r\nC 259.521148 225.304182 261.737558 223.657824 263.668655 222.741283 \r\nC 265.599753 221.824742 267.087872 221.71285 267.805271 222.43025 \r\nC 268.522671 223.14765 268.410779 224.635769 267.494238 226.566866 \r\nC 266.577697 228.497964 264.931339 230.714374 262.917755 232.727958 \r\nC 260.90417 234.741542 258.68776 236.387901 256.756663 237.304442 \r\nC 254.825566 238.220982 253.337446 238.332874 252.620047 237.615475 \r\nC 251.902647 236.898075 252.014539 235.409956 252.93108 233.478859 \r\nC 253.847621 231.547761 255.493979 229.331351 257.507563 227.317767 \r\nz\r\n\" style=\"fill:#6262b8;stroke:#000000;\"/>\r\n    <path clip-path=\"url(#p9ead55e914)\" d=\"M 260.212659 253.884141 \r\nC 262.226243 251.870557 264.157628 249.939172 265.581447 248.515353 \r\nC 267.005266 247.091534 267.805271 246.291529 267.805271 246.291529 \r\nC 267.805271 246.291529 267.005266 247.091534 265.581447 248.515353 \r\nC 264.157628 249.939172 262.226243 251.870557 260.212659 253.884141 \r\nC 258.199075 255.897725 256.267691 257.829109 254.843871 259.252928 \r\nC 253.420052 260.676748 252.620047 261.476753 252.620047 261.476753 \r\nC 252.620047 261.476753 253.420052 260.676748 254.843871 259.252928 \r\nC 256.267691 257.829109 258.199075 255.897725 260.212659 253.884141 \r\nz\r\n\" style=\"fill:#00008b;stroke:#000000;\"/>\r\n    <path clip-path=\"url(#p9ead55e914)\" d=\"M 276.901942 103.544475 \r\nC 278.915526 101.530891 281.602597 100.355193 284.371359 100.276316 \r\nC 287.14012 100.197439 289.764514 101.221823 291.66655 103.123858 \r\nC 293.568585 105.025894 294.592969 107.650288 294.514092 110.419049 \r\nC 294.435215 113.187811 293.259517 115.874881 291.245933 117.888466 \r\nC 289.232348 119.90205 286.545278 121.077748 283.776516 121.156625 \r\nC 281.007755 121.235502 278.383361 120.211118 276.481325 118.309083 \r\nC 274.57929 116.407047 273.554906 113.782653 273.633783 111.013892 \r\nC 273.71266 108.24513 274.888358 105.558059 276.901942 103.544475 \r\nz\r\n\" style=\"fill:#fdfafa;stroke:#000000;\"/>\r\n    <path clip-path=\"url(#p9ead55e914)\" d=\"M 278.276527 128.780338 \r\nC 280.290111 126.766754 282.832347 125.446222 285.343337 125.109573 \r\nC 287.854326 124.772924 290.129059 125.447645 291.66655 126.985137 \r\nC 293.204041 128.522628 293.878762 130.79736 293.542113 133.308349 \r\nC 293.205465 135.819339 291.884932 138.361575 289.871348 140.375159 \r\nC 287.857764 142.388744 285.315528 143.709276 282.804538 144.045925 \r\nC 280.293548 144.382573 278.018816 143.707852 276.481325 142.170361 \r\nC 274.943834 140.63287 274.269113 138.358138 274.605762 135.847148 \r\nC 274.94241 133.336159 276.262943 130.793923 278.276527 128.780338 \r\nz\r\n\" style=\"fill:#d2d2eb;stroke:#000000;\"/>\r\n    <path clip-path=\"url(#p9ead55e914)\" d=\"M 276.982467 151.347557 \r\nC 278.996052 149.333973 281.674638 148.149791 284.428299 148.055813 \r\nC 287.181959 147.961835 289.78587 148.965735 291.66655 150.846415 \r\nC 293.54723 152.727095 294.551129 155.331006 294.457152 158.084666 \r\nC 294.363174 160.838327 293.178992 163.516913 291.165407 165.530497 \r\nC 289.151823 167.544082 286.473237 168.728264 283.719576 168.822241 \r\nC 280.965916 168.916219 278.362005 167.912319 276.481325 166.03164 \r\nC 274.600645 164.15096 273.596746 161.547049 273.690723 158.793388 \r\nC 273.784701 156.039728 274.968883 153.361142 276.982467 151.347557 \r\nz\r\n\" style=\"fill:#fefcfc;stroke:#000000;\"/>\r\n    <path clip-path=\"url(#p9ead55e914)\" d=\"M 278.109191 176.335559 \r\nC 280.122775 174.321974 282.682642 173.019074 285.225012 172.713805 \r\nC 287.767382 172.408536 290.08468 173.125824 291.66655 174.707693 \r\nC 293.248419 176.289563 293.965707 178.606861 293.660438 181.149231 \r\nC 293.355169 183.691601 292.052269 186.251468 290.038684 188.265052 \r\nC 288.0251 190.278637 285.465232 191.581538 282.922863 191.886806 \r\nC 280.380493 192.192075 278.063195 191.474787 276.481325 189.892918 \r\nC 274.899456 188.311049 274.182168 185.99375 274.487437 183.45138 \r\nC 274.792705 180.909011 276.095606 178.349143 278.109191 176.335559 \r\nz\r\n\" style=\"fill:#d8d8ed;stroke:#000000;\"/>\r\n    <path clip-path=\"url(#p9ead55e914)\" d=\"M 277.967835 200.055482 \r\nC 279.98142 198.041898 282.556181 196.753891 285.125059 196.47513 \r\nC 287.693937 196.19637 290.047193 196.949615 291.66655 198.568972 \r\nC 293.285907 200.188329 294.039152 202.541585 293.760391 205.110463 \r\nC 293.481631 207.67934 292.193624 210.254102 290.180039 212.267686 \r\nC 288.166455 214.28127 285.591694 215.569277 283.022816 215.848038 \r\nC 280.453938 216.126798 278.100682 215.373554 276.481325 213.754196 \r\nC 274.861968 212.134839 274.108723 209.781583 274.387484 207.212706 \r\nC 274.666244 204.643828 275.954251 202.069066 277.967835 200.055482 \r\nz\r\n\" style=\"fill:#dedef0;stroke:#000000;\"/>\r\n    <path clip-path=\"url(#p9ead55e914)\" d=\"M 279.467886 225.416811 \r\nC 281.48147 223.403226 283.898177 221.957165 286.185755 221.397104 \r\nC 288.473332 220.837044 290.445011 221.208711 291.66655 222.43025 \r\nC 292.888089 223.651789 293.259756 225.623467 292.699696 227.911045 \r\nC 292.139635 230.198623 290.693574 232.61533 288.679989 234.628914 \r\nC 286.666405 236.642499 284.249698 238.08856 281.96212 238.648621 \r\nC 279.674542 239.208681 277.702864 238.837014 276.481325 237.615475 \r\nC 275.259786 236.393936 274.888119 234.422257 275.448179 232.13468 \r\nC 276.00824 229.847102 277.454301 227.430395 279.467886 225.416811 \r\nz\r\n\" style=\"fill:#a8a8d7;stroke:#000000;\"/>\r\n    <path clip-path=\"url(#p9ead55e914)\" d=\"M 278.537391 248.347594 \r\nC 280.550975 246.33401 283.065725 244.985991 285.527796 244.600424 \r\nC 287.989866 244.214856 290.19824 244.823219 291.66655 246.291529 \r\nC 293.134859 247.759838 293.743222 249.968212 293.357655 252.430283 \r\nC 292.972087 254.892353 291.624068 257.407103 289.610484 259.420687 \r\nC 287.596899 261.434271 285.08215 262.78229 282.620079 263.167858 \r\nC 280.158009 263.553426 277.949634 262.945062 276.481325 261.476753 \r\nC 275.013016 260.008444 274.404653 257.80007 274.79022 255.337999 \r\nC 275.175788 252.875928 276.523807 250.361179 278.537391 248.347594 \r\nz\r\n\" style=\"fill:#cacae7;stroke:#000000;\"/>\r\n    <path clip-path=\"url(#p9ead55e914)\" d=\"M 284.073937 277.745419 \r\nC 286.087522 275.731835 288.018906 273.800451 289.442725 272.376632 \r\nC 290.866544 270.952812 291.66655 270.152807 291.66655 270.152807 \r\nC 291.66655 270.152807 290.866544 270.952812 289.442725 272.376632 \r\nC 288.018906 273.800451 286.087522 275.731835 284.073937 277.745419 \r\nC 282.060353 279.759004 280.128969 281.690388 278.70515 283.114207 \r\nC 277.281331 284.538026 276.481325 285.338032 276.481325 285.338032 \r\nC 276.481325 285.338032 277.281331 284.538026 278.70515 283.114207 \r\nC 280.128969 281.690388 282.060353 279.759004 284.073937 277.745419 \r\nz\r\n\" style=\"fill:#00008b;stroke:#000000;\"/>\r\n    <path clip-path=\"url(#p9ead55e914)\" d=\"M 314.960911 103.690775 \r\nC 316.974496 105.704359 318.165608 108.376015 318.27192 111.117341 \r\nC 318.378233 113.858667 317.391064 116.445846 315.527828 118.309083 \r\nC 313.664592 120.172319 311.077413 121.159487 308.336087 121.053175 \r\nC 305.59476 120.946863 302.923105 119.75575 300.90952 117.742166 \r\nC 298.895936 115.728582 297.704823 113.056926 297.598511 110.3156 \r\nC 297.492199 107.574274 298.479367 104.987094 300.342604 103.123858 \r\nC 302.20584 101.260622 304.793019 100.273454 307.534345 100.379766 \r\nC 310.275671 100.486078 312.947327 101.677191 314.960911 103.690775 \r\nz\r\n\" style=\"fill:#f1d6d6;stroke:#000000;\"/>\r\n    <path clip-path=\"url(#p9ead55e914)\" d=\"M 300.415887 127.05842 \r\nC 302.429471 125.044836 305.153139 123.905735 307.987035 123.891993 \r\nC 310.820931 123.87825 313.533679 124.990987 315.527828 126.985137 \r\nC 317.521977 128.979286 318.634715 131.692034 318.620972 134.52593 \r\nC 318.607229 137.359825 317.468129 140.083493 315.454545 142.097078 \r\nC 313.44096 144.110662 310.717292 145.249762 307.883397 145.263505 \r\nC 305.049501 145.277248 302.336753 144.16451 300.342604 142.170361 \r\nC 298.348454 140.176212 297.235717 137.463464 297.24946 134.629568 \r\nC 297.263202 131.795672 298.402303 129.072004 300.415887 127.05842 \r\nz\r\n\" style=\"fill:#f9ecec;stroke:#000000;\"/>\r\n    <path clip-path=\"url(#p9ead55e914)\" d=\"M 300.3723 150.876111 \r\nC 302.385884 148.862527 305.114145 147.728019 307.956214 147.722451 \r\nC 310.798284 147.716882 313.522119 148.840706 315.527828 150.846415 \r\nC 317.533537 152.852124 318.657361 155.575959 318.651793 158.418029 \r\nC 318.646224 161.260098 317.511716 163.988359 315.498132 166.001943 \r\nC 313.484547 168.015527 310.756287 169.150035 307.914217 169.155604 \r\nC 305.072148 169.161173 302.348312 168.037348 300.342604 166.03164 \r\nC 298.336895 164.025931 297.21307 161.302095 297.218639 158.460026 \r\nC 297.224208 155.617956 298.358716 152.889696 300.3723 150.876111 \r\nz\r\n\" style=\"fill:#f8eaea;stroke:#000000;\"/>\r\n    <path clip-path=\"url(#p9ead55e914)\" d=\"M 301.321895 175.686985 \r\nC 303.335479 173.673401 305.963685 172.438838 308.62768 172.255194 \r\nC 311.291674 172.071551 313.773955 172.95382 315.527828 174.707693 \r\nC 317.281701 176.461566 318.163971 178.943847 317.980327 181.607842 \r\nC 317.796684 184.271837 316.562121 186.900042 314.548537 188.913626 \r\nC 312.534952 190.927211 309.906747 192.161774 307.242752 192.345417 \r\nC 304.578757 192.529061 302.096477 191.646791 300.342604 189.892918 \r\nC 298.58873 188.139045 297.706461 185.656764 297.890104 182.992769 \r\nC 298.073748 180.328775 299.308311 177.700569 301.321895 175.686985 \r\nz\r\n\" style=\"fill:#f0f0f8;stroke:#000000;\"/>\r\n    <path clip-path=\"url(#p9ead55e914)\" d=\"M 301.216341 199.442709 \r\nC 303.229925 197.429125 305.869252 196.205683 308.553041 196.041834 \r\nC 311.23683 195.877985 313.745962 196.787105 315.527828 198.568972 \r\nC 317.309695 200.350838 318.218815 202.85997 318.054966 205.543759 \r\nC 317.891116 208.227548 316.667675 210.866875 314.654091 212.880459 \r\nC 312.640507 214.894043 310.001179 216.117485 307.31739 216.281334 \r\nC 304.633601 216.445183 302.12447 215.536063 300.342604 213.754196 \r\nC 298.560737 211.97233 297.651617 209.463199 297.815466 206.779409 \r\nC 297.979315 204.09562 299.202756 201.456293 301.216341 199.442709 \r\nz\r\n\" style=\"fill:#f4f4fa;stroke:#000000;\"/>\r\n    <path clip-path=\"url(#p9ead55e914)\" d=\"M 302.040511 224.128158 \r\nC 304.054095 222.114573 306.606583 220.804292 309.135818 220.485889 \r\nC 311.665053 220.167486 313.964534 220.866956 315.527828 222.43025 \r\nC 317.091122 223.993544 317.790593 226.293026 317.472189 228.822261 \r\nC 317.153786 231.351495 315.843505 233.903983 313.829921 235.917567 \r\nC 311.816336 237.931152 309.263849 239.241432 306.734614 239.559836 \r\nC 304.205379 239.878239 301.905898 239.178769 300.342604 237.615475 \r\nC 298.77931 236.052181 298.079839 233.752699 298.398242 231.223464 \r\nC 298.716646 228.694229 300.026927 226.141742 302.040511 224.128158 \r\nz\r\n\" style=\"fill:#d6d6ec;stroke:#000000;\"/>\r\n    <path clip-path=\"url(#p9ead55e914)\" d=\"M 301.94878 247.897705 \r\nC 303.962364 245.88412 306.524517 244.583505 309.070954 244.282304 \r\nC 311.617391 243.981102 313.940207 244.703907 315.527828 246.291529 \r\nC 317.11545 247.87915 317.838254 250.201966 317.537053 252.748403 \r\nC 317.235852 255.29484 315.935236 257.856993 313.921652 259.870577 \r\nC 311.908068 261.884161 309.345915 263.184777 306.799478 263.485978 \r\nC 304.253041 263.787179 301.930225 263.064375 300.342604 261.476753 \r\nC 298.754982 259.889132 298.032177 257.566316 298.333379 255.019879 \r\nC 298.63458 252.473442 299.935195 249.911289 301.94878 247.897705 \r\nz\r\n\" style=\"fill:#dadaee;stroke:#000000;\"/>\r\n    <path clip-path=\"url(#p9ead55e914)\" d=\"M 302.518545 272.328749 \r\nC 304.53213 270.315164 307.034248 268.954515 309.473839 268.546467 \r\nC 311.91343 268.138419 314.09131 268.716289 315.527828 270.152807 \r\nC 316.964346 271.589325 317.542216 273.767206 317.134168 276.206796 \r\nC 316.72612 278.646387 315.365471 281.148506 313.351887 283.16209 \r\nC 311.338302 285.175674 308.836183 286.536324 306.396593 286.944371 \r\nC 303.957002 287.352419 301.779121 286.774549 300.342604 285.338032 \r\nC 298.906086 283.901514 298.328216 281.723633 298.736264 279.284042 \r\nC 299.144311 276.844452 300.504961 274.342333 302.518545 272.328749 \r\nz\r\n\" style=\"fill:#c4c4e4;stroke:#000000;\"/>\r\n    <path clip-path=\"url(#p9ead55e914)\" d=\"M 307.935216 301.606698 \r\nC 309.9488 299.593113 311.880184 297.661729 313.304003 296.23791 \r\nC 314.727823 294.814091 315.527828 294.014085 315.527828 294.014085 \r\nC 315.527828 294.014085 314.727823 294.814091 313.304003 296.23791 \r\nC 311.880184 297.661729 309.9488 299.593113 307.935216 301.606698 \r\nC 305.921632 303.620282 303.990247 305.551666 302.566428 306.975485 \r\nC 301.142609 308.399304 300.342604 309.19931 300.342604 309.19931 \r\nC 300.342604 309.19931 301.142609 308.399304 302.566428 306.975485 \r\nC 303.990247 305.551666 305.921632 303.620282 307.935216 301.606698 \r\nz\r\n\" style=\"fill:#00008b;stroke:#000000;\"/>\r\n    <path clip-path=\"url(#p9ead55e914)\" d=\"M 335.427181 107.085783 \r\nC 337.440766 109.099368 338.989598 111.413304 339.732565 113.517975 \r\nC 340.475533 115.622645 340.351976 117.346213 339.389107 118.309083 \r\nC 338.426237 119.271952 336.702669 119.395509 334.597998 118.652541 \r\nC 332.493328 117.909574 330.179392 116.360742 328.165807 114.347157 \r\nC 326.152223 112.333573 324.603391 110.019637 323.860423 107.914966 \r\nC 323.117456 105.810296 323.241013 104.086728 324.203882 103.123858 \r\nC 325.166751 102.160989 326.890319 102.037432 328.99499 102.780399 \r\nC 331.099661 103.523367 333.413597 105.072199 335.427181 107.085783 \r\nz\r\n\" style=\"fill:#c85a5a;stroke:#000000;\"/>\r\n    <path clip-path=\"url(#p9ead55e914)\" d=\"M 339.197394 127.176849 \r\nC 341.210978 129.190434 342.362557 131.901623 342.398508 134.71331 \r\nC 342.434459 137.524997 341.351848 140.20762 339.389107 142.170361 \r\nC 337.426365 144.133103 334.743743 145.215714 331.932056 145.179763 \r\nC 329.120369 145.143811 326.409179 143.992232 324.395595 141.978648 \r\nC 322.382011 139.965064 321.230432 137.253874 321.19448 134.442187 \r\nC 321.158529 131.6305 322.241141 128.947878 324.203882 126.985137 \r\nC 326.166623 125.022395 328.849246 123.939784 331.660933 123.975735 \r\nC 334.47262 124.011686 337.183809 125.163265 339.197394 127.176849 \r\nz\r\n\" style=\"fill:#f5e2e2;stroke:#000000;\"/>\r\n    <path clip-path=\"url(#p9ead55e914)\" d=\"M 336.133281 154.102241 \r\nC 338.146865 156.115825 339.621298 158.50416 340.231853 160.741244 \r\nC 340.842408 162.978327 340.539236 164.88151 339.389107 166.03164 \r\nC 338.238977 167.181769 336.335794 167.484941 334.098711 166.874386 \r\nC 331.861627 166.263831 329.473292 164.789398 327.459708 162.775814 \r\nC 325.446123 160.76223 323.97169 158.373894 323.361135 156.136811 \r\nC 322.75058 153.899728 323.053753 151.996544 324.203882 150.846415 \r\nC 325.354011 149.696286 327.257195 149.393113 329.494278 150.003668 \r\nC 331.731361 150.614223 334.119697 152.088656 336.133281 154.102241 \r\nz\r\n\" style=\"fill:#d17474;stroke:#000000;\"/>\r\n    <path clip-path=\"url(#p9ead55e914)\" d=\"M 338.970477 175.126323 \r\nC 340.984061 177.139907 342.15955 179.827187 342.238054 182.596321 \r\nC 342.316558 185.365455 341.291669 187.990355 339.389107 189.892918 \r\nC 337.486544 191.79548 334.861644 192.820369 332.09251 192.741865 \r\nC 329.323376 192.663361 326.636096 191.487873 324.622511 189.474288 \r\nC 322.608927 187.460704 321.433439 184.773424 321.354935 182.00429 \r\nC 321.27643 179.235156 322.301319 176.610256 324.203882 174.707693 \r\nC 326.106444 172.805131 328.731345 171.780242 331.500479 171.858746 \r\nC 334.269612 171.93725 336.956893 173.112738 338.970477 175.126323 \r\nz\r\n\" style=\"fill:#f3dada;stroke:#000000;\"/>\r\n    <path clip-path=\"url(#p9ead55e914)\" d=\"M 338.080297 199.877782 \r\nC 340.093881 201.891366 341.363164 204.484851 341.608601 207.087052 \r\nC 341.854038 209.689254 341.05559 212.087712 339.389107 213.754196 \r\nC 337.722623 215.42068 335.324164 216.219128 332.721963 215.973691 \r\nC 330.119761 215.728254 327.526276 214.458971 325.512692 212.445386 \r\nC 323.499108 210.431802 322.229824 207.838317 321.984387 205.236116 \r\nC 321.73895 202.633914 322.537398 200.235456 324.203882 198.568972 \r\nC 325.870366 196.902488 328.268825 196.10404 330.871026 196.349477 \r\nC 333.473227 196.594914 336.066712 197.864197 338.080297 199.877782 \r\nz\r\n\" style=\"fill:#e8baba;stroke:#000000;\"/>\r\n    <path clip-path=\"url(#p9ead55e914)\" d=\"M 326.603908 224.830276 \r\nC 328.617492 222.816691 331.096 221.432431 333.493569 220.982362 \r\nC 335.891137 220.532292 338.012016 221.05316 339.389107 222.43025 \r\nC 340.766197 223.80734 341.287065 225.928219 340.836995 228.325788 \r\nC 340.386926 230.723357 339.002665 233.201865 336.989081 235.215449 \r\nC 334.975497 237.229033 332.496989 238.613294 330.09942 239.063363 \r\nC 327.701851 239.513433 325.580972 238.992565 324.203882 237.615475 \r\nC 322.826792 236.238385 322.305924 234.117506 322.755993 231.719937 \r\nC 323.206063 229.322368 324.590323 226.84386 326.603908 224.830276 \r\nz\r\n\" style=\"fill:#bcbce1;stroke:#000000;\"/>\r\n    <path clip-path=\"url(#p9ead55e914)\" d=\"M 328.352213 250.43986 \r\nC 330.365798 248.426276 332.660093 246.857803 334.729808 246.079879 \r\nC 336.799522 245.301955 338.475673 245.378095 339.389107 246.291529 \r\nC 340.30254 247.204962 340.37868 248.881113 339.600756 250.950827 \r\nC 338.822832 253.020542 337.254359 255.314837 335.240775 257.328422 \r\nC 333.227191 259.342006 330.932895 260.910479 328.863181 261.688403 \r\nC 326.793466 262.466327 325.117316 262.390187 324.203882 261.476753 \r\nC 323.290448 260.563319 323.214309 258.887169 323.992232 256.817454 \r\nC 324.770156 254.74774 326.338629 252.453444 328.352213 250.43986 \r\nz\r\n\" style=\"fill:#7c7cc3;stroke:#000000;\"/>\r\n    <path clip-path=\"url(#p9ead55e914)\" d=\"M 325.722025 271.67095 \r\nC 327.735609 269.657365 330.307038 268.366026 332.869983 268.081333 \r\nC 335.432929 267.79664 337.778138 268.541839 339.389107 270.152807 \r\nC 341.000075 271.763775 341.745273 274.108984 341.46058 276.67193 \r\nC 341.175888 279.234876 339.884548 281.806304 337.870964 283.819889 \r\nC 335.857379 285.833473 333.285951 287.124813 330.723005 287.409505 \r\nC 328.16006 287.694198 325.81485 286.949 324.203882 285.338032 \r\nC 322.592914 283.727063 321.847715 281.381854 322.132408 278.818908 \r\nC 322.417101 276.255963 323.708441 273.684534 325.722025 271.67095 \r\nz\r\n\" style=\"fill:#dcdcef;stroke:#000000;\"/>\r\n    <path clip-path=\"url(#p9ead55e914)\" d=\"M 326.169513 295.979716 \r\nC 328.183097 293.966132 330.707375 292.627642 333.186405 292.259033 \r\nC 335.665435 291.890424 337.896814 292.521792 339.389107 294.014085 \r\nC 340.8814 295.506378 341.512767 297.737757 341.144159 300.216787 \r\nC 340.77555 302.695817 339.43706 305.220095 337.423476 307.233679 \r\nC 335.409892 309.247264 332.885613 310.585754 330.406584 310.954362 \r\nC 327.927554 311.322971 325.696175 310.691603 324.203882 309.19931 \r\nC 322.711589 307.707017 322.080221 305.475638 322.44883 302.996608 \r\nC 322.817438 300.517579 324.155928 297.9933 326.169513 295.979716 \r\nz\r\n\" style=\"fill:#cccce8;stroke:#000000;\"/>\r\n    <path clip-path=\"url(#p9ead55e914)\" d=\"M 331.796494 325.467976 \r\nC 333.810079 323.454392 335.741463 321.523008 337.165282 320.099188 \r\nC 338.589101 318.675369 339.389107 317.875364 339.389107 317.875364 \r\nC 339.389107 317.875364 338.589101 318.675369 337.165282 320.099188 \r\nC 335.741463 321.523008 333.810079 323.454392 331.796494 325.467976 \r\nC 329.78291 327.48156 327.851526 329.412945 326.427707 330.836764 \r\nC 325.003887 332.260583 324.203882 333.060588 324.203882 333.060588 \r\nC 324.203882 333.060588 325.003887 332.260583 326.427707 330.836764 \r\nC 327.851526 329.412945 329.78291 327.48156 331.796494 325.467976 \r\nz\r\n\" style=\"fill:#00008b;stroke:#000000;\"/>\r\n    <path clip-path=\"url(#p9ead55e914)\" d=\"M 358.56294 107.811303 \r\nC 360.576524 109.824887 362.201802 112.062378 363.080824 114.030995 \r\nC 363.959846 115.999611 364.020844 117.538623 363.250385 118.309083 \r\nC 362.479926 119.079542 360.940913 119.018544 358.972297 118.139522 \r\nC 357.003681 117.260499 354.76619 115.635222 352.752605 113.621638 \r\nC 350.739021 111.608053 349.113744 109.370562 348.234722 107.401946 \r\nC 347.355699 105.43333 347.294701 103.894317 348.06516 103.123858 \r\nC 348.83562 102.353399 350.374632 102.414397 352.343248 103.293419 \r\nC 354.311865 104.172441 356.549356 105.797719 358.56294 107.811303 \r\nz\r\n\" style=\"fill:#bf3e3e;stroke:#000000;\"/>\r\n    <path clip-path=\"url(#p9ead55e914)\" d=\"M 359.460686 130.774836 \r\nC 361.47427 132.78842 363.004955 135.120503 363.715626 137.257471 \r\nC 364.426296 139.394439 364.258929 141.161817 363.250385 142.170361 \r\nC 362.241841 143.178905 360.474462 143.346273 358.337495 142.635602 \r\nC 356.200527 141.924931 353.868444 140.394246 351.85486 138.380662 \r\nC 349.841275 136.367078 348.31059 134.034994 347.599919 131.898027 \r\nC 346.889249 129.761059 347.056616 127.993681 348.06516 126.985137 \r\nC 349.073705 125.976592 350.841083 125.809225 352.978051 126.519896 \r\nC 355.115018 127.230566 357.447101 128.761251 359.460686 130.774836 \r\nz\r\n\" style=\"fill:#ca6060;stroke:#000000;\"/>\r\n    <path clip-path=\"url(#p9ead55e914)\" d=\"M 357.265663 156.831137 \r\nC 359.279248 158.844721 361.041214 160.945523 362.163511 162.670864 \r\nC 363.285807 164.396206 363.676803 165.605222 363.250385 166.03164 \r\nC 362.823967 166.458057 361.614952 166.067062 359.88961 164.944765 \r\nC 358.164268 163.822469 356.063466 162.060502 354.049882 160.046918 \r\nC 352.036298 158.033334 350.274331 155.932532 349.152035 154.20719 \r\nC 348.029738 152.481848 347.638743 151.272833 348.06516 150.846415 \r\nC 348.491578 150.419997 349.700593 150.810993 351.425935 151.933289 \r\nC 353.151277 153.055586 355.252079 154.817552 357.265663 156.831137 \r\nz\r\n\" style=\"fill:#af1010;stroke:#000000;\"/>\r\n    <path clip-path=\"url(#p9ead55e914)\" d=\"M 357.790057 180.168022 \r\nC 359.803641 182.181606 361.510354 184.337661 362.534313 186.161341 \r\nC 363.558271 187.985021 363.815873 189.32743 363.250385 189.892918 \r\nC 362.684897 190.458406 361.342488 190.200804 359.518808 189.176846 \r\nC 357.695128 188.152887 355.539073 186.446174 353.525489 184.432589 \r\nC 351.511904 182.419005 349.805191 180.26295 348.781233 178.43927 \r\nC 347.757274 176.615591 347.499672 175.273182 348.06516 174.707693 \r\nC 348.630649 174.142205 349.973058 174.399807 351.796737 175.423766 \r\nC 353.620417 176.447724 355.776472 178.154437 357.790057 180.168022 \r\nz\r\n\" style=\"fill:#b52222;stroke:#000000;\"/>\r\n    <path clip-path=\"url(#p9ead55e914)\" d=\"M 356.815665 205.003692 \r\nC 358.829249 207.017276 360.63863 209.070663 361.845314 210.711618 \r\nC 363.051997 212.352573 363.557462 213.44712 363.250385 213.754196 \r\nC 362.943308 214.061273 361.848762 213.555808 360.207807 212.349125 \r\nC 358.566852 211.142442 356.513465 209.33306 354.499881 207.319476 \r\nC 352.486296 205.305892 350.676915 203.252505 349.470232 201.61155 \r\nC 348.263548 199.970595 347.758084 198.876048 348.06516 198.568972 \r\nC 348.372237 198.261895 349.466783 198.76736 351.107738 199.974043 \r\nC 352.748693 201.180726 354.80208 202.990108 356.815665 205.003692 \r\nz\r\n\" style=\"fill:#aa0000;stroke:#000000;\"/>\r\n    <path clip-path=\"url(#p9ead55e914)\" d=\"M 358.438819 227.241816 \r\nC 360.452403 229.2554 362.090759 231.479813 362.993057 233.425153 \r\nC 363.895355 235.370493 363.987927 236.877933 363.250385 237.615475 \r\nC 362.512843 238.353017 361.005404 238.260445 359.060063 237.358147 \r\nC 357.114723 236.455849 354.890311 234.817493 352.876726 232.803909 \r\nC 350.863142 230.790325 349.224786 228.565912 348.322488 226.620572 \r\nC 347.42019 224.675231 347.327618 223.167792 348.06516 222.43025 \r\nC 348.802702 221.692708 350.310142 221.78528 352.255482 222.687578 \r\nC 354.200822 223.589876 356.425235 225.228232 358.438819 227.241816 \r\nz\r\n\" style=\"fill:#bd3a3a;stroke:#000000;\"/>\r\n    <path clip-path=\"url(#p9ead55e914)\" d=\"M 360.758323 248.78359 \r\nC 362.771907 250.797175 364.165865 253.265985 364.633194 255.646295 \r\nC 365.100523 258.026604 364.603067 260.124071 363.250385 261.476753 \r\nC 361.897703 262.829435 359.800236 263.326891 357.419927 262.859562 \r\nC 355.039617 262.392234 352.570807 260.998275 350.557222 258.984691 \r\nC 348.543638 256.971107 347.14968 254.502296 346.682351 252.121987 \r\nC 346.215023 249.741677 346.712479 247.64421 348.06516 246.291529 \r\nC 349.417842 244.938847 351.515309 244.441391 353.895619 244.908719 \r\nC 356.275928 245.376048 358.744739 246.770006 360.758323 248.78359 \r\nz\r\n\" style=\"fill:#d98e8e;stroke:#000000;\"/>\r\n    <path clip-path=\"url(#p9ead55e914)\" d=\"M 361.662167 271.741025 \r\nC 363.675751 273.754609 364.974475 276.318654 365.272308 278.868459 \r\nC 365.570142 281.418264 364.842769 283.745648 363.250385 285.338032 \r\nC 361.658001 286.930415 359.330617 287.657788 356.780812 287.359955 \r\nC 354.231008 287.062121 351.666963 285.763398 349.653378 283.749814 \r\nC 347.639794 281.736229 346.341071 279.172184 346.043237 276.622379 \r\nC 345.745403 274.072575 346.472776 271.745191 348.06516 270.152807 \r\nC 349.657544 268.560423 351.984928 267.83305 354.534733 268.130884 \r\nC 357.084538 268.428717 359.648583 269.727441 361.662167 271.741025 \r\nz\r\n\" style=\"fill:#e5b0b0;stroke:#000000;\"/>\r\n    <path clip-path=\"url(#p9ead55e914)\" d=\"M 362.873463 294.391007 \r\nC 364.887048 296.404591 366.058141 299.096266 366.128824 301.873222 \r\nC 366.199507 304.650177 365.164008 307.285686 363.250385 309.19931 \r\nC 361.336761 311.112933 358.701252 312.148432 355.924297 312.077749 \r\nC 353.147341 312.007066 350.455666 310.835973 348.442082 308.822388 \r\nC 346.428498 306.808804 345.257404 304.117129 345.186721 301.340174 \r\nC 345.116038 298.563218 346.151537 295.927709 348.06516 294.014085 \r\nC 349.978784 292.100462 352.614293 291.064963 355.391249 291.135646 \r\nC 358.168204 291.206329 360.859879 292.377423 362.873463 294.391007 \r\nz\r\n\" style=\"fill:#f3dcdc;stroke:#000000;\"/>\r\n    <path clip-path=\"url(#p9ead55e914)\" d=\"M 350.082271 319.892475 \r\nC 352.095856 317.87889 354.61471 316.534976 357.084085 316.156714 \r\nC 359.553461 315.778451 361.771745 316.396723 363.250385 317.875364 \r\nC 364.729025 319.354004 365.347298 321.572288 364.969035 324.041663 \r\nC 364.590773 326.511039 363.246858 329.029893 361.233274 331.043477 \r\nC 359.21969 333.057062 356.700836 334.400976 354.23146 334.779239 \r\nC 351.762084 335.157501 349.543801 334.539229 348.06516 333.060588 \r\nC 346.58652 331.581948 345.968248 329.363664 346.34651 326.894289 \r\nC 346.724773 324.424913 348.068687 321.906059 350.082271 319.892475 \r\nz\r\n\" style=\"fill:#cacae7;stroke:#000000;\"/>\r\n    <path clip-path=\"url(#p9ead55e914)\" d=\"M 355.657773 349.329254 \r\nC 357.671357 347.31567 359.602741 345.384286 361.02656 343.960467 \r\nC 362.450379 342.536648 363.250385 341.736642 363.250385 341.736642 \r\nC 363.250385 341.736642 362.450379 342.536648 361.02656 343.960467 \r\nC 359.602741 345.384286 357.671357 347.31567 355.657773 349.329254 \r\nC 353.644188 351.342839 351.712804 353.274223 350.288985 354.698042 \r\nC 348.865166 356.121861 348.06516 356.921867 348.06516 356.921867 \r\nC 348.06516 356.921867 348.865166 356.121861 350.288985 354.698042 \r\nC 351.712804 353.274223 353.644188 351.342839 355.657773 349.329254 \r\nz\r\n\" style=\"fill:#00008b;stroke:#000000;\"/>\r\n    <path clip-path=\"url(#p9ead55e914)\" d=\"M 382.849963 107.385559 \r\nC 384.863547 109.399143 386.443965 111.681493 387.243149 113.729948 \r\nC 388.042333 115.778402 387.995031 117.425715 387.111663 118.309083 \r\nC 386.228295 119.192451 384.580983 119.239752 382.532528 118.440568 \r\nC 380.484074 117.641385 378.201724 116.060966 376.188139 114.047382 \r\nC 374.174555 112.033798 372.594137 109.751448 371.794953 107.702993 \r\nC 370.99577 105.654538 371.043071 104.007226 371.926439 103.123858 \r\nC 372.809807 102.24049 374.457119 102.193189 376.505574 102.992372 \r\nC 378.554028 103.791556 380.836378 105.371974 382.849963 107.385559 \r\nz\r\n\" style=\"fill:#c44e4e;stroke:#000000;\"/>\r\n    <path clip-path=\"url(#p9ead55e914)\" d=\"M 385.435623 128.661177 \r\nC 387.449207 130.674761 388.757184 133.229553 389.071487 135.762888 \r\nC 389.38579 138.296224 388.680757 140.601268 387.111663 142.170361 \r\nC 385.54257 143.739454 383.237526 144.444487 380.70419 144.130185 \r\nC 378.170855 143.815882 375.616063 142.507905 373.602479 140.494321 \r\nC 371.588895 138.480737 370.280918 135.925945 369.966615 133.392609 \r\nC 369.652313 130.859274 370.357346 128.55423 371.926439 126.985137 \r\nC 373.495532 125.416043 375.800576 124.71101 378.333912 125.025313 \r\nC 380.867247 125.339616 383.422039 126.647592 385.435623 128.661177 \r\nz\r\n\" style=\"fill:#e3acac;stroke:#000000;\"/>\r\n    <path clip-path=\"url(#p9ead55e914)\" d=\"M 384.312188 153.64589 \r\nC 386.325772 155.659475 387.752121 158.095894 388.277098 160.418555 \r\nC 388.802075 162.741216 388.382818 164.760485 387.111663 166.03164 \r\nC 385.840509 167.302794 383.82124 167.722051 381.498579 167.197075 \r\nC 379.175918 166.672098 376.739498 165.245748 374.725914 163.232164 \r\nC 372.71233 161.21858 371.285981 158.782161 370.761004 156.459499 \r\nC 370.236027 154.136838 370.655284 152.11757 371.926439 150.846415 \r\nC 373.197594 149.57526 375.216862 149.156003 377.539523 149.68098 \r\nC 379.862184 150.205957 382.298604 151.632306 384.312188 153.64589 \r\nz\r\n\" style=\"fill:#d68484;stroke:#000000;\"/>\r\n    <path clip-path=\"url(#p9ead55e914)\" d=\"M 384.56687 177.252486 \r\nC 386.580455 179.266071 387.979969 181.729325 388.457186 184.099746 \r\nC 388.934403 186.470167 388.450361 188.554221 387.111663 189.892918 \r\nC 385.772966 191.231615 383.688913 191.715658 381.318491 191.23844 \r\nC 378.94807 190.761223 376.484816 189.361709 374.471232 187.348125 \r\nC 372.457648 185.334541 371.058133 182.871286 370.580916 180.500865 \r\nC 370.103699 178.130444 370.587741 176.046391 371.926439 174.707693 \r\nC 373.265136 173.368996 375.34919 172.884954 377.719611 173.362171 \r\nC 380.090032 173.839388 382.553286 175.238902 384.56687 177.252486 \r\nz\r\n\" style=\"fill:#d98c8c;stroke:#000000;\"/>\r\n    <path clip-path=\"url(#p9ead55e914)\" d=\"M 383.99105 201.689585 \r\nC 386.004634 203.70317 387.46482 206.105752 388.050019 208.368191 \r\nC 388.635218 210.63063 388.297651 212.568208 387.111663 213.754196 \r\nC 385.925675 214.940184 383.988097 215.277751 381.725658 214.692552 \r\nC 379.463219 214.107353 377.060637 212.647167 375.047052 210.633583 \r\nC 373.033468 208.619998 371.573282 206.217416 370.988083 203.954977 \r\nC 370.402884 201.692538 370.740451 199.75496 371.926439 198.568972 \r\nC 373.112427 197.382984 375.050005 197.045417 377.312444 197.630616 \r\nC 379.574883 198.215815 381.977465 199.676001 383.99105 201.689585 \r\nz\r\n\" style=\"fill:#d27878;stroke:#000000;\"/>\r\n    <path clip-path=\"url(#p9ead55e914)\" d=\"M 385.653802 223.888112 \r\nC 387.667386 225.901696 388.952374 228.479476 389.225762 231.053726 \r\nC 389.499151 233.627976 388.738618 235.98852 387.111663 237.615475 \r\nC 385.484708 239.24243 383.124165 240.002962 380.549915 239.729574 \r\nC 377.975665 239.456185 375.397885 238.171197 373.384301 236.157613 \r\nC 371.370716 234.144029 370.085728 231.566248 369.81234 228.991998 \r\nC 369.538951 226.417749 370.299484 224.057205 371.926439 222.43025 \r\nC 373.553394 220.803295 375.913937 220.042763 378.488187 220.316151 \r\nC 381.062437 220.589539 383.640217 221.874528 385.653802 223.888112 \r\nz\r\n\" style=\"fill:#e6b4b4;stroke:#000000;\"/>\r\n    <path clip-path=\"url(#p9ead55e914)\" d=\"M 372.643158 247.008248 \r\nC 374.656742 244.994664 377.312614 243.787767 380.025848 243.653363 \r\nC 382.739082 243.518959 385.288155 244.46802 387.111663 246.291529 \r\nC 388.935171 248.115037 389.884233 250.66411 389.749829 253.377344 \r\nC 389.615425 256.090578 388.408528 258.746449 386.394944 260.760034 \r\nC 384.38136 262.773618 381.725488 263.980515 379.012254 264.114919 \r\nC 376.29902 264.249323 373.749947 263.300261 371.926439 261.476753 \r\nC 370.102931 259.653245 369.153869 257.104172 369.288273 254.390938 \r\nC 369.422677 251.677704 370.629574 249.021832 372.643158 247.008248 \r\nz\r\n\" style=\"fill:#fafafd;stroke:#000000;\"/>\r\n    <path clip-path=\"url(#p9ead55e914)\" d=\"M 386.697296 270.567174 \r\nC 388.71088 272.580759 389.885919 275.268488 389.963624 278.038421 \r\nC 390.041329 280.808355 389.015356 283.434339 387.111663 285.338032 \r\nC 385.207971 287.241724 382.581986 288.267697 379.812053 288.189992 \r\nC 377.04212 288.112287 374.354391 286.937248 372.340806 284.923664 \r\nC 370.327222 282.91008 369.152183 280.22235 369.074478 277.452417 \r\nC 368.996773 274.682484 370.022746 272.0565 371.926439 270.152807 \r\nC 373.830132 268.249114 376.456116 267.223141 379.226049 267.300846 \r\nC 381.995982 267.378551 384.683711 268.55359 386.697296 270.567174 \r\nz\r\n\" style=\"fill:#f3dada;stroke:#000000;\"/>\r\n    <path clip-path=\"url(#p9ead55e914)\" d=\"M 373.171972 295.259619 \r\nC 375.185557 293.246035 377.785709 291.983419 380.399776 291.749848 \r\nC 383.013844 291.516277 385.428398 292.33082 387.111663 294.014085 \r\nC 388.794928 295.69735 389.609472 298.111905 389.375901 300.725972 \r\nC 389.14233 303.34004 387.879714 305.940192 385.86613 307.953776 \r\nC 383.852545 309.967361 381.252393 311.229977 378.638326 311.463548 \r\nC 376.024259 311.697119 373.609704 310.882575 371.926439 309.19931 \r\nC 370.243174 307.516045 369.42863 305.10149 369.662201 302.487423 \r\nC 369.895772 299.873356 371.158388 297.273203 373.171972 295.259619 \r\nz\r\n\" style=\"fill:#e6e6f4;stroke:#000000;\"/>\r\n    <path clip-path=\"url(#p9ead55e914)\" d=\"M 373.816888 319.765813 \r\nC 375.830472 317.752229 378.362672 316.42166 380.8558 316.06715 \r\nC 383.348929 315.71264 385.599432 316.363132 387.111663 317.875364 \r\nC 388.623895 319.387595 389.274387 321.638098 388.919877 324.131227 \r\nC 388.565367 326.624355 387.234798 329.156555 385.221214 331.170139 \r\nC 383.20763 333.183723 380.67543 334.514292 378.182302 334.868802 \r\nC 375.689173 335.223312 373.43867 334.57282 371.926439 333.060588 \r\nC 370.414207 331.548357 369.763715 329.297854 370.118225 326.804725 \r\nC 370.472735 324.311597 371.803304 321.779397 373.816888 319.765813 \r\nz\r\n\" style=\"fill:#d0d0ea;stroke:#000000;\"/>\r\n    <path clip-path=\"url(#p9ead55e914)\" d=\"M 375.250304 345.060507 \r\nC 377.263888 343.046923 379.645054 341.565321 381.869379 340.942007 \r\nC 384.093703 340.318692 385.979578 340.604557 387.111663 341.736642 \r\nC 388.243748 342.868727 388.529613 344.754603 387.906299 346.978927 \r\nC 387.282985 349.203251 385.801383 351.584417 383.787798 353.598002 \r\nC 381.774214 355.611586 379.393048 357.093188 377.168724 357.716502 \r\nC 374.944399 358.339816 373.058524 358.053952 371.926439 356.921867 \r\nC 370.794354 355.789782 370.508489 353.903906 371.131803 351.679582 \r\nC 371.755117 349.455258 373.236719 347.074091 375.250304 345.060507 \r\nz\r\n\" style=\"fill:#9a9ad1;stroke:#000000;\"/>\r\n    <path clip-path=\"url(#p9ead55e914)\" d=\"M 379.519051 373.190533 \r\nC 381.532635 371.176949 383.46402 369.245564 384.887839 367.821745 \r\nC 386.311658 366.397926 387.111663 365.597921 387.111663 365.597921 \r\nC 387.111663 365.597921 386.311658 366.397926 384.887839 367.821745 \r\nC 383.46402 369.245564 381.532635 371.176949 379.519051 373.190533 \r\nC 377.505467 375.204117 375.574083 377.135501 374.150263 378.55932 \r\nC 372.726444 379.98314 371.926439 380.783145 371.926439 380.783145 \r\nC 371.926439 380.783145 372.726444 379.98314 374.150263 378.55932 \r\nC 375.574083 377.135501 377.505467 375.204117 379.519051 373.190533 \r\nz\r\n\" style=\"fill:#00008b;stroke:#000000;\"/>\r\n    <path clip-path=\"url(#p9ead55e914)\" d=\"M 408.892906 105.203894 \r\nC 410.90649 107.217478 412.257035 109.729702 412.647097 112.187278 \r\nC 413.03716 114.644853 412.434894 116.84713 410.972942 118.309083 \r\nC 409.510989 119.771035 407.308712 120.373301 404.851137 119.983238 \r\nC 402.393561 119.593176 399.881337 118.242631 397.867753 116.229047 \r\nC 395.854169 114.215463 394.503624 111.703239 394.113562 109.245663 \r\nC 393.723499 106.788087 394.325765 104.58581 395.787717 103.123858 \r\nC 397.24967 101.661906 399.451946 101.05964 401.909522 101.449703 \r\nC 404.367098 101.839765 406.879322 103.19031 408.892906 105.203894 \r\nz\r\n\" style=\"fill:#df9e9e;stroke:#000000;\"/>\r\n    <path clip-path=\"url(#p9ead55e914)\" d=\"M 409.474716 128.483363 \r\nC 411.4883 130.496947 412.777541 133.070474 413.058499 135.637155 \r\nC 413.339457 138.203835 412.589192 140.554111 410.972942 142.170361 \r\nC 409.356692 143.786611 407.006416 144.536876 404.439735 144.255918 \r\nC 401.873055 143.97496 399.299528 142.685719 397.285943 140.672135 \r\nC 395.272359 138.658551 393.983118 136.085023 393.70216 133.518343 \r\nC 393.421202 130.951662 394.171467 128.601387 395.787717 126.985137 \r\nC 397.403967 125.368886 399.754243 124.618622 402.320924 124.899579 \r\nC 404.887604 125.180537 407.461131 126.469778 409.474716 128.483363 \r\nz\r\n\" style=\"fill:#e6b4b4;stroke:#000000;\"/>\r\n    <path clip-path=\"url(#p9ead55e914)\" d=\"M 408.871545 152.947811 \r\nC 410.88513 154.961396 412.237925 157.471369 412.631993 159.924939 \r\nC 413.026062 162.378509 412.429229 164.575352 410.972942 166.03164 \r\nC 409.516654 167.487927 407.319811 168.084759 404.866241 167.690691 \r\nC 402.412671 167.296623 399.902698 165.943828 397.889113 163.930243 \r\nC 395.875529 161.916659 394.522734 159.406686 394.128666 156.953116 \r\nC 393.734597 154.499546 394.33143 152.302702 395.787717 150.846415 \r\nC 397.244005 149.390127 399.440848 148.793295 401.894418 149.187364 \r\nC 404.347988 149.581432 406.857961 150.934227 408.871545 152.947811 \r\nz\r\n\" style=\"fill:#df9e9e;stroke:#000000;\"/>\r\n    <path clip-path=\"url(#p9ead55e914)\" d=\"M 408.534853 177.145782 \r\nC 410.548437 179.159367 411.936708 181.633864 412.393916 184.024295 \r\nC 412.851123 186.414726 412.339937 188.525922 410.972942 189.892918 \r\nC 409.605946 191.259913 407.49475 191.771099 405.104319 191.313892 \r\nC 402.713888 190.856684 400.23939 189.468413 398.225806 187.454829 \r\nC 396.212222 185.441245 394.823951 182.966747 394.366743 180.576316 \r\nC 393.909536 178.185885 394.420722 176.074689 395.787717 174.707693 \r\nC 397.154713 173.340698 399.265909 172.829512 401.65634 173.28672 \r\nC 404.046771 173.743927 406.521269 175.132198 408.534853 177.145782 \r\nz\r\n\" style=\"fill:#da9090;stroke:#000000;\"/>\r\n    <path clip-path=\"url(#p9ead55e914)\" d=\"M 408.305127 201.236787 \r\nC 410.318711 203.250371 411.731187 205.700663 412.231475 208.048014 \r\nC 412.731762 210.395365 412.279013 212.448125 410.972942 213.754196 \r\nC 409.66687 215.060268 407.614111 215.513016 405.26676 215.012729 \r\nC 402.919408 214.512442 400.469117 213.099966 398.455532 211.086381 \r\nC 396.441948 209.072797 395.029471 206.622505 394.529184 204.275154 \r\nC 394.028897 201.927803 394.481646 199.875043 395.787717 198.568972 \r\nC 397.093789 197.2629 399.146548 196.810152 401.493899 197.310439 \r\nC 403.84125 197.810726 406.291542 199.223203 408.305127 201.236787 \r\nz\r\n\" style=\"fill:#d78888;stroke:#000000;\"/>\r\n    <path clip-path=\"url(#p9ead55e914)\" d=\"M 407.62766 225.775532 \r\nC 409.641244 227.789116 411.125103 230.168026 411.752433 232.388334 \r\nC 412.379764 234.608642 412.099347 236.489069 410.972942 237.615475 \r\nC 409.846537 238.74188 407.966109 239.022297 405.745801 238.394966 \r\nC 403.525493 237.767636 401.146583 236.283777 399.132999 234.270193 \r\nC 397.119415 232.256609 395.635556 229.877699 395.008226 227.657391 \r\nC 394.380895 225.437083 394.661312 223.556655 395.787717 222.43025 \r\nC 396.914122 221.303845 398.79455 221.023428 401.014858 221.650759 \r\nC 403.235166 222.278089 405.614076 223.761947 407.62766 225.775532 \r\nz\r\n\" style=\"fill:#cf7070;stroke:#000000;\"/>\r\n    <path clip-path=\"url(#p9ead55e914)\" d=\"M 408.617447 248.647024 \r\nC 410.631031 250.660608 412.010599 253.143808 412.452318 255.549727 \r\nC 412.894037 257.955647 412.361841 260.087853 410.972942 261.476753 \r\nC 409.584042 262.865653 407.451836 263.397848 405.045916 262.95613 \r\nC 402.639996 262.514411 400.156797 261.134842 398.143212 259.121258 \r\nC 396.129628 257.107674 394.750059 254.624474 394.308341 252.218554 \r\nC 393.866622 249.812635 394.398817 247.680428 395.787717 246.291529 \r\nC 397.176617 244.902629 399.308823 244.370433 401.714743 244.812152 \r\nC 404.120662 245.253871 406.603862 246.633439 408.617447 248.647024 \r\nz\r\n\" style=\"fill:#db9494;stroke:#000000;\"/>\r\n    <path clip-path=\"url(#p9ead55e914)\" d=\"M 410.340226 270.785523 \r\nC 412.35381 272.799107 413.551856 275.46383 413.670507 278.192817 \r\nC 413.789158 280.921804 412.818728 283.492245 410.972942 285.338032 \r\nC 409.127156 287.183818 406.556714 288.154248 403.827727 288.035597 \r\nC 401.09874 287.916946 398.434017 286.7189 396.420433 284.705316 \r\nC 394.406849 282.691731 393.208803 280.027009 393.090152 277.298022 \r\nC 392.971501 274.569035 393.941931 271.998593 395.787717 270.152807 \r\nC 397.633503 268.307021 400.203945 267.33659 402.932932 267.455242 \r\nC 405.661919 267.573893 408.326642 268.771938 410.340226 270.785523 \r\nz\r\n\" style=\"fill:#f0d2d2;stroke:#000000;\"/>\r\n    <path clip-path=\"url(#p9ead55e914)\" d=\"M 399.154032 297.3804 \r\nC 401.167617 295.366816 403.54431 293.880741 405.760674 293.249467 \r\nC 407.977037 292.618192 409.852115 292.893258 410.972942 294.014085 \r\nC 412.093769 295.134912 412.368835 297.00999 411.73756 299.226353 \r\nC 411.106286 301.442717 409.620211 303.81941 407.606627 305.832995 \r\nC 405.593042 307.846579 403.216349 309.332654 400.999985 309.963929 \r\nC 398.783622 310.595203 396.908544 310.320137 395.787717 309.19931 \r\nC 394.66689 308.078483 394.391824 306.203405 395.023098 303.987042 \r\nC 395.654373 301.770678 397.140448 299.393985 399.154032 297.3804 \r\nz\r\n\" style=\"fill:#9a9ad1;stroke:#000000;\"/>\r\n    <path clip-path=\"url(#p9ead55e914)\" d=\"M 395.929942 318.017588 \r\nC 397.943526 316.004004 400.65993 314.85764 403.480897 314.830969 \r\nC 406.301865 314.804298 408.997076 315.899498 410.972942 317.875364 \r\nC 412.948808 319.85123 414.044008 322.546441 414.017337 325.367408 \r\nC 413.990666 328.188375 412.844301 330.904779 410.830717 332.918364 \r\nC 408.817133 334.931948 406.100729 336.078312 403.279761 336.104983 \r\nC 400.458794 336.131654 397.763583 335.036454 395.787717 333.060588 \r\nC 393.811851 331.084722 392.716651 328.389511 392.743322 325.568544 \r\nC 392.769993 322.747577 393.916358 320.031173 395.929942 318.017588 \r\nz\r\n\" style=\"fill:#faf0f0;stroke:#000000;\"/>\r\n    <path clip-path=\"url(#p9ead55e914)\" d=\"M 399.719621 345.668546 \r\nC 401.733205 343.654961 404.050304 342.109292 406.160605 341.371955 \r\nC 408.270906 340.634617 410.00211 340.765811 410.972942 341.736642 \r\nC 411.943773 342.707473 412.074967 344.438678 411.337629 346.548979 \r\nC 410.600291 348.659279 409.054623 350.976379 407.041038 352.989963 \r\nC 405.027454 355.003548 402.710354 356.549216 400.600054 357.286554 \r\nC 398.489753 358.023892 396.758548 357.892698 395.787717 356.921867 \r\nC 394.816886 355.951035 394.685692 354.219831 395.42303 352.10953 \r\nC 396.160367 349.999229 397.706036 347.68213 399.719621 345.668546 \r\nz\r\n\" style=\"fill:#8484c7;stroke:#000000;\"/>\r\n    <path clip-path=\"url(#p9ead55e914)\" d=\"M 397.978189 367.788392 \r\nC 399.991773 365.774808 402.492361 364.412627 404.929227 364.001855 \r\nC 407.366093 363.591083 409.540277 364.165256 410.972942 365.597921 \r\nC 412.405606 367.030585 412.97978 369.20477 412.569007 371.641635 \r\nC 412.158235 374.078501 410.796054 376.579089 408.78247 378.592673 \r\nC 406.768886 380.606258 404.268298 381.968438 401.831432 382.379211 \r\nC 399.394566 382.789983 397.220382 382.21581 395.787717 380.783145 \r\nC 394.355053 379.350481 393.780879 377.176296 394.191652 374.73943 \r\nC 394.602424 372.302564 395.964605 369.801977 397.978189 367.788392 \r\nz\r\n\" style=\"fill:#c4c4e4;stroke:#000000;\"/>\r\n    <path clip-path=\"url(#p9ead55e914)\" d=\"M 403.380329 397.051811 \r\nC 405.393914 395.038227 407.325298 393.106843 408.749117 391.683024 \r\nC 410.172936 390.259204 410.972942 389.459199 410.972942 389.459199 \r\nC 410.972942 389.459199 410.172936 390.259204 408.749117 391.683024 \r\nC 407.325298 393.106843 405.393914 395.038227 403.380329 397.051811 \r\nC 401.366745 399.065396 399.435361 400.99678 398.011542 402.420599 \r\nC 396.587723 403.844418 395.787717 404.644424 395.787717 404.644424 \r\nC 395.787717 404.644424 396.587723 403.844418 398.011542 402.420599 \r\nC 399.435361 400.99678 401.366745 399.065396 403.380329 397.051811 \r\nz\r\n\" style=\"fill:#00008b;stroke:#000000;\"/>\r\n    <path clip-path=\"url(#p9ead55e914)\" d=\"M 432.840099 105.117979 \r\nC 434.853684 107.131563 436.195175 109.65284 436.569127 112.126527 \r\nC 436.943078 114.600214 436.318957 116.824345 434.83422 118.309083 \r\nC 433.349483 119.79382 431.125351 120.417941 428.651664 120.043989 \r\nC 426.177977 119.670038 423.656701 118.328546 421.643116 116.314962 \r\nC 419.629532 114.301377 418.28804 111.780101 417.914089 109.306414 \r\nC 417.540138 106.832727 418.164258 104.608595 419.648996 103.123858 \r\nC 421.133733 101.639121 423.357865 101.015 425.831551 101.388952 \r\nC 428.305238 101.762903 430.826515 103.104395 432.840099 105.117979 \r\nz\r\n\" style=\"fill:#e0a2a2;stroke:#000000;\"/>\r\n    <path clip-path=\"url(#p9ead55e914)\" d=\"M 432.0565 129.762857 \r\nC 434.070084 131.776441 435.494141 134.215152 436.015038 136.541893 \r\nC 436.535936 138.868634 436.111145 140.893437 434.83422 142.170361 \r\nC 433.557296 143.447285 431.532494 143.872077 429.205753 143.351179 \r\nC 426.879012 142.830282 424.4403 141.406225 422.426716 139.392641 \r\nC 420.413131 137.379057 418.989074 134.940345 418.468177 132.613604 \r\nC 417.94728 130.286863 418.372071 128.262061 419.648996 126.985137 \r\nC 420.92592 125.708212 422.950722 125.283421 425.277463 125.804318 \r\nC 427.604204 126.325215 430.042916 127.749272 432.0565 129.762857 \r\nz\r\n\" style=\"fill:#d68484;stroke:#000000;\"/>\r\n    <path clip-path=\"url(#p9ead55e914)\" d=\"M 431.013089 154.667546 \r\nC 433.026674 156.68113 434.560671 159.009901 435.277236 161.140975 \r\nC 435.9938 163.272048 435.834429 165.031431 434.83422 166.03164 \r\nC 433.834012 167.031848 432.074629 167.19122 429.943555 166.474655 \r\nC 427.812482 165.75809 425.483711 164.224093 423.470126 162.210509 \r\nC 421.456542 160.196924 419.922545 157.868153 419.20598 155.73708 \r\nC 418.489415 153.606006 418.648787 151.846623 419.648996 150.846415 \r\nC 420.649204 149.846206 422.408587 149.686835 424.53966 150.4034 \r\nC 426.670734 151.119964 428.999505 152.653962 431.013089 154.667546 \r\nz\r\n\" style=\"fill:#c95e5e;stroke:#000000;\"/>\r\n    <path clip-path=\"url(#p9ead55e914)\" d=\"M 431.418036 178.123878 \r\nC 433.43162 180.137462 434.92295 182.508901 435.563576 184.715913 \r\nC 436.204203 186.922924 435.941822 188.785316 434.83422 189.892918 \r\nC 433.726619 191.00052 431.864227 191.2629 429.657215 190.622274 \r\nC 427.450203 189.981647 425.078764 188.490318 423.06518 186.476734 \r\nC 421.051596 184.463149 419.560266 182.09171 418.91964 179.884699 \r\nC 418.279013 177.677687 418.541394 175.815295 419.648996 174.707693 \r\nC 420.756597 173.600092 422.618989 173.337711 424.826001 173.978337 \r\nC 427.033013 174.618964 429.404452 176.110293 431.418036 178.123878 \r\nz\r\n\" style=\"fill:#cf6e6e;stroke:#000000;\"/>\r\n    <path clip-path=\"url(#p9ead55e914)\" d=\"M 430.750157 202.653035 \r\nC 432.763741 204.666619 434.325443 206.967686 435.091314 209.049453 \r\nC 435.857186 211.131219 435.764698 212.823718 434.83422 213.754196 \r\nC 433.903742 214.684674 432.211243 214.777162 430.129477 214.011291 \r\nC 428.04771 213.245419 425.746643 211.683717 423.733059 209.670133 \r\nC 421.719474 207.656549 420.157773 205.355482 419.391901 203.273715 \r\nC 418.62603 201.191949 418.718517 199.49945 419.648996 198.568972 \r\nC 420.579474 197.638494 422.271973 197.546006 424.353739 198.311878 \r\nC 426.435506 199.077749 428.736573 200.639451 430.750157 202.653035 \r\nz\r\n\" style=\"fill:#c65454;stroke:#000000;\"/>\r\n    <path clip-path=\"url(#p9ead55e914)\" d=\"M 432.469993 224.794477 \r\nC 434.483577 226.808061 435.864066 229.290341 436.307422 231.694623 \r\nC 436.750778 234.098905 436.220804 236.228891 434.83422 237.615475 \r\nC 433.447636 239.002059 431.317651 239.532033 428.913369 239.088677 \r\nC 426.509087 238.645321 424.026807 237.264832 422.013223 235.251248 \r\nC 419.999638 233.237663 418.61915 230.755384 418.175794 228.351101 \r\nC 417.732437 225.946819 418.262412 223.816834 419.648996 222.43025 \r\nC 421.03558 221.043666 423.165565 220.513692 425.569847 220.957048 \r\nC 427.974129 221.400404 430.456409 222.780893 432.469993 224.794477 \r\nz\r\n\" style=\"fill:#db9494;stroke:#000000;\"/>\r\n    <path clip-path=\"url(#p9ead55e914)\" d=\"M 433.650308 247.475441 \r\nC 435.663892 249.489025 436.920016 252.09567 437.142031 254.721293 \r\nC 437.364046 257.346916 436.533827 259.777146 434.83422 261.476753 \r\nC 433.134613 263.17636 430.704383 264.006579 428.07876 263.784564 \r\nC 425.453137 263.562549 422.846492 262.306425 420.832908 260.292841 \r\nC 418.819323 258.279257 417.5632 255.672612 417.341185 253.046989 \r\nC 417.119169 250.421366 417.949388 247.991136 419.648996 246.291529 \r\nC 421.348603 244.591921 423.778833 243.761702 426.404456 243.983718 \r\nC 429.030079 244.205733 431.636724 245.461856 433.650308 247.475441 \r\nz\r\n\" style=\"fill:#e9bebe;stroke:#000000;\"/>\r\n    <path clip-path=\"url(#p9ead55e914)\" d=\"M 432.888279 272.098748 \r\nC 434.901863 274.112333 436.238278 276.638686 436.603195 279.121408 \r\nC 436.968111 281.604129 436.331735 283.840517 434.83422 285.338032 \r\nC 433.336706 286.835546 431.100318 287.471923 428.617596 287.107006 \r\nC 426.134874 286.74209 423.608521 285.405674 421.594937 283.39209 \r\nC 419.581353 281.378506 418.244937 278.852153 417.880021 276.369431 \r\nC 417.515105 273.886709 418.151481 271.650322 419.648996 270.152807 \r\nC 421.14651 268.655292 423.382898 268.018916 425.86562 268.383832 \r\nC 428.348341 268.748749 430.874694 270.085164 432.888279 272.098748 \r\nz\r\n\" style=\"fill:#e0a2a2;stroke:#000000;\"/>\r\n    <path clip-path=\"url(#p9ead55e914)\" d=\"M 421.062971 295.428061 \r\nC 423.076555 293.414477 425.65896 292.134113 428.24144 291.868954 \r\nC 430.823919 291.603796 433.195627 292.375492 434.83422 294.014085 \r\nC 436.472814 295.652679 437.24451 298.024386 436.979351 300.606866 \r\nC 436.714193 303.189346 435.433829 305.77175 433.420245 307.785334 \r\nC 431.40666 309.798919 428.824256 311.079283 426.241776 311.344441 \r\nC 423.659296 311.6096 421.287589 310.837904 419.648996 309.19931 \r\nC 418.010402 307.560716 417.238706 305.189009 417.503864 302.606529 \r\nC 417.769023 300.02405 419.049387 297.441645 421.062971 295.428061 \r\nz\r\n\" style=\"fill:#e0e0f1;stroke:#000000;\"/>\r\n    <path clip-path=\"url(#p9ead55e914)\" d=\"M 420.704802 318.93117 \r\nC 422.718386 316.917585 425.338529 315.67496 427.988175 315.476968 \r\nC 430.637822 315.278976 433.100639 316.141782 434.83422 317.875364 \r\nC 436.567801 319.608945 437.430608 322.071762 437.232616 324.721408 \r\nC 437.034624 327.371055 435.791998 329.991198 433.778414 332.004782 \r\nC 431.76483 334.018367 429.144687 335.260992 426.49504 335.458984 \r\nC 423.845394 335.656976 421.382577 334.79417 419.648996 333.060588 \r\nC 417.915414 331.327007 417.052608 328.86419 417.2506 326.214544 \r\nC 417.448592 323.564897 418.691217 320.944754 420.704802 318.93117 \r\nz\r\n\" style=\"fill:#eeeef7;stroke:#000000;\"/>\r\n    <path clip-path=\"url(#p9ead55e914)\" d=\"M 423.362612 345.450258 \r\nC 425.376196 343.436674 427.716296 341.914005 429.867531 341.217602 \r\nC 432.018766 340.521199 433.805498 340.70792 434.83422 341.736642 \r\nC 435.862942 342.765364 436.049663 344.552096 435.35326 346.703331 \r\nC 434.656857 348.854566 433.134188 351.194666 431.120604 353.208251 \r\nC 429.10702 355.221835 426.76692 356.744504 424.615685 357.440907 \r\nC 422.464449 358.137309 420.677717 357.950589 419.648996 356.921867 \r\nC 418.620274 355.893145 418.433553 354.106413 419.129956 351.955178 \r\nC 419.826359 349.803942 421.349027 347.463843 423.362612 345.450258 \r\nz\r\n\" style=\"fill:#8c8ccb;stroke:#000000;\"/>\r\n    <path clip-path=\"url(#p9ead55e914)\" d=\"M 421.873457 367.822382 \r\nC 423.887042 365.808798 426.384048 364.443036 428.81454 364.02589 \r\nC 431.245032 363.608743 433.41057 364.17427 434.83422 365.597921 \r\nC 436.25787 367.021571 436.823398 369.187109 436.406251 371.617601 \r\nC 435.989105 374.048093 434.623343 376.545099 432.609758 378.558683 \r\nC 430.596174 380.572268 428.099168 381.93803 425.668676 382.355176 \r\nC 423.238184 382.772323 421.072646 382.206795 419.648996 380.783145 \r\nC 418.225345 379.359495 417.659818 377.193957 418.076965 374.763465 \r\nC 418.494111 372.332973 419.859873 369.835967 421.873457 367.822382 \r\nz\r\n\" style=\"fill:#c2c2e3;stroke:#000000;\"/>\r\n    <path clip-path=\"url(#p9ead55e914)\" d=\"M 422.396927 392.20713 \r\nC 424.410511 390.193546 426.852362 388.772628 429.184689 388.257317 \r\nC 431.517016 387.742006 433.549396 388.174375 434.83422 389.459199 \r\nC 436.119045 390.744023 436.551413 392.776403 436.036102 395.10873 \r\nC 435.520791 397.441058 434.099873 399.882908 432.086289 401.896492 \r\nC 430.072705 403.910077 427.630854 405.330995 425.298527 405.846306 \r\nC 422.9662 406.361617 420.93382 405.929248 419.648996 404.644424 \r\nC 418.364171 403.359599 417.931802 401.327219 418.447113 398.994892 \r\nC 418.962424 396.662565 420.383343 394.220715 422.396927 392.20713 \r\nz\r\n\" style=\"fill:#b0b0db;stroke:#000000;\"/>\r\n    <path clip-path=\"url(#p9ead55e914)\" d=\"M 427.241608 420.91309 \r\nC 429.255192 418.899505 431.186576 416.968121 432.610395 415.544302 \r\nC 434.034215 414.120483 434.83422 413.320477 434.83422 413.320477 \r\nC 434.83422 413.320477 434.034215 414.120483 432.610395 415.544302 \r\nC 431.186576 416.968121 429.255192 418.899505 427.241608 420.91309 \r\nC 425.228024 422.926674 423.296639 424.858058 421.87282 426.281877 \r\nC 420.449001 427.705696 419.648996 428.505702 419.648996 428.505702 \r\nC 419.648996 428.505702 420.449001 427.705696 421.87282 426.281877 \r\nC 423.296639 424.858058 425.228024 422.926674 427.241608 420.91309 \r\nz\r\n\" style=\"fill:#00008b;stroke:#000000;\"/>\r\n   </g>\r\n   <g id=\"line2d_1\">\r\n    <path clip-path=\"url(#p9ead55e914)\" d=\"M 128.975628 146.508388 \r\nL 128.975628 98.785831 \r\n\" style=\"fill:none;stroke:#808080;stroke-linecap:square;stroke-width:1.5;\"/>\r\n   </g>\r\n   <g id=\"line2d_2\">\r\n    <path clip-path=\"url(#p9ead55e914)\" d=\"M 105.114349 122.64711 \r\nL 439.172247 122.64711 \r\n\" style=\"fill:none;stroke:#808080;stroke-linecap:square;stroke-width:1.5;\"/>\r\n   </g>\r\n   <g id=\"line2d_3\">\r\n    <path clip-path=\"url(#p9ead55e914)\" d=\"M 152.836906 170.369666 \r\nL 152.836906 98.785831 \r\n\" style=\"fill:none;stroke:#808080;stroke-linecap:square;stroke-width:1.5;\"/>\r\n   </g>\r\n   <g id=\"line2d_4\">\r\n    <path clip-path=\"url(#p9ead55e914)\" d=\"M 128.975628 146.508388 \r\nL 439.172247 146.508388 \r\n\" style=\"fill:none;stroke:#808080;stroke-linecap:square;stroke-width:1.5;\"/>\r\n   </g>\r\n   <g id=\"line2d_5\">\r\n    <path clip-path=\"url(#p9ead55e914)\" d=\"M 176.698185 194.230945 \r\nL 176.698185 98.785831 \r\n\" style=\"fill:none;stroke:#808080;stroke-linecap:square;stroke-width:1.5;\"/>\r\n   </g>\r\n   <g id=\"line2d_6\">\r\n    <path clip-path=\"url(#p9ead55e914)\" d=\"M 152.836906 170.369666 \r\nL 439.172247 170.369666 \r\n\" style=\"fill:none;stroke:#808080;stroke-linecap:square;stroke-width:1.5;\"/>\r\n   </g>\r\n   <g id=\"line2d_7\">\r\n    <path clip-path=\"url(#p9ead55e914)\" d=\"M 200.559463 218.092223 \r\nL 200.559463 98.785831 \r\n\" style=\"fill:none;stroke:#808080;stroke-linecap:square;stroke-width:1.5;\"/>\r\n   </g>\r\n   <g id=\"line2d_8\">\r\n    <path clip-path=\"url(#p9ead55e914)\" d=\"M 176.698185 194.230945 \r\nL 439.172247 194.230945 \r\n\" style=\"fill:none;stroke:#808080;stroke-linecap:square;stroke-width:1.5;\"/>\r\n   </g>\r\n   <g id=\"line2d_9\">\r\n    <path clip-path=\"url(#p9ead55e914)\" d=\"M 224.420741 241.953502 \r\nL 224.420741 98.785831 \r\n\" style=\"fill:none;stroke:#808080;stroke-linecap:square;stroke-width:1.5;\"/>\r\n   </g>\r\n   <g id=\"line2d_10\">\r\n    <path clip-path=\"url(#p9ead55e914)\" d=\"M 200.559463 218.092223 \r\nL 439.172247 218.092223 \r\n\" style=\"fill:none;stroke:#808080;stroke-linecap:square;stroke-width:1.5;\"/>\r\n   </g>\r\n   <g id=\"line2d_11\">\r\n    <path clip-path=\"url(#p9ead55e914)\" d=\"M 248.28202 265.81478 \r\nL 248.28202 98.785831 \r\n\" style=\"fill:none;stroke:#808080;stroke-linecap:square;stroke-width:1.5;\"/>\r\n   </g>\r\n   <g id=\"line2d_12\">\r\n    <path clip-path=\"url(#p9ead55e914)\" d=\"M 224.420741 241.953502 \r\nL 439.172247 241.953502 \r\n\" style=\"fill:none;stroke:#808080;stroke-linecap:square;stroke-width:1.5;\"/>\r\n   </g>\r\n   <g id=\"line2d_13\">\r\n    <path clip-path=\"url(#p9ead55e914)\" d=\"M 272.143298 289.676058 \r\nL 272.143298 98.785831 \r\n\" style=\"fill:none;stroke:#808080;stroke-linecap:square;stroke-width:1.5;\"/>\r\n   </g>\r\n   <g id=\"line2d_14\">\r\n    <path clip-path=\"url(#p9ead55e914)\" d=\"M 248.28202 265.81478 \r\nL 439.172247 265.81478 \r\n\" style=\"fill:none;stroke:#808080;stroke-linecap:square;stroke-width:1.5;\"/>\r\n   </g>\r\n   <g id=\"line2d_15\">\r\n    <path clip-path=\"url(#p9ead55e914)\" d=\"M 296.004577 313.537337 \r\nL 296.004577 98.785831 \r\n\" style=\"fill:none;stroke:#808080;stroke-linecap:square;stroke-width:1.5;\"/>\r\n   </g>\r\n   <g id=\"line2d_16\">\r\n    <path clip-path=\"url(#p9ead55e914)\" d=\"M 272.143298 289.676058 \r\nL 439.172247 289.676058 \r\n\" style=\"fill:none;stroke:#808080;stroke-linecap:square;stroke-width:1.5;\"/>\r\n   </g>\r\n   <g id=\"line2d_17\">\r\n    <path clip-path=\"url(#p9ead55e914)\" d=\"M 319.865855 337.398615 \r\nL 319.865855 98.785831 \r\n\" style=\"fill:none;stroke:#808080;stroke-linecap:square;stroke-width:1.5;\"/>\r\n   </g>\r\n   <g id=\"line2d_18\">\r\n    <path clip-path=\"url(#p9ead55e914)\" d=\"M 296.004577 313.537337 \r\nL 439.172247 313.537337 \r\n\" style=\"fill:none;stroke:#808080;stroke-linecap:square;stroke-width:1.5;\"/>\r\n   </g>\r\n   <g id=\"line2d_19\">\r\n    <path clip-path=\"url(#p9ead55e914)\" d=\"M 343.727133 361.259894 \r\nL 343.727133 98.785831 \r\n\" style=\"fill:none;stroke:#808080;stroke-linecap:square;stroke-width:1.5;\"/>\r\n   </g>\r\n   <g id=\"line2d_20\">\r\n    <path clip-path=\"url(#p9ead55e914)\" d=\"M 319.865855 337.398615 \r\nL 439.172247 337.398615 \r\n\" style=\"fill:none;stroke:#808080;stroke-linecap:square;stroke-width:1.5;\"/>\r\n   </g>\r\n   <g id=\"line2d_21\">\r\n    <path clip-path=\"url(#p9ead55e914)\" d=\"M 367.588412 385.121172 \r\nL 367.588412 98.785831 \r\n\" style=\"fill:none;stroke:#808080;stroke-linecap:square;stroke-width:1.5;\"/>\r\n   </g>\r\n   <g id=\"line2d_22\">\r\n    <path clip-path=\"url(#p9ead55e914)\" d=\"M 343.727133 361.259894 \r\nL 439.172247 361.259894 \r\n\" style=\"fill:none;stroke:#808080;stroke-linecap:square;stroke-width:1.5;\"/>\r\n   </g>\r\n   <g id=\"line2d_23\">\r\n    <path clip-path=\"url(#p9ead55e914)\" d=\"M 391.44969 408.98245 \r\nL 391.44969 98.785831 \r\n\" style=\"fill:none;stroke:#808080;stroke-linecap:square;stroke-width:1.5;\"/>\r\n   </g>\r\n   <g id=\"line2d_24\">\r\n    <path clip-path=\"url(#p9ead55e914)\" d=\"M 367.588412 385.121172 \r\nL 439.172247 385.121172 \r\n\" style=\"fill:none;stroke:#808080;stroke-linecap:square;stroke-width:1.5;\"/>\r\n   </g>\r\n   <g id=\"line2d_25\">\r\n    <path clip-path=\"url(#p9ead55e914)\" d=\"M 415.310969 432.843729 \r\nL 415.310969 98.785831 \r\n\" style=\"fill:none;stroke:#808080;stroke-linecap:square;stroke-width:1.5;\"/>\r\n   </g>\r\n   <g id=\"line2d_26\">\r\n    <path clip-path=\"url(#p9ead55e914)\" d=\"M 391.44969 408.98245 \r\nL 439.172247 408.98245 \r\n\" style=\"fill:none;stroke:#808080;stroke-linecap:square;stroke-width:1.5;\"/>\r\n   </g>\r\n   <g id=\"line2d_27\">\r\n    <path clip-path=\"url(#p9ead55e914)\" d=\"M 439.172247 441.043729 \r\nL 439.172247 98.785831 \r\n\" style=\"fill:none;stroke:#808080;stroke-linecap:square;stroke-width:1.5;\"/>\r\n   </g>\r\n   <g id=\"line2d_28\">\r\n    <path clip-path=\"url(#p9ead55e914)\" d=\"M 415.310969 432.843729 \r\nL 439.172247 432.843729 \r\n\" style=\"fill:none;stroke:#808080;stroke-linecap:square;stroke-width:1.5;\"/>\r\n   </g>\r\n   <g id=\"line2d_29\">\r\n    <path clip-path=\"url(#p9ead55e914)\" d=\"M 439.172247 432.843729 \r\nL 439.172247 98.785831 \r\n\" style=\"fill:none;stroke:#808080;stroke-linecap:square;stroke-width:2;\"/>\r\n   </g>\r\n   <g id=\"line2d_30\">\r\n    <path clip-path=\"url(#p9ead55e914)\" d=\"M 105.114349 122.64711 \r\nL 105.114349 98.785831 \r\n\" style=\"fill:none;stroke:#808080;stroke-linecap:square;stroke-width:2;\"/>\r\n   </g>\r\n   <g id=\"line2d_31\">\r\n    <path clip-path=\"url(#p9ead55e914)\" d=\"M 105.114349 98.785831 \r\nL 439.172247 98.785831 \r\n\" style=\"fill:none;stroke:#808080;stroke-linecap:square;stroke-width:2;\"/>\r\n   </g>\r\n   <g id=\"line2d_32\">\r\n    <path clip-path=\"url(#p9ead55e914)\" d=\"M 415.310969 432.843729 \r\nL 439.172247 432.843729 \r\n\" style=\"fill:none;stroke:#808080;stroke-linecap:square;stroke-width:2;\"/>\r\n   </g>\r\n   <g id=\"text_1\">\r\n    <!-- Hue -->\r\n    <defs>\r\n     <path d=\"M 9.8125 72.90625 \r\nL 19.671875 72.90625 \r\nL 19.671875 43.015625 \r\nL 55.515625 43.015625 \r\nL 55.515625 72.90625 \r\nL 65.375 72.90625 \r\nL 65.375 0 \r\nL 55.515625 0 \r\nL 55.515625 34.71875 \r\nL 19.671875 34.71875 \r\nL 19.671875 0 \r\nL 9.8125 0 \r\nz\r\n\" id=\"DejaVuSans-72\"/>\r\n     <path d=\"M 8.5 21.578125 \r\nL 8.5 54.6875 \r\nL 17.484375 54.6875 \r\nL 17.484375 21.921875 \r\nQ 17.484375 14.15625 20.5 10.265625 \r\nQ 23.53125 6.390625 29.59375 6.390625 \r\nQ 36.859375 6.390625 41.078125 11.03125 \r\nQ 45.3125 15.671875 45.3125 23.6875 \r\nL 45.3125 54.6875 \r\nL 54.296875 54.6875 \r\nL 54.296875 0 \r\nL 45.3125 0 \r\nL 45.3125 8.40625 \r\nQ 42.046875 3.421875 37.71875 1 \r\nQ 33.40625 -1.421875 27.6875 -1.421875 \r\nQ 18.265625 -1.421875 13.375 4.4375 \r\nQ 8.5 10.296875 8.5 21.578125 \r\nz\r\nM 31.109375 56 \r\nz\r\n\" id=\"DejaVuSans-117\"/>\r\n     <path d=\"M 56.203125 29.59375 \r\nL 56.203125 25.203125 \r\nL 14.890625 25.203125 \r\nQ 15.484375 15.921875 20.484375 11.0625 \r\nQ 25.484375 6.203125 34.421875 6.203125 \r\nQ 39.59375 6.203125 44.453125 7.46875 \r\nQ 49.3125 8.734375 54.109375 11.28125 \r\nL 54.109375 2.78125 \r\nQ 49.265625 0.734375 44.1875 -0.34375 \r\nQ 39.109375 -1.421875 33.890625 -1.421875 \r\nQ 20.796875 -1.421875 13.15625 6.1875 \r\nQ 5.515625 13.8125 5.515625 26.8125 \r\nQ 5.515625 40.234375 12.765625 48.109375 \r\nQ 20.015625 56 32.328125 56 \r\nQ 43.359375 56 49.78125 48.890625 \r\nQ 56.203125 41.796875 56.203125 29.59375 \r\nz\r\nM 47.21875 32.234375 \r\nQ 47.125 39.59375 43.09375 43.984375 \r\nQ 39.0625 48.390625 32.421875 48.390625 \r\nQ 24.90625 48.390625 20.390625 44.140625 \r\nQ 15.875 39.890625 15.1875 32.171875 \r\nz\r\n\" id=\"DejaVuSans-101\"/>\r\n    </defs>\r\n    <g transform=\"translate(73.912472 110.71647)scale(0.144 -0.144)\">\r\n     <use xlink:href=\"#DejaVuSans-72\"/>\r\n     <use x=\"75.195312\" xlink:href=\"#DejaVuSans-117\"/>\r\n     <use x=\"138.574219\" xlink:href=\"#DejaVuSans-101\"/>\r\n    </g>\r\n   </g>\r\n   <g id=\"text_2\">\r\n    <!-- Hue -->\r\n    <g transform=\"translate(122.515864 96.192302)rotate(-30)scale(0.144 -0.144)\">\r\n     <use xlink:href=\"#DejaVuSans-72\"/>\r\n     <use x=\"75.195312\" xlink:href=\"#DejaVuSans-117\"/>\r\n     <use x=\"138.574219\" xlink:href=\"#DejaVuSans-101\"/>\r\n    </g>\r\n   </g>\r\n   <g id=\"text_3\">\r\n    <!-- Proanthocyanins -->\r\n    <defs>\r\n     <path d=\"M 19.671875 64.796875 \r\nL 19.671875 37.40625 \r\nL 32.078125 37.40625 \r\nQ 38.96875 37.40625 42.71875 40.96875 \r\nQ 46.484375 44.53125 46.484375 51.125 \r\nQ 46.484375 57.671875 42.71875 61.234375 \r\nQ 38.96875 64.796875 32.078125 64.796875 \r\nz\r\nM 9.8125 72.90625 \r\nL 32.078125 72.90625 \r\nQ 44.34375 72.90625 50.609375 67.359375 \r\nQ 56.890625 61.8125 56.890625 51.125 \r\nQ 56.890625 40.328125 50.609375 34.8125 \r\nQ 44.34375 29.296875 32.078125 29.296875 \r\nL 19.671875 29.296875 \r\nL 19.671875 0 \r\nL 9.8125 0 \r\nz\r\n\" id=\"DejaVuSans-80\"/>\r\n     <path d=\"M 41.109375 46.296875 \r\nQ 39.59375 47.171875 37.8125 47.578125 \r\nQ 36.03125 48 33.890625 48 \r\nQ 26.265625 48 22.1875 43.046875 \r\nQ 18.109375 38.09375 18.109375 28.8125 \r\nL 18.109375 0 \r\nL 9.078125 0 \r\nL 9.078125 54.6875 \r\nL 18.109375 54.6875 \r\nL 18.109375 46.1875 \r\nQ 20.953125 51.171875 25.484375 53.578125 \r\nQ 30.03125 56 36.53125 56 \r\nQ 37.453125 56 38.578125 55.875 \r\nQ 39.703125 55.765625 41.0625 55.515625 \r\nz\r\n\" id=\"DejaVuSans-114\"/>\r\n     <path d=\"M 30.609375 48.390625 \r\nQ 23.390625 48.390625 19.1875 42.75 \r\nQ 14.984375 37.109375 14.984375 27.296875 \r\nQ 14.984375 17.484375 19.15625 11.84375 \r\nQ 23.34375 6.203125 30.609375 6.203125 \r\nQ 37.796875 6.203125 41.984375 11.859375 \r\nQ 46.1875 17.53125 46.1875 27.296875 \r\nQ 46.1875 37.015625 41.984375 42.703125 \r\nQ 37.796875 48.390625 30.609375 48.390625 \r\nz\r\nM 30.609375 56 \r\nQ 42.328125 56 49.015625 48.375 \r\nQ 55.71875 40.765625 55.71875 27.296875 \r\nQ 55.71875 13.875 49.015625 6.21875 \r\nQ 42.328125 -1.421875 30.609375 -1.421875 \r\nQ 18.84375 -1.421875 12.171875 6.21875 \r\nQ 5.515625 13.875 5.515625 27.296875 \r\nQ 5.515625 40.765625 12.171875 48.375 \r\nQ 18.84375 56 30.609375 56 \r\nz\r\n\" id=\"DejaVuSans-111\"/>\r\n     <path d=\"M 34.28125 27.484375 \r\nQ 23.390625 27.484375 19.1875 25 \r\nQ 14.984375 22.515625 14.984375 16.5 \r\nQ 14.984375 11.71875 18.140625 8.90625 \r\nQ 21.296875 6.109375 26.703125 6.109375 \r\nQ 34.1875 6.109375 38.703125 11.40625 \r\nQ 43.21875 16.703125 43.21875 25.484375 \r\nL 43.21875 27.484375 \r\nz\r\nM 52.203125 31.203125 \r\nL 52.203125 0 \r\nL 43.21875 0 \r\nL 43.21875 8.296875 \r\nQ 40.140625 3.328125 35.546875 0.953125 \r\nQ 30.953125 -1.421875 24.3125 -1.421875 \r\nQ 15.921875 -1.421875 10.953125 3.296875 \r\nQ 6 8.015625 6 15.921875 \r\nQ 6 25.140625 12.171875 29.828125 \r\nQ 18.359375 34.515625 30.609375 34.515625 \r\nL 43.21875 34.515625 \r\nL 43.21875 35.40625 \r\nQ 43.21875 41.609375 39.140625 45 \r\nQ 35.0625 48.390625 27.6875 48.390625 \r\nQ 23 48.390625 18.546875 47.265625 \r\nQ 14.109375 46.140625 10.015625 43.890625 \r\nL 10.015625 52.203125 \r\nQ 14.9375 54.109375 19.578125 55.046875 \r\nQ 24.21875 56 28.609375 56 \r\nQ 40.484375 56 46.34375 49.84375 \r\nQ 52.203125 43.703125 52.203125 31.203125 \r\nz\r\n\" id=\"DejaVuSans-97\"/>\r\n     <path d=\"M 54.890625 33.015625 \r\nL 54.890625 0 \r\nL 45.90625 0 \r\nL 45.90625 32.71875 \r\nQ 45.90625 40.484375 42.875 44.328125 \r\nQ 39.84375 48.1875 33.796875 48.1875 \r\nQ 26.515625 48.1875 22.3125 43.546875 \r\nQ 18.109375 38.921875 18.109375 30.90625 \r\nL 18.109375 0 \r\nL 9.078125 0 \r\nL 9.078125 54.6875 \r\nL 18.109375 54.6875 \r\nL 18.109375 46.1875 \r\nQ 21.34375 51.125 25.703125 53.5625 \r\nQ 30.078125 56 35.796875 56 \r\nQ 45.21875 56 50.046875 50.171875 \r\nQ 54.890625 44.34375 54.890625 33.015625 \r\nz\r\n\" id=\"DejaVuSans-110\"/>\r\n     <path d=\"M 18.3125 70.21875 \r\nL 18.3125 54.6875 \r\nL 36.8125 54.6875 \r\nL 36.8125 47.703125 \r\nL 18.3125 47.703125 \r\nL 18.3125 18.015625 \r\nQ 18.3125 11.328125 20.140625 9.421875 \r\nQ 21.96875 7.515625 27.59375 7.515625 \r\nL 36.8125 7.515625 \r\nL 36.8125 0 \r\nL 27.59375 0 \r\nQ 17.1875 0 13.234375 3.875 \r\nQ 9.28125 7.765625 9.28125 18.015625 \r\nL 9.28125 47.703125 \r\nL 2.6875 47.703125 \r\nL 2.6875 54.6875 \r\nL 9.28125 54.6875 \r\nL 9.28125 70.21875 \r\nz\r\n\" id=\"DejaVuSans-116\"/>\r\n     <path d=\"M 54.890625 33.015625 \r\nL 54.890625 0 \r\nL 45.90625 0 \r\nL 45.90625 32.71875 \r\nQ 45.90625 40.484375 42.875 44.328125 \r\nQ 39.84375 48.1875 33.796875 48.1875 \r\nQ 26.515625 48.1875 22.3125 43.546875 \r\nQ 18.109375 38.921875 18.109375 30.90625 \r\nL 18.109375 0 \r\nL 9.078125 0 \r\nL 9.078125 75.984375 \r\nL 18.109375 75.984375 \r\nL 18.109375 46.1875 \r\nQ 21.34375 51.125 25.703125 53.5625 \r\nQ 30.078125 56 35.796875 56 \r\nQ 45.21875 56 50.046875 50.171875 \r\nQ 54.890625 44.34375 54.890625 33.015625 \r\nz\r\n\" id=\"DejaVuSans-104\"/>\r\n     <path d=\"M 48.78125 52.59375 \r\nL 48.78125 44.1875 \r\nQ 44.96875 46.296875 41.140625 47.34375 \r\nQ 37.3125 48.390625 33.40625 48.390625 \r\nQ 24.65625 48.390625 19.8125 42.84375 \r\nQ 14.984375 37.3125 14.984375 27.296875 \r\nQ 14.984375 17.28125 19.8125 11.734375 \r\nQ 24.65625 6.203125 33.40625 6.203125 \r\nQ 37.3125 6.203125 41.140625 7.25 \r\nQ 44.96875 8.296875 48.78125 10.40625 \r\nL 48.78125 2.09375 \r\nQ 45.015625 0.34375 40.984375 -0.53125 \r\nQ 36.96875 -1.421875 32.421875 -1.421875 \r\nQ 20.0625 -1.421875 12.78125 6.34375 \r\nQ 5.515625 14.109375 5.515625 27.296875 \r\nQ 5.515625 40.671875 12.859375 48.328125 \r\nQ 20.21875 56 33.015625 56 \r\nQ 37.15625 56 41.109375 55.140625 \r\nQ 45.0625 54.296875 48.78125 52.59375 \r\nz\r\n\" id=\"DejaVuSans-99\"/>\r\n     <path d=\"M 32.171875 -5.078125 \r\nQ 28.375 -14.84375 24.75 -17.8125 \r\nQ 21.140625 -20.796875 15.09375 -20.796875 \r\nL 7.90625 -20.796875 \r\nL 7.90625 -13.28125 \r\nL 13.1875 -13.28125 \r\nQ 16.890625 -13.28125 18.9375 -11.515625 \r\nQ 21 -9.765625 23.484375 -3.21875 \r\nL 25.09375 0.875 \r\nL 2.984375 54.6875 \r\nL 12.5 54.6875 \r\nL 29.59375 11.921875 \r\nL 46.6875 54.6875 \r\nL 56.203125 54.6875 \r\nz\r\n\" id=\"DejaVuSans-121\"/>\r\n     <path d=\"M 9.421875 54.6875 \r\nL 18.40625 54.6875 \r\nL 18.40625 0 \r\nL 9.421875 0 \r\nz\r\nM 9.421875 75.984375 \r\nL 18.40625 75.984375 \r\nL 18.40625 64.59375 \r\nL 9.421875 64.59375 \r\nz\r\n\" id=\"DejaVuSans-105\"/>\r\n     <path d=\"M 44.28125 53.078125 \r\nL 44.28125 44.578125 \r\nQ 40.484375 46.53125 36.375 47.5 \r\nQ 32.28125 48.484375 27.875 48.484375 \r\nQ 21.1875 48.484375 17.84375 46.4375 \r\nQ 14.5 44.390625 14.5 40.28125 \r\nQ 14.5 37.15625 16.890625 35.375 \r\nQ 19.28125 33.59375 26.515625 31.984375 \r\nL 29.59375 31.296875 \r\nQ 39.15625 29.25 43.1875 25.515625 \r\nQ 47.21875 21.78125 47.21875 15.09375 \r\nQ 47.21875 7.46875 41.1875 3.015625 \r\nQ 35.15625 -1.421875 24.609375 -1.421875 \r\nQ 20.21875 -1.421875 15.453125 -0.5625 \r\nQ 10.6875 0.296875 5.421875 2 \r\nL 5.421875 11.28125 \r\nQ 10.40625 8.6875 15.234375 7.390625 \r\nQ 20.0625 6.109375 24.8125 6.109375 \r\nQ 31.15625 6.109375 34.5625 8.28125 \r\nQ 37.984375 10.453125 37.984375 14.40625 \r\nQ 37.984375 18.0625 35.515625 20.015625 \r\nQ 33.0625 21.96875 24.703125 23.78125 \r\nL 21.578125 24.515625 \r\nQ 13.234375 26.265625 9.515625 29.90625 \r\nQ 5.8125 33.546875 5.8125 39.890625 \r\nQ 5.8125 47.609375 11.28125 51.796875 \r\nQ 16.75 56 26.8125 56 \r\nQ 31.78125 56 36.171875 55.265625 \r\nQ 40.578125 54.546875 44.28125 53.078125 \r\nz\r\n\" id=\"DejaVuSans-115\"/>\r\n    </defs>\r\n    <g transform=\"translate(7.2 134.577749)scale(0.144 -0.144)\">\r\n     <use xlink:href=\"#DejaVuSans-80\"/>\r\n     <use x=\"58.552734\" xlink:href=\"#DejaVuSans-114\"/>\r\n     <use x=\"97.416016\" xlink:href=\"#DejaVuSans-111\"/>\r\n     <use x=\"158.597656\" xlink:href=\"#DejaVuSans-97\"/>\r\n     <use x=\"219.876953\" xlink:href=\"#DejaVuSans-110\"/>\r\n     <use x=\"283.255859\" xlink:href=\"#DejaVuSans-116\"/>\r\n     <use x=\"322.464844\" xlink:href=\"#DejaVuSans-104\"/>\r\n     <use x=\"385.84375\" xlink:href=\"#DejaVuSans-111\"/>\r\n     <use x=\"447.025391\" xlink:href=\"#DejaVuSans-99\"/>\r\n     <use x=\"502.005859\" xlink:href=\"#DejaVuSans-121\"/>\r\n     <use x=\"561.185547\" xlink:href=\"#DejaVuSans-97\"/>\r\n     <use x=\"622.464844\" xlink:href=\"#DejaVuSans-110\"/>\r\n     <use x=\"685.84375\" xlink:href=\"#DejaVuSans-105\"/>\r\n     <use x=\"713.626953\" xlink:href=\"#DejaVuSans-110\"/>\r\n     <use x=\"777.005859\" xlink:href=\"#DejaVuSans-115\"/>\r\n    </g>\r\n   </g>\r\n   <g id=\"text_4\">\r\n    <!-- Proanthocyanins -->\r\n    <g transform=\"translate(146.377142 96.192302)rotate(-30)scale(0.144 -0.144)\">\r\n     <use xlink:href=\"#DejaVuSans-80\"/>\r\n     <use x=\"58.552734\" xlink:href=\"#DejaVuSans-114\"/>\r\n     <use x=\"97.416016\" xlink:href=\"#DejaVuSans-111\"/>\r\n     <use x=\"158.597656\" xlink:href=\"#DejaVuSans-97\"/>\r\n     <use x=\"219.876953\" xlink:href=\"#DejaVuSans-110\"/>\r\n     <use x=\"283.255859\" xlink:href=\"#DejaVuSans-116\"/>\r\n     <use x=\"322.464844\" xlink:href=\"#DejaVuSans-104\"/>\r\n     <use x=\"385.84375\" xlink:href=\"#DejaVuSans-111\"/>\r\n     <use x=\"447.025391\" xlink:href=\"#DejaVuSans-99\"/>\r\n     <use x=\"502.005859\" xlink:href=\"#DejaVuSans-121\"/>\r\n     <use x=\"561.185547\" xlink:href=\"#DejaVuSans-97\"/>\r\n     <use x=\"622.464844\" xlink:href=\"#DejaVuSans-110\"/>\r\n     <use x=\"685.84375\" xlink:href=\"#DejaVuSans-105\"/>\r\n     <use x=\"713.626953\" xlink:href=\"#DejaVuSans-110\"/>\r\n     <use x=\"777.005859\" xlink:href=\"#DejaVuSans-115\"/>\r\n    </g>\r\n   </g>\r\n   <g id=\"text_5\">\r\n    <!-- OD280 -->\r\n    <defs>\r\n     <path d=\"M 39.40625 66.21875 \r\nQ 28.65625 66.21875 22.328125 58.203125 \r\nQ 16.015625 50.203125 16.015625 36.375 \r\nQ 16.015625 22.609375 22.328125 14.59375 \r\nQ 28.65625 6.59375 39.40625 6.59375 \r\nQ 50.140625 6.59375 56.421875 14.59375 \r\nQ 62.703125 22.609375 62.703125 36.375 \r\nQ 62.703125 50.203125 56.421875 58.203125 \r\nQ 50.140625 66.21875 39.40625 66.21875 \r\nz\r\nM 39.40625 74.21875 \r\nQ 54.734375 74.21875 63.90625 63.9375 \r\nQ 73.09375 53.65625 73.09375 36.375 \r\nQ 73.09375 19.140625 63.90625 8.859375 \r\nQ 54.734375 -1.421875 39.40625 -1.421875 \r\nQ 24.03125 -1.421875 14.8125 8.828125 \r\nQ 5.609375 19.09375 5.609375 36.375 \r\nQ 5.609375 53.65625 14.8125 63.9375 \r\nQ 24.03125 74.21875 39.40625 74.21875 \r\nz\r\n\" id=\"DejaVuSans-79\"/>\r\n     <path d=\"M 19.671875 64.796875 \r\nL 19.671875 8.109375 \r\nL 31.59375 8.109375 \r\nQ 46.6875 8.109375 53.6875 14.9375 \r\nQ 60.6875 21.78125 60.6875 36.53125 \r\nQ 60.6875 51.171875 53.6875 57.984375 \r\nQ 46.6875 64.796875 31.59375 64.796875 \r\nz\r\nM 9.8125 72.90625 \r\nL 30.078125 72.90625 \r\nQ 51.265625 72.90625 61.171875 64.09375 \r\nQ 71.09375 55.28125 71.09375 36.53125 \r\nQ 71.09375 17.671875 61.125 8.828125 \r\nQ 51.171875 0 30.078125 0 \r\nL 9.8125 0 \r\nz\r\n\" id=\"DejaVuSans-68\"/>\r\n     <path d=\"M 19.1875 8.296875 \r\nL 53.609375 8.296875 \r\nL 53.609375 0 \r\nL 7.328125 0 \r\nL 7.328125 8.296875 \r\nQ 12.9375 14.109375 22.625 23.890625 \r\nQ 32.328125 33.6875 34.8125 36.53125 \r\nQ 39.546875 41.84375 41.421875 45.53125 \r\nQ 43.3125 49.21875 43.3125 52.78125 \r\nQ 43.3125 58.59375 39.234375 62.25 \r\nQ 35.15625 65.921875 28.609375 65.921875 \r\nQ 23.96875 65.921875 18.8125 64.3125 \r\nQ 13.671875 62.703125 7.8125 59.421875 \r\nL 7.8125 69.390625 \r\nQ 13.765625 71.78125 18.9375 73 \r\nQ 24.125 74.21875 28.421875 74.21875 \r\nQ 39.75 74.21875 46.484375 68.546875 \r\nQ 53.21875 62.890625 53.21875 53.421875 \r\nQ 53.21875 48.921875 51.53125 44.890625 \r\nQ 49.859375 40.875 45.40625 35.40625 \r\nQ 44.1875 33.984375 37.640625 27.21875 \r\nQ 31.109375 20.453125 19.1875 8.296875 \r\nz\r\n\" id=\"DejaVuSans-50\"/>\r\n     <path d=\"M 31.78125 34.625 \r\nQ 24.75 34.625 20.71875 30.859375 \r\nQ 16.703125 27.09375 16.703125 20.515625 \r\nQ 16.703125 13.921875 20.71875 10.15625 \r\nQ 24.75 6.390625 31.78125 6.390625 \r\nQ 38.8125 6.390625 42.859375 10.171875 \r\nQ 46.921875 13.96875 46.921875 20.515625 \r\nQ 46.921875 27.09375 42.890625 30.859375 \r\nQ 38.875 34.625 31.78125 34.625 \r\nz\r\nM 21.921875 38.8125 \r\nQ 15.578125 40.375 12.03125 44.71875 \r\nQ 8.5 49.078125 8.5 55.328125 \r\nQ 8.5 64.0625 14.71875 69.140625 \r\nQ 20.953125 74.21875 31.78125 74.21875 \r\nQ 42.671875 74.21875 48.875 69.140625 \r\nQ 55.078125 64.0625 55.078125 55.328125 \r\nQ 55.078125 49.078125 51.53125 44.71875 \r\nQ 48 40.375 41.703125 38.8125 \r\nQ 48.828125 37.15625 52.796875 32.3125 \r\nQ 56.78125 27.484375 56.78125 20.515625 \r\nQ 56.78125 9.90625 50.3125 4.234375 \r\nQ 43.84375 -1.421875 31.78125 -1.421875 \r\nQ 19.734375 -1.421875 13.25 4.234375 \r\nQ 6.78125 9.90625 6.78125 20.515625 \r\nQ 6.78125 27.484375 10.78125 32.3125 \r\nQ 14.796875 37.15625 21.921875 38.8125 \r\nz\r\nM 18.3125 54.390625 \r\nQ 18.3125 48.734375 21.84375 45.5625 \r\nQ 25.390625 42.390625 31.78125 42.390625 \r\nQ 38.140625 42.390625 41.71875 45.5625 \r\nQ 45.3125 48.734375 45.3125 54.390625 \r\nQ 45.3125 60.0625 41.71875 63.234375 \r\nQ 38.140625 66.40625 31.78125 66.40625 \r\nQ 25.390625 66.40625 21.84375 63.234375 \r\nQ 18.3125 60.0625 18.3125 54.390625 \r\nz\r\n\" id=\"DejaVuSans-56\"/>\r\n     <path d=\"M 31.78125 66.40625 \r\nQ 24.171875 66.40625 20.328125 58.90625 \r\nQ 16.5 51.421875 16.5 36.375 \r\nQ 16.5 21.390625 20.328125 13.890625 \r\nQ 24.171875 6.390625 31.78125 6.390625 \r\nQ 39.453125 6.390625 43.28125 13.890625 \r\nQ 47.125 21.390625 47.125 36.375 \r\nQ 47.125 51.421875 43.28125 58.90625 \r\nQ 39.453125 66.40625 31.78125 66.40625 \r\nz\r\nM 31.78125 74.21875 \r\nQ 44.046875 74.21875 50.515625 64.515625 \r\nQ 56.984375 54.828125 56.984375 36.375 \r\nQ 56.984375 17.96875 50.515625 8.265625 \r\nQ 44.046875 -1.421875 31.78125 -1.421875 \r\nQ 19.53125 -1.421875 13.0625 8.265625 \r\nQ 6.59375 17.96875 6.59375 36.375 \r\nQ 6.59375 54.828125 13.0625 64.515625 \r\nQ 19.53125 74.21875 31.78125 74.21875 \r\nz\r\n\" id=\"DejaVuSans-48\"/>\r\n    </defs>\r\n    <g transform=\"translate(100.541278 158.439027)scale(0.144 -0.144)\">\r\n     <use xlink:href=\"#DejaVuSans-79\"/>\r\n     <use x=\"78.710938\" xlink:href=\"#DejaVuSans-68\"/>\r\n     <use x=\"155.712891\" xlink:href=\"#DejaVuSans-50\"/>\r\n     <use x=\"219.335938\" xlink:href=\"#DejaVuSans-56\"/>\r\n     <use x=\"282.958984\" xlink:href=\"#DejaVuSans-48\"/>\r\n    </g>\r\n   </g>\r\n   <g id=\"text_6\">\r\n    <!-- OD280 -->\r\n    <g transform=\"translate(170.23842 96.192302)rotate(-30)scale(0.144 -0.144)\">\r\n     <use xlink:href=\"#DejaVuSans-79\"/>\r\n     <use x=\"78.710938\" xlink:href=\"#DejaVuSans-68\"/>\r\n     <use x=\"155.712891\" xlink:href=\"#DejaVuSans-50\"/>\r\n     <use x=\"219.335938\" xlink:href=\"#DejaVuSans-56\"/>\r\n     <use x=\"282.958984\" xlink:href=\"#DejaVuSans-48\"/>\r\n    </g>\r\n   </g>\r\n   <g id=\"text_7\">\r\n    <!-- Total_Phenols -->\r\n    <defs>\r\n     <path d=\"M -0.296875 72.90625 \r\nL 61.375 72.90625 \r\nL 61.375 64.59375 \r\nL 35.5 64.59375 \r\nL 35.5 0 \r\nL 25.59375 0 \r\nL 25.59375 64.59375 \r\nL -0.296875 64.59375 \r\nz\r\n\" id=\"DejaVuSans-84\"/>\r\n     <path d=\"M 9.421875 75.984375 \r\nL 18.40625 75.984375 \r\nL 18.40625 0 \r\nL 9.421875 0 \r\nz\r\n\" id=\"DejaVuSans-108\"/>\r\n     <path d=\"M 50.984375 -16.609375 \r\nL 50.984375 -23.578125 \r\nL -0.984375 -23.578125 \r\nL -0.984375 -16.609375 \r\nz\r\n\" id=\"DejaVuSans-95\"/>\r\n    </defs>\r\n    <g transform=\"translate(77.375307 182.300306)scale(0.144 -0.144)\">\r\n     <use xlink:href=\"#DejaVuSans-84\"/>\r\n     <use x=\"44.083984\" xlink:href=\"#DejaVuSans-111\"/>\r\n     <use x=\"105.265625\" xlink:href=\"#DejaVuSans-116\"/>\r\n     <use x=\"144.474609\" xlink:href=\"#DejaVuSans-97\"/>\r\n     <use x=\"205.753906\" xlink:href=\"#DejaVuSans-108\"/>\r\n     <use x=\"233.537109\" xlink:href=\"#DejaVuSans-95\"/>\r\n     <use x=\"283.537109\" xlink:href=\"#DejaVuSans-80\"/>\r\n     <use x=\"343.839844\" xlink:href=\"#DejaVuSans-104\"/>\r\n     <use x=\"407.21875\" xlink:href=\"#DejaVuSans-101\"/>\r\n     <use x=\"468.742188\" xlink:href=\"#DejaVuSans-110\"/>\r\n     <use x=\"532.121094\" xlink:href=\"#DejaVuSans-111\"/>\r\n     <use x=\"593.302734\" xlink:href=\"#DejaVuSans-108\"/>\r\n     <use x=\"621.085938\" xlink:href=\"#DejaVuSans-115\"/>\r\n    </g>\r\n   </g>\r\n   <g id=\"text_8\">\r\n    <!-- Total_Phenols -->\r\n    <g transform=\"translate(194.099699 95.845458)rotate(-30)scale(0.144 -0.144)\">\r\n     <use xlink:href=\"#DejaVuSans-84\"/>\r\n     <use x=\"44.083984\" xlink:href=\"#DejaVuSans-111\"/>\r\n     <use x=\"105.265625\" xlink:href=\"#DejaVuSans-116\"/>\r\n     <use x=\"144.474609\" xlink:href=\"#DejaVuSans-97\"/>\r\n     <use x=\"205.753906\" xlink:href=\"#DejaVuSans-108\"/>\r\n     <use x=\"233.537109\" xlink:href=\"#DejaVuSans-95\"/>\r\n     <use x=\"283.537109\" xlink:href=\"#DejaVuSans-80\"/>\r\n     <use x=\"343.839844\" xlink:href=\"#DejaVuSans-104\"/>\r\n     <use x=\"407.21875\" xlink:href=\"#DejaVuSans-101\"/>\r\n     <use x=\"468.742188\" xlink:href=\"#DejaVuSans-110\"/>\r\n     <use x=\"532.121094\" xlink:href=\"#DejaVuSans-111\"/>\r\n     <use x=\"593.302734\" xlink:href=\"#DejaVuSans-108\"/>\r\n     <use x=\"621.085938\" xlink:href=\"#DejaVuSans-115\"/>\r\n    </g>\r\n   </g>\r\n   <g id=\"text_9\">\r\n    <!-- Flavanoids -->\r\n    <defs>\r\n     <path d=\"M 9.8125 72.90625 \r\nL 51.703125 72.90625 \r\nL 51.703125 64.59375 \r\nL 19.671875 64.59375 \r\nL 19.671875 43.109375 \r\nL 48.578125 43.109375 \r\nL 48.578125 34.8125 \r\nL 19.671875 34.8125 \r\nL 19.671875 0 \r\nL 9.8125 0 \r\nz\r\n\" id=\"DejaVuSans-70\"/>\r\n     <path d=\"M 2.984375 54.6875 \r\nL 12.5 54.6875 \r\nL 29.59375 8.796875 \r\nL 46.6875 54.6875 \r\nL 56.203125 54.6875 \r\nL 35.6875 0 \r\nL 23.484375 0 \r\nz\r\n\" id=\"DejaVuSans-118\"/>\r\n     <path d=\"M 45.40625 46.390625 \r\nL 45.40625 75.984375 \r\nL 54.390625 75.984375 \r\nL 54.390625 0 \r\nL 45.40625 0 \r\nL 45.40625 8.203125 \r\nQ 42.578125 3.328125 38.25 0.953125 \r\nQ 33.9375 -1.421875 27.875 -1.421875 \r\nQ 17.96875 -1.421875 11.734375 6.484375 \r\nQ 5.515625 14.40625 5.515625 27.296875 \r\nQ 5.515625 40.1875 11.734375 48.09375 \r\nQ 17.96875 56 27.875 56 \r\nQ 33.9375 56 38.25 53.625 \r\nQ 42.578125 51.265625 45.40625 46.390625 \r\nz\r\nM 14.796875 27.296875 \r\nQ 14.796875 17.390625 18.875 11.75 \r\nQ 22.953125 6.109375 30.078125 6.109375 \r\nQ 37.203125 6.109375 41.296875 11.75 \r\nQ 45.40625 17.390625 45.40625 27.296875 \r\nQ 45.40625 37.203125 41.296875 42.84375 \r\nQ 37.203125 48.484375 30.078125 48.484375 \r\nQ 22.953125 48.484375 18.875 42.84375 \r\nQ 14.796875 37.203125 14.796875 27.296875 \r\nz\r\n\" id=\"DejaVuSans-100\"/>\r\n    </defs>\r\n    <g transform=\"translate(121.137835 206.161584)scale(0.144 -0.144)\">\r\n     <use xlink:href=\"#DejaVuSans-70\"/>\r\n     <use x=\"57.519531\" xlink:href=\"#DejaVuSans-108\"/>\r\n     <use x=\"85.302734\" xlink:href=\"#DejaVuSans-97\"/>\r\n     <use x=\"146.582031\" xlink:href=\"#DejaVuSans-118\"/>\r\n     <use x=\"205.761719\" xlink:href=\"#DejaVuSans-97\"/>\r\n     <use x=\"267.041016\" xlink:href=\"#DejaVuSans-110\"/>\r\n     <use x=\"330.419922\" xlink:href=\"#DejaVuSans-111\"/>\r\n     <use x=\"391.601562\" xlink:href=\"#DejaVuSans-105\"/>\r\n     <use x=\"419.384766\" xlink:href=\"#DejaVuSans-100\"/>\r\n     <use x=\"482.861328\" xlink:href=\"#DejaVuSans-115\"/>\r\n    </g>\r\n   </g>\r\n   <g id=\"text_10\">\r\n    <!-- Flavanoids -->\r\n    <g transform=\"translate(217.960977 96.192302)rotate(-30)scale(0.144 -0.144)\">\r\n     <use xlink:href=\"#DejaVuSans-70\"/>\r\n     <use x=\"57.519531\" xlink:href=\"#DejaVuSans-108\"/>\r\n     <use x=\"85.302734\" xlink:href=\"#DejaVuSans-97\"/>\r\n     <use x=\"146.582031\" xlink:href=\"#DejaVuSans-118\"/>\r\n     <use x=\"205.761719\" xlink:href=\"#DejaVuSans-97\"/>\r\n     <use x=\"267.041016\" xlink:href=\"#DejaVuSans-110\"/>\r\n     <use x=\"330.419922\" xlink:href=\"#DejaVuSans-111\"/>\r\n     <use x=\"391.601562\" xlink:href=\"#DejaVuSans-105\"/>\r\n     <use x=\"419.384766\" xlink:href=\"#DejaVuSans-100\"/>\r\n     <use x=\"482.861328\" xlink:href=\"#DejaVuSans-115\"/>\r\n    </g>\r\n   </g>\r\n   <g id=\"text_11\">\r\n    <!-- Proline -->\r\n    <g transform=\"translate(173.209614 230.022862)scale(0.144 -0.144)\">\r\n     <use xlink:href=\"#DejaVuSans-80\"/>\r\n     <use x=\"58.552734\" xlink:href=\"#DejaVuSans-114\"/>\r\n     <use x=\"97.416016\" xlink:href=\"#DejaVuSans-111\"/>\r\n     <use x=\"158.597656\" xlink:href=\"#DejaVuSans-108\"/>\r\n     <use x=\"186.380859\" xlink:href=\"#DejaVuSans-105\"/>\r\n     <use x=\"214.164062\" xlink:href=\"#DejaVuSans-110\"/>\r\n     <use x=\"277.542969\" xlink:href=\"#DejaVuSans-101\"/>\r\n    </g>\r\n   </g>\r\n   <g id=\"text_12\">\r\n    <!-- Proline -->\r\n    <g transform=\"translate(241.822256 96.192302)rotate(-30)scale(0.144 -0.144)\">\r\n     <use xlink:href=\"#DejaVuSans-80\"/>\r\n     <use x=\"58.552734\" xlink:href=\"#DejaVuSans-114\"/>\r\n     <use x=\"97.416016\" xlink:href=\"#DejaVuSans-111\"/>\r\n     <use x=\"158.597656\" xlink:href=\"#DejaVuSans-108\"/>\r\n     <use x=\"186.380859\" xlink:href=\"#DejaVuSans-105\"/>\r\n     <use x=\"214.164062\" xlink:href=\"#DejaVuSans-110\"/>\r\n     <use x=\"277.542969\" xlink:href=\"#DejaVuSans-101\"/>\r\n    </g>\r\n   </g>\r\n   <g id=\"text_13\">\r\n    <!-- Alcohol -->\r\n    <defs>\r\n     <path d=\"M 34.1875 63.1875 \r\nL 20.796875 26.90625 \r\nL 47.609375 26.90625 \r\nz\r\nM 28.609375 72.90625 \r\nL 39.796875 72.90625 \r\nL 67.578125 0 \r\nL 57.328125 0 \r\nL 50.6875 18.703125 \r\nL 17.828125 18.703125 \r\nL 11.1875 0 \r\nL 0.78125 0 \r\nz\r\n\" id=\"DejaVuSans-65\"/>\r\n    </defs>\r\n    <g transform=\"translate(193.378642 253.884141)scale(0.144 -0.144)\">\r\n     <use xlink:href=\"#DejaVuSans-65\"/>\r\n     <use x=\"68.408203\" xlink:href=\"#DejaVuSans-108\"/>\r\n     <use x=\"96.191406\" xlink:href=\"#DejaVuSans-99\"/>\r\n     <use x=\"151.171875\" xlink:href=\"#DejaVuSans-111\"/>\r\n     <use x=\"212.353516\" xlink:href=\"#DejaVuSans-104\"/>\r\n     <use x=\"275.732422\" xlink:href=\"#DejaVuSans-111\"/>\r\n     <use x=\"336.914062\" xlink:href=\"#DejaVuSans-108\"/>\r\n    </g>\r\n   </g>\r\n   <g id=\"text_14\">\r\n    <!-- Alcohol -->\r\n    <g transform=\"translate(265.683534 96.192302)rotate(-30)scale(0.144 -0.144)\">\r\n     <use xlink:href=\"#DejaVuSans-65\"/>\r\n     <use x=\"68.408203\" xlink:href=\"#DejaVuSans-108\"/>\r\n     <use x=\"96.191406\" xlink:href=\"#DejaVuSans-99\"/>\r\n     <use x=\"151.171875\" xlink:href=\"#DejaVuSans-111\"/>\r\n     <use x=\"212.353516\" xlink:href=\"#DejaVuSans-104\"/>\r\n     <use x=\"275.732422\" xlink:href=\"#DejaVuSans-111\"/>\r\n     <use x=\"336.914062\" xlink:href=\"#DejaVuSans-108\"/>\r\n    </g>\r\n   </g>\r\n   <g id=\"text_15\">\r\n    <!-- Magnesium -->\r\n    <defs>\r\n     <path d=\"M 9.8125 72.90625 \r\nL 24.515625 72.90625 \r\nL 43.109375 23.296875 \r\nL 61.8125 72.90625 \r\nL 76.515625 72.90625 \r\nL 76.515625 0 \r\nL 66.890625 0 \r\nL 66.890625 64.015625 \r\nL 48.09375 14.015625 \r\nL 38.1875 14.015625 \r\nL 19.390625 64.015625 \r\nL 19.390625 0 \r\nL 9.8125 0 \r\nz\r\n\" id=\"DejaVuSans-77\"/>\r\n     <path d=\"M 45.40625 27.984375 \r\nQ 45.40625 37.75 41.375 43.109375 \r\nQ 37.359375 48.484375 30.078125 48.484375 \r\nQ 22.859375 48.484375 18.828125 43.109375 \r\nQ 14.796875 37.75 14.796875 27.984375 \r\nQ 14.796875 18.265625 18.828125 12.890625 \r\nQ 22.859375 7.515625 30.078125 7.515625 \r\nQ 37.359375 7.515625 41.375 12.890625 \r\nQ 45.40625 18.265625 45.40625 27.984375 \r\nz\r\nM 54.390625 6.78125 \r\nQ 54.390625 -7.171875 48.1875 -13.984375 \r\nQ 42 -20.796875 29.203125 -20.796875 \r\nQ 24.46875 -20.796875 20.265625 -20.09375 \r\nQ 16.0625 -19.390625 12.109375 -17.921875 \r\nL 12.109375 -9.1875 \r\nQ 16.0625 -11.328125 19.921875 -12.34375 \r\nQ 23.78125 -13.375 27.78125 -13.375 \r\nQ 36.625 -13.375 41.015625 -8.765625 \r\nQ 45.40625 -4.15625 45.40625 5.171875 \r\nL 45.40625 9.625 \r\nQ 42.625 4.78125 38.28125 2.390625 \r\nQ 33.9375 0 27.875 0 \r\nQ 17.828125 0 11.671875 7.65625 \r\nQ 5.515625 15.328125 5.515625 27.984375 \r\nQ 5.515625 40.671875 11.671875 48.328125 \r\nQ 17.828125 56 27.875 56 \r\nQ 33.9375 56 38.28125 53.609375 \r\nQ 42.625 51.21875 45.40625 46.390625 \r\nL 45.40625 54.6875 \r\nL 54.390625 54.6875 \r\nz\r\n\" id=\"DejaVuSans-103\"/>\r\n     <path d=\"M 52 44.1875 \r\nQ 55.375 50.25 60.0625 53.125 \r\nQ 64.75 56 71.09375 56 \r\nQ 79.640625 56 84.28125 50.015625 \r\nQ 88.921875 44.046875 88.921875 33.015625 \r\nL 88.921875 0 \r\nL 79.890625 0 \r\nL 79.890625 32.71875 \r\nQ 79.890625 40.578125 77.09375 44.375 \r\nQ 74.3125 48.1875 68.609375 48.1875 \r\nQ 61.625 48.1875 57.5625 43.546875 \r\nQ 53.515625 38.921875 53.515625 30.90625 \r\nL 53.515625 0 \r\nL 44.484375 0 \r\nL 44.484375 32.71875 \r\nQ 44.484375 40.625 41.703125 44.40625 \r\nQ 38.921875 48.1875 33.109375 48.1875 \r\nQ 26.21875 48.1875 22.15625 43.53125 \r\nQ 18.109375 38.875 18.109375 30.90625 \r\nL 18.109375 0 \r\nL 9.078125 0 \r\nL 9.078125 54.6875 \r\nL 18.109375 54.6875 \r\nL 18.109375 46.1875 \r\nQ 21.1875 51.21875 25.484375 53.609375 \r\nQ 29.78125 56 35.6875 56 \r\nQ 41.65625 56 45.828125 52.96875 \r\nQ 50 49.953125 52 44.1875 \r\nz\r\n\" id=\"DejaVuSans-109\"/>\r\n    </defs>\r\n    <g transform=\"translate(186.72542 277.745419)scale(0.144 -0.144)\">\r\n     <use xlink:href=\"#DejaVuSans-77\"/>\r\n     <use x=\"86.279297\" xlink:href=\"#DejaVuSans-97\"/>\r\n     <use x=\"147.558594\" xlink:href=\"#DejaVuSans-103\"/>\r\n     <use x=\"211.035156\" xlink:href=\"#DejaVuSans-110\"/>\r\n     <use x=\"274.414062\" xlink:href=\"#DejaVuSans-101\"/>\r\n     <use x=\"335.9375\" xlink:href=\"#DejaVuSans-115\"/>\r\n     <use x=\"388.037109\" xlink:href=\"#DejaVuSans-105\"/>\r\n     <use x=\"415.820312\" xlink:href=\"#DejaVuSans-117\"/>\r\n     <use x=\"479.199219\" xlink:href=\"#DejaVuSans-109\"/>\r\n    </g>\r\n   </g>\r\n   <g id=\"text_16\">\r\n    <!-- Magnesium -->\r\n    <g transform=\"translate(289.544812 96.192302)rotate(-30)scale(0.144 -0.144)\">\r\n     <use xlink:href=\"#DejaVuSans-77\"/>\r\n     <use x=\"86.279297\" xlink:href=\"#DejaVuSans-97\"/>\r\n     <use x=\"147.558594\" xlink:href=\"#DejaVuSans-103\"/>\r\n     <use x=\"211.035156\" xlink:href=\"#DejaVuSans-110\"/>\r\n     <use x=\"274.414062\" xlink:href=\"#DejaVuSans-101\"/>\r\n     <use x=\"335.9375\" xlink:href=\"#DejaVuSans-115\"/>\r\n     <use x=\"388.037109\" xlink:href=\"#DejaVuSans-105\"/>\r\n     <use x=\"415.820312\" xlink:href=\"#DejaVuSans-117\"/>\r\n     <use x=\"479.199219\" xlink:href=\"#DejaVuSans-109\"/>\r\n    </g>\r\n   </g>\r\n   <g id=\"text_17\">\r\n    <!-- Ash -->\r\n    <g transform=\"translate(267.140449 301.606698)scale(0.144 -0.144)\">\r\n     <use xlink:href=\"#DejaVuSans-65\"/>\r\n     <use x=\"68.408203\" xlink:href=\"#DejaVuSans-115\"/>\r\n     <use x=\"120.507812\" xlink:href=\"#DejaVuSans-104\"/>\r\n    </g>\r\n   </g>\r\n   <g id=\"text_18\">\r\n    <!-- Ash -->\r\n    <g transform=\"translate(313.406091 96.192302)rotate(-30)scale(0.144 -0.144)\">\r\n     <use xlink:href=\"#DejaVuSans-65\"/>\r\n     <use x=\"68.408203\" xlink:href=\"#DejaVuSans-115\"/>\r\n     <use x=\"120.507812\" xlink:href=\"#DejaVuSans-104\"/>\r\n    </g>\r\n   </g>\r\n   <g id=\"text_19\">\r\n    <!-- Color_Intensity -->\r\n    <defs>\r\n     <path d=\"M 64.40625 67.28125 \r\nL 64.40625 56.890625 \r\nQ 59.421875 61.53125 53.78125 63.8125 \r\nQ 48.140625 66.109375 41.796875 66.109375 \r\nQ 29.296875 66.109375 22.65625 58.46875 \r\nQ 16.015625 50.828125 16.015625 36.375 \r\nQ 16.015625 21.96875 22.65625 14.328125 \r\nQ 29.296875 6.6875 41.796875 6.6875 \r\nQ 48.140625 6.6875 53.78125 8.984375 \r\nQ 59.421875 11.28125 64.40625 15.921875 \r\nL 64.40625 5.609375 \r\nQ 59.234375 2.09375 53.4375 0.328125 \r\nQ 47.65625 -1.421875 41.21875 -1.421875 \r\nQ 24.65625 -1.421875 15.125 8.703125 \r\nQ 5.609375 18.84375 5.609375 36.375 \r\nQ 5.609375 53.953125 15.125 64.078125 \r\nQ 24.65625 74.21875 41.21875 74.21875 \r\nQ 47.75 74.21875 53.53125 72.484375 \r\nQ 59.328125 70.75 64.40625 67.28125 \r\nz\r\n\" id=\"DejaVuSans-67\"/>\r\n     <path d=\"M 9.8125 72.90625 \r\nL 19.671875 72.90625 \r\nL 19.671875 0 \r\nL 9.8125 0 \r\nz\r\n\" id=\"DejaVuSans-73\"/>\r\n    </defs>\r\n    <g transform=\"translate(210.006227 325.467976)scale(0.144 -0.144)\">\r\n     <use xlink:href=\"#DejaVuSans-67\"/>\r\n     <use x=\"69.824219\" xlink:href=\"#DejaVuSans-111\"/>\r\n     <use x=\"131.005859\" xlink:href=\"#DejaVuSans-108\"/>\r\n     <use x=\"158.789062\" xlink:href=\"#DejaVuSans-111\"/>\r\n     <use x=\"219.970703\" xlink:href=\"#DejaVuSans-114\"/>\r\n     <use x=\"261.083984\" xlink:href=\"#DejaVuSans-95\"/>\r\n     <use x=\"311.083984\" xlink:href=\"#DejaVuSans-73\"/>\r\n     <use x=\"340.576172\" xlink:href=\"#DejaVuSans-110\"/>\r\n     <use x=\"403.955078\" xlink:href=\"#DejaVuSans-116\"/>\r\n     <use x=\"443.164062\" xlink:href=\"#DejaVuSans-101\"/>\r\n     <use x=\"504.6875\" xlink:href=\"#DejaVuSans-110\"/>\r\n     <use x=\"568.066406\" xlink:href=\"#DejaVuSans-115\"/>\r\n     <use x=\"620.166016\" xlink:href=\"#DejaVuSans-105\"/>\r\n     <use x=\"647.949219\" xlink:href=\"#DejaVuSans-116\"/>\r\n     <use x=\"687.158203\" xlink:href=\"#DejaVuSans-121\"/>\r\n    </g>\r\n   </g>\r\n   <g id=\"text_20\">\r\n    <!-- Color_Intensity -->\r\n    <g transform=\"translate(337.267369 95.845458)rotate(-30)scale(0.144 -0.144)\">\r\n     <use xlink:href=\"#DejaVuSans-67\"/>\r\n     <use x=\"69.824219\" xlink:href=\"#DejaVuSans-111\"/>\r\n     <use x=\"131.005859\" xlink:href=\"#DejaVuSans-108\"/>\r\n     <use x=\"158.789062\" xlink:href=\"#DejaVuSans-111\"/>\r\n     <use x=\"219.970703\" xlink:href=\"#DejaVuSans-114\"/>\r\n     <use x=\"261.083984\" xlink:href=\"#DejaVuSans-95\"/>\r\n     <use x=\"311.083984\" xlink:href=\"#DejaVuSans-73\"/>\r\n     <use x=\"340.576172\" xlink:href=\"#DejaVuSans-110\"/>\r\n     <use x=\"403.955078\" xlink:href=\"#DejaVuSans-116\"/>\r\n     <use x=\"443.164062\" xlink:href=\"#DejaVuSans-101\"/>\r\n     <use x=\"504.6875\" xlink:href=\"#DejaVuSans-110\"/>\r\n     <use x=\"568.066406\" xlink:href=\"#DejaVuSans-115\"/>\r\n     <use x=\"620.166016\" xlink:href=\"#DejaVuSans-105\"/>\r\n     <use x=\"647.949219\" xlink:href=\"#DejaVuSans-116\"/>\r\n     <use x=\"687.158203\" xlink:href=\"#DejaVuSans-121\"/>\r\n    </g>\r\n   </g>\r\n   <g id=\"text_21\">\r\n    <!-- Customer_Segment -->\r\n    <defs>\r\n     <path d=\"M 53.515625 70.515625 \r\nL 53.515625 60.890625 \r\nQ 47.90625 63.578125 42.921875 64.890625 \r\nQ 37.9375 66.21875 33.296875 66.21875 \r\nQ 25.25 66.21875 20.875 63.09375 \r\nQ 16.5 59.96875 16.5 54.203125 \r\nQ 16.5 49.359375 19.40625 46.890625 \r\nQ 22.3125 44.4375 30.421875 42.921875 \r\nL 36.375 41.703125 \r\nQ 47.40625 39.59375 52.65625 34.296875 \r\nQ 57.90625 29 57.90625 20.125 \r\nQ 57.90625 9.515625 50.796875 4.046875 \r\nQ 43.703125 -1.421875 29.984375 -1.421875 \r\nQ 24.8125 -1.421875 18.96875 -0.25 \r\nQ 13.140625 0.921875 6.890625 3.21875 \r\nL 6.890625 13.375 \r\nQ 12.890625 10.015625 18.65625 8.296875 \r\nQ 24.421875 6.59375 29.984375 6.59375 \r\nQ 38.421875 6.59375 43.015625 9.90625 \r\nQ 47.609375 13.234375 47.609375 19.390625 \r\nQ 47.609375 24.75 44.3125 27.78125 \r\nQ 41.015625 30.8125 33.5 32.328125 \r\nL 27.484375 33.5 \r\nQ 16.453125 35.6875 11.515625 40.375 \r\nQ 6.59375 45.0625 6.59375 53.421875 \r\nQ 6.59375 63.09375 13.40625 68.65625 \r\nQ 20.21875 74.21875 32.171875 74.21875 \r\nQ 37.3125 74.21875 42.625 73.28125 \r\nQ 47.953125 72.359375 53.515625 70.515625 \r\nz\r\n\" id=\"DejaVuSans-83\"/>\r\n    </defs>\r\n    <g transform=\"translate(199.393006 349.329254)scale(0.144 -0.144)\">\r\n     <use xlink:href=\"#DejaVuSans-67\"/>\r\n     <use x=\"69.824219\" xlink:href=\"#DejaVuSans-117\"/>\r\n     <use x=\"133.203125\" xlink:href=\"#DejaVuSans-115\"/>\r\n     <use x=\"185.302734\" xlink:href=\"#DejaVuSans-116\"/>\r\n     <use x=\"224.511719\" xlink:href=\"#DejaVuSans-111\"/>\r\n     <use x=\"285.693359\" xlink:href=\"#DejaVuSans-109\"/>\r\n     <use x=\"383.105469\" xlink:href=\"#DejaVuSans-101\"/>\r\n     <use x=\"444.628906\" xlink:href=\"#DejaVuSans-114\"/>\r\n     <use x=\"485.742188\" xlink:href=\"#DejaVuSans-95\"/>\r\n     <use x=\"535.742188\" xlink:href=\"#DejaVuSans-83\"/>\r\n     <use x=\"599.21875\" xlink:href=\"#DejaVuSans-101\"/>\r\n     <use x=\"660.742188\" xlink:href=\"#DejaVuSans-103\"/>\r\n     <use x=\"724.21875\" xlink:href=\"#DejaVuSans-109\"/>\r\n     <use x=\"821.630859\" xlink:href=\"#DejaVuSans-101\"/>\r\n     <use x=\"883.154297\" xlink:href=\"#DejaVuSans-110\"/>\r\n     <use x=\"946.533203\" xlink:href=\"#DejaVuSans-116\"/>\r\n    </g>\r\n   </g>\r\n   <g id=\"text_22\">\r\n    <!-- Customer_Segment -->\r\n    <g transform=\"translate(361.001523 95.845458)rotate(-30)scale(0.144 -0.144)\">\r\n     <use xlink:href=\"#DejaVuSans-67\"/>\r\n     <use x=\"69.824219\" xlink:href=\"#DejaVuSans-117\"/>\r\n     <use x=\"133.203125\" xlink:href=\"#DejaVuSans-115\"/>\r\n     <use x=\"185.302734\" xlink:href=\"#DejaVuSans-116\"/>\r\n     <use x=\"224.511719\" xlink:href=\"#DejaVuSans-111\"/>\r\n     <use x=\"285.693359\" xlink:href=\"#DejaVuSans-109\"/>\r\n     <use x=\"383.105469\" xlink:href=\"#DejaVuSans-101\"/>\r\n     <use x=\"444.628906\" xlink:href=\"#DejaVuSans-114\"/>\r\n     <use x=\"485.742188\" xlink:href=\"#DejaVuSans-95\"/>\r\n     <use x=\"535.742188\" xlink:href=\"#DejaVuSans-83\"/>\r\n     <use x=\"599.21875\" xlink:href=\"#DejaVuSans-101\"/>\r\n     <use x=\"660.742188\" xlink:href=\"#DejaVuSans-103\"/>\r\n     <use x=\"724.21875\" xlink:href=\"#DejaVuSans-109\"/>\r\n     <use x=\"821.630859\" xlink:href=\"#DejaVuSans-101\"/>\r\n     <use x=\"883.154297\" xlink:href=\"#DejaVuSans-110\"/>\r\n     <use x=\"946.533203\" xlink:href=\"#DejaVuSans-116\"/>\r\n    </g>\r\n   </g>\r\n   <g id=\"text_23\">\r\n    <!-- Malic_Acid -->\r\n    <g transform=\"translate(290.176034 373.190533)scale(0.144 -0.144)\">\r\n     <use xlink:href=\"#DejaVuSans-77\"/>\r\n     <use x=\"86.279297\" xlink:href=\"#DejaVuSans-97\"/>\r\n     <use x=\"147.558594\" xlink:href=\"#DejaVuSans-108\"/>\r\n     <use x=\"175.341797\" xlink:href=\"#DejaVuSans-105\"/>\r\n     <use x=\"203.125\" xlink:href=\"#DejaVuSans-99\"/>\r\n     <use x=\"258.105469\" xlink:href=\"#DejaVuSans-95\"/>\r\n     <use x=\"308.105469\" xlink:href=\"#DejaVuSans-65\"/>\r\n     <use x=\"374.763672\" xlink:href=\"#DejaVuSans-99\"/>\r\n     <use x=\"429.744141\" xlink:href=\"#DejaVuSans-105\"/>\r\n     <use x=\"457.527344\" xlink:href=\"#DejaVuSans-100\"/>\r\n    </g>\r\n   </g>\r\n   <g id=\"text_24\">\r\n    <!-- Malic_Acid -->\r\n    <g transform=\"translate(384.989926 95.845458)rotate(-30)scale(0.144 -0.144)\">\r\n     <use xlink:href=\"#DejaVuSans-77\"/>\r\n     <use x=\"86.279297\" xlink:href=\"#DejaVuSans-97\"/>\r\n     <use x=\"147.558594\" xlink:href=\"#DejaVuSans-108\"/>\r\n     <use x=\"175.341797\" xlink:href=\"#DejaVuSans-105\"/>\r\n     <use x=\"203.125\" xlink:href=\"#DejaVuSans-99\"/>\r\n     <use x=\"258.105469\" xlink:href=\"#DejaVuSans-95\"/>\r\n     <use x=\"308.105469\" xlink:href=\"#DejaVuSans-65\"/>\r\n     <use x=\"374.763672\" xlink:href=\"#DejaVuSans-99\"/>\r\n     <use x=\"429.744141\" xlink:href=\"#DejaVuSans-105\"/>\r\n     <use x=\"457.527344\" xlink:href=\"#DejaVuSans-100\"/>\r\n    </g>\r\n   </g>\r\n   <g id=\"text_25\">\r\n    <!-- Ash_Alcanity -->\r\n    <g transform=\"translate(297.497562 397.051811)scale(0.144 -0.144)\">\r\n     <use xlink:href=\"#DejaVuSans-65\"/>\r\n     <use x=\"68.408203\" xlink:href=\"#DejaVuSans-115\"/>\r\n     <use x=\"120.507812\" xlink:href=\"#DejaVuSans-104\"/>\r\n     <use x=\"183.886719\" xlink:href=\"#DejaVuSans-95\"/>\r\n     <use x=\"233.886719\" xlink:href=\"#DejaVuSans-65\"/>\r\n     <use x=\"302.294922\" xlink:href=\"#DejaVuSans-108\"/>\r\n     <use x=\"330.078125\" xlink:href=\"#DejaVuSans-99\"/>\r\n     <use x=\"385.058594\" xlink:href=\"#DejaVuSans-97\"/>\r\n     <use x=\"446.337891\" xlink:href=\"#DejaVuSans-110\"/>\r\n     <use x=\"509.716797\" xlink:href=\"#DejaVuSans-105\"/>\r\n     <use x=\"537.5\" xlink:href=\"#DejaVuSans-116\"/>\r\n     <use x=\"576.708984\" xlink:href=\"#DejaVuSans-121\"/>\r\n    </g>\r\n   </g>\r\n   <g id=\"text_26\">\r\n    <!-- Ash_Alcanity -->\r\n    <g transform=\"translate(408.851204 95.845458)rotate(-30)scale(0.144 -0.144)\">\r\n     <use xlink:href=\"#DejaVuSans-65\"/>\r\n     <use x=\"68.408203\" xlink:href=\"#DejaVuSans-115\"/>\r\n     <use x=\"120.507812\" xlink:href=\"#DejaVuSans-104\"/>\r\n     <use x=\"183.886719\" xlink:href=\"#DejaVuSans-95\"/>\r\n     <use x=\"233.886719\" xlink:href=\"#DejaVuSans-65\"/>\r\n     <use x=\"302.294922\" xlink:href=\"#DejaVuSans-108\"/>\r\n     <use x=\"330.078125\" xlink:href=\"#DejaVuSans-99\"/>\r\n     <use x=\"385.058594\" xlink:href=\"#DejaVuSans-97\"/>\r\n     <use x=\"446.337891\" xlink:href=\"#DejaVuSans-110\"/>\r\n     <use x=\"509.716797\" xlink:href=\"#DejaVuSans-105\"/>\r\n     <use x=\"537.5\" xlink:href=\"#DejaVuSans-116\"/>\r\n     <use x=\"576.708984\" xlink:href=\"#DejaVuSans-121\"/>\r\n    </g>\r\n   </g>\r\n   <g id=\"text_27\">\r\n    <!-- Nonflavanoid_Phenols -->\r\n    <defs>\r\n     <path d=\"M 9.8125 72.90625 \r\nL 23.09375 72.90625 \r\nL 55.421875 11.921875 \r\nL 55.421875 72.90625 \r\nL 64.984375 72.90625 \r\nL 64.984375 0 \r\nL 51.703125 0 \r\nL 19.390625 60.984375 \r\nL 19.390625 0 \r\nL 9.8125 0 \r\nz\r\n\" id=\"DejaVuSans-78\"/>\r\n     <path d=\"M 37.109375 75.984375 \r\nL 37.109375 68.5 \r\nL 28.515625 68.5 \r\nQ 23.6875 68.5 21.796875 66.546875 \r\nQ 19.921875 64.59375 19.921875 59.515625 \r\nL 19.921875 54.6875 \r\nL 34.71875 54.6875 \r\nL 34.71875 47.703125 \r\nL 19.921875 47.703125 \r\nL 19.921875 0 \r\nL 10.890625 0 \r\nL 10.890625 47.703125 \r\nL 2.296875 47.703125 \r\nL 2.296875 54.6875 \r\nL 10.890625 54.6875 \r\nL 10.890625 58.5 \r\nQ 10.890625 67.625 15.140625 71.796875 \r\nQ 19.390625 75.984375 28.609375 75.984375 \r\nz\r\n\" id=\"DejaVuSans-102\"/>\r\n    </defs>\r\n    <g transform=\"translate(254.585591 420.91309)scale(0.144 -0.144)\">\r\n     <use xlink:href=\"#DejaVuSans-78\"/>\r\n     <use x=\"74.804688\" xlink:href=\"#DejaVuSans-111\"/>\r\n     <use x=\"135.986328\" xlink:href=\"#DejaVuSans-110\"/>\r\n     <use x=\"199.365234\" xlink:href=\"#DejaVuSans-102\"/>\r\n     <use x=\"234.570312\" xlink:href=\"#DejaVuSans-108\"/>\r\n     <use x=\"262.353516\" xlink:href=\"#DejaVuSans-97\"/>\r\n     <use x=\"323.632812\" xlink:href=\"#DejaVuSans-118\"/>\r\n     <use x=\"382.8125\" xlink:href=\"#DejaVuSans-97\"/>\r\n     <use x=\"444.091797\" xlink:href=\"#DejaVuSans-110\"/>\r\n     <use x=\"507.470703\" xlink:href=\"#DejaVuSans-111\"/>\r\n     <use x=\"568.652344\" xlink:href=\"#DejaVuSans-105\"/>\r\n     <use x=\"596.435547\" xlink:href=\"#DejaVuSans-100\"/>\r\n     <use x=\"659.912109\" xlink:href=\"#DejaVuSans-95\"/>\r\n     <use x=\"709.912109\" xlink:href=\"#DejaVuSans-80\"/>\r\n     <use x=\"770.214844\" xlink:href=\"#DejaVuSans-104\"/>\r\n     <use x=\"833.59375\" xlink:href=\"#DejaVuSans-101\"/>\r\n     <use x=\"895.117188\" xlink:href=\"#DejaVuSans-110\"/>\r\n     <use x=\"958.496094\" xlink:href=\"#DejaVuSans-111\"/>\r\n     <use x=\"1019.677734\" xlink:href=\"#DejaVuSans-108\"/>\r\n     <use x=\"1047.460938\" xlink:href=\"#DejaVuSans-115\"/>\r\n    </g>\r\n   </g>\r\n   <g id=\"text_28\">\r\n    <!-- Nonflavanoid_Phenols -->\r\n    <g transform=\"translate(432.712483 95.845458)rotate(-30)scale(0.144 -0.144)\">\r\n     <use xlink:href=\"#DejaVuSans-78\"/>\r\n     <use x=\"74.804688\" xlink:href=\"#DejaVuSans-111\"/>\r\n     <use x=\"135.986328\" xlink:href=\"#DejaVuSans-110\"/>\r\n     <use x=\"199.365234\" xlink:href=\"#DejaVuSans-102\"/>\r\n     <use x=\"234.570312\" xlink:href=\"#DejaVuSans-108\"/>\r\n     <use x=\"262.353516\" xlink:href=\"#DejaVuSans-97\"/>\r\n     <use x=\"323.632812\" xlink:href=\"#DejaVuSans-118\"/>\r\n     <use x=\"382.8125\" xlink:href=\"#DejaVuSans-97\"/>\r\n     <use x=\"444.091797\" xlink:href=\"#DejaVuSans-110\"/>\r\n     <use x=\"507.470703\" xlink:href=\"#DejaVuSans-111\"/>\r\n     <use x=\"568.652344\" xlink:href=\"#DejaVuSans-105\"/>\r\n     <use x=\"596.435547\" xlink:href=\"#DejaVuSans-100\"/>\r\n     <use x=\"659.912109\" xlink:href=\"#DejaVuSans-95\"/>\r\n     <use x=\"709.912109\" xlink:href=\"#DejaVuSans-80\"/>\r\n     <use x=\"770.214844\" xlink:href=\"#DejaVuSans-104\"/>\r\n     <use x=\"833.59375\" xlink:href=\"#DejaVuSans-101\"/>\r\n     <use x=\"895.117188\" xlink:href=\"#DejaVuSans-110\"/>\r\n     <use x=\"958.496094\" xlink:href=\"#DejaVuSans-111\"/>\r\n     <use x=\"1019.677734\" xlink:href=\"#DejaVuSans-108\"/>\r\n     <use x=\"1047.460938\" xlink:href=\"#DejaVuSans-115\"/>\r\n    </g>\r\n   </g>\r\n  </g>\r\n  <g id=\"axes_2\">\r\n   <g id=\"patch_2\">\r\n    <path clip-path=\"url(#p7ad9a15628)\" d=\"M 463.622038 399.437939 \r\nL 463.622038 396.765476 \r\nL 463.622038 134.864084 \r\nL 463.622038 132.191621 \r\nL 476.984354 132.191621 \r\nL 476.984354 134.864084 \r\nL 476.984354 396.765476 \r\nL 476.984354 399.437939 \r\nz\r\n\" style=\"fill:#ffffff;stroke:#ffffff;stroke-linejoin:miter;stroke-width:0.01;\"/>\r\n   </g>\r\n   <image height=\"267\" id=\"imagef399f7b4bc\" transform=\"scale(1 -1)translate(0 -267)\" width=\"13\" x=\"464\" xlink:href=\"data:image/png;base64,\r\niVBORw0KGgoAAAANSUhEUgAAAA0AAAELCAYAAAACxQzVAAAABHNCSVQICAgIfAhkiAAAAPFJREFUaIHtmcEKxCAQQ8ci/f/v2E8srd1D3b3rQEjlzT0kZGKUtnwi7hicbRQACBCgt4JqqVXDNCdv23cN06Q83BMzIS/FxHFPgDhPfYiRnGlNeaoY2RuBPDETvfcOpiXlyWLkbgTy1EzmF7W5e/Z78pZH7z2DvB8TD6oEiN7rYy+P3osIe3nlbk3zw7RebRwk3NNxXBomc3nuRpzncF7ZU4ppUXnjdTQbWBHTonvSnSfrPRGjBIgY9XHfkyzl7kYQo85E7yVAwmeOuRHE6M+EEdMgeq8PMZIzEaMkk/WezOUp3+XmgbXeE733DJ+JM6Av3FyRRlUyzO4AAAAASUVORK5CYII=\" y=\"-132\"/>\r\n   <g id=\"matplotlib.axis_1\"/>\r\n   <g id=\"matplotlib.axis_2\">\r\n    <g id=\"ytick_1\">\r\n     <g id=\"line2d_33\">\r\n      <defs>\r\n       <path d=\"M 0 0 \r\nL 3.5 0 \r\n\" id=\"mbf819008e8\" style=\"stroke:#000000;stroke-width:0.8;\"/>\r\n      </defs>\r\n      <g>\r\n       <use style=\"stroke:#000000;stroke-width:0.8;\" x=\"476.984354\" xlink:href=\"#mbf819008e8\" y=\"399.437939\"/>\r\n      </g>\r\n     </g>\r\n     <g id=\"text_29\">\r\n      <!-- -1 -->\r\n      <defs>\r\n       <path d=\"M 4.890625 31.390625 \r\nL 31.203125 31.390625 \r\nL 31.203125 23.390625 \r\nL 4.890625 23.390625 \r\nz\r\n\" id=\"DejaVuSans-45\"/>\r\n       <path d=\"M 12.40625 8.296875 \r\nL 28.515625 8.296875 \r\nL 28.515625 63.921875 \r\nL 10.984375 60.40625 \r\nL 10.984375 69.390625 \r\nL 28.421875 72.90625 \r\nL 38.28125 72.90625 \r\nL 38.28125 8.296875 \r\nL 54.390625 8.296875 \r\nL 54.390625 0 \r\nL 12.40625 0 \r\nz\r\n\" id=\"DejaVuSans-49\"/>\r\n      </defs>\r\n      <g transform=\"translate(483.984354 403.237158)scale(0.1 -0.1)\">\r\n       <use xlink:href=\"#DejaVuSans-45\"/>\r\n       <use x=\"36.083984\" xlink:href=\"#DejaVuSans-49\"/>\r\n      </g>\r\n     </g>\r\n    </g>\r\n    <g id=\"ytick_2\">\r\n     <g id=\"line2d_34\">\r\n      <g>\r\n       <use style=\"stroke:#000000;stroke-width:0.8;\" x=\"476.984354\" xlink:href=\"#mbf819008e8\" y=\"332.62636\"/>\r\n      </g>\r\n     </g>\r\n     <g id=\"text_30\">\r\n      <!-- -0.5 -->\r\n      <defs>\r\n       <path d=\"M 10.6875 12.40625 \r\nL 21 12.40625 \r\nL 21 0 \r\nL 10.6875 0 \r\nz\r\n\" id=\"DejaVuSans-46\"/>\r\n       <path d=\"M 10.796875 72.90625 \r\nL 49.515625 72.90625 \r\nL 49.515625 64.59375 \r\nL 19.828125 64.59375 \r\nL 19.828125 46.734375 \r\nQ 21.96875 47.46875 24.109375 47.828125 \r\nQ 26.265625 48.1875 28.421875 48.1875 \r\nQ 40.625 48.1875 47.75 41.5 \r\nQ 54.890625 34.8125 54.890625 23.390625 \r\nQ 54.890625 11.625 47.5625 5.09375 \r\nQ 40.234375 -1.421875 26.90625 -1.421875 \r\nQ 22.3125 -1.421875 17.546875 -0.640625 \r\nQ 12.796875 0.140625 7.71875 1.703125 \r\nL 7.71875 11.625 \r\nQ 12.109375 9.234375 16.796875 8.0625 \r\nQ 21.484375 6.890625 26.703125 6.890625 \r\nQ 35.15625 6.890625 40.078125 11.328125 \r\nQ 45.015625 15.765625 45.015625 23.390625 \r\nQ 45.015625 31 40.078125 35.4375 \r\nQ 35.15625 39.890625 26.703125 39.890625 \r\nQ 22.75 39.890625 18.8125 39.015625 \r\nQ 14.890625 38.140625 10.796875 36.28125 \r\nz\r\n\" id=\"DejaVuSans-53\"/>\r\n      </defs>\r\n      <g transform=\"translate(483.984354 336.425578)scale(0.1 -0.1)\">\r\n       <use xlink:href=\"#DejaVuSans-45\"/>\r\n       <use x=\"36.083984\" xlink:href=\"#DejaVuSans-48\"/>\r\n       <use x=\"99.707031\" xlink:href=\"#DejaVuSans-46\"/>\r\n       <use x=\"131.494141\" xlink:href=\"#DejaVuSans-53\"/>\r\n      </g>\r\n     </g>\r\n    </g>\r\n    <g id=\"ytick_3\">\r\n     <g id=\"line2d_35\">\r\n      <g>\r\n       <use style=\"stroke:#000000;stroke-width:0.8;\" x=\"476.984354\" xlink:href=\"#mbf819008e8\" y=\"265.81478\"/>\r\n      </g>\r\n     </g>\r\n     <g id=\"text_31\">\r\n      <!-- 0 -->\r\n      <g transform=\"translate(483.984354 269.613999)scale(0.1 -0.1)\">\r\n       <use xlink:href=\"#DejaVuSans-48\"/>\r\n      </g>\r\n     </g>\r\n    </g>\r\n    <g id=\"ytick_4\">\r\n     <g id=\"line2d_36\">\r\n      <g>\r\n       <use style=\"stroke:#000000;stroke-width:0.8;\" x=\"476.984354\" xlink:href=\"#mbf819008e8\" y=\"199.003201\"/>\r\n      </g>\r\n     </g>\r\n     <g id=\"text_32\">\r\n      <!-- 0.5 -->\r\n      <g transform=\"translate(483.984354 202.802419)scale(0.1 -0.1)\">\r\n       <use xlink:href=\"#DejaVuSans-48\"/>\r\n       <use x=\"63.623047\" xlink:href=\"#DejaVuSans-46\"/>\r\n       <use x=\"95.410156\" xlink:href=\"#DejaVuSans-53\"/>\r\n      </g>\r\n     </g>\r\n    </g>\r\n    <g id=\"ytick_5\">\r\n     <g id=\"line2d_37\">\r\n      <g>\r\n       <use style=\"stroke:#000000;stroke-width:0.8;\" x=\"476.984354\" xlink:href=\"#mbf819008e8\" y=\"132.191621\"/>\r\n      </g>\r\n     </g>\r\n     <g id=\"text_33\">\r\n      <!-- 1 -->\r\n      <g transform=\"translate(483.984354 135.99084)scale(0.1 -0.1)\">\r\n       <use xlink:href=\"#DejaVuSans-49\"/>\r\n      </g>\r\n     </g>\r\n    </g>\r\n   </g>\r\n   <g id=\"patch_3\">\r\n    <path d=\"M 463.622038 399.437939 \r\nL 463.622038 396.765476 \r\nL 463.622038 134.864084 \r\nL 463.622038 132.191621 \r\nL 476.984354 132.191621 \r\nL 476.984354 134.864084 \r\nL 476.984354 396.765476 \r\nL 476.984354 399.437939 \r\nz\r\n\" style=\"fill:none;stroke:#000000;stroke-linejoin:miter;stroke-width:0.8;\"/>\r\n   </g>\r\n  </g>\r\n </g>\r\n <defs>\r\n  <clipPath id=\"p9ead55e914\">\r\n   <rect height=\"334.057898\" width=\"334.057898\" x=\"105.114349\" y=\"98.785831\"/>\r\n  </clipPath>\r\n  <clipPath id=\"p7ad9a15628\">\r\n   <rect height=\"267.246318\" width=\"13.362316\" x=\"463.622038\" y=\"132.191621\"/>\r\n  </clipPath>\r\n </defs>\r\n</svg>\r\n",
      "image/png": "[encoded data removed]"
     },
     "metadata": {}
    }
   ],
   "source": [
    "from biokit.viz import corrplot\n",
    "import matplotlib.pyplot as plt\n",
    "\n",
    "corr_graph = corrplot.Corrplot(correlation_matrix)\n",
    "corr_graph.plot(upper= 'ellipse', fontsize='x-large')\n",
    "fig = plt.gcf()\n",
    "fig.set_size_inches(13,8)\n",
    "fig.show()"
   ]
  },
  {
   "cell_type": "code",
   "execution_count": 9,
   "metadata": {},
   "outputs": [
    {
     "output_type": "execute_result",
     "data": {
      "text/plain": [
       "          Alcohol  Malic_Acid         Ash  Ash_Alcanity   Magnesium  \\\n",
       "count  178.000000  178.000000  178.000000    178.000000  178.000000   \n",
       "mean    13.000618    2.336348    2.366517     19.494944   99.741573   \n",
       "std      0.811827    1.117146    0.274344      3.339564   14.282484   \n",
       "min     11.030000    0.740000    1.360000     10.600000   70.000000   \n",
       "25%     12.362500    1.602500    2.210000     17.200000   88.000000   \n",
       "50%     13.050000    1.865000    2.360000     19.500000   98.000000   \n",
       "75%     13.677500    3.082500    2.557500     21.500000  107.000000   \n",
       "max     14.830000    5.800000    3.230000     30.000000  162.000000   \n",
       "\n",
       "       Total_Phenols  Flavanoids  Nonflavanoid_Phenols  Proanthocyanins  \\\n",
       "count     178.000000  178.000000            178.000000       178.000000   \n",
       "mean        2.295112    2.029270              0.361854         1.590899   \n",
       "std         0.625851    0.998859              0.124453         0.572359   \n",
       "min         0.980000    0.340000              0.130000         0.410000   \n",
       "25%         1.742500    1.205000              0.270000         1.250000   \n",
       "50%         2.355000    2.135000              0.340000         1.555000   \n",
       "75%         2.800000    2.875000              0.437500         1.950000   \n",
       "max         3.880000    5.080000              0.660000         3.580000   \n",
       "\n",
       "       Color_Intensity         Hue       OD280      Proline  Customer_Segment  \n",
       "count       178.000000  178.000000  178.000000   178.000000        178.000000  \n",
       "mean          5.058090    0.957449    2.611685   746.893258          1.938202  \n",
       "std           2.318286    0.228572    0.709990   314.907474          0.775035  \n",
       "min           1.280000    0.480000    1.270000   278.000000          1.000000  \n",
       "25%           3.220000    0.782500    1.937500   500.500000          1.000000  \n",
       "50%           4.690000    0.965000    2.780000   673.500000          2.000000  \n",
       "75%           6.200000    1.120000    3.170000   985.000000          3.000000  \n",
       "max          13.000000    1.710000    4.000000  1680.000000          3.000000  "
      ],
      "text/html": "<div>\n<style scoped>\n    .dataframe tbody tr th:only-of-type {\n        vertical-align: middle;\n    }\n\n    .dataframe tbody tr th {\n        vertical-align: top;\n    }\n\n    .dataframe thead th {\n        text-align: right;\n    }\n</style>\n<table border=\"1\" class=\"dataframe\">\n  <thead>\n    <tr style=\"text-align: right;\">\n      <th></th>\n      <th>Alcohol</th>\n      <th>Malic_Acid</th>\n      <th>Ash</th>\n      <th>Ash_Alcanity</th>\n      <th>Magnesium</th>\n      <th>Total_Phenols</th>\n      <th>Flavanoids</th>\n      <th>Nonflavanoid_Phenols</th>\n      <th>Proanthocyanins</th>\n      <th>Color_Intensity</th>\n      <th>Hue</th>\n      <th>OD280</th>\n      <th>Proline</th>\n      <th>Customer_Segment</th>\n    </tr>\n  </thead>\n  <tbody>\n    <tr>\n      <th>count</th>\n      <td>178.000000</td>\n      <td>178.000000</td>\n      <td>178.000000</td>\n      <td>178.000000</td>\n      <td>178.000000</td>\n      <td>178.000000</td>\n      <td>178.000000</td>\n      <td>178.000000</td>\n      <td>178.000000</td>\n      <td>178.000000</td>\n      <td>178.000000</td>\n      <td>178.000000</td>\n      <td>178.000000</td>\n      <td>178.000000</td>\n    </tr>\n    <tr>\n      <th>mean</th>\n      <td>13.000618</td>\n      <td>2.336348</td>\n      <td>2.366517</td>\n      <td>19.494944</td>\n      <td>99.741573</td>\n      <td>2.295112</td>\n      <td>2.029270</td>\n      <td>0.361854</td>\n      <td>1.590899</td>\n      <td>5.058090</td>\n      <td>0.957449</td>\n      <td>2.611685</td>\n      <td>746.893258</td>\n      <td>1.938202</td>\n    </tr>\n    <tr>\n      <th>std</th>\n      <td>0.811827</td>\n      <td>1.117146</td>\n      <td>0.274344</td>\n      <td>3.339564</td>\n      <td>14.282484</td>\n      <td>0.625851</td>\n      <td>0.998859</td>\n      <td>0.124453</td>\n      <td>0.572359</td>\n      <td>2.318286</td>\n      <td>0.228572</td>\n      <td>0.709990</td>\n      <td>314.907474</td>\n      <td>0.775035</td>\n    </tr>\n    <tr>\n      <th>min</th>\n      <td>11.030000</td>\n      <td>0.740000</td>\n      <td>1.360000</td>\n      <td>10.600000</td>\n      <td>70.000000</td>\n      <td>0.980000</td>\n      <td>0.340000</td>\n      <td>0.130000</td>\n      <td>0.410000</td>\n      <td>1.280000</td>\n      <td>0.480000</td>\n      <td>1.270000</td>\n      <td>278.000000</td>\n      <td>1.000000</td>\n    </tr>\n    <tr>\n      <th>25%</th>\n      <td>12.362500</td>\n      <td>1.602500</td>\n      <td>2.210000</td>\n      <td>17.200000</td>\n      <td>88.000000</td>\n      <td>1.742500</td>\n      <td>1.205000</td>\n      <td>0.270000</td>\n      <td>1.250000</td>\n      <td>3.220000</td>\n      <td>0.782500</td>\n      <td>1.937500</td>\n      <td>500.500000</td>\n      <td>1.000000</td>\n    </tr>\n    <tr>\n      <th>50%</th>\n      <td>13.050000</td>\n      <td>1.865000</td>\n      <td>2.360000</td>\n      <td>19.500000</td>\n      <td>98.000000</td>\n      <td>2.355000</td>\n      <td>2.135000</td>\n      <td>0.340000</td>\n      <td>1.555000</td>\n      <td>4.690000</td>\n      <td>0.965000</td>\n      <td>2.780000</td>\n      <td>673.500000</td>\n      <td>2.000000</td>\n    </tr>\n    <tr>\n      <th>75%</th>\n      <td>13.677500</td>\n      <td>3.082500</td>\n      <td>2.557500</td>\n      <td>21.500000</td>\n      <td>107.000000</td>\n      <td>2.800000</td>\n      <td>2.875000</td>\n      <td>0.437500</td>\n      <td>1.950000</td>\n      <td>6.200000</td>\n      <td>1.120000</td>\n      <td>3.170000</td>\n      <td>985.000000</td>\n      <td>3.000000</td>\n    </tr>\n    <tr>\n      <th>max</th>\n      <td>14.830000</td>\n      <td>5.800000</td>\n      <td>3.230000</td>\n      <td>30.000000</td>\n      <td>162.000000</td>\n      <td>3.880000</td>\n      <td>5.080000</td>\n      <td>0.660000</td>\n      <td>3.580000</td>\n      <td>13.000000</td>\n      <td>1.710000</td>\n      <td>4.000000</td>\n      <td>1680.000000</td>\n      <td>3.000000</td>\n    </tr>\n  </tbody>\n</table>\n</div>"
     },
     "metadata": {},
     "execution_count": 9
    }
   ],
   "source": [
    "df.describe()"
   ]
  },
  {
   "cell_type": "code",
   "execution_count": 10,
   "metadata": {},
   "outputs": [],
   "source": [
    "# Manual Min max scaler\n",
    "# attributes = df.columns\n",
    "\n",
    "# for attribute in attributes:    \n",
    "#     # min max scaler\n",
    "#     df[attribute] = (df[attribute] - min(df[attribute]))/(max(df[attribute]) - min(df[attribute]))\n",
    "\n",
    "# df.head()"
   ]
  },
  {
   "cell_type": "code",
   "execution_count": 11,
   "metadata": {},
   "outputs": [
    {
     "output_type": "execute_result",
     "data": {
      "text/plain": [
       "          Alcohol  Malic_Acid         Ash  Ash_Alcanity   Magnesium  \\\n",
       "count  178.000000  178.000000  178.000000    178.000000  178.000000   \n",
       "mean    13.000618    2.336348    2.366517     19.494944   99.741573   \n",
       "std      0.811827    1.117146    0.274344      3.339564   14.282484   \n",
       "min     11.030000    0.740000    1.360000     10.600000   70.000000   \n",
       "25%     12.362500    1.602500    2.210000     17.200000   88.000000   \n",
       "50%     13.050000    1.865000    2.360000     19.500000   98.000000   \n",
       "75%     13.677500    3.082500    2.557500     21.500000  107.000000   \n",
       "max     14.830000    5.800000    3.230000     30.000000  162.000000   \n",
       "\n",
       "       Total_Phenols  Flavanoids  Nonflavanoid_Phenols  Proanthocyanins  \\\n",
       "count     178.000000  178.000000            178.000000       178.000000   \n",
       "mean        2.295112    2.029270              0.361854         1.590899   \n",
       "std         0.625851    0.998859              0.124453         0.572359   \n",
       "min         0.980000    0.340000              0.130000         0.410000   \n",
       "25%         1.742500    1.205000              0.270000         1.250000   \n",
       "50%         2.355000    2.135000              0.340000         1.555000   \n",
       "75%         2.800000    2.875000              0.437500         1.950000   \n",
       "max         3.880000    5.080000              0.660000         3.580000   \n",
       "\n",
       "       Color_Intensity         Hue       OD280      Proline  Customer_Segment  \n",
       "count       178.000000  178.000000  178.000000   178.000000        178.000000  \n",
       "mean          5.058090    0.957449    2.611685   746.893258          1.938202  \n",
       "std           2.318286    0.228572    0.709990   314.907474          0.775035  \n",
       "min           1.280000    0.480000    1.270000   278.000000          1.000000  \n",
       "25%           3.220000    0.782500    1.937500   500.500000          1.000000  \n",
       "50%           4.690000    0.965000    2.780000   673.500000          2.000000  \n",
       "75%           6.200000    1.120000    3.170000   985.000000          3.000000  \n",
       "max          13.000000    1.710000    4.000000  1680.000000          3.000000  "
      ],
      "text/html": "<div>\n<style scoped>\n    .dataframe tbody tr th:only-of-type {\n        vertical-align: middle;\n    }\n\n    .dataframe tbody tr th {\n        vertical-align: top;\n    }\n\n    .dataframe thead th {\n        text-align: right;\n    }\n</style>\n<table border=\"1\" class=\"dataframe\">\n  <thead>\n    <tr style=\"text-align: right;\">\n      <th></th>\n      <th>Alcohol</th>\n      <th>Malic_Acid</th>\n      <th>Ash</th>\n      <th>Ash_Alcanity</th>\n      <th>Magnesium</th>\n      <th>Total_Phenols</th>\n      <th>Flavanoids</th>\n      <th>Nonflavanoid_Phenols</th>\n      <th>Proanthocyanins</th>\n      <th>Color_Intensity</th>\n      <th>Hue</th>\n      <th>OD280</th>\n      <th>Proline</th>\n      <th>Customer_Segment</th>\n    </tr>\n  </thead>\n  <tbody>\n    <tr>\n      <th>count</th>\n      <td>178.000000</td>\n      <td>178.000000</td>\n      <td>178.000000</td>\n      <td>178.000000</td>\n      <td>178.000000</td>\n      <td>178.000000</td>\n      <td>178.000000</td>\n      <td>178.000000</td>\n      <td>178.000000</td>\n      <td>178.000000</td>\n      <td>178.000000</td>\n      <td>178.000000</td>\n      <td>178.000000</td>\n      <td>178.000000</td>\n    </tr>\n    <tr>\n      <th>mean</th>\n      <td>13.000618</td>\n      <td>2.336348</td>\n      <td>2.366517</td>\n      <td>19.494944</td>\n      <td>99.741573</td>\n      <td>2.295112</td>\n      <td>2.029270</td>\n      <td>0.361854</td>\n      <td>1.590899</td>\n      <td>5.058090</td>\n      <td>0.957449</td>\n      <td>2.611685</td>\n      <td>746.893258</td>\n      <td>1.938202</td>\n    </tr>\n    <tr>\n      <th>std</th>\n      <td>0.811827</td>\n      <td>1.117146</td>\n      <td>0.274344</td>\n      <td>3.339564</td>\n      <td>14.282484</td>\n      <td>0.625851</td>\n      <td>0.998859</td>\n      <td>0.124453</td>\n      <td>0.572359</td>\n      <td>2.318286</td>\n      <td>0.228572</td>\n      <td>0.709990</td>\n      <td>314.907474</td>\n      <td>0.775035</td>\n    </tr>\n    <tr>\n      <th>min</th>\n      <td>11.030000</td>\n      <td>0.740000</td>\n      <td>1.360000</td>\n      <td>10.600000</td>\n      <td>70.000000</td>\n      <td>0.980000</td>\n      <td>0.340000</td>\n      <td>0.130000</td>\n      <td>0.410000</td>\n      <td>1.280000</td>\n      <td>0.480000</td>\n      <td>1.270000</td>\n      <td>278.000000</td>\n      <td>1.000000</td>\n    </tr>\n    <tr>\n      <th>25%</th>\n      <td>12.362500</td>\n      <td>1.602500</td>\n      <td>2.210000</td>\n      <td>17.200000</td>\n      <td>88.000000</td>\n      <td>1.742500</td>\n      <td>1.205000</td>\n      <td>0.270000</td>\n      <td>1.250000</td>\n      <td>3.220000</td>\n      <td>0.782500</td>\n      <td>1.937500</td>\n      <td>500.500000</td>\n      <td>1.000000</td>\n    </tr>\n    <tr>\n      <th>50%</th>\n      <td>13.050000</td>\n      <td>1.865000</td>\n      <td>2.360000</td>\n      <td>19.500000</td>\n      <td>98.000000</td>\n      <td>2.355000</td>\n      <td>2.135000</td>\n      <td>0.340000</td>\n      <td>1.555000</td>\n      <td>4.690000</td>\n      <td>0.965000</td>\n      <td>2.780000</td>\n      <td>673.500000</td>\n      <td>2.000000</td>\n    </tr>\n    <tr>\n      <th>75%</th>\n      <td>13.677500</td>\n      <td>3.082500</td>\n      <td>2.557500</td>\n      <td>21.500000</td>\n      <td>107.000000</td>\n      <td>2.800000</td>\n      <td>2.875000</td>\n      <td>0.437500</td>\n      <td>1.950000</td>\n      <td>6.200000</td>\n      <td>1.120000</td>\n      <td>3.170000</td>\n      <td>985.000000</td>\n      <td>3.000000</td>\n    </tr>\n    <tr>\n      <th>max</th>\n      <td>14.830000</td>\n      <td>5.800000</td>\n      <td>3.230000</td>\n      <td>30.000000</td>\n      <td>162.000000</td>\n      <td>3.880000</td>\n      <td>5.080000</td>\n      <td>0.660000</td>\n      <td>3.580000</td>\n      <td>13.000000</td>\n      <td>1.710000</td>\n      <td>4.000000</td>\n      <td>1680.000000</td>\n      <td>3.000000</td>\n    </tr>\n  </tbody>\n</table>\n</div>"
     },
     "metadata": {},
     "execution_count": 11
    }
   ],
   "source": [
    "df.describe()"
   ]
  },
  {
   "cell_type": "code",
   "execution_count": 12,
   "metadata": {},
   "outputs": [
    {
     "output_type": "execute_result",
     "data": {
      "text/plain": [
       "          Alcohol  Malic_Acid         Ash  Ash_Alcanity   Magnesium  \\\n",
       "count  178.000000  178.000000  178.000000    178.000000  178.000000   \n",
       "mean     0.518584    0.315484    0.538244      0.458502    0.323278   \n",
       "std      0.213639    0.220780    0.146708      0.172142    0.155244   \n",
       "min      0.000000    0.000000    0.000000      0.000000    0.000000   \n",
       "25%      0.350658    0.170455    0.454545      0.340206    0.195652   \n",
       "50%      0.531579    0.222332    0.534759      0.458763    0.304348   \n",
       "75%      0.696711    0.462945    0.640374      0.561856    0.402174   \n",
       "max      1.000000    1.000000    1.000000      1.000000    1.000000   \n",
       "\n",
       "       Total_Phenols  Flavanoids  Nonflavanoid_Phenols  Proanthocyanins  \\\n",
       "count     178.000000  178.000000            178.000000       178.000000   \n",
       "mean        0.453487    0.356386              0.437460         0.372523   \n",
       "std         0.215811    0.210730              0.234818         0.180555   \n",
       "min         0.000000    0.000000              0.000000         0.000000   \n",
       "25%         0.262931    0.182489              0.264151         0.264984   \n",
       "50%         0.474138    0.378692              0.396226         0.361199   \n",
       "75%         0.627586    0.534810              0.580189         0.485804   \n",
       "max         1.000000    1.000000              1.000000         1.000000   \n",
       "\n",
       "       Color_Intensity         Hue       OD280     Proline  Customer_Segment  \n",
       "count       178.000000  178.000000  178.000000  178.000000        178.000000  \n",
       "mean          0.322363    0.388170    0.491460    0.334446          0.469101  \n",
       "std           0.197806    0.185831    0.260070    0.224613          0.387517  \n",
       "min           0.000000    0.000000    0.000000    0.000000          0.000000  \n",
       "25%           0.165529    0.245935    0.244505    0.158702          0.000000  \n",
       "50%           0.290956    0.394309    0.553114    0.282097          0.500000  \n",
       "75%           0.419795    0.520325    0.695971    0.504280          1.000000  \n",
       "max           1.000000    1.000000    1.000000    1.000000          1.000000  "
      ],
      "text/html": "<div>\n<style scoped>\n    .dataframe tbody tr th:only-of-type {\n        vertical-align: middle;\n    }\n\n    .dataframe tbody tr th {\n        vertical-align: top;\n    }\n\n    .dataframe thead th {\n        text-align: right;\n    }\n</style>\n<table border=\"1\" class=\"dataframe\">\n  <thead>\n    <tr style=\"text-align: right;\">\n      <th></th>\n      <th>Alcohol</th>\n      <th>Malic_Acid</th>\n      <th>Ash</th>\n      <th>Ash_Alcanity</th>\n      <th>Magnesium</th>\n      <th>Total_Phenols</th>\n      <th>Flavanoids</th>\n      <th>Nonflavanoid_Phenols</th>\n      <th>Proanthocyanins</th>\n      <th>Color_Intensity</th>\n      <th>Hue</th>\n      <th>OD280</th>\n      <th>Proline</th>\n      <th>Customer_Segment</th>\n    </tr>\n  </thead>\n  <tbody>\n    <tr>\n      <th>count</th>\n      <td>178.000000</td>\n      <td>178.000000</td>\n      <td>178.000000</td>\n      <td>178.000000</td>\n      <td>178.000000</td>\n      <td>178.000000</td>\n      <td>178.000000</td>\n      <td>178.000000</td>\n      <td>178.000000</td>\n      <td>178.000000</td>\n      <td>178.000000</td>\n      <td>178.000000</td>\n      <td>178.000000</td>\n      <td>178.000000</td>\n    </tr>\n    <tr>\n      <th>mean</th>\n      <td>0.518584</td>\n      <td>0.315484</td>\n      <td>0.538244</td>\n      <td>0.458502</td>\n      <td>0.323278</td>\n      <td>0.453487</td>\n      <td>0.356386</td>\n      <td>0.437460</td>\n      <td>0.372523</td>\n      <td>0.322363</td>\n      <td>0.388170</td>\n      <td>0.491460</td>\n      <td>0.334446</td>\n      <td>0.469101</td>\n    </tr>\n    <tr>\n      <th>std</th>\n      <td>0.213639</td>\n      <td>0.220780</td>\n      <td>0.146708</td>\n      <td>0.172142</td>\n      <td>0.155244</td>\n      <td>0.215811</td>\n      <td>0.210730</td>\n      <td>0.234818</td>\n      <td>0.180555</td>\n      <td>0.197806</td>\n      <td>0.185831</td>\n      <td>0.260070</td>\n      <td>0.224613</td>\n      <td>0.387517</td>\n    </tr>\n    <tr>\n      <th>min</th>\n      <td>0.000000</td>\n      <td>0.000000</td>\n      <td>0.000000</td>\n      <td>0.000000</td>\n      <td>0.000000</td>\n      <td>0.000000</td>\n      <td>0.000000</td>\n      <td>0.000000</td>\n      <td>0.000000</td>\n      <td>0.000000</td>\n      <td>0.000000</td>\n      <td>0.000000</td>\n      <td>0.000000</td>\n      <td>0.000000</td>\n    </tr>\n    <tr>\n      <th>25%</th>\n      <td>0.350658</td>\n      <td>0.170455</td>\n      <td>0.454545</td>\n      <td>0.340206</td>\n      <td>0.195652</td>\n      <td>0.262931</td>\n      <td>0.182489</td>\n      <td>0.264151</td>\n      <td>0.264984</td>\n      <td>0.165529</td>\n      <td>0.245935</td>\n      <td>0.244505</td>\n      <td>0.158702</td>\n      <td>0.000000</td>\n    </tr>\n    <tr>\n      <th>50%</th>\n      <td>0.531579</td>\n      <td>0.222332</td>\n      <td>0.534759</td>\n      <td>0.458763</td>\n      <td>0.304348</td>\n      <td>0.474138</td>\n      <td>0.378692</td>\n      <td>0.396226</td>\n      <td>0.361199</td>\n      <td>0.290956</td>\n      <td>0.394309</td>\n      <td>0.553114</td>\n      <td>0.282097</td>\n      <td>0.500000</td>\n    </tr>\n    <tr>\n      <th>75%</th>\n      <td>0.696711</td>\n      <td>0.462945</td>\n      <td>0.640374</td>\n      <td>0.561856</td>\n      <td>0.402174</td>\n      <td>0.627586</td>\n      <td>0.534810</td>\n      <td>0.580189</td>\n      <td>0.485804</td>\n      <td>0.419795</td>\n      <td>0.520325</td>\n      <td>0.695971</td>\n      <td>0.504280</td>\n      <td>1.000000</td>\n    </tr>\n    <tr>\n      <th>max</th>\n      <td>1.000000</td>\n      <td>1.000000</td>\n      <td>1.000000</td>\n      <td>1.000000</td>\n      <td>1.000000</td>\n      <td>1.000000</td>\n      <td>1.000000</td>\n      <td>1.000000</td>\n      <td>1.000000</td>\n      <td>1.000000</td>\n      <td>1.000000</td>\n      <td>1.000000</td>\n      <td>1.000000</td>\n      <td>1.000000</td>\n    </tr>\n  </tbody>\n</table>\n</div>"
     },
     "metadata": {},
     "execution_count": 12
    }
   ],
   "source": [
    "from sklearn import preprocessing\n",
    "\n",
    "min_max_scaler = preprocessing.MinMaxScaler()\n",
    "np_df = min_max_scaler.fit_transform(df)\n",
    "df = pd.DataFrame(np_df, columns = columns)\n",
    "df.describe()"
   ]
  },
  {
   "cell_type": "code",
   "execution_count": 13,
   "metadata": {},
   "outputs": [
    {
     "output_type": "execute_result",
     "data": {
      "text/plain": [
       "          Alcohol  Malic_Acid         Ash  Ash_Alcanity   Magnesium  \\\n",
       "count  178.000000  178.000000  178.000000    178.000000  178.000000   \n",
       "mean    13.000618    2.336348    2.366517     19.494944   99.741573   \n",
       "std      0.811827    1.117146    0.274344      3.339564   14.282484   \n",
       "min     11.030000    0.740000    1.360000     10.600000   70.000000   \n",
       "25%     12.362500    1.602500    2.210000     17.200000   88.000000   \n",
       "50%     13.050000    1.865000    2.360000     19.500000   98.000000   \n",
       "75%     13.677500    3.082500    2.557500     21.500000  107.000000   \n",
       "max     14.830000    5.800000    3.230000     30.000000  162.000000   \n",
       "\n",
       "       Total_Phenols  Flavanoids  Nonflavanoid_Phenols  Proanthocyanins  \\\n",
       "count     178.000000  178.000000            178.000000       178.000000   \n",
       "mean        2.295112    2.029270              0.361854         1.590899   \n",
       "std         0.625851    0.998859              0.124453         0.572359   \n",
       "min         0.980000    0.340000              0.130000         0.410000   \n",
       "25%         1.742500    1.205000              0.270000         1.250000   \n",
       "50%         2.355000    2.135000              0.340000         1.555000   \n",
       "75%         2.800000    2.875000              0.437500         1.950000   \n",
       "max         3.880000    5.080000              0.660000         3.580000   \n",
       "\n",
       "       Color_Intensity         Hue       OD280      Proline  Customer_Segment  \n",
       "count       178.000000  178.000000  178.000000   178.000000        178.000000  \n",
       "mean          5.058090    0.957449    2.611685   746.893258          1.938202  \n",
       "std           2.318286    0.228572    0.709990   314.907474          0.775035  \n",
       "min           1.280000    0.480000    1.270000   278.000000          1.000000  \n",
       "25%           3.220000    0.782500    1.937500   500.500000          1.000000  \n",
       "50%           4.690000    0.965000    2.780000   673.500000          2.000000  \n",
       "75%           6.200000    1.120000    3.170000   985.000000          3.000000  \n",
       "max          13.000000    1.710000    4.000000  1680.000000          3.000000  "
      ],
      "text/html": "<div>\n<style scoped>\n    .dataframe tbody tr th:only-of-type {\n        vertical-align: middle;\n    }\n\n    .dataframe tbody tr th {\n        vertical-align: top;\n    }\n\n    .dataframe thead th {\n        text-align: right;\n    }\n</style>\n<table border=\"1\" class=\"dataframe\">\n  <thead>\n    <tr style=\"text-align: right;\">\n      <th></th>\n      <th>Alcohol</th>\n      <th>Malic_Acid</th>\n      <th>Ash</th>\n      <th>Ash_Alcanity</th>\n      <th>Magnesium</th>\n      <th>Total_Phenols</th>\n      <th>Flavanoids</th>\n      <th>Nonflavanoid_Phenols</th>\n      <th>Proanthocyanins</th>\n      <th>Color_Intensity</th>\n      <th>Hue</th>\n      <th>OD280</th>\n      <th>Proline</th>\n      <th>Customer_Segment</th>\n    </tr>\n  </thead>\n  <tbody>\n    <tr>\n      <th>count</th>\n      <td>178.000000</td>\n      <td>178.000000</td>\n      <td>178.000000</td>\n      <td>178.000000</td>\n      <td>178.000000</td>\n      <td>178.000000</td>\n      <td>178.000000</td>\n      <td>178.000000</td>\n      <td>178.000000</td>\n      <td>178.000000</td>\n      <td>178.000000</td>\n      <td>178.000000</td>\n      <td>178.000000</td>\n      <td>178.000000</td>\n    </tr>\n    <tr>\n      <th>mean</th>\n      <td>13.000618</td>\n      <td>2.336348</td>\n      <td>2.366517</td>\n      <td>19.494944</td>\n      <td>99.741573</td>\n      <td>2.295112</td>\n      <td>2.029270</td>\n      <td>0.361854</td>\n      <td>1.590899</td>\n      <td>5.058090</td>\n      <td>0.957449</td>\n      <td>2.611685</td>\n      <td>746.893258</td>\n      <td>1.938202</td>\n    </tr>\n    <tr>\n      <th>std</th>\n      <td>0.811827</td>\n      <td>1.117146</td>\n      <td>0.274344</td>\n      <td>3.339564</td>\n      <td>14.282484</td>\n      <td>0.625851</td>\n      <td>0.998859</td>\n      <td>0.124453</td>\n      <td>0.572359</td>\n      <td>2.318286</td>\n      <td>0.228572</td>\n      <td>0.709990</td>\n      <td>314.907474</td>\n      <td>0.775035</td>\n    </tr>\n    <tr>\n      <th>min</th>\n      <td>11.030000</td>\n      <td>0.740000</td>\n      <td>1.360000</td>\n      <td>10.600000</td>\n      <td>70.000000</td>\n      <td>0.980000</td>\n      <td>0.340000</td>\n      <td>0.130000</td>\n      <td>0.410000</td>\n      <td>1.280000</td>\n      <td>0.480000</td>\n      <td>1.270000</td>\n      <td>278.000000</td>\n      <td>1.000000</td>\n    </tr>\n    <tr>\n      <th>25%</th>\n      <td>12.362500</td>\n      <td>1.602500</td>\n      <td>2.210000</td>\n      <td>17.200000</td>\n      <td>88.000000</td>\n      <td>1.742500</td>\n      <td>1.205000</td>\n      <td>0.270000</td>\n      <td>1.250000</td>\n      <td>3.220000</td>\n      <td>0.782500</td>\n      <td>1.937500</td>\n      <td>500.500000</td>\n      <td>1.000000</td>\n    </tr>\n    <tr>\n      <th>50%</th>\n      <td>13.050000</td>\n      <td>1.865000</td>\n      <td>2.360000</td>\n      <td>19.500000</td>\n      <td>98.000000</td>\n      <td>2.355000</td>\n      <td>2.135000</td>\n      <td>0.340000</td>\n      <td>1.555000</td>\n      <td>4.690000</td>\n      <td>0.965000</td>\n      <td>2.780000</td>\n      <td>673.500000</td>\n      <td>2.000000</td>\n    </tr>\n    <tr>\n      <th>75%</th>\n      <td>13.677500</td>\n      <td>3.082500</td>\n      <td>2.557500</td>\n      <td>21.500000</td>\n      <td>107.000000</td>\n      <td>2.800000</td>\n      <td>2.875000</td>\n      <td>0.437500</td>\n      <td>1.950000</td>\n      <td>6.200000</td>\n      <td>1.120000</td>\n      <td>3.170000</td>\n      <td>985.000000</td>\n      <td>3.000000</td>\n    </tr>\n    <tr>\n      <th>max</th>\n      <td>14.830000</td>\n      <td>5.800000</td>\n      <td>3.230000</td>\n      <td>30.000000</td>\n      <td>162.000000</td>\n      <td>3.880000</td>\n      <td>5.080000</td>\n      <td>0.660000</td>\n      <td>3.580000</td>\n      <td>13.000000</td>\n      <td>1.710000</td>\n      <td>4.000000</td>\n      <td>1680.000000</td>\n      <td>3.000000</td>\n    </tr>\n  </tbody>\n</table>\n</div>"
     },
     "metadata": {},
     "execution_count": 13
    }
   ],
   "source": [
    "transformed_df_np = min_max_scaler.inverse_transform(df)\n",
    "non_normalized_values = pd.DataFrame(transformed_df_np, columns = columns)\n",
    "non_normalized_values.describe()"
   ]
  },
  {
   "cell_type": "code",
   "execution_count": 14,
   "metadata": {},
   "outputs": [
    {
     "output_type": "execute_result",
     "data": {
      "text/plain": [
       "KMeans(n_clusters=4)"
      ]
     },
     "metadata": {},
     "execution_count": 14
    }
   ],
   "source": [
    "from sklearn.cluster import KMeans\n",
    "\n",
    "grouper = KMeans(n_clusters = 4)\n",
    "\n",
    "grouper.fit(non_normalized_values)"
   ]
  },
  {
   "cell_type": "code",
   "execution_count": 15,
   "metadata": {},
   "outputs": [
    {
     "output_type": "stream",
     "name": "stdout",
     "text": [
      "[1 1 3 3 2 3 3 3 1 1 3 3 3 1 3 3 3 1 3 2 2 2 1 1 2 2 3 3 1 1 3 3 1 3 1 1 1\n 1 1 2 2 1 1 2 1 1 1 1 1 3 1 3 3 3 1 1 1 3 3 0 2 0 2 0 0 2 0 0 2 2 1 0 0 1\n 1 0 0 0 2 0 0 2 2 0 0 0 0 0 2 2 0 0 0 0 0 1 2 0 2 0 2 0 0 0 2 0 0 0 0 2 0\n 0 2 0 0 0 0 0 0 0 2 0 0 0 0 0 0 0 0 2 2 0 0 2 2 2 2 0 2 2 2 2 0 0 1 2 0 2\n 2 0 0 0 0 2 2 2 0 1 2 2 0 2 0 2 2 0 2 2 2 2 0 0 2 2 2 2 2 0]\n"
     ]
    }
   ],
   "source": [
    "labels = grouper.labels_\n",
    "print(labels)"
   ]
  },
  {
   "cell_type": "code",
   "execution_count": 16,
   "metadata": {},
   "outputs": [
    {
     "output_type": "display_data",
     "data": {
      "application/vnd.plotly.v1+json": {
       "config": {
        "plotlyServerURL": "https://plot.ly"
       },
       "data": [
        {
         "marker": {
          "color": [
           1,
           1,
           3,
           3,
           2,
           3,
           3,
           3,
           1,
           1,
           3,
           3,
           3,
           1,
           3,
           3,
           3,
           1,
           3,
           2,
           2,
           2,
           1,
           1,
           2,
           2,
           3,
           3,
           1,
           1,
           3,
           3,
           1,
           3,
           1,
           1,
           1,
           1,
           1,
           2,
           2,
           1,
           1,
           2,
           1,
           1,
           1,
           1,
           1,
           3,
           1,
           3,
           3,
           3,
           1,
           1,
           1,
           3,
           3,
           0,
           2,
           0,
           2,
           0,
           0,
           2,
           0,
           0,
           2,
           2,
           1,
           0,
           0,
           1,
           1,
           0,
           0,
           0,
           2,
           0,
           0,
           2,
           2,
           0,
           0,
           0,
           0,
           0,
           2,
           2,
           0,
           0,
           0,
           0,
           0,
           1,
           2,
           0,
           2,
           0,
           2,
           0,
           0,
           0,
           2,
           0,
           0,
           0,
           0,
           2,
           0,
           0,
           2,
           0,
           0,
           0,
           0,
           0,
           0,
           0,
           2,
           0,
           0,
           0,
           0,
           0,
           0,
           0,
           0,
           2,
           2,
           0,
           0,
           2,
           2,
           2,
           2,
           0,
           2,
           2,
           2,
           2,
           0,
           0,
           1,
           2,
           0,
           2,
           2,
           0,
           0,
           0,
           0,
           2,
           2,
           2,
           0,
           1,
           2,
           2,
           0,
           2,
           0,
           2,
           2,
           0,
           2,
           2,
           2,
           2,
           0,
           0,
           2,
           2,
           2,
           2,
           2,
           0
          ]
         },
         "mode": "markers",
         "text": [
          1,
          1,
          3,
          3,
          2,
          3,
          3,
          3,
          1,
          1,
          3,
          3,
          3,
          1,
          3,
          3,
          3,
          1,
          3,
          2,
          2,
          2,
          1,
          1,
          2,
          2,
          3,
          3,
          1,
          1,
          3,
          3,
          1,
          3,
          1,
          1,
          1,
          1,
          1,
          2,
          2,
          1,
          1,
          2,
          1,
          1,
          1,
          1,
          1,
          3,
          1,
          3,
          3,
          3,
          1,
          1,
          1,
          3,
          3,
          0,
          2,
          0,
          2,
          0,
          0,
          2,
          0,
          0,
          2,
          2,
          1,
          0,
          0,
          1,
          1,
          0,
          0,
          0,
          2,
          0,
          0,
          2,
          2,
          0,
          0,
          0,
          0,
          0,
          2,
          2,
          0,
          0,
          0,
          0,
          0,
          1,
          2,
          0,
          2,
          0,
          2,
          0,
          0,
          0,
          2,
          0,
          0,
          0,
          0,
          2,
          0,
          0,
          2,
          0,
          0,
          0,
          0,
          0,
          0,
          0,
          2,
          0,
          0,
          0,
          0,
          0,
          0,
          0,
          0,
          2,
          2,
          0,
          0,
          2,
          2,
          2,
          2,
          0,
          2,
          2,
          2,
          2,
          0,
          0,
          1,
          2,
          0,
          2,
          2,
          0,
          0,
          0,
          0,
          2,
          2,
          2,
          0,
          1,
          2,
          2,
          0,
          2,
          0,
          2,
          2,
          0,
          2,
          2,
          2,
          2,
          0,
          0,
          2,
          2,
          2,
          2,
          2,
          0
         ],
         "type": "scatter",
         "x": [
          0.3720136518771331,
          0.26450511945392485,
          0.3754266211604095,
          0.5563139931740614,
          0.2593856655290102,
          0.4667235494880546,
          0.3387372013651877,
          0.3216723549488054,
          0.33447098976109213,
          0.5068259385665529,
          0.3813993174061433,
          0.31740614334470985,
          0.3686006825938566,
          0.3515358361774744,
          0.5307167235494881,
          0.5136518771331058,
          0.41979522184300344,
          0.4539249146757679,
          0.6331058020477814,
          0.325938566552901,
          0.37286689419795227,
          0.27474402730375425,
          0.21501706484641633,
          0.22610921501706485,
          0.1911262798634812,
          0.1962457337883959,
          0.30034129692832756,
          0.22781569965870305,
          0.27474402730375425,
          0.29180887372013653,
          0.37713310580204773,
          0.4795221843003413,
          0.21843003412969278,
          0.3515358361774744,
          0.2491467576791809,
          0.325938566552901,
          0.2832764505119454,
          0.2534129692832764,
          0.20648464163822525,
          0.325938566552901,
          0.4138225255972696,
          0.2559726962457338,
          0.35409556313993173,
          0.2627986348122867,
          0.32081911262798635,
          0.33788395904436863,
          0.3088737201365188,
          0.4112627986348123,
          0.41979522184300344,
          0.6501706484641638,
          0.5051194539249146,
          0.3686006825938566,
          0.4923208191126279,
          0.42832764505119447,
          0.38993174061433444,
          0.424061433447099,
          0.4351535836177475,
          0.40273037542662116,
          0.4709897610921502,
          0.057167235494880536,
          0.1697952218430034,
          0.3813993174061433,
          0.21501706484641633,
          0.2704778156996587,
          0.1424914675767918,
          0.2832764505119454,
          0.3430034129692833,
          0.2901023890784983,
          0.16126279863481227,
          0.13395904436860068,
          0.15102389078498293,
          0.17918088737201363,
          0.2098976109215017,
          0.1766211604095563,
          0.16467576791808872,
          0.21501706484641633,
          0.2832764505119454,
          0.11689419795221842,
          0.18088737201365188,
          0.1100682593856655,
          0.10409556313993173,
          0.22354948805460748,
          0.07849829351535836,
          0.30034129692832756,
          0.15102389078498293,
          0.1143344709897611,
          0.09982935153583619,
          0.11262798634812288,
          0.1296928327645051,
          0.03924914675767918,
          0.09556313993174059,
          0.1979522184300341,
          0.15102389078498293,
          0.07423208191126279,
          0.16808873720136516,
          0.11262798634812288,
          0.10409556313993173,
          0.13822525597269622,
          0.27474402730375425,
          0.08703071672354948,
          0.17235494880546073,
          0.09982935153583619,
          0.1296928327645051,
          0.06655290102389078,
          0.14163822525597267,
          0.12116040955631399,
          0.18088737201365188,
          0.17235494880546073,
          0.12116040955631399,
          0.11689419795221842,
          0.13822525597269622,
          0.06143344709897611,
          0.21501706484641633,
          0.15358361774744025,
          0.13822525597269622,
          0.052901023890784965,
          0.057167235494880536,
          0.06655290102389078,
          0.18088737201365188,
          0,
          0.16808873720136516,
          0.40273037542662116,
          0.06825938566552903,
          0.11262798634812288,
          0.1296928327645051,
          0.12627986348122863,
          0.22696245733788392,
          0.14675767918088736,
          0.07167235494880547,
          0.11262798634812288,
          0.2406143344709897,
          0.3515358361774744,
          0.37713310580204773,
          0.31740614334470985,
          0.35580204778157,
          0.4965870307167235,
          0.21928327645051196,
          0.31740614334470985,
          0.37713310580204773,
          0.31058020477815695,
          0.2832764505119454,
          0.3686006825938566,
          0.26194539249146753,
          0.2662116040955631,
          0.5912969283276451,
          0.23208191126279862,
          0.3088737201365188,
          0.5435153583617748,
          0.6092150170648464,
          0.6928327645051194,
          0.6245733788395904,
          0.8122866894197952,
          0.4965870307167235,
          0.78839590443686,
          0.5392491467576791,
          0.5648464163822525,
          0.659556313993174,
          0.5307167235494881,
          0.9999999999999999,
          0.893344709897611,
          0.5435153583617748,
          0.39249146757679176,
          0.36689419795221845,
          0.341296928327645,
          0.7081911262798635,
          0.45563139931740615,
          0.8020477815699658,
          0.7662116040955631,
          0.6296928327645052,
          0.6160409556313993,
          0.36006825938566556,
          0.735494795221843,
          0.7184300341296928,
          0.5477815699658704,
          0.5136518771331058,
          0.7610921501706484,
          0.6843003412969284,
          0.6757679180887372
         ],
         "y": [
          0.8421052631578951,
          0.5710526315789473,
          0.560526315789474,
          0.8789473684210525,
          0.5815789473684214,
          0.8342105263157893,
          0.8842105263157896,
          0.797368421052632,
          1,
          0.7447368421052629,
          0.8078947368421052,
          0.8131578947368419,
          0.7157894736842105,
          0.9789473684210526,
          0.8815789473684212,
          0.6842105263157898,
          0.8605263157894738,
          0.736842105263158,
          0.831578947368421,
          0.6868421052631581,
          0.797368421052632,
          0.5,
          0.7052631578947373,
          0.47894736842105257,
          0.6499999999999999,
          0.5315789473684216,
          0.6210526315789475,
          0.5973684210526318,
          0.7473684210526317,
          0.7868421052631578,
          0.7105263157894739,
          0.6710526315789473,
          0.6973684210526314,
          0.7184210526315788,
          0.6526315789473687,
          0.6447368421052633,
          0.5921052631578947,
          0.5315789473684216,
          0.5368421052631582,
          0.8394736842105264,
          0.6657894736842107,
          0.6263157894736846,
          0.7500000000000004,
          0.5815789473684214,
          0.5315789473684216,
          0.836842105263158,
          0.8815789473684212,
          0.7552631578947371,
          0.8078947368421052,
          0.7657894736842104,
          0.5315789473684216,
          0.736842105263158,
          0.7342105263157896,
          0.7210526315789472,
          0.7131578947368422,
          0.6657894736842107,
          0.8394736842105264,
          0.594736842105263,
          0.7078947368421056,
          0.3526315789473684,
          0.34210526315789513,
          0.4236842105263161,
          0.6947368421052631,
          0.3526315789473684,
          0.30000000000000027,
          0.3526315789473684,
          0.5473684210526315,
          0.3526315789473684,
          0.6078947368421055,
          0.310526315789474,
          0.331578947368421,
          0.7447368421052629,
          0.6473684210526316,
          0.5157894736842108,
          0.2447368421052638,
          0.1657894736842107,
          0.5263157894736841,
          0.2131578947368422,
          0.34210526315789513,
          0.43947368421052646,
          0.2552631578947371,
          0.44473684210526354,
          0.2763157894736845,
          0.5315789473684216,
          0.2131578947368422,
          0.43157894736842106,
          0.29736842105263195,
          0.1631578947368424,
          0.16052631578947407,
          0.2763157894736845,
          0.2763157894736845,
          0.2552631578947371,
          0.43684210526315814,
          0.331578947368421,
          0.155263157894737,
          0.3789473684210529,
          0.20526315789473726,
          0.331578947368421,
          0.3526315789473684,
          0.331578947368421,
          0.2763157894736845,
          0.4131578947368424,
          0.34473684210526345,
          0.20789473684210558,
          0.38947368421052664,
          0.3657894736842109,
          0.3210526315789477,
          0.44473684210526354,
          0.3131578947368423,
          0.15263157894736867,
          0.11315789473684257,
          0.39210526315789496,
          0.19210526315789478,
          0.10000000000000053,
          0.2763157894736845,
          0,
          0.20789473684210558,
          0.3657894736842109,
          0.45789473684210513,
          0.2552631578947371,
          0.1105263157894738,
          0.13947368421052664,
          0.3657894736842109,
          0.5315789473684216,
          0.2210526315789476,
          0.2736842105263162,
          0.3684210526315792,
          0.20000000000000018,
          0.3526315789473684,
          0.26578947368421035,
          0.4815789473684209,
          0.4868421052631584,
          0.4684210526315793,
          0.43947368421052646,
          0.38947368421052664,
          0.4131578947368424,
          0.3210526315789477,
          0.3947368421052633,
          0.6473684210526316,
          0.47631578947368425,
          0.5,
          0.6131578947368421,
          0.655263157894737,
          0.6815789473684211,
          0.3210526315789477,
          0.560526315789474,
          0.7500000000000004,
          0.48421052631578965,
          0.6026315789473689,
          0.5394736842105265,
          0.6499999999999999,
          0.4631578947368422,
          0.5473684210526315,
          0.5789473684210531,
          0.4078947368421053,
          0.5631578947368423,
          0.7394736842105263,
          0.37368421052631584,
          0.8710526315789475,
          0.6447368421052633,
          0.3500000000000001,
          0.7000000000000002,
          0.47894736842105257,
          0.5078947368421058,
          0.7236842105263159,
          0.7105263157894739,
          0.6368421052631579,
          0.4710526315789476,
          0.6710526315789473,
          0.6236842105263158,
          0.3078947368421052,
          0.45789473684210513,
          0.823684210526316,
          0.7052631578947373,
          0.6236842105263158,
          0.5894736842105264,
          0.5631578947368423,
          0.8157894736842106
         ]
        }
       ],
       "layout": {
        "template": {
         "data": {
          "bar": [
           {
            "error_x": {
             "color": "#2a3f5f"
            },
            "error_y": {
             "color": "#2a3f5f"
            },
            "marker": {
             "line": {
              "color": "#E5ECF6",
              "width": 0.5
             }
            },
            "type": "bar"
           }
          ],
          "barpolar": [
           {
            "marker": {
             "line": {
              "color": "#E5ECF6",
              "width": 0.5
             }
            },
            "type": "barpolar"
           }
          ],
          "carpet": [
           {
            "aaxis": {
             "endlinecolor": "#2a3f5f",
             "gridcolor": "white",
             "linecolor": "white",
             "minorgridcolor": "white",
             "startlinecolor": "#2a3f5f"
            },
            "baxis": {
             "endlinecolor": "#2a3f5f",
             "gridcolor": "white",
             "linecolor": "white",
             "minorgridcolor": "white",
             "startlinecolor": "#2a3f5f"
            },
            "type": "carpet"
           }
          ],
          "choropleth": [
           {
            "colorbar": {
             "outlinewidth": 0,
             "ticks": ""
            },
            "type": "choropleth"
           }
          ],
          "contour": [
           {
            "colorbar": {
             "outlinewidth": 0,
             "ticks": ""
            },
            "colorscale": [
             [
              0,
              "#0d0887"
             ],
             [
              0.1111111111111111,
              "#46039f"
             ],
             [
              0.2222222222222222,
              "#7201a8"
             ],
             [
              0.3333333333333333,
              "#9c179e"
             ],
             [
              0.4444444444444444,
              "#bd3786"
             ],
             [
              0.5555555555555556,
              "#d8576b"
             ],
             [
              0.6666666666666666,
              "#ed7953"
             ],
             [
              0.7777777777777778,
              "#fb9f3a"
             ],
             [
              0.8888888888888888,
              "#fdca26"
             ],
             [
              1,
              "#f0f921"
             ]
            ],
            "type": "contour"
           }
          ],
          "contourcarpet": [
           {
            "colorbar": {
             "outlinewidth": 0,
             "ticks": ""
            },
            "type": "contourcarpet"
           }
          ],
          "heatmap": [
           {
            "colorbar": {
             "outlinewidth": 0,
             "ticks": ""
            },
            "colorscale": [
             [
              0,
              "#0d0887"
             ],
             [
              0.1111111111111111,
              "#46039f"
             ],
             [
              0.2222222222222222,
              "#7201a8"
             ],
             [
              0.3333333333333333,
              "#9c179e"
             ],
             [
              0.4444444444444444,
              "#bd3786"
             ],
             [
              0.5555555555555556,
              "#d8576b"
             ],
             [
              0.6666666666666666,
              "#ed7953"
             ],
             [
              0.7777777777777778,
              "#fb9f3a"
             ],
             [
              0.8888888888888888,
              "#fdca26"
             ],
             [
              1,
              "#f0f921"
             ]
            ],
            "type": "heatmap"
           }
          ],
          "heatmapgl": [
           {
            "colorbar": {
             "outlinewidth": 0,
             "ticks": ""
            },
            "colorscale": [
             [
              0,
              "#0d0887"
             ],
             [
              0.1111111111111111,
              "#46039f"
             ],
             [
              0.2222222222222222,
              "#7201a8"
             ],
             [
              0.3333333333333333,
              "#9c179e"
             ],
             [
              0.4444444444444444,
              "#bd3786"
             ],
             [
              0.5555555555555556,
              "#d8576b"
             ],
             [
              0.6666666666666666,
              "#ed7953"
             ],
             [
              0.7777777777777778,
              "#fb9f3a"
             ],
             [
              0.8888888888888888,
              "#fdca26"
             ],
             [
              1,
              "#f0f921"
             ]
            ],
            "type": "heatmapgl"
           }
          ],
          "histogram": [
           {
            "marker": {
             "colorbar": {
              "outlinewidth": 0,
              "ticks": ""
             }
            },
            "type": "histogram"
           }
          ],
          "histogram2d": [
           {
            "colorbar": {
             "outlinewidth": 0,
             "ticks": ""
            },
            "colorscale": [
             [
              0,
              "#0d0887"
             ],
             [
              0.1111111111111111,
              "#46039f"
             ],
             [
              0.2222222222222222,
              "#7201a8"
             ],
             [
              0.3333333333333333,
              "#9c179e"
             ],
             [
              0.4444444444444444,
              "#bd3786"
             ],
             [
              0.5555555555555556,
              "#d8576b"
             ],
             [
              0.6666666666666666,
              "#ed7953"
             ],
             [
              0.7777777777777778,
              "#fb9f3a"
             ],
             [
              0.8888888888888888,
              "#fdca26"
             ],
             [
              1,
              "#f0f921"
             ]
            ],
            "type": "histogram2d"
           }
          ],
          "histogram2dcontour": [
           {
            "colorbar": {
             "outlinewidth": 0,
             "ticks": ""
            },
            "colorscale": [
             [
              0,
              "#0d0887"
             ],
             [
              0.1111111111111111,
              "#46039f"
             ],
             [
              0.2222222222222222,
              "#7201a8"
             ],
             [
              0.3333333333333333,
              "#9c179e"
             ],
             [
              0.4444444444444444,
              "#bd3786"
             ],
             [
              0.5555555555555556,
              "#d8576b"
             ],
             [
              0.6666666666666666,
              "#ed7953"
             ],
             [
              0.7777777777777778,
              "#fb9f3a"
             ],
             [
              0.8888888888888888,
              "#fdca26"
             ],
             [
              1,
              "#f0f921"
             ]
            ],
            "type": "histogram2dcontour"
           }
          ],
          "mesh3d": [
           {
            "colorbar": {
             "outlinewidth": 0,
             "ticks": ""
            },
            "type": "mesh3d"
           }
          ],
          "parcoords": [
           {
            "line": {
             "colorbar": {
              "outlinewidth": 0,
              "ticks": ""
             }
            },
            "type": "parcoords"
           }
          ],
          "pie": [
           {
            "automargin": true,
            "type": "pie"
           }
          ],
          "scatter": [
           {
            "marker": {
             "colorbar": {
              "outlinewidth": 0,
              "ticks": ""
             }
            },
            "type": "scatter"
           }
          ],
          "scatter3d": [
           {
            "line": {
             "colorbar": {
              "outlinewidth": 0,
              "ticks": ""
             }
            },
            "marker": {
             "colorbar": {
              "outlinewidth": 0,
              "ticks": ""
             }
            },
            "type": "scatter3d"
           }
          ],
          "scattercarpet": [
           {
            "marker": {
             "colorbar": {
              "outlinewidth": 0,
              "ticks": ""
             }
            },
            "type": "scattercarpet"
           }
          ],
          "scattergeo": [
           {
            "marker": {
             "colorbar": {
              "outlinewidth": 0,
              "ticks": ""
             }
            },
            "type": "scattergeo"
           }
          ],
          "scattergl": [
           {
            "marker": {
             "colorbar": {
              "outlinewidth": 0,
              "ticks": ""
             }
            },
            "type": "scattergl"
           }
          ],
          "scattermapbox": [
           {
            "marker": {
             "colorbar": {
              "outlinewidth": 0,
              "ticks": ""
             }
            },
            "type": "scattermapbox"
           }
          ],
          "scatterpolar": [
           {
            "marker": {
             "colorbar": {
              "outlinewidth": 0,
              "ticks": ""
             }
            },
            "type": "scatterpolar"
           }
          ],
          "scatterpolargl": [
           {
            "marker": {
             "colorbar": {
              "outlinewidth": 0,
              "ticks": ""
             }
            },
            "type": "scatterpolargl"
           }
          ],
          "scatterternary": [
           {
            "marker": {
             "colorbar": {
              "outlinewidth": 0,
              "ticks": ""
             }
            },
            "type": "scatterternary"
           }
          ],
          "surface": [
           {
            "colorbar": {
             "outlinewidth": 0,
             "ticks": ""
            },
            "colorscale": [
             [
              0,
              "#0d0887"
             ],
             [
              0.1111111111111111,
              "#46039f"
             ],
             [
              0.2222222222222222,
              "#7201a8"
             ],
             [
              0.3333333333333333,
              "#9c179e"
             ],
             [
              0.4444444444444444,
              "#bd3786"
             ],
             [
              0.5555555555555556,
              "#d8576b"
             ],
             [
              0.6666666666666666,
              "#ed7953"
             ],
             [
              0.7777777777777778,
              "#fb9f3a"
             ],
             [
              0.8888888888888888,
              "#fdca26"
             ],
             [
              1,
              "#f0f921"
             ]
            ],
            "type": "surface"
           }
          ],
          "table": [
           {
            "cells": {
             "fill": {
              "color": "#EBF0F8"
             },
             "line": {
              "color": "white"
             }
            },
            "header": {
             "fill": {
              "color": "#C8D4E3"
             },
             "line": {
              "color": "white"
             }
            },
            "type": "table"
           }
          ]
         },
         "layout": {
          "annotationdefaults": {
           "arrowcolor": "#2a3f5f",
           "arrowhead": 0,
           "arrowwidth": 1
          },
          "autotypenumbers": "strict",
          "coloraxis": {
           "colorbar": {
            "outlinewidth": 0,
            "ticks": ""
           }
          },
          "colorscale": {
           "diverging": [
            [
             0,
             "#8e0152"
            ],
            [
             0.1,
             "#c51b7d"
            ],
            [
             0.2,
             "#de77ae"
            ],
            [
             0.3,
             "#f1b6da"
            ],
            [
             0.4,
             "#fde0ef"
            ],
            [
             0.5,
             "#f7f7f7"
            ],
            [
             0.6,
             "#e6f5d0"
            ],
            [
             0.7,
             "#b8e186"
            ],
            [
             0.8,
             "#7fbc41"
            ],
            [
             0.9,
             "#4d9221"
            ],
            [
             1,
             "#276419"
            ]
           ],
           "sequential": [
            [
             0,
             "#0d0887"
            ],
            [
             0.1111111111111111,
             "#46039f"
            ],
            [
             0.2222222222222222,
             "#7201a8"
            ],
            [
             0.3333333333333333,
             "#9c179e"
            ],
            [
             0.4444444444444444,
             "#bd3786"
            ],
            [
             0.5555555555555556,
             "#d8576b"
            ],
            [
             0.6666666666666666,
             "#ed7953"
            ],
            [
             0.7777777777777778,
             "#fb9f3a"
            ],
            [
             0.8888888888888888,
             "#fdca26"
            ],
            [
             1,
             "#f0f921"
            ]
           ],
           "sequentialminus": [
            [
             0,
             "#0d0887"
            ],
            [
             0.1111111111111111,
             "#46039f"
            ],
            [
             0.2222222222222222,
             "#7201a8"
            ],
            [
             0.3333333333333333,
             "#9c179e"
            ],
            [
             0.4444444444444444,
             "#bd3786"
            ],
            [
             0.5555555555555556,
             "#d8576b"
            ],
            [
             0.6666666666666666,
             "#ed7953"
            ],
            [
             0.7777777777777778,
             "#fb9f3a"
            ],
            [
             0.8888888888888888,
             "#fdca26"
            ],
            [
             1,
             "#f0f921"
            ]
           ]
          },
          "colorway": [
           "#636efa",
           "#EF553B",
           "#00cc96",
           "#ab63fa",
           "#FFA15A",
           "#19d3f3",
           "#FF6692",
           "#B6E880",
           "#FF97FF",
           "#FECB52"
          ],
          "font": {
           "color": "#2a3f5f"
          },
          "geo": {
           "bgcolor": "white",
           "lakecolor": "white",
           "landcolor": "#E5ECF6",
           "showlakes": true,
           "showland": true,
           "subunitcolor": "white"
          },
          "hoverlabel": {
           "align": "left"
          },
          "hovermode": "closest",
          "mapbox": {
           "style": "light"
          },
          "paper_bgcolor": "white",
          "plot_bgcolor": "#E5ECF6",
          "polar": {
           "angularaxis": {
            "gridcolor": "white",
            "linecolor": "white",
            "ticks": ""
           },
           "bgcolor": "#E5ECF6",
           "radialaxis": {
            "gridcolor": "white",
            "linecolor": "white",
            "ticks": ""
           }
          },
          "scene": {
           "xaxis": {
            "backgroundcolor": "#E5ECF6",
            "gridcolor": "white",
            "gridwidth": 2,
            "linecolor": "white",
            "showbackground": true,
            "ticks": "",
            "zerolinecolor": "white"
           },
           "yaxis": {
            "backgroundcolor": "#E5ECF6",
            "gridcolor": "white",
            "gridwidth": 2,
            "linecolor": "white",
            "showbackground": true,
            "ticks": "",
            "zerolinecolor": "white"
           },
           "zaxis": {
            "backgroundcolor": "#E5ECF6",
            "gridcolor": "white",
            "gridwidth": 2,
            "linecolor": "white",
            "showbackground": true,
            "ticks": "",
            "zerolinecolor": "white"
           }
          },
          "shapedefaults": {
           "line": {
            "color": "#2a3f5f"
           }
          },
          "ternary": {
           "aaxis": {
            "gridcolor": "white",
            "linecolor": "white",
            "ticks": ""
           },
           "baxis": {
            "gridcolor": "white",
            "linecolor": "white",
            "ticks": ""
           },
           "bgcolor": "#E5ECF6",
           "caxis": {
            "gridcolor": "white",
            "linecolor": "white",
            "ticks": ""
           }
          },
          "title": {
           "x": 0.05
          },
          "xaxis": {
           "automargin": true,
           "gridcolor": "white",
           "linecolor": "white",
           "ticks": "",
           "title": {
            "standoff": 15
           },
           "zerolinecolor": "white",
           "zerolinewidth": 2
          },
          "yaxis": {
           "automargin": true,
           "gridcolor": "white",
           "linecolor": "white",
           "ticks": "",
           "title": {
            "standoff": 15
           },
           "zerolinecolor": "white",
           "zerolinewidth": 2
          }
         }
        }
       }
      }
     },
     "metadata": {}
    }
   ],
   "source": [
    "fig = go.Figure()\n",
    "fig.add_trace(go.Scatter(x = df['Color_Intensity'], y=df['Alcohol'],\n",
    "                         mode = 'markers',\n",
    "                         marker = dict(color = grouper.labels_.astype(np.float)),\n",
    "                         text = labels))\n",
    "fig.show()                         "
   ]
  },
  {
   "cell_type": "code",
   "execution_count": 17,
   "metadata": {},
   "outputs": [
    {
     "output_type": "stream",
     "name": "stdout",
     "text": [
      "[1 1 1 1 1 1 1 1 1 1 1 1 1 1 1 1 1 1 1 1 1 1 1 1 1 1 1 1 1 1 1 1 1 1 1 1 1\n 1 1 1 1 1 1 1 1 1 1 1 1 1 1 1 1 1 1 1 1 1 1 2 2 2 2 2 2 2 2 2 2 2 2 2 2 1\n 2 2 2 2 2 2 2 2 2 0 2 2 2 2 2 2 2 2 2 2 2 2 2 2 2 2 2 2 2 2 2 2 2 2 2 2 2\n 2 2 2 2 2 2 2 2 2 2 2 2 2 2 2 2 2 2 2 0 0 0 0 0 0 0 0 0 0 0 0 0 0 0 0 0 0\n 0 0 0 0 0 0 0 0 0 0 0 0 0 0 0 0 0 0 0 0 0 0 0 0 0 0 0 0 0 0]\n"
     ]
    }
   ],
   "source": [
    "grouper = KMeans(n_clusters=3)\n",
    "grouper.fit(df)\n",
    "labels = grouper.labels_\n",
    "print(labels)"
   ]
  },
  {
   "cell_type": "code",
   "execution_count": 18,
   "metadata": {},
   "outputs": [
    {
     "output_type": "display_data",
     "data": {
      "application/vnd.plotly.v1+json": {
       "config": {
        "plotlyServerURL": "https://plot.ly"
       },
       "data": [
        {
         "marker": {
          "color": [
           1,
           1,
           1,
           1,
           1,
           1,
           1,
           1,
           1,
           1,
           1,
           1,
           1,
           1,
           1,
           1,
           1,
           1,
           1,
           1,
           1,
           1,
           1,
           1,
           1,
           1,
           1,
           1,
           1,
           1,
           1,
           1,
           1,
           1,
           1,
           1,
           1,
           1,
           1,
           1,
           1,
           1,
           1,
           1,
           1,
           1,
           1,
           1,
           1,
           1,
           1,
           1,
           1,
           1,
           1,
           1,
           1,
           1,
           1,
           2,
           2,
           2,
           2,
           2,
           2,
           2,
           2,
           2,
           2,
           2,
           2,
           2,
           2,
           1,
           2,
           2,
           2,
           2,
           2,
           2,
           2,
           2,
           2,
           0,
           2,
           2,
           2,
           2,
           2,
           2,
           2,
           2,
           2,
           2,
           2,
           2,
           2,
           2,
           2,
           2,
           2,
           2,
           2,
           2,
           2,
           2,
           2,
           2,
           2,
           2,
           2,
           2,
           2,
           2,
           2,
           2,
           2,
           2,
           2,
           2,
           2,
           2,
           2,
           2,
           2,
           2,
           2,
           2,
           2,
           2,
           0,
           0,
           0,
           0,
           0,
           0,
           0,
           0,
           0,
           0,
           0,
           0,
           0,
           0,
           0,
           0,
           0,
           0,
           0,
           0,
           0,
           0,
           0,
           0,
           0,
           0,
           0,
           0,
           0,
           0,
           0,
           0,
           0,
           0,
           0,
           0,
           0,
           0,
           0,
           0,
           0,
           0,
           0,
           0,
           0,
           0,
           0,
           0
          ]
         },
         "mode": "markers",
         "text": [
          1,
          1,
          1,
          1,
          1,
          1,
          1,
          1,
          1,
          1,
          1,
          1,
          1,
          1,
          1,
          1,
          1,
          1,
          1,
          1,
          1,
          1,
          1,
          1,
          1,
          1,
          1,
          1,
          1,
          1,
          1,
          1,
          1,
          1,
          1,
          1,
          1,
          1,
          1,
          1,
          1,
          1,
          1,
          1,
          1,
          1,
          1,
          1,
          1,
          1,
          1,
          1,
          1,
          1,
          1,
          1,
          1,
          1,
          1,
          2,
          2,
          2,
          2,
          2,
          2,
          2,
          2,
          2,
          2,
          2,
          2,
          2,
          2,
          1,
          2,
          2,
          2,
          2,
          2,
          2,
          2,
          2,
          2,
          0,
          2,
          2,
          2,
          2,
          2,
          2,
          2,
          2,
          2,
          2,
          2,
          2,
          2,
          2,
          2,
          2,
          2,
          2,
          2,
          2,
          2,
          2,
          2,
          2,
          2,
          2,
          2,
          2,
          2,
          2,
          2,
          2,
          2,
          2,
          2,
          2,
          2,
          2,
          2,
          2,
          2,
          2,
          2,
          2,
          2,
          2,
          0,
          0,
          0,
          0,
          0,
          0,
          0,
          0,
          0,
          0,
          0,
          0,
          0,
          0,
          0,
          0,
          0,
          0,
          0,
          0,
          0,
          0,
          0,
          0,
          0,
          0,
          0,
          0,
          0,
          0,
          0,
          0,
          0,
          0,
          0,
          0,
          0,
          0,
          0,
          0,
          0,
          0,
          0,
          0,
          0,
          0,
          0,
          0
         ],
         "type": "scatter",
         "x": [
          0.3720136518771331,
          0.26450511945392485,
          0.3754266211604095,
          0.5563139931740614,
          0.2593856655290102,
          0.4667235494880546,
          0.3387372013651877,
          0.3216723549488054,
          0.33447098976109213,
          0.5068259385665529,
          0.3813993174061433,
          0.31740614334470985,
          0.3686006825938566,
          0.3515358361774744,
          0.5307167235494881,
          0.5136518771331058,
          0.41979522184300344,
          0.4539249146757679,
          0.6331058020477814,
          0.325938566552901,
          0.37286689419795227,
          0.27474402730375425,
          0.21501706484641633,
          0.22610921501706485,
          0.1911262798634812,
          0.1962457337883959,
          0.30034129692832756,
          0.22781569965870305,
          0.27474402730375425,
          0.29180887372013653,
          0.37713310580204773,
          0.4795221843003413,
          0.21843003412969278,
          0.3515358361774744,
          0.2491467576791809,
          0.325938566552901,
          0.2832764505119454,
          0.2534129692832764,
          0.20648464163822525,
          0.325938566552901,
          0.4138225255972696,
          0.2559726962457338,
          0.35409556313993173,
          0.2627986348122867,
          0.32081911262798635,
          0.33788395904436863,
          0.3088737201365188,
          0.4112627986348123,
          0.41979522184300344,
          0.6501706484641638,
          0.5051194539249146,
          0.3686006825938566,
          0.4923208191126279,
          0.42832764505119447,
          0.38993174061433444,
          0.424061433447099,
          0.4351535836177475,
          0.40273037542662116,
          0.4709897610921502,
          0.057167235494880536,
          0.1697952218430034,
          0.3813993174061433,
          0.21501706484641633,
          0.2704778156996587,
          0.1424914675767918,
          0.2832764505119454,
          0.3430034129692833,
          0.2901023890784983,
          0.16126279863481227,
          0.13395904436860068,
          0.15102389078498293,
          0.17918088737201363,
          0.2098976109215017,
          0.1766211604095563,
          0.16467576791808872,
          0.21501706484641633,
          0.2832764505119454,
          0.11689419795221842,
          0.18088737201365188,
          0.1100682593856655,
          0.10409556313993173,
          0.22354948805460748,
          0.07849829351535836,
          0.30034129692832756,
          0.15102389078498293,
          0.1143344709897611,
          0.09982935153583619,
          0.11262798634812288,
          0.1296928327645051,
          0.03924914675767918,
          0.09556313993174059,
          0.1979522184300341,
          0.15102389078498293,
          0.07423208191126279,
          0.16808873720136516,
          0.11262798634812288,
          0.10409556313993173,
          0.13822525597269622,
          0.27474402730375425,
          0.08703071672354948,
          0.17235494880546073,
          0.09982935153583619,
          0.1296928327645051,
          0.06655290102389078,
          0.14163822525597267,
          0.12116040955631399,
          0.18088737201365188,
          0.17235494880546073,
          0.12116040955631399,
          0.11689419795221842,
          0.13822525597269622,
          0.06143344709897611,
          0.21501706484641633,
          0.15358361774744025,
          0.13822525597269622,
          0.052901023890784965,
          0.057167235494880536,
          0.06655290102389078,
          0.18088737201365188,
          0,
          0.16808873720136516,
          0.40273037542662116,
          0.06825938566552903,
          0.11262798634812288,
          0.1296928327645051,
          0.12627986348122863,
          0.22696245733788392,
          0.14675767918088736,
          0.07167235494880547,
          0.11262798634812288,
          0.2406143344709897,
          0.3515358361774744,
          0.37713310580204773,
          0.31740614334470985,
          0.35580204778157,
          0.4965870307167235,
          0.21928327645051196,
          0.31740614334470985,
          0.37713310580204773,
          0.31058020477815695,
          0.2832764505119454,
          0.3686006825938566,
          0.26194539249146753,
          0.2662116040955631,
          0.5912969283276451,
          0.23208191126279862,
          0.3088737201365188,
          0.5435153583617748,
          0.6092150170648464,
          0.6928327645051194,
          0.6245733788395904,
          0.8122866894197952,
          0.4965870307167235,
          0.78839590443686,
          0.5392491467576791,
          0.5648464163822525,
          0.659556313993174,
          0.5307167235494881,
          0.9999999999999999,
          0.893344709897611,
          0.5435153583617748,
          0.39249146757679176,
          0.36689419795221845,
          0.341296928327645,
          0.7081911262798635,
          0.45563139931740615,
          0.8020477815699658,
          0.7662116040955631,
          0.6296928327645052,
          0.6160409556313993,
          0.36006825938566556,
          0.735494795221843,
          0.7184300341296928,
          0.5477815699658704,
          0.5136518771331058,
          0.7610921501706484,
          0.6843003412969284,
          0.6757679180887372
         ],
         "y": [
          0.8421052631578951,
          0.5710526315789473,
          0.560526315789474,
          0.8789473684210525,
          0.5815789473684214,
          0.8342105263157893,
          0.8842105263157896,
          0.797368421052632,
          1,
          0.7447368421052629,
          0.8078947368421052,
          0.8131578947368419,
          0.7157894736842105,
          0.9789473684210526,
          0.8815789473684212,
          0.6842105263157898,
          0.8605263157894738,
          0.736842105263158,
          0.831578947368421,
          0.6868421052631581,
          0.797368421052632,
          0.5,
          0.7052631578947373,
          0.47894736842105257,
          0.6499999999999999,
          0.5315789473684216,
          0.6210526315789475,
          0.5973684210526318,
          0.7473684210526317,
          0.7868421052631578,
          0.7105263157894739,
          0.6710526315789473,
          0.6973684210526314,
          0.7184210526315788,
          0.6526315789473687,
          0.6447368421052633,
          0.5921052631578947,
          0.5315789473684216,
          0.5368421052631582,
          0.8394736842105264,
          0.6657894736842107,
          0.6263157894736846,
          0.7500000000000004,
          0.5815789473684214,
          0.5315789473684216,
          0.836842105263158,
          0.8815789473684212,
          0.7552631578947371,
          0.8078947368421052,
          0.7657894736842104,
          0.5315789473684216,
          0.736842105263158,
          0.7342105263157896,
          0.7210526315789472,
          0.7131578947368422,
          0.6657894736842107,
          0.8394736842105264,
          0.594736842105263,
          0.7078947368421056,
          0.3526315789473684,
          0.34210526315789513,
          0.4236842105263161,
          0.6947368421052631,
          0.3526315789473684,
          0.30000000000000027,
          0.3526315789473684,
          0.5473684210526315,
          0.3526315789473684,
          0.6078947368421055,
          0.310526315789474,
          0.331578947368421,
          0.7447368421052629,
          0.6473684210526316,
          0.5157894736842108,
          0.2447368421052638,
          0.1657894736842107,
          0.5263157894736841,
          0.2131578947368422,
          0.34210526315789513,
          0.43947368421052646,
          0.2552631578947371,
          0.44473684210526354,
          0.2763157894736845,
          0.5315789473684216,
          0.2131578947368422,
          0.43157894736842106,
          0.29736842105263195,
          0.1631578947368424,
          0.16052631578947407,
          0.2763157894736845,
          0.2763157894736845,
          0.2552631578947371,
          0.43684210526315814,
          0.331578947368421,
          0.155263157894737,
          0.3789473684210529,
          0.20526315789473726,
          0.331578947368421,
          0.3526315789473684,
          0.331578947368421,
          0.2763157894736845,
          0.4131578947368424,
          0.34473684210526345,
          0.20789473684210558,
          0.38947368421052664,
          0.3657894736842109,
          0.3210526315789477,
          0.44473684210526354,
          0.3131578947368423,
          0.15263157894736867,
          0.11315789473684257,
          0.39210526315789496,
          0.19210526315789478,
          0.10000000000000053,
          0.2763157894736845,
          0,
          0.20789473684210558,
          0.3657894736842109,
          0.45789473684210513,
          0.2552631578947371,
          0.1105263157894738,
          0.13947368421052664,
          0.3657894736842109,
          0.5315789473684216,
          0.2210526315789476,
          0.2736842105263162,
          0.3684210526315792,
          0.20000000000000018,
          0.3526315789473684,
          0.26578947368421035,
          0.4815789473684209,
          0.4868421052631584,
          0.4684210526315793,
          0.43947368421052646,
          0.38947368421052664,
          0.4131578947368424,
          0.3210526315789477,
          0.3947368421052633,
          0.6473684210526316,
          0.47631578947368425,
          0.5,
          0.6131578947368421,
          0.655263157894737,
          0.6815789473684211,
          0.3210526315789477,
          0.560526315789474,
          0.7500000000000004,
          0.48421052631578965,
          0.6026315789473689,
          0.5394736842105265,
          0.6499999999999999,
          0.4631578947368422,
          0.5473684210526315,
          0.5789473684210531,
          0.4078947368421053,
          0.5631578947368423,
          0.7394736842105263,
          0.37368421052631584,
          0.8710526315789475,
          0.6447368421052633,
          0.3500000000000001,
          0.7000000000000002,
          0.47894736842105257,
          0.5078947368421058,
          0.7236842105263159,
          0.7105263157894739,
          0.6368421052631579,
          0.4710526315789476,
          0.6710526315789473,
          0.6236842105263158,
          0.3078947368421052,
          0.45789473684210513,
          0.823684210526316,
          0.7052631578947373,
          0.6236842105263158,
          0.5894736842105264,
          0.5631578947368423,
          0.8157894736842106
         ]
        }
       ],
       "layout": {
        "template": {
         "data": {
          "bar": [
           {
            "error_x": {
             "color": "#2a3f5f"
            },
            "error_y": {
             "color": "#2a3f5f"
            },
            "marker": {
             "line": {
              "color": "#E5ECF6",
              "width": 0.5
             }
            },
            "type": "bar"
           }
          ],
          "barpolar": [
           {
            "marker": {
             "line": {
              "color": "#E5ECF6",
              "width": 0.5
             }
            },
            "type": "barpolar"
           }
          ],
          "carpet": [
           {
            "aaxis": {
             "endlinecolor": "#2a3f5f",
             "gridcolor": "white",
             "linecolor": "white",
             "minorgridcolor": "white",
             "startlinecolor": "#2a3f5f"
            },
            "baxis": {
             "endlinecolor": "#2a3f5f",
             "gridcolor": "white",
             "linecolor": "white",
             "minorgridcolor": "white",
             "startlinecolor": "#2a3f5f"
            },
            "type": "carpet"
           }
          ],
          "choropleth": [
           {
            "colorbar": {
             "outlinewidth": 0,
             "ticks": ""
            },
            "type": "choropleth"
           }
          ],
          "contour": [
           {
            "colorbar": {
             "outlinewidth": 0,
             "ticks": ""
            },
            "colorscale": [
             [
              0,
              "#0d0887"
             ],
             [
              0.1111111111111111,
              "#46039f"
             ],
             [
              0.2222222222222222,
              "#7201a8"
             ],
             [
              0.3333333333333333,
              "#9c179e"
             ],
             [
              0.4444444444444444,
              "#bd3786"
             ],
             [
              0.5555555555555556,
              "#d8576b"
             ],
             [
              0.6666666666666666,
              "#ed7953"
             ],
             [
              0.7777777777777778,
              "#fb9f3a"
             ],
             [
              0.8888888888888888,
              "#fdca26"
             ],
             [
              1,
              "#f0f921"
             ]
            ],
            "type": "contour"
           }
          ],
          "contourcarpet": [
           {
            "colorbar": {
             "outlinewidth": 0,
             "ticks": ""
            },
            "type": "contourcarpet"
           }
          ],
          "heatmap": [
           {
            "colorbar": {
             "outlinewidth": 0,
             "ticks": ""
            },
            "colorscale": [
             [
              0,
              "#0d0887"
             ],
             [
              0.1111111111111111,
              "#46039f"
             ],
             [
              0.2222222222222222,
              "#7201a8"
             ],
             [
              0.3333333333333333,
              "#9c179e"
             ],
             [
              0.4444444444444444,
              "#bd3786"
             ],
             [
              0.5555555555555556,
              "#d8576b"
             ],
             [
              0.6666666666666666,
              "#ed7953"
             ],
             [
              0.7777777777777778,
              "#fb9f3a"
             ],
             [
              0.8888888888888888,
              "#fdca26"
             ],
             [
              1,
              "#f0f921"
             ]
            ],
            "type": "heatmap"
           }
          ],
          "heatmapgl": [
           {
            "colorbar": {
             "outlinewidth": 0,
             "ticks": ""
            },
            "colorscale": [
             [
              0,
              "#0d0887"
             ],
             [
              0.1111111111111111,
              "#46039f"
             ],
             [
              0.2222222222222222,
              "#7201a8"
             ],
             [
              0.3333333333333333,
              "#9c179e"
             ],
             [
              0.4444444444444444,
              "#bd3786"
             ],
             [
              0.5555555555555556,
              "#d8576b"
             ],
             [
              0.6666666666666666,
              "#ed7953"
             ],
             [
              0.7777777777777778,
              "#fb9f3a"
             ],
             [
              0.8888888888888888,
              "#fdca26"
             ],
             [
              1,
              "#f0f921"
             ]
            ],
            "type": "heatmapgl"
           }
          ],
          "histogram": [
           {
            "marker": {
             "colorbar": {
              "outlinewidth": 0,
              "ticks": ""
             }
            },
            "type": "histogram"
           }
          ],
          "histogram2d": [
           {
            "colorbar": {
             "outlinewidth": 0,
             "ticks": ""
            },
            "colorscale": [
             [
              0,
              "#0d0887"
             ],
             [
              0.1111111111111111,
              "#46039f"
             ],
             [
              0.2222222222222222,
              "#7201a8"
             ],
             [
              0.3333333333333333,
              "#9c179e"
             ],
             [
              0.4444444444444444,
              "#bd3786"
             ],
             [
              0.5555555555555556,
              "#d8576b"
             ],
             [
              0.6666666666666666,
              "#ed7953"
             ],
             [
              0.7777777777777778,
              "#fb9f3a"
             ],
             [
              0.8888888888888888,
              "#fdca26"
             ],
             [
              1,
              "#f0f921"
             ]
            ],
            "type": "histogram2d"
           }
          ],
          "histogram2dcontour": [
           {
            "colorbar": {
             "outlinewidth": 0,
             "ticks": ""
            },
            "colorscale": [
             [
              0,
              "#0d0887"
             ],
             [
              0.1111111111111111,
              "#46039f"
             ],
             [
              0.2222222222222222,
              "#7201a8"
             ],
             [
              0.3333333333333333,
              "#9c179e"
             ],
             [
              0.4444444444444444,
              "#bd3786"
             ],
             [
              0.5555555555555556,
              "#d8576b"
             ],
             [
              0.6666666666666666,
              "#ed7953"
             ],
             [
              0.7777777777777778,
              "#fb9f3a"
             ],
             [
              0.8888888888888888,
              "#fdca26"
             ],
             [
              1,
              "#f0f921"
             ]
            ],
            "type": "histogram2dcontour"
           }
          ],
          "mesh3d": [
           {
            "colorbar": {
             "outlinewidth": 0,
             "ticks": ""
            },
            "type": "mesh3d"
           }
          ],
          "parcoords": [
           {
            "line": {
             "colorbar": {
              "outlinewidth": 0,
              "ticks": ""
             }
            },
            "type": "parcoords"
           }
          ],
          "pie": [
           {
            "automargin": true,
            "type": "pie"
           }
          ],
          "scatter": [
           {
            "marker": {
             "colorbar": {
              "outlinewidth": 0,
              "ticks": ""
             }
            },
            "type": "scatter"
           }
          ],
          "scatter3d": [
           {
            "line": {
             "colorbar": {
              "outlinewidth": 0,
              "ticks": ""
             }
            },
            "marker": {
             "colorbar": {
              "outlinewidth": 0,
              "ticks": ""
             }
            },
            "type": "scatter3d"
           }
          ],
          "scattercarpet": [
           {
            "marker": {
             "colorbar": {
              "outlinewidth": 0,
              "ticks": ""
             }
            },
            "type": "scattercarpet"
           }
          ],
          "scattergeo": [
           {
            "marker": {
             "colorbar": {
              "outlinewidth": 0,
              "ticks": ""
             }
            },
            "type": "scattergeo"
           }
          ],
          "scattergl": [
           {
            "marker": {
             "colorbar": {
              "outlinewidth": 0,
              "ticks": ""
             }
            },
            "type": "scattergl"
           }
          ],
          "scattermapbox": [
           {
            "marker": {
             "colorbar": {
              "outlinewidth": 0,
              "ticks": ""
             }
            },
            "type": "scattermapbox"
           }
          ],
          "scatterpolar": [
           {
            "marker": {
             "colorbar": {
              "outlinewidth": 0,
              "ticks": ""
             }
            },
            "type": "scatterpolar"
           }
          ],
          "scatterpolargl": [
           {
            "marker": {
             "colorbar": {
              "outlinewidth": 0,
              "ticks": ""
             }
            },
            "type": "scatterpolargl"
           }
          ],
          "scatterternary": [
           {
            "marker": {
             "colorbar": {
              "outlinewidth": 0,
              "ticks": ""
             }
            },
            "type": "scatterternary"
           }
          ],
          "surface": [
           {
            "colorbar": {
             "outlinewidth": 0,
             "ticks": ""
            },
            "colorscale": [
             [
              0,
              "#0d0887"
             ],
             [
              0.1111111111111111,
              "#46039f"
             ],
             [
              0.2222222222222222,
              "#7201a8"
             ],
             [
              0.3333333333333333,
              "#9c179e"
             ],
             [
              0.4444444444444444,
              "#bd3786"
             ],
             [
              0.5555555555555556,
              "#d8576b"
             ],
             [
              0.6666666666666666,
              "#ed7953"
             ],
             [
              0.7777777777777778,
              "#fb9f3a"
             ],
             [
              0.8888888888888888,
              "#fdca26"
             ],
             [
              1,
              "#f0f921"
             ]
            ],
            "type": "surface"
           }
          ],
          "table": [
           {
            "cells": {
             "fill": {
              "color": "#EBF0F8"
             },
             "line": {
              "color": "white"
             }
            },
            "header": {
             "fill": {
              "color": "#C8D4E3"
             },
             "line": {
              "color": "white"
             }
            },
            "type": "table"
           }
          ]
         },
         "layout": {
          "annotationdefaults": {
           "arrowcolor": "#2a3f5f",
           "arrowhead": 0,
           "arrowwidth": 1
          },
          "autotypenumbers": "strict",
          "coloraxis": {
           "colorbar": {
            "outlinewidth": 0,
            "ticks": ""
           }
          },
          "colorscale": {
           "diverging": [
            [
             0,
             "#8e0152"
            ],
            [
             0.1,
             "#c51b7d"
            ],
            [
             0.2,
             "#de77ae"
            ],
            [
             0.3,
             "#f1b6da"
            ],
            [
             0.4,
             "#fde0ef"
            ],
            [
             0.5,
             "#f7f7f7"
            ],
            [
             0.6,
             "#e6f5d0"
            ],
            [
             0.7,
             "#b8e186"
            ],
            [
             0.8,
             "#7fbc41"
            ],
            [
             0.9,
             "#4d9221"
            ],
            [
             1,
             "#276419"
            ]
           ],
           "sequential": [
            [
             0,
             "#0d0887"
            ],
            [
             0.1111111111111111,
             "#46039f"
            ],
            [
             0.2222222222222222,
             "#7201a8"
            ],
            [
             0.3333333333333333,
             "#9c179e"
            ],
            [
             0.4444444444444444,
             "#bd3786"
            ],
            [
             0.5555555555555556,
             "#d8576b"
            ],
            [
             0.6666666666666666,
             "#ed7953"
            ],
            [
             0.7777777777777778,
             "#fb9f3a"
            ],
            [
             0.8888888888888888,
             "#fdca26"
            ],
            [
             1,
             "#f0f921"
            ]
           ],
           "sequentialminus": [
            [
             0,
             "#0d0887"
            ],
            [
             0.1111111111111111,
             "#46039f"
            ],
            [
             0.2222222222222222,
             "#7201a8"
            ],
            [
             0.3333333333333333,
             "#9c179e"
            ],
            [
             0.4444444444444444,
             "#bd3786"
            ],
            [
             0.5555555555555556,
             "#d8576b"
            ],
            [
             0.6666666666666666,
             "#ed7953"
            ],
            [
             0.7777777777777778,
             "#fb9f3a"
            ],
            [
             0.8888888888888888,
             "#fdca26"
            ],
            [
             1,
             "#f0f921"
            ]
           ]
          },
          "colorway": [
           "#636efa",
           "#EF553B",
           "#00cc96",
           "#ab63fa",
           "#FFA15A",
           "#19d3f3",
           "#FF6692",
           "#B6E880",
           "#FF97FF",
           "#FECB52"
          ],
          "font": {
           "color": "#2a3f5f"
          },
          "geo": {
           "bgcolor": "white",
           "lakecolor": "white",
           "landcolor": "#E5ECF6",
           "showlakes": true,
           "showland": true,
           "subunitcolor": "white"
          },
          "hoverlabel": {
           "align": "left"
          },
          "hovermode": "closest",
          "mapbox": {
           "style": "light"
          },
          "paper_bgcolor": "white",
          "plot_bgcolor": "#E5ECF6",
          "polar": {
           "angularaxis": {
            "gridcolor": "white",
            "linecolor": "white",
            "ticks": ""
           },
           "bgcolor": "#E5ECF6",
           "radialaxis": {
            "gridcolor": "white",
            "linecolor": "white",
            "ticks": ""
           }
          },
          "scene": {
           "xaxis": {
            "backgroundcolor": "#E5ECF6",
            "gridcolor": "white",
            "gridwidth": 2,
            "linecolor": "white",
            "showbackground": true,
            "ticks": "",
            "zerolinecolor": "white"
           },
           "yaxis": {
            "backgroundcolor": "#E5ECF6",
            "gridcolor": "white",
            "gridwidth": 2,
            "linecolor": "white",
            "showbackground": true,
            "ticks": "",
            "zerolinecolor": "white"
           },
           "zaxis": {
            "backgroundcolor": "#E5ECF6",
            "gridcolor": "white",
            "gridwidth": 2,
            "linecolor": "white",
            "showbackground": true,
            "ticks": "",
            "zerolinecolor": "white"
           }
          },
          "shapedefaults": {
           "line": {
            "color": "#2a3f5f"
           }
          },
          "ternary": {
           "aaxis": {
            "gridcolor": "white",
            "linecolor": "white",
            "ticks": ""
           },
           "baxis": {
            "gridcolor": "white",
            "linecolor": "white",
            "ticks": ""
           },
           "bgcolor": "#E5ECF6",
           "caxis": {
            "gridcolor": "white",
            "linecolor": "white",
            "ticks": ""
           }
          },
          "title": {
           "x": 0.05
          },
          "xaxis": {
           "automargin": true,
           "gridcolor": "white",
           "linecolor": "white",
           "ticks": "",
           "title": {
            "standoff": 15
           },
           "zerolinecolor": "white",
           "zerolinewidth": 2
          },
          "yaxis": {
           "automargin": true,
           "gridcolor": "white",
           "linecolor": "white",
           "ticks": "",
           "title": {
            "standoff": 15
           },
           "zerolinecolor": "white",
           "zerolinewidth": 2
          }
         }
        }
       }
      }
     },
     "metadata": {}
    }
   ],
   "source": [
    "fig = go.Figure()\n",
    "\n",
    "fig.add_trace(go.Scatter(x = df['Color_Intensity'], y=df['Alcohol'],\n",
    "                         mode = 'markers',\n",
    "                         marker = dict(color = grouper.labels_.astype(np.float)),\n",
    "                         text = labels))\n",
    "fig.show()                         "
   ]
  },
  {
   "cell_type": "code",
   "execution_count": 19,
   "metadata": {},
   "outputs": [
    {
     "output_type": "display_data",
     "data": {
      "application/vnd.plotly.v1+json": {
       "config": {
        "plotlyServerURL": "https://plot.ly"
       },
       "data": [
        {
         "marker": {
          "color": [
           1,
           1,
           1,
           1,
           1,
           1,
           1,
           1,
           1,
           1,
           1,
           1,
           1,
           1,
           1,
           1,
           1,
           1,
           1,
           1,
           1,
           1,
           1,
           1,
           1,
           1,
           1,
           1,
           1,
           1,
           1,
           1,
           1,
           1,
           1,
           1,
           1,
           1,
           1,
           1,
           1,
           1,
           1,
           1,
           1,
           1,
           1,
           1,
           1,
           1,
           1,
           1,
           1,
           1,
           1,
           1,
           1,
           1,
           1,
           2,
           2,
           2,
           2,
           2,
           2,
           2,
           2,
           2,
           2,
           2,
           2,
           2,
           2,
           1,
           2,
           2,
           2,
           2,
           2,
           2,
           2,
           2,
           2,
           0,
           2,
           2,
           2,
           2,
           2,
           2,
           2,
           2,
           2,
           2,
           2,
           2,
           2,
           2,
           2,
           2,
           2,
           2,
           2,
           2,
           2,
           2,
           2,
           2,
           2,
           2,
           2,
           2,
           2,
           2,
           2,
           2,
           2,
           2,
           2,
           2,
           2,
           2,
           2,
           2,
           2,
           2,
           2,
           2,
           2,
           2,
           0,
           0,
           0,
           0,
           0,
           0,
           0,
           0,
           0,
           0,
           0,
           0,
           0,
           0,
           0,
           0,
           0,
           0,
           0,
           0,
           0,
           0,
           0,
           0,
           0,
           0,
           0,
           0,
           0,
           0,
           0,
           0,
           0,
           0,
           0,
           0,
           0,
           0,
           0,
           0,
           0,
           0,
           0,
           0,
           0,
           0,
           0,
           0
          ]
         },
         "mode": "markers",
         "text": [
          1,
          1,
          1,
          1,
          1,
          1,
          1,
          1,
          1,
          1,
          1,
          1,
          1,
          1,
          1,
          1,
          1,
          1,
          1,
          1,
          1,
          1,
          1,
          1,
          1,
          1,
          1,
          1,
          1,
          1,
          1,
          1,
          1,
          1,
          1,
          1,
          1,
          1,
          1,
          1,
          1,
          1,
          1,
          1,
          1,
          1,
          1,
          1,
          1,
          1,
          1,
          1,
          1,
          1,
          1,
          1,
          1,
          1,
          1,
          2,
          2,
          2,
          2,
          2,
          2,
          2,
          2,
          2,
          2,
          2,
          2,
          2,
          2,
          1,
          2,
          2,
          2,
          2,
          2,
          2,
          2,
          2,
          2,
          0,
          2,
          2,
          2,
          2,
          2,
          2,
          2,
          2,
          2,
          2,
          2,
          2,
          2,
          2,
          2,
          2,
          2,
          2,
          2,
          2,
          2,
          2,
          2,
          2,
          2,
          2,
          2,
          2,
          2,
          2,
          2,
          2,
          2,
          2,
          2,
          2,
          2,
          2,
          2,
          2,
          2,
          2,
          2,
          2,
          2,
          2,
          0,
          0,
          0,
          0,
          0,
          0,
          0,
          0,
          0,
          0,
          0,
          0,
          0,
          0,
          0,
          0,
          0,
          0,
          0,
          0,
          0,
          0,
          0,
          0,
          0,
          0,
          0,
          0,
          0,
          0,
          0,
          0,
          0,
          0,
          0,
          0,
          0,
          0,
          0,
          0,
          0,
          0,
          0,
          0,
          0,
          0,
          0,
          0
         ],
         "type": "scatter3d",
         "x": [
          0.3720136518771331,
          0.26450511945392485,
          0.3754266211604095,
          0.5563139931740614,
          0.2593856655290102,
          0.4667235494880546,
          0.3387372013651877,
          0.3216723549488054,
          0.33447098976109213,
          0.5068259385665529,
          0.3813993174061433,
          0.31740614334470985,
          0.3686006825938566,
          0.3515358361774744,
          0.5307167235494881,
          0.5136518771331058,
          0.41979522184300344,
          0.4539249146757679,
          0.6331058020477814,
          0.325938566552901,
          0.37286689419795227,
          0.27474402730375425,
          0.21501706484641633,
          0.22610921501706485,
          0.1911262798634812,
          0.1962457337883959,
          0.30034129692832756,
          0.22781569965870305,
          0.27474402730375425,
          0.29180887372013653,
          0.37713310580204773,
          0.4795221843003413,
          0.21843003412969278,
          0.3515358361774744,
          0.2491467576791809,
          0.325938566552901,
          0.2832764505119454,
          0.2534129692832764,
          0.20648464163822525,
          0.325938566552901,
          0.4138225255972696,
          0.2559726962457338,
          0.35409556313993173,
          0.2627986348122867,
          0.32081911262798635,
          0.33788395904436863,
          0.3088737201365188,
          0.4112627986348123,
          0.41979522184300344,
          0.6501706484641638,
          0.5051194539249146,
          0.3686006825938566,
          0.4923208191126279,
          0.42832764505119447,
          0.38993174061433444,
          0.424061433447099,
          0.4351535836177475,
          0.40273037542662116,
          0.4709897610921502,
          0.057167235494880536,
          0.1697952218430034,
          0.3813993174061433,
          0.21501706484641633,
          0.2704778156996587,
          0.1424914675767918,
          0.2832764505119454,
          0.3430034129692833,
          0.2901023890784983,
          0.16126279863481227,
          0.13395904436860068,
          0.15102389078498293,
          0.17918088737201363,
          0.2098976109215017,
          0.1766211604095563,
          0.16467576791808872,
          0.21501706484641633,
          0.2832764505119454,
          0.11689419795221842,
          0.18088737201365188,
          0.1100682593856655,
          0.10409556313993173,
          0.22354948805460748,
          0.07849829351535836,
          0.30034129692832756,
          0.15102389078498293,
          0.1143344709897611,
          0.09982935153583619,
          0.11262798634812288,
          0.1296928327645051,
          0.03924914675767918,
          0.09556313993174059,
          0.1979522184300341,
          0.15102389078498293,
          0.07423208191126279,
          0.16808873720136516,
          0.11262798634812288,
          0.10409556313993173,
          0.13822525597269622,
          0.27474402730375425,
          0.08703071672354948,
          0.17235494880546073,
          0.09982935153583619,
          0.1296928327645051,
          0.06655290102389078,
          0.14163822525597267,
          0.12116040955631399,
          0.18088737201365188,
          0.17235494880546073,
          0.12116040955631399,
          0.11689419795221842,
          0.13822525597269622,
          0.06143344709897611,
          0.21501706484641633,
          0.15358361774744025,
          0.13822525597269622,
          0.052901023890784965,
          0.057167235494880536,
          0.06655290102389078,
          0.18088737201365188,
          0,
          0.16808873720136516,
          0.40273037542662116,
          0.06825938566552903,
          0.11262798634812288,
          0.1296928327645051,
          0.12627986348122863,
          0.22696245733788392,
          0.14675767918088736,
          0.07167235494880547,
          0.11262798634812288,
          0.2406143344709897,
          0.3515358361774744,
          0.37713310580204773,
          0.31740614334470985,
          0.35580204778157,
          0.4965870307167235,
          0.21928327645051196,
          0.31740614334470985,
          0.37713310580204773,
          0.31058020477815695,
          0.2832764505119454,
          0.3686006825938566,
          0.26194539249146753,
          0.2662116040955631,
          0.5912969283276451,
          0.23208191126279862,
          0.3088737201365188,
          0.5435153583617748,
          0.6092150170648464,
          0.6928327645051194,
          0.6245733788395904,
          0.8122866894197952,
          0.4965870307167235,
          0.78839590443686,
          0.5392491467576791,
          0.5648464163822525,
          0.659556313993174,
          0.5307167235494881,
          0.9999999999999999,
          0.893344709897611,
          0.5435153583617748,
          0.39249146757679176,
          0.36689419795221845,
          0.341296928327645,
          0.7081911262798635,
          0.45563139931740615,
          0.8020477815699658,
          0.7662116040955631,
          0.6296928327645052,
          0.6160409556313993,
          0.36006825938566556,
          0.735494795221843,
          0.7184300341296928,
          0.5477815699658704,
          0.5136518771331058,
          0.7610921501706484,
          0.6843003412969284,
          0.6757679180887372
         ],
         "y": [
          0.8421052631578951,
          0.5710526315789473,
          0.560526315789474,
          0.8789473684210525,
          0.5815789473684214,
          0.8342105263157893,
          0.8842105263157896,
          0.797368421052632,
          1,
          0.7447368421052629,
          0.8078947368421052,
          0.8131578947368419,
          0.7157894736842105,
          0.9789473684210526,
          0.8815789473684212,
          0.6842105263157898,
          0.8605263157894738,
          0.736842105263158,
          0.831578947368421,
          0.6868421052631581,
          0.797368421052632,
          0.5,
          0.7052631578947373,
          0.47894736842105257,
          0.6499999999999999,
          0.5315789473684216,
          0.6210526315789475,
          0.5973684210526318,
          0.7473684210526317,
          0.7868421052631578,
          0.7105263157894739,
          0.6710526315789473,
          0.6973684210526314,
          0.7184210526315788,
          0.6526315789473687,
          0.6447368421052633,
          0.5921052631578947,
          0.5315789473684216,
          0.5368421052631582,
          0.8394736842105264,
          0.6657894736842107,
          0.6263157894736846,
          0.7500000000000004,
          0.5815789473684214,
          0.5315789473684216,
          0.836842105263158,
          0.8815789473684212,
          0.7552631578947371,
          0.8078947368421052,
          0.7657894736842104,
          0.5315789473684216,
          0.736842105263158,
          0.7342105263157896,
          0.7210526315789472,
          0.7131578947368422,
          0.6657894736842107,
          0.8394736842105264,
          0.594736842105263,
          0.7078947368421056,
          0.3526315789473684,
          0.34210526315789513,
          0.4236842105263161,
          0.6947368421052631,
          0.3526315789473684,
          0.30000000000000027,
          0.3526315789473684,
          0.5473684210526315,
          0.3526315789473684,
          0.6078947368421055,
          0.310526315789474,
          0.331578947368421,
          0.7447368421052629,
          0.6473684210526316,
          0.5157894736842108,
          0.2447368421052638,
          0.1657894736842107,
          0.5263157894736841,
          0.2131578947368422,
          0.34210526315789513,
          0.43947368421052646,
          0.2552631578947371,
          0.44473684210526354,
          0.2763157894736845,
          0.5315789473684216,
          0.2131578947368422,
          0.43157894736842106,
          0.29736842105263195,
          0.1631578947368424,
          0.16052631578947407,
          0.2763157894736845,
          0.2763157894736845,
          0.2552631578947371,
          0.43684210526315814,
          0.331578947368421,
          0.155263157894737,
          0.3789473684210529,
          0.20526315789473726,
          0.331578947368421,
          0.3526315789473684,
          0.331578947368421,
          0.2763157894736845,
          0.4131578947368424,
          0.34473684210526345,
          0.20789473684210558,
          0.38947368421052664,
          0.3657894736842109,
          0.3210526315789477,
          0.44473684210526354,
          0.3131578947368423,
          0.15263157894736867,
          0.11315789473684257,
          0.39210526315789496,
          0.19210526315789478,
          0.10000000000000053,
          0.2763157894736845,
          0,
          0.20789473684210558,
          0.3657894736842109,
          0.45789473684210513,
          0.2552631578947371,
          0.1105263157894738,
          0.13947368421052664,
          0.3657894736842109,
          0.5315789473684216,
          0.2210526315789476,
          0.2736842105263162,
          0.3684210526315792,
          0.20000000000000018,
          0.3526315789473684,
          0.26578947368421035,
          0.4815789473684209,
          0.4868421052631584,
          0.4684210526315793,
          0.43947368421052646,
          0.38947368421052664,
          0.4131578947368424,
          0.3210526315789477,
          0.3947368421052633,
          0.6473684210526316,
          0.47631578947368425,
          0.5,
          0.6131578947368421,
          0.655263157894737,
          0.6815789473684211,
          0.3210526315789477,
          0.560526315789474,
          0.7500000000000004,
          0.48421052631578965,
          0.6026315789473689,
          0.5394736842105265,
          0.6499999999999999,
          0.4631578947368422,
          0.5473684210526315,
          0.5789473684210531,
          0.4078947368421053,
          0.5631578947368423,
          0.7394736842105263,
          0.37368421052631584,
          0.8710526315789475,
          0.6447368421052633,
          0.3500000000000001,
          0.7000000000000002,
          0.47894736842105257,
          0.5078947368421058,
          0.7236842105263159,
          0.7105263157894739,
          0.6368421052631579,
          0.4710526315789476,
          0.6710526315789473,
          0.6236842105263158,
          0.3078947368421052,
          0.45789473684210513,
          0.823684210526316,
          0.7052631578947373,
          0.6236842105263158,
          0.5894736842105264,
          0.5631578947368423,
          0.8157894736842106
         ],
         "z": [
          0.5613409415121255,
          0.5506419400855921,
          0.6469329529243938,
          0.8573466476462198,
          0.3259629101283881,
          0.8359486447931527,
          0.7218259629101285,
          0.725392296718973,
          0.5470756062767476,
          0.5470756062767476,
          0.8787446504992867,
          0.7146932952924394,
          0.7432239657631955,
          0.6219686162624822,
          0.9051355206847361,
          0.7360912981455064,
          0.7146932952924394,
          0.6077032810271041,
          1,
          0.40442225392296727,
          0.35805991440798857,
          0.35092724679029963,
          0.5399429386590585,
          0.5256776034236805,
          0.40442225392296727,
          0.3937232524964337,
          0.6540656205420827,
          0.7182596291012839,
          0.4543509272467904,
          0.5399429386590585,
          0.7182596291012839,
          0.8823109843081313,
          0.5078459343794579,
          0.6825962910128388,
          0.5827389443651926,
          0.4579172610556348,
          0.4293865905848788,
          0.5898716119828816,
          0.529243937232525,
          0.3437945791726106,
          0.36875891583452214,
          0.5399429386590585,
          0.5827389443651926,
          0.2867332382310984,
          0.43295292439372324,
          0.5720399429386591,
          0.5613409415121255,
          0.5042796005706135,
          0.557774607703281,
          0.7004279600570614,
          0.6219686162624822,
          0.7039942938659058,
          0.6504992867332383,
          0.782453637660485,
          0.557774607703281,
          0.6005706134094152,
          0.4935805991440799,
          0.7075606276747504,
          0.7182596291012839,
          0.17261055634807418,
          0.2867332382310984,
          0.12268188302425106,
          0.2510699001426534,
          0.10128388017118403,
          0.054921540656205386,
          0.2853067047075606,
          0.15977175463623397,
          0.1654778887303852,
          0.33666191155492153,
          0.31383737517831667,
          0.4222539229671898,
          0.09415121255349498,
          0.13837375178316688,
          0.5042796005706135,
          0.4336661911554922,
          0.10699001426533525,
          0.08131241084165478,
          0.15834522111269614,
          0.33666191155492153,
          0.1319543509272468,
          0,
          0.3109843081312411,
          0.2510699001426534,
          0.16904422253922965,
          0.17261055634807418,
          0.12268188302425106,
          0.15477888730385161,
          0.20256776034236804,
          0.2867332382310984,
          0.24750356633380885,
          0.1440798858773181,
          0.12268188302425106,
          0.15477888730385161,
          0.008559201141226797,
          0.047788873038516394,
          0.4700427960057062,
          0.24750356633380885,
          0.10699001426533525,
          0.27246790299572043,
          0.09129814550641938,
          0.30813124108416545,
          0.20256776034236804,
          0.11412268188302424,
          0.09771754636233951,
          0.2810271041369472,
          0.02639087018544936,
          0.1654778887303852,
          0.14978601997146931,
          0.02425106990014264,
          0.2867332382310984,
          0.20256776034236804,
          0.033523537803138354,
          0.23466476462196864,
          0.11126961483594863,
          0.07631954350927247,
          0.09201141226818829,
          0.15477888730385161,
          0.047788873038516394,
          0.06704707560627673,
          0.20399429386590587,
          0.24750356633380885,
          0.13338088445078458,
          0.062054208273894434,
          0.07275320970042795,
          0.07275320970042795,
          0.07132667617689017,
          0.052781740370898694,
          0.1340941512125535,
          0.0456490727532097,
          0.21540656205420824,
          0.2510699001426534,
          0.17974322396576317,
          0.20114122681883026,
          0.22967189728958629,
          0.2653352353780314,
          0.297432239657632,
          0.3152639087018545,
          0.16904422253922965,
          0.21540656205420824,
          0.2225392296718973,
          0.22967189728958629,
          0.35805991440798857,
          0.17261055634807418,
          0.1940085592011412,
          0.4115549215406562,
          0.3937232524964337,
          0.09771754636233951,
          0.24750356633380885,
          0.2653352353780314,
          0.1940085592011412,
          0.15834522111269614,
          0.1440798858773181,
          0.1048502139800285,
          0.2831669044222539,
          0.25820256776034234,
          0.318830242510699,
          0.1440798858773181,
          0.4293865905848788,
          0.27246790299572043,
          0.24393723252496433,
          0.17261055634807418,
          0.2867332382310984,
          0.20827389443651925,
          0.2831669044222539,
          0.2403708987161198,
          0.17261055634807418,
          0.297432239657632,
          0.29029957203994294,
          0.33666191155492153,
          0.2510699001426534,
          0.1654778887303852,
          0.1369472182596291,
          0.27246790299572043,
          0.3295292439372326,
          0.33666191155492153,
          0.3972895863052782,
          0.40085592011412274,
          0.20114122681883026
         ]
        }
       ],
       "layout": {
        "template": {
         "data": {
          "bar": [
           {
            "error_x": {
             "color": "#2a3f5f"
            },
            "error_y": {
             "color": "#2a3f5f"
            },
            "marker": {
             "line": {
              "color": "#E5ECF6",
              "width": 0.5
             }
            },
            "type": "bar"
           }
          ],
          "barpolar": [
           {
            "marker": {
             "line": {
              "color": "#E5ECF6",
              "width": 0.5
             }
            },
            "type": "barpolar"
           }
          ],
          "carpet": [
           {
            "aaxis": {
             "endlinecolor": "#2a3f5f",
             "gridcolor": "white",
             "linecolor": "white",
             "minorgridcolor": "white",
             "startlinecolor": "#2a3f5f"
            },
            "baxis": {
             "endlinecolor": "#2a3f5f",
             "gridcolor": "white",
             "linecolor": "white",
             "minorgridcolor": "white",
             "startlinecolor": "#2a3f5f"
            },
            "type": "carpet"
           }
          ],
          "choropleth": [
           {
            "colorbar": {
             "outlinewidth": 0,
             "ticks": ""
            },
            "type": "choropleth"
           }
          ],
          "contour": [
           {
            "colorbar": {
             "outlinewidth": 0,
             "ticks": ""
            },
            "colorscale": [
             [
              0,
              "#0d0887"
             ],
             [
              0.1111111111111111,
              "#46039f"
             ],
             [
              0.2222222222222222,
              "#7201a8"
             ],
             [
              0.3333333333333333,
              "#9c179e"
             ],
             [
              0.4444444444444444,
              "#bd3786"
             ],
             [
              0.5555555555555556,
              "#d8576b"
             ],
             [
              0.6666666666666666,
              "#ed7953"
             ],
             [
              0.7777777777777778,
              "#fb9f3a"
             ],
             [
              0.8888888888888888,
              "#fdca26"
             ],
             [
              1,
              "#f0f921"
             ]
            ],
            "type": "contour"
           }
          ],
          "contourcarpet": [
           {
            "colorbar": {
             "outlinewidth": 0,
             "ticks": ""
            },
            "type": "contourcarpet"
           }
          ],
          "heatmap": [
           {
            "colorbar": {
             "outlinewidth": 0,
             "ticks": ""
            },
            "colorscale": [
             [
              0,
              "#0d0887"
             ],
             [
              0.1111111111111111,
              "#46039f"
             ],
             [
              0.2222222222222222,
              "#7201a8"
             ],
             [
              0.3333333333333333,
              "#9c179e"
             ],
             [
              0.4444444444444444,
              "#bd3786"
             ],
             [
              0.5555555555555556,
              "#d8576b"
             ],
             [
              0.6666666666666666,
              "#ed7953"
             ],
             [
              0.7777777777777778,
              "#fb9f3a"
             ],
             [
              0.8888888888888888,
              "#fdca26"
             ],
             [
              1,
              "#f0f921"
             ]
            ],
            "type": "heatmap"
           }
          ],
          "heatmapgl": [
           {
            "colorbar": {
             "outlinewidth": 0,
             "ticks": ""
            },
            "colorscale": [
             [
              0,
              "#0d0887"
             ],
             [
              0.1111111111111111,
              "#46039f"
             ],
             [
              0.2222222222222222,
              "#7201a8"
             ],
             [
              0.3333333333333333,
              "#9c179e"
             ],
             [
              0.4444444444444444,
              "#bd3786"
             ],
             [
              0.5555555555555556,
              "#d8576b"
             ],
             [
              0.6666666666666666,
              "#ed7953"
             ],
             [
              0.7777777777777778,
              "#fb9f3a"
             ],
             [
              0.8888888888888888,
              "#fdca26"
             ],
             [
              1,
              "#f0f921"
             ]
            ],
            "type": "heatmapgl"
           }
          ],
          "histogram": [
           {
            "marker": {
             "colorbar": {
              "outlinewidth": 0,
              "ticks": ""
             }
            },
            "type": "histogram"
           }
          ],
          "histogram2d": [
           {
            "colorbar": {
             "outlinewidth": 0,
             "ticks": ""
            },
            "colorscale": [
             [
              0,
              "#0d0887"
             ],
             [
              0.1111111111111111,
              "#46039f"
             ],
             [
              0.2222222222222222,
              "#7201a8"
             ],
             [
              0.3333333333333333,
              "#9c179e"
             ],
             [
              0.4444444444444444,
              "#bd3786"
             ],
             [
              0.5555555555555556,
              "#d8576b"
             ],
             [
              0.6666666666666666,
              "#ed7953"
             ],
             [
              0.7777777777777778,
              "#fb9f3a"
             ],
             [
              0.8888888888888888,
              "#fdca26"
             ],
             [
              1,
              "#f0f921"
             ]
            ],
            "type": "histogram2d"
           }
          ],
          "histogram2dcontour": [
           {
            "colorbar": {
             "outlinewidth": 0,
             "ticks": ""
            },
            "colorscale": [
             [
              0,
              "#0d0887"
             ],
             [
              0.1111111111111111,
              "#46039f"
             ],
             [
              0.2222222222222222,
              "#7201a8"
             ],
             [
              0.3333333333333333,
              "#9c179e"
             ],
             [
              0.4444444444444444,
              "#bd3786"
             ],
             [
              0.5555555555555556,
              "#d8576b"
             ],
             [
              0.6666666666666666,
              "#ed7953"
             ],
             [
              0.7777777777777778,
              "#fb9f3a"
             ],
             [
              0.8888888888888888,
              "#fdca26"
             ],
             [
              1,
              "#f0f921"
             ]
            ],
            "type": "histogram2dcontour"
           }
          ],
          "mesh3d": [
           {
            "colorbar": {
             "outlinewidth": 0,
             "ticks": ""
            },
            "type": "mesh3d"
           }
          ],
          "parcoords": [
           {
            "line": {
             "colorbar": {
              "outlinewidth": 0,
              "ticks": ""
             }
            },
            "type": "parcoords"
           }
          ],
          "pie": [
           {
            "automargin": true,
            "type": "pie"
           }
          ],
          "scatter": [
           {
            "marker": {
             "colorbar": {
              "outlinewidth": 0,
              "ticks": ""
             }
            },
            "type": "scatter"
           }
          ],
          "scatter3d": [
           {
            "line": {
             "colorbar": {
              "outlinewidth": 0,
              "ticks": ""
             }
            },
            "marker": {
             "colorbar": {
              "outlinewidth": 0,
              "ticks": ""
             }
            },
            "type": "scatter3d"
           }
          ],
          "scattercarpet": [
           {
            "marker": {
             "colorbar": {
              "outlinewidth": 0,
              "ticks": ""
             }
            },
            "type": "scattercarpet"
           }
          ],
          "scattergeo": [
           {
            "marker": {
             "colorbar": {
              "outlinewidth": 0,
              "ticks": ""
             }
            },
            "type": "scattergeo"
           }
          ],
          "scattergl": [
           {
            "marker": {
             "colorbar": {
              "outlinewidth": 0,
              "ticks": ""
             }
            },
            "type": "scattergl"
           }
          ],
          "scattermapbox": [
           {
            "marker": {
             "colorbar": {
              "outlinewidth": 0,
              "ticks": ""
             }
            },
            "type": "scattermapbox"
           }
          ],
          "scatterpolar": [
           {
            "marker": {
             "colorbar": {
              "outlinewidth": 0,
              "ticks": ""
             }
            },
            "type": "scatterpolar"
           }
          ],
          "scatterpolargl": [
           {
            "marker": {
             "colorbar": {
              "outlinewidth": 0,
              "ticks": ""
             }
            },
            "type": "scatterpolargl"
           }
          ],
          "scatterternary": [
           {
            "marker": {
             "colorbar": {
              "outlinewidth": 0,
              "ticks": ""
             }
            },
            "type": "scatterternary"
           }
          ],
          "surface": [
           {
            "colorbar": {
             "outlinewidth": 0,
             "ticks": ""
            },
            "colorscale": [
             [
              0,
              "#0d0887"
             ],
             [
              0.1111111111111111,
              "#46039f"
             ],
             [
              0.2222222222222222,
              "#7201a8"
             ],
             [
              0.3333333333333333,
              "#9c179e"
             ],
             [
              0.4444444444444444,
              "#bd3786"
             ],
             [
              0.5555555555555556,
              "#d8576b"
             ],
             [
              0.6666666666666666,
              "#ed7953"
             ],
             [
              0.7777777777777778,
              "#fb9f3a"
             ],
             [
              0.8888888888888888,
              "#fdca26"
             ],
             [
              1,
              "#f0f921"
             ]
            ],
            "type": "surface"
           }
          ],
          "table": [
           {
            "cells": {
             "fill": {
              "color": "#EBF0F8"
             },
             "line": {
              "color": "white"
             }
            },
            "header": {
             "fill": {
              "color": "#C8D4E3"
             },
             "line": {
              "color": "white"
             }
            },
            "type": "table"
           }
          ]
         },
         "layout": {
          "annotationdefaults": {
           "arrowcolor": "#2a3f5f",
           "arrowhead": 0,
           "arrowwidth": 1
          },
          "autotypenumbers": "strict",
          "coloraxis": {
           "colorbar": {
            "outlinewidth": 0,
            "ticks": ""
           }
          },
          "colorscale": {
           "diverging": [
            [
             0,
             "#8e0152"
            ],
            [
             0.1,
             "#c51b7d"
            ],
            [
             0.2,
             "#de77ae"
            ],
            [
             0.3,
             "#f1b6da"
            ],
            [
             0.4,
             "#fde0ef"
            ],
            [
             0.5,
             "#f7f7f7"
            ],
            [
             0.6,
             "#e6f5d0"
            ],
            [
             0.7,
             "#b8e186"
            ],
            [
             0.8,
             "#7fbc41"
            ],
            [
             0.9,
             "#4d9221"
            ],
            [
             1,
             "#276419"
            ]
           ],
           "sequential": [
            [
             0,
             "#0d0887"
            ],
            [
             0.1111111111111111,
             "#46039f"
            ],
            [
             0.2222222222222222,
             "#7201a8"
            ],
            [
             0.3333333333333333,
             "#9c179e"
            ],
            [
             0.4444444444444444,
             "#bd3786"
            ],
            [
             0.5555555555555556,
             "#d8576b"
            ],
            [
             0.6666666666666666,
             "#ed7953"
            ],
            [
             0.7777777777777778,
             "#fb9f3a"
            ],
            [
             0.8888888888888888,
             "#fdca26"
            ],
            [
             1,
             "#f0f921"
            ]
           ],
           "sequentialminus": [
            [
             0,
             "#0d0887"
            ],
            [
             0.1111111111111111,
             "#46039f"
            ],
            [
             0.2222222222222222,
             "#7201a8"
            ],
            [
             0.3333333333333333,
             "#9c179e"
            ],
            [
             0.4444444444444444,
             "#bd3786"
            ],
            [
             0.5555555555555556,
             "#d8576b"
            ],
            [
             0.6666666666666666,
             "#ed7953"
            ],
            [
             0.7777777777777778,
             "#fb9f3a"
            ],
            [
             0.8888888888888888,
             "#fdca26"
            ],
            [
             1,
             "#f0f921"
            ]
           ]
          },
          "colorway": [
           "#636efa",
           "#EF553B",
           "#00cc96",
           "#ab63fa",
           "#FFA15A",
           "#19d3f3",
           "#FF6692",
           "#B6E880",
           "#FF97FF",
           "#FECB52"
          ],
          "font": {
           "color": "#2a3f5f"
          },
          "geo": {
           "bgcolor": "white",
           "lakecolor": "white",
           "landcolor": "#E5ECF6",
           "showlakes": true,
           "showland": true,
           "subunitcolor": "white"
          },
          "hoverlabel": {
           "align": "left"
          },
          "hovermode": "closest",
          "mapbox": {
           "style": "light"
          },
          "paper_bgcolor": "white",
          "plot_bgcolor": "#E5ECF6",
          "polar": {
           "angularaxis": {
            "gridcolor": "white",
            "linecolor": "white",
            "ticks": ""
           },
           "bgcolor": "#E5ECF6",
           "radialaxis": {
            "gridcolor": "white",
            "linecolor": "white",
            "ticks": ""
           }
          },
          "scene": {
           "xaxis": {
            "backgroundcolor": "#E5ECF6",
            "gridcolor": "white",
            "gridwidth": 2,
            "linecolor": "white",
            "showbackground": true,
            "ticks": "",
            "zerolinecolor": "white"
           },
           "yaxis": {
            "backgroundcolor": "#E5ECF6",
            "gridcolor": "white",
            "gridwidth": 2,
            "linecolor": "white",
            "showbackground": true,
            "ticks": "",
            "zerolinecolor": "white"
           },
           "zaxis": {
            "backgroundcolor": "#E5ECF6",
            "gridcolor": "white",
            "gridwidth": 2,
            "linecolor": "white",
            "showbackground": true,
            "ticks": "",
            "zerolinecolor": "white"
           }
          },
          "shapedefaults": {
           "line": {
            "color": "#2a3f5f"
           }
          },
          "ternary": {
           "aaxis": {
            "gridcolor": "white",
            "linecolor": "white",
            "ticks": ""
           },
           "baxis": {
            "gridcolor": "white",
            "linecolor": "white",
            "ticks": ""
           },
           "bgcolor": "#E5ECF6",
           "caxis": {
            "gridcolor": "white",
            "linecolor": "white",
            "ticks": ""
           }
          },
          "title": {
           "x": 0.05
          },
          "xaxis": {
           "automargin": true,
           "gridcolor": "white",
           "linecolor": "white",
           "ticks": "",
           "title": {
            "standoff": 15
           },
           "zerolinecolor": "white",
           "zerolinewidth": 2
          },
          "yaxis": {
           "automargin": true,
           "gridcolor": "white",
           "linecolor": "white",
           "ticks": "",
           "title": {
            "standoff": 15
           },
           "zerolinecolor": "white",
           "zerolinewidth": 2
          }
         }
        }
       }
      }
     },
     "metadata": {}
    }
   ],
   "source": [
    "fig = go.Figure()\n",
    "\n",
    "fig.add_trace(go.Scatter3d(x = df['Color_Intensity'], \n",
    "                         y=df['Alcohol'],\n",
    "                         z=df['Proline'],\n",
    "                         mode = 'markers',\n",
    "                         marker = dict(color = grouper.labels_.astype(np.float)),\n",
    "                         text = labels))\n",
    "fig.show()                         "
   ]
  },
  {
   "cell_type": "code",
   "execution_count": 20,
   "metadata": {},
   "outputs": [
    {
     "output_type": "display_data",
     "data": {
      "application/vnd.plotly.v1+json": {
       "config": {
        "plotlyServerURL": "https://plot.ly"
       },
       "data": [
        {
         "marker": {
          "color": [
           1,
           1,
           1,
           1,
           1,
           1,
           1,
           1,
           1,
           1,
           1,
           1,
           1,
           1,
           1,
           1,
           1,
           1,
           1,
           1,
           1,
           1,
           1,
           1,
           1,
           1,
           1,
           1,
           1,
           1,
           1,
           1,
           1,
           1,
           1,
           1,
           1,
           1,
           1,
           1,
           1,
           1,
           1,
           1,
           1,
           1,
           1,
           1,
           1,
           1,
           1,
           1,
           1,
           1,
           1,
           1,
           1,
           1,
           1,
           2,
           2,
           2,
           2,
           2,
           2,
           2,
           2,
           2,
           2,
           2,
           2,
           2,
           2,
           1,
           2,
           2,
           2,
           2,
           2,
           2,
           2,
           2,
           2,
           0,
           2,
           2,
           2,
           2,
           2,
           2,
           2,
           2,
           2,
           2,
           2,
           2,
           2,
           2,
           2,
           2,
           2,
           2,
           2,
           2,
           2,
           2,
           2,
           2,
           2,
           2,
           2,
           2,
           2,
           2,
           2,
           2,
           2,
           2,
           2,
           2,
           2,
           2,
           2,
           2,
           2,
           2,
           2,
           2,
           2,
           2,
           0,
           0,
           0,
           0,
           0,
           0,
           0,
           0,
           0,
           0,
           0,
           0,
           0,
           0,
           0,
           0,
           0,
           0,
           0,
           0,
           0,
           0,
           0,
           0,
           0,
           0,
           0,
           0,
           0,
           0,
           0,
           0,
           0,
           0,
           0,
           0,
           0,
           0,
           0,
           0,
           0,
           0,
           0,
           0,
           0,
           0,
           0,
           0
          ]
         },
         "mode": "markers",
         "text": [
          1,
          1,
          1,
          1,
          1,
          1,
          1,
          1,
          1,
          1,
          1,
          1,
          1,
          1,
          1,
          1,
          1,
          1,
          1,
          1,
          1,
          1,
          1,
          1,
          1,
          1,
          1,
          1,
          1,
          1,
          1,
          1,
          1,
          1,
          1,
          1,
          1,
          1,
          1,
          1,
          1,
          1,
          1,
          1,
          1,
          1,
          1,
          1,
          1,
          1,
          1,
          1,
          1,
          1,
          1,
          1,
          1,
          1,
          1,
          2,
          2,
          2,
          2,
          2,
          2,
          2,
          2,
          2,
          2,
          2,
          2,
          2,
          2,
          1,
          2,
          2,
          2,
          2,
          2,
          2,
          2,
          2,
          2,
          0,
          2,
          2,
          2,
          2,
          2,
          2,
          2,
          2,
          2,
          2,
          2,
          2,
          2,
          2,
          2,
          2,
          2,
          2,
          2,
          2,
          2,
          2,
          2,
          2,
          2,
          2,
          2,
          2,
          2,
          2,
          2,
          2,
          2,
          2,
          2,
          2,
          2,
          2,
          2,
          2,
          2,
          2,
          2,
          2,
          2,
          2,
          0,
          0,
          0,
          0,
          0,
          0,
          0,
          0,
          0,
          0,
          0,
          0,
          0,
          0,
          0,
          0,
          0,
          0,
          0,
          0,
          0,
          0,
          0,
          0,
          0,
          0,
          0,
          0,
          0,
          0,
          0,
          0,
          0,
          0,
          0,
          0,
          0,
          0,
          0,
          0,
          0,
          0,
          0,
          0,
          0,
          0,
          0,
          0
         ],
         "type": "scatter3d",
         "x": [
          0.3720136518771331,
          0.26450511945392485,
          0.3754266211604095,
          0.5563139931740614,
          0.2593856655290102,
          0.4667235494880546,
          0.3387372013651877,
          0.3216723549488054,
          0.33447098976109213,
          0.5068259385665529,
          0.3813993174061433,
          0.31740614334470985,
          0.3686006825938566,
          0.3515358361774744,
          0.5307167235494881,
          0.5136518771331058,
          0.41979522184300344,
          0.4539249146757679,
          0.6331058020477814,
          0.325938566552901,
          0.37286689419795227,
          0.27474402730375425,
          0.21501706484641633,
          0.22610921501706485,
          0.1911262798634812,
          0.1962457337883959,
          0.30034129692832756,
          0.22781569965870305,
          0.27474402730375425,
          0.29180887372013653,
          0.37713310580204773,
          0.4795221843003413,
          0.21843003412969278,
          0.3515358361774744,
          0.2491467576791809,
          0.325938566552901,
          0.2832764505119454,
          0.2534129692832764,
          0.20648464163822525,
          0.325938566552901,
          0.4138225255972696,
          0.2559726962457338,
          0.35409556313993173,
          0.2627986348122867,
          0.32081911262798635,
          0.33788395904436863,
          0.3088737201365188,
          0.4112627986348123,
          0.41979522184300344,
          0.6501706484641638,
          0.5051194539249146,
          0.3686006825938566,
          0.4923208191126279,
          0.42832764505119447,
          0.38993174061433444,
          0.424061433447099,
          0.4351535836177475,
          0.40273037542662116,
          0.4709897610921502,
          0.057167235494880536,
          0.1697952218430034,
          0.3813993174061433,
          0.21501706484641633,
          0.2704778156996587,
          0.1424914675767918,
          0.2832764505119454,
          0.3430034129692833,
          0.2901023890784983,
          0.16126279863481227,
          0.13395904436860068,
          0.15102389078498293,
          0.17918088737201363,
          0.2098976109215017,
          0.1766211604095563,
          0.16467576791808872,
          0.21501706484641633,
          0.2832764505119454,
          0.11689419795221842,
          0.18088737201365188,
          0.1100682593856655,
          0.10409556313993173,
          0.22354948805460748,
          0.07849829351535836,
          0.30034129692832756,
          0.15102389078498293,
          0.1143344709897611,
          0.09982935153583619,
          0.11262798634812288,
          0.1296928327645051,
          0.03924914675767918,
          0.09556313993174059,
          0.1979522184300341,
          0.15102389078498293,
          0.07423208191126279,
          0.16808873720136516,
          0.11262798634812288,
          0.10409556313993173,
          0.13822525597269622,
          0.27474402730375425,
          0.08703071672354948,
          0.17235494880546073,
          0.09982935153583619,
          0.1296928327645051,
          0.06655290102389078,
          0.14163822525597267,
          0.12116040955631399,
          0.18088737201365188,
          0.17235494880546073,
          0.12116040955631399,
          0.11689419795221842,
          0.13822525597269622,
          0.06143344709897611,
          0.21501706484641633,
          0.15358361774744025,
          0.13822525597269622,
          0.052901023890784965,
          0.057167235494880536,
          0.06655290102389078,
          0.18088737201365188,
          0,
          0.16808873720136516,
          0.40273037542662116,
          0.06825938566552903,
          0.11262798634812288,
          0.1296928327645051,
          0.12627986348122863,
          0.22696245733788392,
          0.14675767918088736,
          0.07167235494880547,
          0.11262798634812288,
          0.2406143344709897,
          0.3515358361774744,
          0.37713310580204773,
          0.31740614334470985,
          0.35580204778157,
          0.4965870307167235,
          0.21928327645051196,
          0.31740614334470985,
          0.37713310580204773,
          0.31058020477815695,
          0.2832764505119454,
          0.3686006825938566,
          0.26194539249146753,
          0.2662116040955631,
          0.5912969283276451,
          0.23208191126279862,
          0.3088737201365188,
          0.5435153583617748,
          0.6092150170648464,
          0.6928327645051194,
          0.6245733788395904,
          0.8122866894197952,
          0.4965870307167235,
          0.78839590443686,
          0.5392491467576791,
          0.5648464163822525,
          0.659556313993174,
          0.5307167235494881,
          0.9999999999999999,
          0.893344709897611,
          0.5435153583617748,
          0.39249146757679176,
          0.36689419795221845,
          0.341296928327645,
          0.7081911262798635,
          0.45563139931740615,
          0.8020477815699658,
          0.7662116040955631,
          0.6296928327645052,
          0.6160409556313993,
          0.36006825938566556,
          0.735494795221843,
          0.7184300341296928,
          0.5477815699658704,
          0.5136518771331058,
          0.7610921501706484,
          0.6843003412969284,
          0.6757679180887372
         ],
         "y": [
          0.8421052631578951,
          0.5710526315789473,
          0.560526315789474,
          0.8789473684210525,
          0.5815789473684214,
          0.8342105263157893,
          0.8842105263157896,
          0.797368421052632,
          1,
          0.7447368421052629,
          0.8078947368421052,
          0.8131578947368419,
          0.7157894736842105,
          0.9789473684210526,
          0.8815789473684212,
          0.6842105263157898,
          0.8605263157894738,
          0.736842105263158,
          0.831578947368421,
          0.6868421052631581,
          0.797368421052632,
          0.5,
          0.7052631578947373,
          0.47894736842105257,
          0.6499999999999999,
          0.5315789473684216,
          0.6210526315789475,
          0.5973684210526318,
          0.7473684210526317,
          0.7868421052631578,
          0.7105263157894739,
          0.6710526315789473,
          0.6973684210526314,
          0.7184210526315788,
          0.6526315789473687,
          0.6447368421052633,
          0.5921052631578947,
          0.5315789473684216,
          0.5368421052631582,
          0.8394736842105264,
          0.6657894736842107,
          0.6263157894736846,
          0.7500000000000004,
          0.5815789473684214,
          0.5315789473684216,
          0.836842105263158,
          0.8815789473684212,
          0.7552631578947371,
          0.8078947368421052,
          0.7657894736842104,
          0.5315789473684216,
          0.736842105263158,
          0.7342105263157896,
          0.7210526315789472,
          0.7131578947368422,
          0.6657894736842107,
          0.8394736842105264,
          0.594736842105263,
          0.7078947368421056,
          0.3526315789473684,
          0.34210526315789513,
          0.4236842105263161,
          0.6947368421052631,
          0.3526315789473684,
          0.30000000000000027,
          0.3526315789473684,
          0.5473684210526315,
          0.3526315789473684,
          0.6078947368421055,
          0.310526315789474,
          0.331578947368421,
          0.7447368421052629,
          0.6473684210526316,
          0.5157894736842108,
          0.2447368421052638,
          0.1657894736842107,
          0.5263157894736841,
          0.2131578947368422,
          0.34210526315789513,
          0.43947368421052646,
          0.2552631578947371,
          0.44473684210526354,
          0.2763157894736845,
          0.5315789473684216,
          0.2131578947368422,
          0.43157894736842106,
          0.29736842105263195,
          0.1631578947368424,
          0.16052631578947407,
          0.2763157894736845,
          0.2763157894736845,
          0.2552631578947371,
          0.43684210526315814,
          0.331578947368421,
          0.155263157894737,
          0.3789473684210529,
          0.20526315789473726,
          0.331578947368421,
          0.3526315789473684,
          0.331578947368421,
          0.2763157894736845,
          0.4131578947368424,
          0.34473684210526345,
          0.20789473684210558,
          0.38947368421052664,
          0.3657894736842109,
          0.3210526315789477,
          0.44473684210526354,
          0.3131578947368423,
          0.15263157894736867,
          0.11315789473684257,
          0.39210526315789496,
          0.19210526315789478,
          0.10000000000000053,
          0.2763157894736845,
          0,
          0.20789473684210558,
          0.3657894736842109,
          0.45789473684210513,
          0.2552631578947371,
          0.1105263157894738,
          0.13947368421052664,
          0.3657894736842109,
          0.5315789473684216,
          0.2210526315789476,
          0.2736842105263162,
          0.3684210526315792,
          0.20000000000000018,
          0.3526315789473684,
          0.26578947368421035,
          0.4815789473684209,
          0.4868421052631584,
          0.4684210526315793,
          0.43947368421052646,
          0.38947368421052664,
          0.4131578947368424,
          0.3210526315789477,
          0.3947368421052633,
          0.6473684210526316,
          0.47631578947368425,
          0.5,
          0.6131578947368421,
          0.655263157894737,
          0.6815789473684211,
          0.3210526315789477,
          0.560526315789474,
          0.7500000000000004,
          0.48421052631578965,
          0.6026315789473689,
          0.5394736842105265,
          0.6499999999999999,
          0.4631578947368422,
          0.5473684210526315,
          0.5789473684210531,
          0.4078947368421053,
          0.5631578947368423,
          0.7394736842105263,
          0.37368421052631584,
          0.8710526315789475,
          0.6447368421052633,
          0.3500000000000001,
          0.7000000000000002,
          0.47894736842105257,
          0.5078947368421058,
          0.7236842105263159,
          0.7105263157894739,
          0.6368421052631579,
          0.4710526315789476,
          0.6710526315789473,
          0.6236842105263158,
          0.3078947368421052,
          0.45789473684210513,
          0.823684210526316,
          0.7052631578947373,
          0.6236842105263158,
          0.5894736842105264,
          0.5631578947368423,
          0.8157894736842106
         ],
         "z": [
          0.5613409415121255,
          0.5506419400855921,
          0.6469329529243938,
          0.8573466476462198,
          0.3259629101283881,
          0.8359486447931527,
          0.7218259629101285,
          0.725392296718973,
          0.5470756062767476,
          0.5470756062767476,
          0.8787446504992867,
          0.7146932952924394,
          0.7432239657631955,
          0.6219686162624822,
          0.9051355206847361,
          0.7360912981455064,
          0.7146932952924394,
          0.6077032810271041,
          1,
          0.40442225392296727,
          0.35805991440798857,
          0.35092724679029963,
          0.5399429386590585,
          0.5256776034236805,
          0.40442225392296727,
          0.3937232524964337,
          0.6540656205420827,
          0.7182596291012839,
          0.4543509272467904,
          0.5399429386590585,
          0.7182596291012839,
          0.8823109843081313,
          0.5078459343794579,
          0.6825962910128388,
          0.5827389443651926,
          0.4579172610556348,
          0.4293865905848788,
          0.5898716119828816,
          0.529243937232525,
          0.3437945791726106,
          0.36875891583452214,
          0.5399429386590585,
          0.5827389443651926,
          0.2867332382310984,
          0.43295292439372324,
          0.5720399429386591,
          0.5613409415121255,
          0.5042796005706135,
          0.557774607703281,
          0.7004279600570614,
          0.6219686162624822,
          0.7039942938659058,
          0.6504992867332383,
          0.782453637660485,
          0.557774607703281,
          0.6005706134094152,
          0.4935805991440799,
          0.7075606276747504,
          0.7182596291012839,
          0.17261055634807418,
          0.2867332382310984,
          0.12268188302425106,
          0.2510699001426534,
          0.10128388017118403,
          0.054921540656205386,
          0.2853067047075606,
          0.15977175463623397,
          0.1654778887303852,
          0.33666191155492153,
          0.31383737517831667,
          0.4222539229671898,
          0.09415121255349498,
          0.13837375178316688,
          0.5042796005706135,
          0.4336661911554922,
          0.10699001426533525,
          0.08131241084165478,
          0.15834522111269614,
          0.33666191155492153,
          0.1319543509272468,
          0,
          0.3109843081312411,
          0.2510699001426534,
          0.16904422253922965,
          0.17261055634807418,
          0.12268188302425106,
          0.15477888730385161,
          0.20256776034236804,
          0.2867332382310984,
          0.24750356633380885,
          0.1440798858773181,
          0.12268188302425106,
          0.15477888730385161,
          0.008559201141226797,
          0.047788873038516394,
          0.4700427960057062,
          0.24750356633380885,
          0.10699001426533525,
          0.27246790299572043,
          0.09129814550641938,
          0.30813124108416545,
          0.20256776034236804,
          0.11412268188302424,
          0.09771754636233951,
          0.2810271041369472,
          0.02639087018544936,
          0.1654778887303852,
          0.14978601997146931,
          0.02425106990014264,
          0.2867332382310984,
          0.20256776034236804,
          0.033523537803138354,
          0.23466476462196864,
          0.11126961483594863,
          0.07631954350927247,
          0.09201141226818829,
          0.15477888730385161,
          0.047788873038516394,
          0.06704707560627673,
          0.20399429386590587,
          0.24750356633380885,
          0.13338088445078458,
          0.062054208273894434,
          0.07275320970042795,
          0.07275320970042795,
          0.07132667617689017,
          0.052781740370898694,
          0.1340941512125535,
          0.0456490727532097,
          0.21540656205420824,
          0.2510699001426534,
          0.17974322396576317,
          0.20114122681883026,
          0.22967189728958629,
          0.2653352353780314,
          0.297432239657632,
          0.3152639087018545,
          0.16904422253922965,
          0.21540656205420824,
          0.2225392296718973,
          0.22967189728958629,
          0.35805991440798857,
          0.17261055634807418,
          0.1940085592011412,
          0.4115549215406562,
          0.3937232524964337,
          0.09771754636233951,
          0.24750356633380885,
          0.2653352353780314,
          0.1940085592011412,
          0.15834522111269614,
          0.1440798858773181,
          0.1048502139800285,
          0.2831669044222539,
          0.25820256776034234,
          0.318830242510699,
          0.1440798858773181,
          0.4293865905848788,
          0.27246790299572043,
          0.24393723252496433,
          0.17261055634807418,
          0.2867332382310984,
          0.20827389443651925,
          0.2831669044222539,
          0.2403708987161198,
          0.17261055634807418,
          0.297432239657632,
          0.29029957203994294,
          0.33666191155492153,
          0.2510699001426534,
          0.1654778887303852,
          0.1369472182596291,
          0.27246790299572043,
          0.3295292439372326,
          0.33666191155492153,
          0.3972895863052782,
          0.40085592011412274,
          0.20114122681883026
         ]
        }
       ],
       "layout": {
        "scene": {
         "xaxis": {
          "title": {
           "text": "Color intensity"
          }
         },
         "yaxis": {
          "title": {
           "text": "Alcohol"
          }
         },
         "zaxis": {
          "title": {
           "text": "Proline"
          }
         }
        },
        "template": {
         "data": {
          "bar": [
           {
            "error_x": {
             "color": "#2a3f5f"
            },
            "error_y": {
             "color": "#2a3f5f"
            },
            "marker": {
             "line": {
              "color": "#E5ECF6",
              "width": 0.5
             }
            },
            "type": "bar"
           }
          ],
          "barpolar": [
           {
            "marker": {
             "line": {
              "color": "#E5ECF6",
              "width": 0.5
             }
            },
            "type": "barpolar"
           }
          ],
          "carpet": [
           {
            "aaxis": {
             "endlinecolor": "#2a3f5f",
             "gridcolor": "white",
             "linecolor": "white",
             "minorgridcolor": "white",
             "startlinecolor": "#2a3f5f"
            },
            "baxis": {
             "endlinecolor": "#2a3f5f",
             "gridcolor": "white",
             "linecolor": "white",
             "minorgridcolor": "white",
             "startlinecolor": "#2a3f5f"
            },
            "type": "carpet"
           }
          ],
          "choropleth": [
           {
            "colorbar": {
             "outlinewidth": 0,
             "ticks": ""
            },
            "type": "choropleth"
           }
          ],
          "contour": [
           {
            "colorbar": {
             "outlinewidth": 0,
             "ticks": ""
            },
            "colorscale": [
             [
              0,
              "#0d0887"
             ],
             [
              0.1111111111111111,
              "#46039f"
             ],
             [
              0.2222222222222222,
              "#7201a8"
             ],
             [
              0.3333333333333333,
              "#9c179e"
             ],
             [
              0.4444444444444444,
              "#bd3786"
             ],
             [
              0.5555555555555556,
              "#d8576b"
             ],
             [
              0.6666666666666666,
              "#ed7953"
             ],
             [
              0.7777777777777778,
              "#fb9f3a"
             ],
             [
              0.8888888888888888,
              "#fdca26"
             ],
             [
              1,
              "#f0f921"
             ]
            ],
            "type": "contour"
           }
          ],
          "contourcarpet": [
           {
            "colorbar": {
             "outlinewidth": 0,
             "ticks": ""
            },
            "type": "contourcarpet"
           }
          ],
          "heatmap": [
           {
            "colorbar": {
             "outlinewidth": 0,
             "ticks": ""
            },
            "colorscale": [
             [
              0,
              "#0d0887"
             ],
             [
              0.1111111111111111,
              "#46039f"
             ],
             [
              0.2222222222222222,
              "#7201a8"
             ],
             [
              0.3333333333333333,
              "#9c179e"
             ],
             [
              0.4444444444444444,
              "#bd3786"
             ],
             [
              0.5555555555555556,
              "#d8576b"
             ],
             [
              0.6666666666666666,
              "#ed7953"
             ],
             [
              0.7777777777777778,
              "#fb9f3a"
             ],
             [
              0.8888888888888888,
              "#fdca26"
             ],
             [
              1,
              "#f0f921"
             ]
            ],
            "type": "heatmap"
           }
          ],
          "heatmapgl": [
           {
            "colorbar": {
             "outlinewidth": 0,
             "ticks": ""
            },
            "colorscale": [
             [
              0,
              "#0d0887"
             ],
             [
              0.1111111111111111,
              "#46039f"
             ],
             [
              0.2222222222222222,
              "#7201a8"
             ],
             [
              0.3333333333333333,
              "#9c179e"
             ],
             [
              0.4444444444444444,
              "#bd3786"
             ],
             [
              0.5555555555555556,
              "#d8576b"
             ],
             [
              0.6666666666666666,
              "#ed7953"
             ],
             [
              0.7777777777777778,
              "#fb9f3a"
             ],
             [
              0.8888888888888888,
              "#fdca26"
             ],
             [
              1,
              "#f0f921"
             ]
            ],
            "type": "heatmapgl"
           }
          ],
          "histogram": [
           {
            "marker": {
             "colorbar": {
              "outlinewidth": 0,
              "ticks": ""
             }
            },
            "type": "histogram"
           }
          ],
          "histogram2d": [
           {
            "colorbar": {
             "outlinewidth": 0,
             "ticks": ""
            },
            "colorscale": [
             [
              0,
              "#0d0887"
             ],
             [
              0.1111111111111111,
              "#46039f"
             ],
             [
              0.2222222222222222,
              "#7201a8"
             ],
             [
              0.3333333333333333,
              "#9c179e"
             ],
             [
              0.4444444444444444,
              "#bd3786"
             ],
             [
              0.5555555555555556,
              "#d8576b"
             ],
             [
              0.6666666666666666,
              "#ed7953"
             ],
             [
              0.7777777777777778,
              "#fb9f3a"
             ],
             [
              0.8888888888888888,
              "#fdca26"
             ],
             [
              1,
              "#f0f921"
             ]
            ],
            "type": "histogram2d"
           }
          ],
          "histogram2dcontour": [
           {
            "colorbar": {
             "outlinewidth": 0,
             "ticks": ""
            },
            "colorscale": [
             [
              0,
              "#0d0887"
             ],
             [
              0.1111111111111111,
              "#46039f"
             ],
             [
              0.2222222222222222,
              "#7201a8"
             ],
             [
              0.3333333333333333,
              "#9c179e"
             ],
             [
              0.4444444444444444,
              "#bd3786"
             ],
             [
              0.5555555555555556,
              "#d8576b"
             ],
             [
              0.6666666666666666,
              "#ed7953"
             ],
             [
              0.7777777777777778,
              "#fb9f3a"
             ],
             [
              0.8888888888888888,
              "#fdca26"
             ],
             [
              1,
              "#f0f921"
             ]
            ],
            "type": "histogram2dcontour"
           }
          ],
          "mesh3d": [
           {
            "colorbar": {
             "outlinewidth": 0,
             "ticks": ""
            },
            "type": "mesh3d"
           }
          ],
          "parcoords": [
           {
            "line": {
             "colorbar": {
              "outlinewidth": 0,
              "ticks": ""
             }
            },
            "type": "parcoords"
           }
          ],
          "pie": [
           {
            "automargin": true,
            "type": "pie"
           }
          ],
          "scatter": [
           {
            "marker": {
             "colorbar": {
              "outlinewidth": 0,
              "ticks": ""
             }
            },
            "type": "scatter"
           }
          ],
          "scatter3d": [
           {
            "line": {
             "colorbar": {
              "outlinewidth": 0,
              "ticks": ""
             }
            },
            "marker": {
             "colorbar": {
              "outlinewidth": 0,
              "ticks": ""
             }
            },
            "type": "scatter3d"
           }
          ],
          "scattercarpet": [
           {
            "marker": {
             "colorbar": {
              "outlinewidth": 0,
              "ticks": ""
             }
            },
            "type": "scattercarpet"
           }
          ],
          "scattergeo": [
           {
            "marker": {
             "colorbar": {
              "outlinewidth": 0,
              "ticks": ""
             }
            },
            "type": "scattergeo"
           }
          ],
          "scattergl": [
           {
            "marker": {
             "colorbar": {
              "outlinewidth": 0,
              "ticks": ""
             }
            },
            "type": "scattergl"
           }
          ],
          "scattermapbox": [
           {
            "marker": {
             "colorbar": {
              "outlinewidth": 0,
              "ticks": ""
             }
            },
            "type": "scattermapbox"
           }
          ],
          "scatterpolar": [
           {
            "marker": {
             "colorbar": {
              "outlinewidth": 0,
              "ticks": ""
             }
            },
            "type": "scatterpolar"
           }
          ],
          "scatterpolargl": [
           {
            "marker": {
             "colorbar": {
              "outlinewidth": 0,
              "ticks": ""
             }
            },
            "type": "scatterpolargl"
           }
          ],
          "scatterternary": [
           {
            "marker": {
             "colorbar": {
              "outlinewidth": 0,
              "ticks": ""
             }
            },
            "type": "scatterternary"
           }
          ],
          "surface": [
           {
            "colorbar": {
             "outlinewidth": 0,
             "ticks": ""
            },
            "colorscale": [
             [
              0,
              "#0d0887"
             ],
             [
              0.1111111111111111,
              "#46039f"
             ],
             [
              0.2222222222222222,
              "#7201a8"
             ],
             [
              0.3333333333333333,
              "#9c179e"
             ],
             [
              0.4444444444444444,
              "#bd3786"
             ],
             [
              0.5555555555555556,
              "#d8576b"
             ],
             [
              0.6666666666666666,
              "#ed7953"
             ],
             [
              0.7777777777777778,
              "#fb9f3a"
             ],
             [
              0.8888888888888888,
              "#fdca26"
             ],
             [
              1,
              "#f0f921"
             ]
            ],
            "type": "surface"
           }
          ],
          "table": [
           {
            "cells": {
             "fill": {
              "color": "#EBF0F8"
             },
             "line": {
              "color": "white"
             }
            },
            "header": {
             "fill": {
              "color": "#C8D4E3"
             },
             "line": {
              "color": "white"
             }
            },
            "type": "table"
           }
          ]
         },
         "layout": {
          "annotationdefaults": {
           "arrowcolor": "#2a3f5f",
           "arrowhead": 0,
           "arrowwidth": 1
          },
          "autotypenumbers": "strict",
          "coloraxis": {
           "colorbar": {
            "outlinewidth": 0,
            "ticks": ""
           }
          },
          "colorscale": {
           "diverging": [
            [
             0,
             "#8e0152"
            ],
            [
             0.1,
             "#c51b7d"
            ],
            [
             0.2,
             "#de77ae"
            ],
            [
             0.3,
             "#f1b6da"
            ],
            [
             0.4,
             "#fde0ef"
            ],
            [
             0.5,
             "#f7f7f7"
            ],
            [
             0.6,
             "#e6f5d0"
            ],
            [
             0.7,
             "#b8e186"
            ],
            [
             0.8,
             "#7fbc41"
            ],
            [
             0.9,
             "#4d9221"
            ],
            [
             1,
             "#276419"
            ]
           ],
           "sequential": [
            [
             0,
             "#0d0887"
            ],
            [
             0.1111111111111111,
             "#46039f"
            ],
            [
             0.2222222222222222,
             "#7201a8"
            ],
            [
             0.3333333333333333,
             "#9c179e"
            ],
            [
             0.4444444444444444,
             "#bd3786"
            ],
            [
             0.5555555555555556,
             "#d8576b"
            ],
            [
             0.6666666666666666,
             "#ed7953"
            ],
            [
             0.7777777777777778,
             "#fb9f3a"
            ],
            [
             0.8888888888888888,
             "#fdca26"
            ],
            [
             1,
             "#f0f921"
            ]
           ],
           "sequentialminus": [
            [
             0,
             "#0d0887"
            ],
            [
             0.1111111111111111,
             "#46039f"
            ],
            [
             0.2222222222222222,
             "#7201a8"
            ],
            [
             0.3333333333333333,
             "#9c179e"
            ],
            [
             0.4444444444444444,
             "#bd3786"
            ],
            [
             0.5555555555555556,
             "#d8576b"
            ],
            [
             0.6666666666666666,
             "#ed7953"
            ],
            [
             0.7777777777777778,
             "#fb9f3a"
            ],
            [
             0.8888888888888888,
             "#fdca26"
            ],
            [
             1,
             "#f0f921"
            ]
           ]
          },
          "colorway": [
           "#636efa",
           "#EF553B",
           "#00cc96",
           "#ab63fa",
           "#FFA15A",
           "#19d3f3",
           "#FF6692",
           "#B6E880",
           "#FF97FF",
           "#FECB52"
          ],
          "font": {
           "color": "#2a3f5f"
          },
          "geo": {
           "bgcolor": "white",
           "lakecolor": "white",
           "landcolor": "#E5ECF6",
           "showlakes": true,
           "showland": true,
           "subunitcolor": "white"
          },
          "hoverlabel": {
           "align": "left"
          },
          "hovermode": "closest",
          "mapbox": {
           "style": "light"
          },
          "paper_bgcolor": "white",
          "plot_bgcolor": "#E5ECF6",
          "polar": {
           "angularaxis": {
            "gridcolor": "white",
            "linecolor": "white",
            "ticks": ""
           },
           "bgcolor": "#E5ECF6",
           "radialaxis": {
            "gridcolor": "white",
            "linecolor": "white",
            "ticks": ""
           }
          },
          "scene": {
           "xaxis": {
            "backgroundcolor": "#E5ECF6",
            "gridcolor": "white",
            "gridwidth": 2,
            "linecolor": "white",
            "showbackground": true,
            "ticks": "",
            "zerolinecolor": "white"
           },
           "yaxis": {
            "backgroundcolor": "#E5ECF6",
            "gridcolor": "white",
            "gridwidth": 2,
            "linecolor": "white",
            "showbackground": true,
            "ticks": "",
            "zerolinecolor": "white"
           },
           "zaxis": {
            "backgroundcolor": "#E5ECF6",
            "gridcolor": "white",
            "gridwidth": 2,
            "linecolor": "white",
            "showbackground": true,
            "ticks": "",
            "zerolinecolor": "white"
           }
          },
          "shapedefaults": {
           "line": {
            "color": "#2a3f5f"
           }
          },
          "ternary": {
           "aaxis": {
            "gridcolor": "white",
            "linecolor": "white",
            "ticks": ""
           },
           "baxis": {
            "gridcolor": "white",
            "linecolor": "white",
            "ticks": ""
           },
           "bgcolor": "#E5ECF6",
           "caxis": {
            "gridcolor": "white",
            "linecolor": "white",
            "ticks": ""
           }
          },
          "title": {
           "x": 0.05
          },
          "xaxis": {
           "automargin": true,
           "gridcolor": "white",
           "linecolor": "white",
           "ticks": "",
           "title": {
            "standoff": 15
           },
           "zerolinecolor": "white",
           "zerolinewidth": 2
          },
          "yaxis": {
           "automargin": true,
           "gridcolor": "white",
           "linecolor": "white",
           "ticks": "",
           "title": {
            "standoff": 15
           },
           "zerolinecolor": "white",
           "zerolinewidth": 2
          }
         }
        }
       }
      }
     },
     "metadata": {}
    }
   ],
   "source": [
    "fig.update_layout(scene = dict(\n",
    "    xaxis_title = 'Color intensity',\n",
    "    yaxis_title = 'Alcohol',\n",
    "    zaxis_title = 'Proline'\n",
    "))"
   ]
  },
  {
   "cell_type": "code",
   "execution_count": 21,
   "metadata": {},
   "outputs": [
    {
     "output_type": "execute_result",
     "data": {
      "text/plain": [
       "    Alcohol  Malic_Acid       Ash  Ash_Alcanity  Magnesium  Total_Phenols  \\\n",
       "0  0.558324    0.514721  0.574703      0.558700   0.315439       0.240746   \n",
       "1  0.711096    0.250000  0.587166      0.342955   0.400906       0.644080   \n",
       "2  0.322960    0.230939  0.469813      0.487823   0.261342       0.438831   \n",
       "\n",
       "   Flavanoids  Nonflavanoid_Phenols  Proanthocyanins  Color_Intensity  \\\n",
       "0    0.096616              0.605314         0.237559         0.517343   \n",
       "1    0.557138              0.299371         0.470137         0.359386   \n",
       "2    0.366294              0.438337         0.383486         0.151704   \n",
       "\n",
       "        Hue     OD280   Proline  Customer_Segment  \n",
       "0  0.167413  0.153921  0.249323          0.989796  \n",
       "1  0.476558  0.693590  0.595958          0.008333  \n",
       "2  0.468081  0.555396  0.167494          0.500000  "
      ],
      "text/html": "<div>\n<style scoped>\n    .dataframe tbody tr th:only-of-type {\n        vertical-align: middle;\n    }\n\n    .dataframe tbody tr th {\n        vertical-align: top;\n    }\n\n    .dataframe thead th {\n        text-align: right;\n    }\n</style>\n<table border=\"1\" class=\"dataframe\">\n  <thead>\n    <tr style=\"text-align: right;\">\n      <th></th>\n      <th>Alcohol</th>\n      <th>Malic_Acid</th>\n      <th>Ash</th>\n      <th>Ash_Alcanity</th>\n      <th>Magnesium</th>\n      <th>Total_Phenols</th>\n      <th>Flavanoids</th>\n      <th>Nonflavanoid_Phenols</th>\n      <th>Proanthocyanins</th>\n      <th>Color_Intensity</th>\n      <th>Hue</th>\n      <th>OD280</th>\n      <th>Proline</th>\n      <th>Customer_Segment</th>\n    </tr>\n  </thead>\n  <tbody>\n    <tr>\n      <th>0</th>\n      <td>0.558324</td>\n      <td>0.514721</td>\n      <td>0.574703</td>\n      <td>0.558700</td>\n      <td>0.315439</td>\n      <td>0.240746</td>\n      <td>0.096616</td>\n      <td>0.605314</td>\n      <td>0.237559</td>\n      <td>0.517343</td>\n      <td>0.167413</td>\n      <td>0.153921</td>\n      <td>0.249323</td>\n      <td>0.989796</td>\n    </tr>\n    <tr>\n      <th>1</th>\n      <td>0.711096</td>\n      <td>0.250000</td>\n      <td>0.587166</td>\n      <td>0.342955</td>\n      <td>0.400906</td>\n      <td>0.644080</td>\n      <td>0.557138</td>\n      <td>0.299371</td>\n      <td>0.470137</td>\n      <td>0.359386</td>\n      <td>0.476558</td>\n      <td>0.693590</td>\n      <td>0.595958</td>\n      <td>0.008333</td>\n    </tr>\n    <tr>\n      <th>2</th>\n      <td>0.322960</td>\n      <td>0.230939</td>\n      <td>0.469813</td>\n      <td>0.487823</td>\n      <td>0.261342</td>\n      <td>0.438831</td>\n      <td>0.366294</td>\n      <td>0.438337</td>\n      <td>0.383486</td>\n      <td>0.151704</td>\n      <td>0.468081</td>\n      <td>0.555396</td>\n      <td>0.167494</td>\n      <td>0.500000</td>\n    </tr>\n  </tbody>\n</table>\n</div>"
     },
     "metadata": {},
     "execution_count": 21
    }
   ],
   "source": [
    "centers = pd.DataFrame(grouper.cluster_centers_)\n",
    "centers.columns = columns\n",
    "centers.head()"
   ]
  },
  {
   "cell_type": "code",
   "execution_count": 22,
   "metadata": {},
   "outputs": [
    {
     "output_type": "display_data",
     "data": {
      "application/vnd.plotly.v1+json": {
       "config": {
        "plotlyServerURL": "https://plot.ly"
       },
       "data": [
        {
         "marker": {
          "color": [
           1,
           1,
           1,
           1,
           1,
           1,
           1,
           1,
           1,
           1,
           1,
           1,
           1,
           1,
           1,
           1,
           1,
           1,
           1,
           1,
           1,
           1,
           1,
           1,
           1,
           1,
           1,
           1,
           1,
           1,
           1,
           1,
           1,
           1,
           1,
           1,
           1,
           1,
           1,
           1,
           1,
           1,
           1,
           1,
           1,
           1,
           1,
           1,
           1,
           1,
           1,
           1,
           1,
           1,
           1,
           1,
           1,
           1,
           1,
           2,
           2,
           2,
           2,
           2,
           2,
           2,
           2,
           2,
           2,
           2,
           2,
           2,
           2,
           1,
           2,
           2,
           2,
           2,
           2,
           2,
           2,
           2,
           2,
           0,
           2,
           2,
           2,
           2,
           2,
           2,
           2,
           2,
           2,
           2,
           2,
           2,
           2,
           2,
           2,
           2,
           2,
           2,
           2,
           2,
           2,
           2,
           2,
           2,
           2,
           2,
           2,
           2,
           2,
           2,
           2,
           2,
           2,
           2,
           2,
           2,
           2,
           2,
           2,
           2,
           2,
           2,
           2,
           2,
           2,
           2,
           0,
           0,
           0,
           0,
           0,
           0,
           0,
           0,
           0,
           0,
           0,
           0,
           0,
           0,
           0,
           0,
           0,
           0,
           0,
           0,
           0,
           0,
           0,
           0,
           0,
           0,
           0,
           0,
           0,
           0,
           0,
           0,
           0,
           0,
           0,
           0,
           0,
           0,
           0,
           0,
           0,
           0,
           0,
           0,
           0,
           0,
           0,
           0
          ]
         },
         "mode": "markers",
         "text": [
          1,
          1,
          1,
          1,
          1,
          1,
          1,
          1,
          1,
          1,
          1,
          1,
          1,
          1,
          1,
          1,
          1,
          1,
          1,
          1,
          1,
          1,
          1,
          1,
          1,
          1,
          1,
          1,
          1,
          1,
          1,
          1,
          1,
          1,
          1,
          1,
          1,
          1,
          1,
          1,
          1,
          1,
          1,
          1,
          1,
          1,
          1,
          1,
          1,
          1,
          1,
          1,
          1,
          1,
          1,
          1,
          1,
          1,
          1,
          2,
          2,
          2,
          2,
          2,
          2,
          2,
          2,
          2,
          2,
          2,
          2,
          2,
          2,
          1,
          2,
          2,
          2,
          2,
          2,
          2,
          2,
          2,
          2,
          0,
          2,
          2,
          2,
          2,
          2,
          2,
          2,
          2,
          2,
          2,
          2,
          2,
          2,
          2,
          2,
          2,
          2,
          2,
          2,
          2,
          2,
          2,
          2,
          2,
          2,
          2,
          2,
          2,
          2,
          2,
          2,
          2,
          2,
          2,
          2,
          2,
          2,
          2,
          2,
          2,
          2,
          2,
          2,
          2,
          2,
          2,
          0,
          0,
          0,
          0,
          0,
          0,
          0,
          0,
          0,
          0,
          0,
          0,
          0,
          0,
          0,
          0,
          0,
          0,
          0,
          0,
          0,
          0,
          0,
          0,
          0,
          0,
          0,
          0,
          0,
          0,
          0,
          0,
          0,
          0,
          0,
          0,
          0,
          0,
          0,
          0,
          0,
          0,
          0,
          0,
          0,
          0,
          0,
          0
         ],
         "type": "scatter3d",
         "x": [
          0.3720136518771331,
          0.26450511945392485,
          0.3754266211604095,
          0.5563139931740614,
          0.2593856655290102,
          0.4667235494880546,
          0.3387372013651877,
          0.3216723549488054,
          0.33447098976109213,
          0.5068259385665529,
          0.3813993174061433,
          0.31740614334470985,
          0.3686006825938566,
          0.3515358361774744,
          0.5307167235494881,
          0.5136518771331058,
          0.41979522184300344,
          0.4539249146757679,
          0.6331058020477814,
          0.325938566552901,
          0.37286689419795227,
          0.27474402730375425,
          0.21501706484641633,
          0.22610921501706485,
          0.1911262798634812,
          0.1962457337883959,
          0.30034129692832756,
          0.22781569965870305,
          0.27474402730375425,
          0.29180887372013653,
          0.37713310580204773,
          0.4795221843003413,
          0.21843003412969278,
          0.3515358361774744,
          0.2491467576791809,
          0.325938566552901,
          0.2832764505119454,
          0.2534129692832764,
          0.20648464163822525,
          0.325938566552901,
          0.4138225255972696,
          0.2559726962457338,
          0.35409556313993173,
          0.2627986348122867,
          0.32081911262798635,
          0.33788395904436863,
          0.3088737201365188,
          0.4112627986348123,
          0.41979522184300344,
          0.6501706484641638,
          0.5051194539249146,
          0.3686006825938566,
          0.4923208191126279,
          0.42832764505119447,
          0.38993174061433444,
          0.424061433447099,
          0.4351535836177475,
          0.40273037542662116,
          0.4709897610921502,
          0.057167235494880536,
          0.1697952218430034,
          0.3813993174061433,
          0.21501706484641633,
          0.2704778156996587,
          0.1424914675767918,
          0.2832764505119454,
          0.3430034129692833,
          0.2901023890784983,
          0.16126279863481227,
          0.13395904436860068,
          0.15102389078498293,
          0.17918088737201363,
          0.2098976109215017,
          0.1766211604095563,
          0.16467576791808872,
          0.21501706484641633,
          0.2832764505119454,
          0.11689419795221842,
          0.18088737201365188,
          0.1100682593856655,
          0.10409556313993173,
          0.22354948805460748,
          0.07849829351535836,
          0.30034129692832756,
          0.15102389078498293,
          0.1143344709897611,
          0.09982935153583619,
          0.11262798634812288,
          0.1296928327645051,
          0.03924914675767918,
          0.09556313993174059,
          0.1979522184300341,
          0.15102389078498293,
          0.07423208191126279,
          0.16808873720136516,
          0.11262798634812288,
          0.10409556313993173,
          0.13822525597269622,
          0.27474402730375425,
          0.08703071672354948,
          0.17235494880546073,
          0.09982935153583619,
          0.1296928327645051,
          0.06655290102389078,
          0.14163822525597267,
          0.12116040955631399,
          0.18088737201365188,
          0.17235494880546073,
          0.12116040955631399,
          0.11689419795221842,
          0.13822525597269622,
          0.06143344709897611,
          0.21501706484641633,
          0.15358361774744025,
          0.13822525597269622,
          0.052901023890784965,
          0.057167235494880536,
          0.06655290102389078,
          0.18088737201365188,
          0,
          0.16808873720136516,
          0.40273037542662116,
          0.06825938566552903,
          0.11262798634812288,
          0.1296928327645051,
          0.12627986348122863,
          0.22696245733788392,
          0.14675767918088736,
          0.07167235494880547,
          0.11262798634812288,
          0.2406143344709897,
          0.3515358361774744,
          0.37713310580204773,
          0.31740614334470985,
          0.35580204778157,
          0.4965870307167235,
          0.21928327645051196,
          0.31740614334470985,
          0.37713310580204773,
          0.31058020477815695,
          0.2832764505119454,
          0.3686006825938566,
          0.26194539249146753,
          0.2662116040955631,
          0.5912969283276451,
          0.23208191126279862,
          0.3088737201365188,
          0.5435153583617748,
          0.6092150170648464,
          0.6928327645051194,
          0.6245733788395904,
          0.8122866894197952,
          0.4965870307167235,
          0.78839590443686,
          0.5392491467576791,
          0.5648464163822525,
          0.659556313993174,
          0.5307167235494881,
          0.9999999999999999,
          0.893344709897611,
          0.5435153583617748,
          0.39249146757679176,
          0.36689419795221845,
          0.341296928327645,
          0.7081911262798635,
          0.45563139931740615,
          0.8020477815699658,
          0.7662116040955631,
          0.6296928327645052,
          0.6160409556313993,
          0.36006825938566556,
          0.735494795221843,
          0.7184300341296928,
          0.5477815699658704,
          0.5136518771331058,
          0.7610921501706484,
          0.6843003412969284,
          0.6757679180887372
         ],
         "y": [
          0.8421052631578951,
          0.5710526315789473,
          0.560526315789474,
          0.8789473684210525,
          0.5815789473684214,
          0.8342105263157893,
          0.8842105263157896,
          0.797368421052632,
          1,
          0.7447368421052629,
          0.8078947368421052,
          0.8131578947368419,
          0.7157894736842105,
          0.9789473684210526,
          0.8815789473684212,
          0.6842105263157898,
          0.8605263157894738,
          0.736842105263158,
          0.831578947368421,
          0.6868421052631581,
          0.797368421052632,
          0.5,
          0.7052631578947373,
          0.47894736842105257,
          0.6499999999999999,
          0.5315789473684216,
          0.6210526315789475,
          0.5973684210526318,
          0.7473684210526317,
          0.7868421052631578,
          0.7105263157894739,
          0.6710526315789473,
          0.6973684210526314,
          0.7184210526315788,
          0.6526315789473687,
          0.6447368421052633,
          0.5921052631578947,
          0.5315789473684216,
          0.5368421052631582,
          0.8394736842105264,
          0.6657894736842107,
          0.6263157894736846,
          0.7500000000000004,
          0.5815789473684214,
          0.5315789473684216,
          0.836842105263158,
          0.8815789473684212,
          0.7552631578947371,
          0.8078947368421052,
          0.7657894736842104,
          0.5315789473684216,
          0.736842105263158,
          0.7342105263157896,
          0.7210526315789472,
          0.7131578947368422,
          0.6657894736842107,
          0.8394736842105264,
          0.594736842105263,
          0.7078947368421056,
          0.3526315789473684,
          0.34210526315789513,
          0.4236842105263161,
          0.6947368421052631,
          0.3526315789473684,
          0.30000000000000027,
          0.3526315789473684,
          0.5473684210526315,
          0.3526315789473684,
          0.6078947368421055,
          0.310526315789474,
          0.331578947368421,
          0.7447368421052629,
          0.6473684210526316,
          0.5157894736842108,
          0.2447368421052638,
          0.1657894736842107,
          0.5263157894736841,
          0.2131578947368422,
          0.34210526315789513,
          0.43947368421052646,
          0.2552631578947371,
          0.44473684210526354,
          0.2763157894736845,
          0.5315789473684216,
          0.2131578947368422,
          0.43157894736842106,
          0.29736842105263195,
          0.1631578947368424,
          0.16052631578947407,
          0.2763157894736845,
          0.2763157894736845,
          0.2552631578947371,
          0.43684210526315814,
          0.331578947368421,
          0.155263157894737,
          0.3789473684210529,
          0.20526315789473726,
          0.331578947368421,
          0.3526315789473684,
          0.331578947368421,
          0.2763157894736845,
          0.4131578947368424,
          0.34473684210526345,
          0.20789473684210558,
          0.38947368421052664,
          0.3657894736842109,
          0.3210526315789477,
          0.44473684210526354,
          0.3131578947368423,
          0.15263157894736867,
          0.11315789473684257,
          0.39210526315789496,
          0.19210526315789478,
          0.10000000000000053,
          0.2763157894736845,
          0,
          0.20789473684210558,
          0.3657894736842109,
          0.45789473684210513,
          0.2552631578947371,
          0.1105263157894738,
          0.13947368421052664,
          0.3657894736842109,
          0.5315789473684216,
          0.2210526315789476,
          0.2736842105263162,
          0.3684210526315792,
          0.20000000000000018,
          0.3526315789473684,
          0.26578947368421035,
          0.4815789473684209,
          0.4868421052631584,
          0.4684210526315793,
          0.43947368421052646,
          0.38947368421052664,
          0.4131578947368424,
          0.3210526315789477,
          0.3947368421052633,
          0.6473684210526316,
          0.47631578947368425,
          0.5,
          0.6131578947368421,
          0.655263157894737,
          0.6815789473684211,
          0.3210526315789477,
          0.560526315789474,
          0.7500000000000004,
          0.48421052631578965,
          0.6026315789473689,
          0.5394736842105265,
          0.6499999999999999,
          0.4631578947368422,
          0.5473684210526315,
          0.5789473684210531,
          0.4078947368421053,
          0.5631578947368423,
          0.7394736842105263,
          0.37368421052631584,
          0.8710526315789475,
          0.6447368421052633,
          0.3500000000000001,
          0.7000000000000002,
          0.47894736842105257,
          0.5078947368421058,
          0.7236842105263159,
          0.7105263157894739,
          0.6368421052631579,
          0.4710526315789476,
          0.6710526315789473,
          0.6236842105263158,
          0.3078947368421052,
          0.45789473684210513,
          0.823684210526316,
          0.7052631578947373,
          0.6236842105263158,
          0.5894736842105264,
          0.5631578947368423,
          0.8157894736842106
         ],
         "z": [
          0.5613409415121255,
          0.5506419400855921,
          0.6469329529243938,
          0.8573466476462198,
          0.3259629101283881,
          0.8359486447931527,
          0.7218259629101285,
          0.725392296718973,
          0.5470756062767476,
          0.5470756062767476,
          0.8787446504992867,
          0.7146932952924394,
          0.7432239657631955,
          0.6219686162624822,
          0.9051355206847361,
          0.7360912981455064,
          0.7146932952924394,
          0.6077032810271041,
          1,
          0.40442225392296727,
          0.35805991440798857,
          0.35092724679029963,
          0.5399429386590585,
          0.5256776034236805,
          0.40442225392296727,
          0.3937232524964337,
          0.6540656205420827,
          0.7182596291012839,
          0.4543509272467904,
          0.5399429386590585,
          0.7182596291012839,
          0.8823109843081313,
          0.5078459343794579,
          0.6825962910128388,
          0.5827389443651926,
          0.4579172610556348,
          0.4293865905848788,
          0.5898716119828816,
          0.529243937232525,
          0.3437945791726106,
          0.36875891583452214,
          0.5399429386590585,
          0.5827389443651926,
          0.2867332382310984,
          0.43295292439372324,
          0.5720399429386591,
          0.5613409415121255,
          0.5042796005706135,
          0.557774607703281,
          0.7004279600570614,
          0.6219686162624822,
          0.7039942938659058,
          0.6504992867332383,
          0.782453637660485,
          0.557774607703281,
          0.6005706134094152,
          0.4935805991440799,
          0.7075606276747504,
          0.7182596291012839,
          0.17261055634807418,
          0.2867332382310984,
          0.12268188302425106,
          0.2510699001426534,
          0.10128388017118403,
          0.054921540656205386,
          0.2853067047075606,
          0.15977175463623397,
          0.1654778887303852,
          0.33666191155492153,
          0.31383737517831667,
          0.4222539229671898,
          0.09415121255349498,
          0.13837375178316688,
          0.5042796005706135,
          0.4336661911554922,
          0.10699001426533525,
          0.08131241084165478,
          0.15834522111269614,
          0.33666191155492153,
          0.1319543509272468,
          0,
          0.3109843081312411,
          0.2510699001426534,
          0.16904422253922965,
          0.17261055634807418,
          0.12268188302425106,
          0.15477888730385161,
          0.20256776034236804,
          0.2867332382310984,
          0.24750356633380885,
          0.1440798858773181,
          0.12268188302425106,
          0.15477888730385161,
          0.008559201141226797,
          0.047788873038516394,
          0.4700427960057062,
          0.24750356633380885,
          0.10699001426533525,
          0.27246790299572043,
          0.09129814550641938,
          0.30813124108416545,
          0.20256776034236804,
          0.11412268188302424,
          0.09771754636233951,
          0.2810271041369472,
          0.02639087018544936,
          0.1654778887303852,
          0.14978601997146931,
          0.02425106990014264,
          0.2867332382310984,
          0.20256776034236804,
          0.033523537803138354,
          0.23466476462196864,
          0.11126961483594863,
          0.07631954350927247,
          0.09201141226818829,
          0.15477888730385161,
          0.047788873038516394,
          0.06704707560627673,
          0.20399429386590587,
          0.24750356633380885,
          0.13338088445078458,
          0.062054208273894434,
          0.07275320970042795,
          0.07275320970042795,
          0.07132667617689017,
          0.052781740370898694,
          0.1340941512125535,
          0.0456490727532097,
          0.21540656205420824,
          0.2510699001426534,
          0.17974322396576317,
          0.20114122681883026,
          0.22967189728958629,
          0.2653352353780314,
          0.297432239657632,
          0.3152639087018545,
          0.16904422253922965,
          0.21540656205420824,
          0.2225392296718973,
          0.22967189728958629,
          0.35805991440798857,
          0.17261055634807418,
          0.1940085592011412,
          0.4115549215406562,
          0.3937232524964337,
          0.09771754636233951,
          0.24750356633380885,
          0.2653352353780314,
          0.1940085592011412,
          0.15834522111269614,
          0.1440798858773181,
          0.1048502139800285,
          0.2831669044222539,
          0.25820256776034234,
          0.318830242510699,
          0.1440798858773181,
          0.4293865905848788,
          0.27246790299572043,
          0.24393723252496433,
          0.17261055634807418,
          0.2867332382310984,
          0.20827389443651925,
          0.2831669044222539,
          0.2403708987161198,
          0.17261055634807418,
          0.297432239657632,
          0.29029957203994294,
          0.33666191155492153,
          0.2510699001426534,
          0.1654778887303852,
          0.1369472182596291,
          0.27246790299572043,
          0.3295292439372326,
          0.33666191155492153,
          0.3972895863052782,
          0.40085592011412274,
          0.20114122681883026
         ]
        },
        {
         "marker": {
          "color": "red"
         },
         "mode": "markers",
         "text": [
          "0",
          "1",
          "2"
         ],
         "type": "scatter3d",
         "x": [
          0.5173434544124818,
          0.3593856655290102,
          0.15170401147549095
         ],
         "y": [
          0.5583243823845329,
          0.7110964912280704,
          0.32295957284515664
         ],
         "z": [
          0.24932312439954585,
          0.5959581550166431,
          0.1674936426223408
         ]
        }
       ],
       "layout": {
        "scene": {
         "xaxis": {
          "title": {
           "text": "Color intensity"
          }
         },
         "yaxis": {
          "title": {
           "text": "Alcohol"
          }
         },
         "zaxis": {
          "title": {
           "text": "Proline"
          }
         }
        },
        "template": {
         "data": {
          "bar": [
           {
            "error_x": {
             "color": "#2a3f5f"
            },
            "error_y": {
             "color": "#2a3f5f"
            },
            "marker": {
             "line": {
              "color": "#E5ECF6",
              "width": 0.5
             }
            },
            "type": "bar"
           }
          ],
          "barpolar": [
           {
            "marker": {
             "line": {
              "color": "#E5ECF6",
              "width": 0.5
             }
            },
            "type": "barpolar"
           }
          ],
          "carpet": [
           {
            "aaxis": {
             "endlinecolor": "#2a3f5f",
             "gridcolor": "white",
             "linecolor": "white",
             "minorgridcolor": "white",
             "startlinecolor": "#2a3f5f"
            },
            "baxis": {
             "endlinecolor": "#2a3f5f",
             "gridcolor": "white",
             "linecolor": "white",
             "minorgridcolor": "white",
             "startlinecolor": "#2a3f5f"
            },
            "type": "carpet"
           }
          ],
          "choropleth": [
           {
            "colorbar": {
             "outlinewidth": 0,
             "ticks": ""
            },
            "type": "choropleth"
           }
          ],
          "contour": [
           {
            "colorbar": {
             "outlinewidth": 0,
             "ticks": ""
            },
            "colorscale": [
             [
              0,
              "#0d0887"
             ],
             [
              0.1111111111111111,
              "#46039f"
             ],
             [
              0.2222222222222222,
              "#7201a8"
             ],
             [
              0.3333333333333333,
              "#9c179e"
             ],
             [
              0.4444444444444444,
              "#bd3786"
             ],
             [
              0.5555555555555556,
              "#d8576b"
             ],
             [
              0.6666666666666666,
              "#ed7953"
             ],
             [
              0.7777777777777778,
              "#fb9f3a"
             ],
             [
              0.8888888888888888,
              "#fdca26"
             ],
             [
              1,
              "#f0f921"
             ]
            ],
            "type": "contour"
           }
          ],
          "contourcarpet": [
           {
            "colorbar": {
             "outlinewidth": 0,
             "ticks": ""
            },
            "type": "contourcarpet"
           }
          ],
          "heatmap": [
           {
            "colorbar": {
             "outlinewidth": 0,
             "ticks": ""
            },
            "colorscale": [
             [
              0,
              "#0d0887"
             ],
             [
              0.1111111111111111,
              "#46039f"
             ],
             [
              0.2222222222222222,
              "#7201a8"
             ],
             [
              0.3333333333333333,
              "#9c179e"
             ],
             [
              0.4444444444444444,
              "#bd3786"
             ],
             [
              0.5555555555555556,
              "#d8576b"
             ],
             [
              0.6666666666666666,
              "#ed7953"
             ],
             [
              0.7777777777777778,
              "#fb9f3a"
             ],
             [
              0.8888888888888888,
              "#fdca26"
             ],
             [
              1,
              "#f0f921"
             ]
            ],
            "type": "heatmap"
           }
          ],
          "heatmapgl": [
           {
            "colorbar": {
             "outlinewidth": 0,
             "ticks": ""
            },
            "colorscale": [
             [
              0,
              "#0d0887"
             ],
             [
              0.1111111111111111,
              "#46039f"
             ],
             [
              0.2222222222222222,
              "#7201a8"
             ],
             [
              0.3333333333333333,
              "#9c179e"
             ],
             [
              0.4444444444444444,
              "#bd3786"
             ],
             [
              0.5555555555555556,
              "#d8576b"
             ],
             [
              0.6666666666666666,
              "#ed7953"
             ],
             [
              0.7777777777777778,
              "#fb9f3a"
             ],
             [
              0.8888888888888888,
              "#fdca26"
             ],
             [
              1,
              "#f0f921"
             ]
            ],
            "type": "heatmapgl"
           }
          ],
          "histogram": [
           {
            "marker": {
             "colorbar": {
              "outlinewidth": 0,
              "ticks": ""
             }
            },
            "type": "histogram"
           }
          ],
          "histogram2d": [
           {
            "colorbar": {
             "outlinewidth": 0,
             "ticks": ""
            },
            "colorscale": [
             [
              0,
              "#0d0887"
             ],
             [
              0.1111111111111111,
              "#46039f"
             ],
             [
              0.2222222222222222,
              "#7201a8"
             ],
             [
              0.3333333333333333,
              "#9c179e"
             ],
             [
              0.4444444444444444,
              "#bd3786"
             ],
             [
              0.5555555555555556,
              "#d8576b"
             ],
             [
              0.6666666666666666,
              "#ed7953"
             ],
             [
              0.7777777777777778,
              "#fb9f3a"
             ],
             [
              0.8888888888888888,
              "#fdca26"
             ],
             [
              1,
              "#f0f921"
             ]
            ],
            "type": "histogram2d"
           }
          ],
          "histogram2dcontour": [
           {
            "colorbar": {
             "outlinewidth": 0,
             "ticks": ""
            },
            "colorscale": [
             [
              0,
              "#0d0887"
             ],
             [
              0.1111111111111111,
              "#46039f"
             ],
             [
              0.2222222222222222,
              "#7201a8"
             ],
             [
              0.3333333333333333,
              "#9c179e"
             ],
             [
              0.4444444444444444,
              "#bd3786"
             ],
             [
              0.5555555555555556,
              "#d8576b"
             ],
             [
              0.6666666666666666,
              "#ed7953"
             ],
             [
              0.7777777777777778,
              "#fb9f3a"
             ],
             [
              0.8888888888888888,
              "#fdca26"
             ],
             [
              1,
              "#f0f921"
             ]
            ],
            "type": "histogram2dcontour"
           }
          ],
          "mesh3d": [
           {
            "colorbar": {
             "outlinewidth": 0,
             "ticks": ""
            },
            "type": "mesh3d"
           }
          ],
          "parcoords": [
           {
            "line": {
             "colorbar": {
              "outlinewidth": 0,
              "ticks": ""
             }
            },
            "type": "parcoords"
           }
          ],
          "pie": [
           {
            "automargin": true,
            "type": "pie"
           }
          ],
          "scatter": [
           {
            "marker": {
             "colorbar": {
              "outlinewidth": 0,
              "ticks": ""
             }
            },
            "type": "scatter"
           }
          ],
          "scatter3d": [
           {
            "line": {
             "colorbar": {
              "outlinewidth": 0,
              "ticks": ""
             }
            },
            "marker": {
             "colorbar": {
              "outlinewidth": 0,
              "ticks": ""
             }
            },
            "type": "scatter3d"
           }
          ],
          "scattercarpet": [
           {
            "marker": {
             "colorbar": {
              "outlinewidth": 0,
              "ticks": ""
             }
            },
            "type": "scattercarpet"
           }
          ],
          "scattergeo": [
           {
            "marker": {
             "colorbar": {
              "outlinewidth": 0,
              "ticks": ""
             }
            },
            "type": "scattergeo"
           }
          ],
          "scattergl": [
           {
            "marker": {
             "colorbar": {
              "outlinewidth": 0,
              "ticks": ""
             }
            },
            "type": "scattergl"
           }
          ],
          "scattermapbox": [
           {
            "marker": {
             "colorbar": {
              "outlinewidth": 0,
              "ticks": ""
             }
            },
            "type": "scattermapbox"
           }
          ],
          "scatterpolar": [
           {
            "marker": {
             "colorbar": {
              "outlinewidth": 0,
              "ticks": ""
             }
            },
            "type": "scatterpolar"
           }
          ],
          "scatterpolargl": [
           {
            "marker": {
             "colorbar": {
              "outlinewidth": 0,
              "ticks": ""
             }
            },
            "type": "scatterpolargl"
           }
          ],
          "scatterternary": [
           {
            "marker": {
             "colorbar": {
              "outlinewidth": 0,
              "ticks": ""
             }
            },
            "type": "scatterternary"
           }
          ],
          "surface": [
           {
            "colorbar": {
             "outlinewidth": 0,
             "ticks": ""
            },
            "colorscale": [
             [
              0,
              "#0d0887"
             ],
             [
              0.1111111111111111,
              "#46039f"
             ],
             [
              0.2222222222222222,
              "#7201a8"
             ],
             [
              0.3333333333333333,
              "#9c179e"
             ],
             [
              0.4444444444444444,
              "#bd3786"
             ],
             [
              0.5555555555555556,
              "#d8576b"
             ],
             [
              0.6666666666666666,
              "#ed7953"
             ],
             [
              0.7777777777777778,
              "#fb9f3a"
             ],
             [
              0.8888888888888888,
              "#fdca26"
             ],
             [
              1,
              "#f0f921"
             ]
            ],
            "type": "surface"
           }
          ],
          "table": [
           {
            "cells": {
             "fill": {
              "color": "#EBF0F8"
             },
             "line": {
              "color": "white"
             }
            },
            "header": {
             "fill": {
              "color": "#C8D4E3"
             },
             "line": {
              "color": "white"
             }
            },
            "type": "table"
           }
          ]
         },
         "layout": {
          "annotationdefaults": {
           "arrowcolor": "#2a3f5f",
           "arrowhead": 0,
           "arrowwidth": 1
          },
          "autotypenumbers": "strict",
          "coloraxis": {
           "colorbar": {
            "outlinewidth": 0,
            "ticks": ""
           }
          },
          "colorscale": {
           "diverging": [
            [
             0,
             "#8e0152"
            ],
            [
             0.1,
             "#c51b7d"
            ],
            [
             0.2,
             "#de77ae"
            ],
            [
             0.3,
             "#f1b6da"
            ],
            [
             0.4,
             "#fde0ef"
            ],
            [
             0.5,
             "#f7f7f7"
            ],
            [
             0.6,
             "#e6f5d0"
            ],
            [
             0.7,
             "#b8e186"
            ],
            [
             0.8,
             "#7fbc41"
            ],
            [
             0.9,
             "#4d9221"
            ],
            [
             1,
             "#276419"
            ]
           ],
           "sequential": [
            [
             0,
             "#0d0887"
            ],
            [
             0.1111111111111111,
             "#46039f"
            ],
            [
             0.2222222222222222,
             "#7201a8"
            ],
            [
             0.3333333333333333,
             "#9c179e"
            ],
            [
             0.4444444444444444,
             "#bd3786"
            ],
            [
             0.5555555555555556,
             "#d8576b"
            ],
            [
             0.6666666666666666,
             "#ed7953"
            ],
            [
             0.7777777777777778,
             "#fb9f3a"
            ],
            [
             0.8888888888888888,
             "#fdca26"
            ],
            [
             1,
             "#f0f921"
            ]
           ],
           "sequentialminus": [
            [
             0,
             "#0d0887"
            ],
            [
             0.1111111111111111,
             "#46039f"
            ],
            [
             0.2222222222222222,
             "#7201a8"
            ],
            [
             0.3333333333333333,
             "#9c179e"
            ],
            [
             0.4444444444444444,
             "#bd3786"
            ],
            [
             0.5555555555555556,
             "#d8576b"
            ],
            [
             0.6666666666666666,
             "#ed7953"
            ],
            [
             0.7777777777777778,
             "#fb9f3a"
            ],
            [
             0.8888888888888888,
             "#fdca26"
            ],
            [
             1,
             "#f0f921"
            ]
           ]
          },
          "colorway": [
           "#636efa",
           "#EF553B",
           "#00cc96",
           "#ab63fa",
           "#FFA15A",
           "#19d3f3",
           "#FF6692",
           "#B6E880",
           "#FF97FF",
           "#FECB52"
          ],
          "font": {
           "color": "#2a3f5f"
          },
          "geo": {
           "bgcolor": "white",
           "lakecolor": "white",
           "landcolor": "#E5ECF6",
           "showlakes": true,
           "showland": true,
           "subunitcolor": "white"
          },
          "hoverlabel": {
           "align": "left"
          },
          "hovermode": "closest",
          "mapbox": {
           "style": "light"
          },
          "paper_bgcolor": "white",
          "plot_bgcolor": "#E5ECF6",
          "polar": {
           "angularaxis": {
            "gridcolor": "white",
            "linecolor": "white",
            "ticks": ""
           },
           "bgcolor": "#E5ECF6",
           "radialaxis": {
            "gridcolor": "white",
            "linecolor": "white",
            "ticks": ""
           }
          },
          "scene": {
           "xaxis": {
            "backgroundcolor": "#E5ECF6",
            "gridcolor": "white",
            "gridwidth": 2,
            "linecolor": "white",
            "showbackground": true,
            "ticks": "",
            "zerolinecolor": "white"
           },
           "yaxis": {
            "backgroundcolor": "#E5ECF6",
            "gridcolor": "white",
            "gridwidth": 2,
            "linecolor": "white",
            "showbackground": true,
            "ticks": "",
            "zerolinecolor": "white"
           },
           "zaxis": {
            "backgroundcolor": "#E5ECF6",
            "gridcolor": "white",
            "gridwidth": 2,
            "linecolor": "white",
            "showbackground": true,
            "ticks": "",
            "zerolinecolor": "white"
           }
          },
          "shapedefaults": {
           "line": {
            "color": "#2a3f5f"
           }
          },
          "ternary": {
           "aaxis": {
            "gridcolor": "white",
            "linecolor": "white",
            "ticks": ""
           },
           "baxis": {
            "gridcolor": "white",
            "linecolor": "white",
            "ticks": ""
           },
           "bgcolor": "#E5ECF6",
           "caxis": {
            "gridcolor": "white",
            "linecolor": "white",
            "ticks": ""
           }
          },
          "title": {
           "x": 0.05
          },
          "xaxis": {
           "automargin": true,
           "gridcolor": "white",
           "linecolor": "white",
           "ticks": "",
           "title": {
            "standoff": 15
           },
           "zerolinecolor": "white",
           "zerolinewidth": 2
          },
          "yaxis": {
           "automargin": true,
           "gridcolor": "white",
           "linecolor": "white",
           "ticks": "",
           "title": {
            "standoff": 15
           },
           "zerolinecolor": "white",
           "zerolinewidth": 2
          }
         }
        }
       }
      }
     },
     "metadata": {}
    }
   ],
   "source": [
    "fig.add_trace(go.Scatter3d(x = centers['Color_Intensity'], \n",
    "                         y=centers['Alcohol'],\n",
    "                         z=centers['Proline'],\n",
    "                         mode = 'markers',\n",
    "                         marker = dict(color = 'red'),\n",
    "                         text = [0,1,2]))\n",
    "fig.show()"
   ]
  },
  {
   "source": [
    "## DBSCAN \n",
    "\n",
    "K-means does not work well when our clusters do not have radial symmetry, that is, they are not close to a circle, when we cannot separate it with a circle. Here we can see that these two clusters cannot be separated by a circle or a ball, so K-means ends up misclassifying this.\n",
    "\n",
    "KMeans' path does not usually show a good result when there are noises and groups of non-radial symmetry.\n",
    "\n",
    "<img src='imgs/kmeans.png'  style=\"width: 600px;\"/>\n",
    "\n"
   ],
   "cell_type": "markdown",
   "metadata": {}
  },
  {
   "source": [
    "KMeans - DBSCAN differnces\n",
    "\n",
    "<img src='imgs/db_scan-kmeans.png'  style=\"width: 600px;\"/>"
   ],
   "cell_type": "markdown",
   "metadata": {}
  },
  {
   "source": [
    "DBSCAN groups the groups by the minimum distance between two points (eps) given a specific density (min_samples)\n",
    "\n",
    "The goal is to make each group have at least a minimum number or minimum density, that “min_samples” of neighboring points, considering as a neighborhood condition a distance less than or equal to “eps”, which is the “epsilon” that we saw there.\n",
    "\n",
    "<img src='imgs/dbscan.gif'  style=\"width: 600px;\"/>\n",
    "\n",
    "\n",
    "\n",
    "What are the advantages of DBSCAN? It is robust to outliers, that is, it is robust to noise. It can detect any type of cluster form. The computational cost of it is not so high and it is the second most used clustering algorithm, that is, it is very popular.\n",
    "\n",
    "What are the disadvantages? It does not work well with high dimensional data. As with KMeans, when we have a lot of attributes, fifteen, twenty, sometimes thirty attributes, it doesn't usually work as well. Why? Because the distance metrics end up losing a little bit of meaning.\n"
   ],
   "cell_type": "markdown",
   "metadata": {}
  },
  {
   "cell_type": "code",
   "execution_count": 23,
   "metadata": {},
   "outputs": [
    {
     "output_type": "execute_result",
     "data": {
      "text/plain": [
       "DBSCAN(eps=1.31, metric='manhattan', min_samples=15)"
      ]
     },
     "metadata": {},
     "execution_count": 23
    }
   ],
   "source": [
    "# Density Based Spatial Clustering of Applications with Noise\n",
    "from sklearn.cluster import DBSCAN\n",
    "\n",
    "# eps: The maximum distance between two samples for one to be considered as in the neighborhood of the other.\n",
    "grouper = DBSCAN(eps = 1.31, min_samples= 15, metric = 'manhattan')\n",
    "grouper.fit(df)"
   ]
  },
  {
   "cell_type": "code",
   "execution_count": 24,
   "metadata": {},
   "outputs": [
    {
     "output_type": "execute_result",
     "data": {
      "text/plain": [
       "array([ 0,  0,  0,  0, -1,  0,  0,  0,  0,  0,  0,  0,  0, -1,  0,  0,  0,\n",
       "        0,  0,  0,  0,  0,  0,  0,  0, -1,  0,  0,  0,  0,  0,  0,  0,  0,\n",
       "        0,  0,  0,  0,  0, -1,  0, -1,  0, -1,  0, -1,  0,  0,  0,  0, -1,\n",
       "        0,  0,  0,  0,  0,  0,  0,  0, -1, -1, -1, -1, -1, -1, -1, -1,  1,\n",
       "       -1, -1, -1, -1, -1, -1, -1, -1, -1, -1, -1, -1, -1,  1, -1, -1, -1,\n",
       "        1, -1, -1, -1, -1,  1,  1, -1, -1, -1, -1, -1, -1, -1, -1, -1,  1,\n",
       "       -1,  1,  1, -1,  1,  1,  1, -1, -1, -1, -1, -1, -1, -1,  1,  1, -1,\n",
       "        1, -1, -1, -1, -1, -1,  1, -1, -1, -1, -1, -1,  2, -1,  2, -1,  2,\n",
       "       -1, -1,  2, -1, -1,  2, -1, -1,  2,  2, -1,  2,  2,  2, -1, -1, -1,\n",
       "        2, -1,  2,  2, -1, -1, -1,  2,  2,  2,  2,  2, -1,  2,  2,  2, -1,\n",
       "        2,  2,  2,  2,  2,  2,  2,  2], dtype=int64)"
      ]
     },
     "metadata": {},
     "execution_count": 24
    }
   ],
   "source": [
    "# -1 values represents noise\n",
    "grouper.labels_"
   ]
  },
  {
   "cell_type": "code",
   "execution_count": 25,
   "metadata": {},
   "outputs": [
    {
     "output_type": "stream",
     "name": "stdout",
     "text": [
      "[ 0  0  0  0 -1  0  0  0  0  0  0  0  0 -1  0  0  0  0  0  0  0  0  0  0\n  0 -1  0  0  0  0  0  0  0  0  0  0  0  0  0 -1  0 -1  0 -1  0 -1  0  0\n  0  0 -1  0  0  0  0  0  0  0  0 -1 -1 -1 -1 -1 -1 -1 -1  1 -1 -1 -1 -1\n -1 -1 -1 -1 -1 -1 -1 -1 -1  1 -1 -1 -1  1 -1 -1 -1 -1  1  1 -1 -1 -1 -1\n -1 -1 -1 -1 -1  1 -1  1  1 -1  1  1  1 -1 -1 -1 -1 -1 -1 -1  1  1 -1  1\n -1 -1 -1 -1 -1  1 -1 -1 -1 -1 -1  2 -1  2 -1  2 -1 -1  2 -1 -1  2 -1 -1\n  2  2 -1  2  2  2 -1 -1 -1  2 -1  2  2 -1 -1 -1  2  2  2  2  2 -1  2  2\n  2 -1  2  2  2  2  2  2  2  2]\n"
     ]
    }
   ],
   "source": [
    "grouper = DBSCAN(eps = 1.31, min_samples = 15, metric = 'manhattan')\n",
    "grouper.fit(df)\n",
    "print(grouper.labels_)\n"
   ]
  },
  {
   "cell_type": "code",
   "execution_count": 26,
   "metadata": {},
   "outputs": [
    {
     "output_type": "stream",
     "name": "stdout",
     "text": [
      "[1 1 1 1 0 1 1 1 1 1 1 1 1 0 1 1 1 1 1 1 1 1 1 1 1 0 1 1 1 1 1 1 1 1 1 1 1\n 1 1 0 1 0 1 0 1 0 1 1 1 1 0 1 1 1 1 1 1 1 1 0 0 0 0 0 0 0 0 2 0 0 0 0 0 0\n 0 0 0 0 0 0 0 2 0 0 0 2 0 0 0 0 2 2 0 0 0 0 0 0 0 0 0 2 0 2 2 0 2 2 2 0 0\n 0 0 0 0 0 2 2 0 2 0 0 0 0 0 2 0 0 0 0 0 3 0 3 0 3 0 0 3 0 0 3 0 0 3 3 0 3\n 3 3 0 0 0 3 0 3 3 0 0 0 3 3 3 3 3 0 3 3 3 0 3 3 3 3 3 3 3 3]\n"
     ]
    }
   ],
   "source": [
    "labels = grouper.labels_+1\n",
    "print(labels)"
   ]
  },
  {
   "cell_type": "code",
   "execution_count": 27,
   "metadata": {},
   "outputs": [
    {
     "output_type": "display_data",
     "data": {
      "application/vnd.plotly.v1+json": {
       "config": {
        "plotlyServerURL": "https://plot.ly"
       },
       "data": [
        {
         "marker": {
          "color": [
           1,
           1,
           1,
           1,
           0,
           1,
           1,
           1,
           1,
           1,
           1,
           1,
           1,
           0,
           1,
           1,
           1,
           1,
           1,
           1,
           1,
           1,
           1,
           1,
           1,
           0,
           1,
           1,
           1,
           1,
           1,
           1,
           1,
           1,
           1,
           1,
           1,
           1,
           1,
           0,
           1,
           0,
           1,
           0,
           1,
           0,
           1,
           1,
           1,
           1,
           0,
           1,
           1,
           1,
           1,
           1,
           1,
           1,
           1,
           0,
           0,
           0,
           0,
           0,
           0,
           0,
           0,
           2,
           0,
           0,
           0,
           0,
           0,
           0,
           0,
           0,
           0,
           0,
           0,
           0,
           0,
           2,
           0,
           0,
           0,
           2,
           0,
           0,
           0,
           0,
           2,
           2,
           0,
           0,
           0,
           0,
           0,
           0,
           0,
           0,
           0,
           2,
           0,
           2,
           2,
           0,
           2,
           2,
           2,
           0,
           0,
           0,
           0,
           0,
           0,
           0,
           2,
           2,
           0,
           2,
           0,
           0,
           0,
           0,
           0,
           2,
           0,
           0,
           0,
           0,
           0,
           3,
           0,
           3,
           0,
           3,
           0,
           0,
           3,
           0,
           0,
           3,
           0,
           0,
           3,
           3,
           0,
           3,
           3,
           3,
           0,
           0,
           0,
           3,
           0,
           3,
           3,
           0,
           0,
           0,
           3,
           3,
           3,
           3,
           3,
           0,
           3,
           3,
           3,
           0,
           3,
           3,
           3,
           3,
           3,
           3,
           3,
           3
          ]
         },
         "mode": "markers",
         "text": [
          1,
          1,
          1,
          1,
          0,
          1,
          1,
          1,
          1,
          1,
          1,
          1,
          1,
          0,
          1,
          1,
          1,
          1,
          1,
          1,
          1,
          1,
          1,
          1,
          1,
          0,
          1,
          1,
          1,
          1,
          1,
          1,
          1,
          1,
          1,
          1,
          1,
          1,
          1,
          0,
          1,
          0,
          1,
          0,
          1,
          0,
          1,
          1,
          1,
          1,
          0,
          1,
          1,
          1,
          1,
          1,
          1,
          1,
          1,
          0,
          0,
          0,
          0,
          0,
          0,
          0,
          0,
          2,
          0,
          0,
          0,
          0,
          0,
          0,
          0,
          0,
          0,
          0,
          0,
          0,
          0,
          2,
          0,
          0,
          0,
          2,
          0,
          0,
          0,
          0,
          2,
          2,
          0,
          0,
          0,
          0,
          0,
          0,
          0,
          0,
          0,
          2,
          0,
          2,
          2,
          0,
          2,
          2,
          2,
          0,
          0,
          0,
          0,
          0,
          0,
          0,
          2,
          2,
          0,
          2,
          0,
          0,
          0,
          0,
          0,
          2,
          0,
          0,
          0,
          0,
          0,
          3,
          0,
          3,
          0,
          3,
          0,
          0,
          3,
          0,
          0,
          3,
          0,
          0,
          3,
          3,
          0,
          3,
          3,
          3,
          0,
          0,
          0,
          3,
          0,
          3,
          3,
          0,
          0,
          0,
          3,
          3,
          3,
          3,
          3,
          0,
          3,
          3,
          3,
          0,
          3,
          3,
          3,
          3,
          3,
          3,
          3,
          3
         ],
         "type": "scatter3d",
         "x": [
          0.3720136518771331,
          0.26450511945392485,
          0.3754266211604095,
          0.5563139931740614,
          0.2593856655290102,
          0.4667235494880546,
          0.3387372013651877,
          0.3216723549488054,
          0.33447098976109213,
          0.5068259385665529,
          0.3813993174061433,
          0.31740614334470985,
          0.3686006825938566,
          0.3515358361774744,
          0.5307167235494881,
          0.5136518771331058,
          0.41979522184300344,
          0.4539249146757679,
          0.6331058020477814,
          0.325938566552901,
          0.37286689419795227,
          0.27474402730375425,
          0.21501706484641633,
          0.22610921501706485,
          0.1911262798634812,
          0.1962457337883959,
          0.30034129692832756,
          0.22781569965870305,
          0.27474402730375425,
          0.29180887372013653,
          0.37713310580204773,
          0.4795221843003413,
          0.21843003412969278,
          0.3515358361774744,
          0.2491467576791809,
          0.325938566552901,
          0.2832764505119454,
          0.2534129692832764,
          0.20648464163822525,
          0.325938566552901,
          0.4138225255972696,
          0.2559726962457338,
          0.35409556313993173,
          0.2627986348122867,
          0.32081911262798635,
          0.33788395904436863,
          0.3088737201365188,
          0.4112627986348123,
          0.41979522184300344,
          0.6501706484641638,
          0.5051194539249146,
          0.3686006825938566,
          0.4923208191126279,
          0.42832764505119447,
          0.38993174061433444,
          0.424061433447099,
          0.4351535836177475,
          0.40273037542662116,
          0.4709897610921502,
          0.057167235494880536,
          0.1697952218430034,
          0.3813993174061433,
          0.21501706484641633,
          0.2704778156996587,
          0.1424914675767918,
          0.2832764505119454,
          0.3430034129692833,
          0.2901023890784983,
          0.16126279863481227,
          0.13395904436860068,
          0.15102389078498293,
          0.17918088737201363,
          0.2098976109215017,
          0.1766211604095563,
          0.16467576791808872,
          0.21501706484641633,
          0.2832764505119454,
          0.11689419795221842,
          0.18088737201365188,
          0.1100682593856655,
          0.10409556313993173,
          0.22354948805460748,
          0.07849829351535836,
          0.30034129692832756,
          0.15102389078498293,
          0.1143344709897611,
          0.09982935153583619,
          0.11262798634812288,
          0.1296928327645051,
          0.03924914675767918,
          0.09556313993174059,
          0.1979522184300341,
          0.15102389078498293,
          0.07423208191126279,
          0.16808873720136516,
          0.11262798634812288,
          0.10409556313993173,
          0.13822525597269622,
          0.27474402730375425,
          0.08703071672354948,
          0.17235494880546073,
          0.09982935153583619,
          0.1296928327645051,
          0.06655290102389078,
          0.14163822525597267,
          0.12116040955631399,
          0.18088737201365188,
          0.17235494880546073,
          0.12116040955631399,
          0.11689419795221842,
          0.13822525597269622,
          0.06143344709897611,
          0.21501706484641633,
          0.15358361774744025,
          0.13822525597269622,
          0.052901023890784965,
          0.057167235494880536,
          0.06655290102389078,
          0.18088737201365188,
          0,
          0.16808873720136516,
          0.40273037542662116,
          0.06825938566552903,
          0.11262798634812288,
          0.1296928327645051,
          0.12627986348122863,
          0.22696245733788392,
          0.14675767918088736,
          0.07167235494880547,
          0.11262798634812288,
          0.2406143344709897,
          0.3515358361774744,
          0.37713310580204773,
          0.31740614334470985,
          0.35580204778157,
          0.4965870307167235,
          0.21928327645051196,
          0.31740614334470985,
          0.37713310580204773,
          0.31058020477815695,
          0.2832764505119454,
          0.3686006825938566,
          0.26194539249146753,
          0.2662116040955631,
          0.5912969283276451,
          0.23208191126279862,
          0.3088737201365188,
          0.5435153583617748,
          0.6092150170648464,
          0.6928327645051194,
          0.6245733788395904,
          0.8122866894197952,
          0.4965870307167235,
          0.78839590443686,
          0.5392491467576791,
          0.5648464163822525,
          0.659556313993174,
          0.5307167235494881,
          0.9999999999999999,
          0.893344709897611,
          0.5435153583617748,
          0.39249146757679176,
          0.36689419795221845,
          0.341296928327645,
          0.7081911262798635,
          0.45563139931740615,
          0.8020477815699658,
          0.7662116040955631,
          0.6296928327645052,
          0.6160409556313993,
          0.36006825938566556,
          0.735494795221843,
          0.7184300341296928,
          0.5477815699658704,
          0.5136518771331058,
          0.7610921501706484,
          0.6843003412969284,
          0.6757679180887372
         ],
         "y": [
          0.8421052631578951,
          0.5710526315789473,
          0.560526315789474,
          0.8789473684210525,
          0.5815789473684214,
          0.8342105263157893,
          0.8842105263157896,
          0.797368421052632,
          1,
          0.7447368421052629,
          0.8078947368421052,
          0.8131578947368419,
          0.7157894736842105,
          0.9789473684210526,
          0.8815789473684212,
          0.6842105263157898,
          0.8605263157894738,
          0.736842105263158,
          0.831578947368421,
          0.6868421052631581,
          0.797368421052632,
          0.5,
          0.7052631578947373,
          0.47894736842105257,
          0.6499999999999999,
          0.5315789473684216,
          0.6210526315789475,
          0.5973684210526318,
          0.7473684210526317,
          0.7868421052631578,
          0.7105263157894739,
          0.6710526315789473,
          0.6973684210526314,
          0.7184210526315788,
          0.6526315789473687,
          0.6447368421052633,
          0.5921052631578947,
          0.5315789473684216,
          0.5368421052631582,
          0.8394736842105264,
          0.6657894736842107,
          0.6263157894736846,
          0.7500000000000004,
          0.5815789473684214,
          0.5315789473684216,
          0.836842105263158,
          0.8815789473684212,
          0.7552631578947371,
          0.8078947368421052,
          0.7657894736842104,
          0.5315789473684216,
          0.736842105263158,
          0.7342105263157896,
          0.7210526315789472,
          0.7131578947368422,
          0.6657894736842107,
          0.8394736842105264,
          0.594736842105263,
          0.7078947368421056,
          0.3526315789473684,
          0.34210526315789513,
          0.4236842105263161,
          0.6947368421052631,
          0.3526315789473684,
          0.30000000000000027,
          0.3526315789473684,
          0.5473684210526315,
          0.3526315789473684,
          0.6078947368421055,
          0.310526315789474,
          0.331578947368421,
          0.7447368421052629,
          0.6473684210526316,
          0.5157894736842108,
          0.2447368421052638,
          0.1657894736842107,
          0.5263157894736841,
          0.2131578947368422,
          0.34210526315789513,
          0.43947368421052646,
          0.2552631578947371,
          0.44473684210526354,
          0.2763157894736845,
          0.5315789473684216,
          0.2131578947368422,
          0.43157894736842106,
          0.29736842105263195,
          0.1631578947368424,
          0.16052631578947407,
          0.2763157894736845,
          0.2763157894736845,
          0.2552631578947371,
          0.43684210526315814,
          0.331578947368421,
          0.155263157894737,
          0.3789473684210529,
          0.20526315789473726,
          0.331578947368421,
          0.3526315789473684,
          0.331578947368421,
          0.2763157894736845,
          0.4131578947368424,
          0.34473684210526345,
          0.20789473684210558,
          0.38947368421052664,
          0.3657894736842109,
          0.3210526315789477,
          0.44473684210526354,
          0.3131578947368423,
          0.15263157894736867,
          0.11315789473684257,
          0.39210526315789496,
          0.19210526315789478,
          0.10000000000000053,
          0.2763157894736845,
          0,
          0.20789473684210558,
          0.3657894736842109,
          0.45789473684210513,
          0.2552631578947371,
          0.1105263157894738,
          0.13947368421052664,
          0.3657894736842109,
          0.5315789473684216,
          0.2210526315789476,
          0.2736842105263162,
          0.3684210526315792,
          0.20000000000000018,
          0.3526315789473684,
          0.26578947368421035,
          0.4815789473684209,
          0.4868421052631584,
          0.4684210526315793,
          0.43947368421052646,
          0.38947368421052664,
          0.4131578947368424,
          0.3210526315789477,
          0.3947368421052633,
          0.6473684210526316,
          0.47631578947368425,
          0.5,
          0.6131578947368421,
          0.655263157894737,
          0.6815789473684211,
          0.3210526315789477,
          0.560526315789474,
          0.7500000000000004,
          0.48421052631578965,
          0.6026315789473689,
          0.5394736842105265,
          0.6499999999999999,
          0.4631578947368422,
          0.5473684210526315,
          0.5789473684210531,
          0.4078947368421053,
          0.5631578947368423,
          0.7394736842105263,
          0.37368421052631584,
          0.8710526315789475,
          0.6447368421052633,
          0.3500000000000001,
          0.7000000000000002,
          0.47894736842105257,
          0.5078947368421058,
          0.7236842105263159,
          0.7105263157894739,
          0.6368421052631579,
          0.4710526315789476,
          0.6710526315789473,
          0.6236842105263158,
          0.3078947368421052,
          0.45789473684210513,
          0.823684210526316,
          0.7052631578947373,
          0.6236842105263158,
          0.5894736842105264,
          0.5631578947368423,
          0.8157894736842106
         ],
         "z": [
          0.5613409415121255,
          0.5506419400855921,
          0.6469329529243938,
          0.8573466476462198,
          0.3259629101283881,
          0.8359486447931527,
          0.7218259629101285,
          0.725392296718973,
          0.5470756062767476,
          0.5470756062767476,
          0.8787446504992867,
          0.7146932952924394,
          0.7432239657631955,
          0.6219686162624822,
          0.9051355206847361,
          0.7360912981455064,
          0.7146932952924394,
          0.6077032810271041,
          1,
          0.40442225392296727,
          0.35805991440798857,
          0.35092724679029963,
          0.5399429386590585,
          0.5256776034236805,
          0.40442225392296727,
          0.3937232524964337,
          0.6540656205420827,
          0.7182596291012839,
          0.4543509272467904,
          0.5399429386590585,
          0.7182596291012839,
          0.8823109843081313,
          0.5078459343794579,
          0.6825962910128388,
          0.5827389443651926,
          0.4579172610556348,
          0.4293865905848788,
          0.5898716119828816,
          0.529243937232525,
          0.3437945791726106,
          0.36875891583452214,
          0.5399429386590585,
          0.5827389443651926,
          0.2867332382310984,
          0.43295292439372324,
          0.5720399429386591,
          0.5613409415121255,
          0.5042796005706135,
          0.557774607703281,
          0.7004279600570614,
          0.6219686162624822,
          0.7039942938659058,
          0.6504992867332383,
          0.782453637660485,
          0.557774607703281,
          0.6005706134094152,
          0.4935805991440799,
          0.7075606276747504,
          0.7182596291012839,
          0.17261055634807418,
          0.2867332382310984,
          0.12268188302425106,
          0.2510699001426534,
          0.10128388017118403,
          0.054921540656205386,
          0.2853067047075606,
          0.15977175463623397,
          0.1654778887303852,
          0.33666191155492153,
          0.31383737517831667,
          0.4222539229671898,
          0.09415121255349498,
          0.13837375178316688,
          0.5042796005706135,
          0.4336661911554922,
          0.10699001426533525,
          0.08131241084165478,
          0.15834522111269614,
          0.33666191155492153,
          0.1319543509272468,
          0,
          0.3109843081312411,
          0.2510699001426534,
          0.16904422253922965,
          0.17261055634807418,
          0.12268188302425106,
          0.15477888730385161,
          0.20256776034236804,
          0.2867332382310984,
          0.24750356633380885,
          0.1440798858773181,
          0.12268188302425106,
          0.15477888730385161,
          0.008559201141226797,
          0.047788873038516394,
          0.4700427960057062,
          0.24750356633380885,
          0.10699001426533525,
          0.27246790299572043,
          0.09129814550641938,
          0.30813124108416545,
          0.20256776034236804,
          0.11412268188302424,
          0.09771754636233951,
          0.2810271041369472,
          0.02639087018544936,
          0.1654778887303852,
          0.14978601997146931,
          0.02425106990014264,
          0.2867332382310984,
          0.20256776034236804,
          0.033523537803138354,
          0.23466476462196864,
          0.11126961483594863,
          0.07631954350927247,
          0.09201141226818829,
          0.15477888730385161,
          0.047788873038516394,
          0.06704707560627673,
          0.20399429386590587,
          0.24750356633380885,
          0.13338088445078458,
          0.062054208273894434,
          0.07275320970042795,
          0.07275320970042795,
          0.07132667617689017,
          0.052781740370898694,
          0.1340941512125535,
          0.0456490727532097,
          0.21540656205420824,
          0.2510699001426534,
          0.17974322396576317,
          0.20114122681883026,
          0.22967189728958629,
          0.2653352353780314,
          0.297432239657632,
          0.3152639087018545,
          0.16904422253922965,
          0.21540656205420824,
          0.2225392296718973,
          0.22967189728958629,
          0.35805991440798857,
          0.17261055634807418,
          0.1940085592011412,
          0.4115549215406562,
          0.3937232524964337,
          0.09771754636233951,
          0.24750356633380885,
          0.2653352353780314,
          0.1940085592011412,
          0.15834522111269614,
          0.1440798858773181,
          0.1048502139800285,
          0.2831669044222539,
          0.25820256776034234,
          0.318830242510699,
          0.1440798858773181,
          0.4293865905848788,
          0.27246790299572043,
          0.24393723252496433,
          0.17261055634807418,
          0.2867332382310984,
          0.20827389443651925,
          0.2831669044222539,
          0.2403708987161198,
          0.17261055634807418,
          0.297432239657632,
          0.29029957203994294,
          0.33666191155492153,
          0.2510699001426534,
          0.1654778887303852,
          0.1369472182596291,
          0.27246790299572043,
          0.3295292439372326,
          0.33666191155492153,
          0.3972895863052782,
          0.40085592011412274,
          0.20114122681883026
         ]
        }
       ],
       "layout": {
        "template": {
         "data": {
          "bar": [
           {
            "error_x": {
             "color": "#2a3f5f"
            },
            "error_y": {
             "color": "#2a3f5f"
            },
            "marker": {
             "line": {
              "color": "#E5ECF6",
              "width": 0.5
             }
            },
            "type": "bar"
           }
          ],
          "barpolar": [
           {
            "marker": {
             "line": {
              "color": "#E5ECF6",
              "width": 0.5
             }
            },
            "type": "barpolar"
           }
          ],
          "carpet": [
           {
            "aaxis": {
             "endlinecolor": "#2a3f5f",
             "gridcolor": "white",
             "linecolor": "white",
             "minorgridcolor": "white",
             "startlinecolor": "#2a3f5f"
            },
            "baxis": {
             "endlinecolor": "#2a3f5f",
             "gridcolor": "white",
             "linecolor": "white",
             "minorgridcolor": "white",
             "startlinecolor": "#2a3f5f"
            },
            "type": "carpet"
           }
          ],
          "choropleth": [
           {
            "colorbar": {
             "outlinewidth": 0,
             "ticks": ""
            },
            "type": "choropleth"
           }
          ],
          "contour": [
           {
            "colorbar": {
             "outlinewidth": 0,
             "ticks": ""
            },
            "colorscale": [
             [
              0,
              "#0d0887"
             ],
             [
              0.1111111111111111,
              "#46039f"
             ],
             [
              0.2222222222222222,
              "#7201a8"
             ],
             [
              0.3333333333333333,
              "#9c179e"
             ],
             [
              0.4444444444444444,
              "#bd3786"
             ],
             [
              0.5555555555555556,
              "#d8576b"
             ],
             [
              0.6666666666666666,
              "#ed7953"
             ],
             [
              0.7777777777777778,
              "#fb9f3a"
             ],
             [
              0.8888888888888888,
              "#fdca26"
             ],
             [
              1,
              "#f0f921"
             ]
            ],
            "type": "contour"
           }
          ],
          "contourcarpet": [
           {
            "colorbar": {
             "outlinewidth": 0,
             "ticks": ""
            },
            "type": "contourcarpet"
           }
          ],
          "heatmap": [
           {
            "colorbar": {
             "outlinewidth": 0,
             "ticks": ""
            },
            "colorscale": [
             [
              0,
              "#0d0887"
             ],
             [
              0.1111111111111111,
              "#46039f"
             ],
             [
              0.2222222222222222,
              "#7201a8"
             ],
             [
              0.3333333333333333,
              "#9c179e"
             ],
             [
              0.4444444444444444,
              "#bd3786"
             ],
             [
              0.5555555555555556,
              "#d8576b"
             ],
             [
              0.6666666666666666,
              "#ed7953"
             ],
             [
              0.7777777777777778,
              "#fb9f3a"
             ],
             [
              0.8888888888888888,
              "#fdca26"
             ],
             [
              1,
              "#f0f921"
             ]
            ],
            "type": "heatmap"
           }
          ],
          "heatmapgl": [
           {
            "colorbar": {
             "outlinewidth": 0,
             "ticks": ""
            },
            "colorscale": [
             [
              0,
              "#0d0887"
             ],
             [
              0.1111111111111111,
              "#46039f"
             ],
             [
              0.2222222222222222,
              "#7201a8"
             ],
             [
              0.3333333333333333,
              "#9c179e"
             ],
             [
              0.4444444444444444,
              "#bd3786"
             ],
             [
              0.5555555555555556,
              "#d8576b"
             ],
             [
              0.6666666666666666,
              "#ed7953"
             ],
             [
              0.7777777777777778,
              "#fb9f3a"
             ],
             [
              0.8888888888888888,
              "#fdca26"
             ],
             [
              1,
              "#f0f921"
             ]
            ],
            "type": "heatmapgl"
           }
          ],
          "histogram": [
           {
            "marker": {
             "colorbar": {
              "outlinewidth": 0,
              "ticks": ""
             }
            },
            "type": "histogram"
           }
          ],
          "histogram2d": [
           {
            "colorbar": {
             "outlinewidth": 0,
             "ticks": ""
            },
            "colorscale": [
             [
              0,
              "#0d0887"
             ],
             [
              0.1111111111111111,
              "#46039f"
             ],
             [
              0.2222222222222222,
              "#7201a8"
             ],
             [
              0.3333333333333333,
              "#9c179e"
             ],
             [
              0.4444444444444444,
              "#bd3786"
             ],
             [
              0.5555555555555556,
              "#d8576b"
             ],
             [
              0.6666666666666666,
              "#ed7953"
             ],
             [
              0.7777777777777778,
              "#fb9f3a"
             ],
             [
              0.8888888888888888,
              "#fdca26"
             ],
             [
              1,
              "#f0f921"
             ]
            ],
            "type": "histogram2d"
           }
          ],
          "histogram2dcontour": [
           {
            "colorbar": {
             "outlinewidth": 0,
             "ticks": ""
            },
            "colorscale": [
             [
              0,
              "#0d0887"
             ],
             [
              0.1111111111111111,
              "#46039f"
             ],
             [
              0.2222222222222222,
              "#7201a8"
             ],
             [
              0.3333333333333333,
              "#9c179e"
             ],
             [
              0.4444444444444444,
              "#bd3786"
             ],
             [
              0.5555555555555556,
              "#d8576b"
             ],
             [
              0.6666666666666666,
              "#ed7953"
             ],
             [
              0.7777777777777778,
              "#fb9f3a"
             ],
             [
              0.8888888888888888,
              "#fdca26"
             ],
             [
              1,
              "#f0f921"
             ]
            ],
            "type": "histogram2dcontour"
           }
          ],
          "mesh3d": [
           {
            "colorbar": {
             "outlinewidth": 0,
             "ticks": ""
            },
            "type": "mesh3d"
           }
          ],
          "parcoords": [
           {
            "line": {
             "colorbar": {
              "outlinewidth": 0,
              "ticks": ""
             }
            },
            "type": "parcoords"
           }
          ],
          "pie": [
           {
            "automargin": true,
            "type": "pie"
           }
          ],
          "scatter": [
           {
            "marker": {
             "colorbar": {
              "outlinewidth": 0,
              "ticks": ""
             }
            },
            "type": "scatter"
           }
          ],
          "scatter3d": [
           {
            "line": {
             "colorbar": {
              "outlinewidth": 0,
              "ticks": ""
             }
            },
            "marker": {
             "colorbar": {
              "outlinewidth": 0,
              "ticks": ""
             }
            },
            "type": "scatter3d"
           }
          ],
          "scattercarpet": [
           {
            "marker": {
             "colorbar": {
              "outlinewidth": 0,
              "ticks": ""
             }
            },
            "type": "scattercarpet"
           }
          ],
          "scattergeo": [
           {
            "marker": {
             "colorbar": {
              "outlinewidth": 0,
              "ticks": ""
             }
            },
            "type": "scattergeo"
           }
          ],
          "scattergl": [
           {
            "marker": {
             "colorbar": {
              "outlinewidth": 0,
              "ticks": ""
             }
            },
            "type": "scattergl"
           }
          ],
          "scattermapbox": [
           {
            "marker": {
             "colorbar": {
              "outlinewidth": 0,
              "ticks": ""
             }
            },
            "type": "scattermapbox"
           }
          ],
          "scatterpolar": [
           {
            "marker": {
             "colorbar": {
              "outlinewidth": 0,
              "ticks": ""
             }
            },
            "type": "scatterpolar"
           }
          ],
          "scatterpolargl": [
           {
            "marker": {
             "colorbar": {
              "outlinewidth": 0,
              "ticks": ""
             }
            },
            "type": "scatterpolargl"
           }
          ],
          "scatterternary": [
           {
            "marker": {
             "colorbar": {
              "outlinewidth": 0,
              "ticks": ""
             }
            },
            "type": "scatterternary"
           }
          ],
          "surface": [
           {
            "colorbar": {
             "outlinewidth": 0,
             "ticks": ""
            },
            "colorscale": [
             [
              0,
              "#0d0887"
             ],
             [
              0.1111111111111111,
              "#46039f"
             ],
             [
              0.2222222222222222,
              "#7201a8"
             ],
             [
              0.3333333333333333,
              "#9c179e"
             ],
             [
              0.4444444444444444,
              "#bd3786"
             ],
             [
              0.5555555555555556,
              "#d8576b"
             ],
             [
              0.6666666666666666,
              "#ed7953"
             ],
             [
              0.7777777777777778,
              "#fb9f3a"
             ],
             [
              0.8888888888888888,
              "#fdca26"
             ],
             [
              1,
              "#f0f921"
             ]
            ],
            "type": "surface"
           }
          ],
          "table": [
           {
            "cells": {
             "fill": {
              "color": "#EBF0F8"
             },
             "line": {
              "color": "white"
             }
            },
            "header": {
             "fill": {
              "color": "#C8D4E3"
             },
             "line": {
              "color": "white"
             }
            },
            "type": "table"
           }
          ]
         },
         "layout": {
          "annotationdefaults": {
           "arrowcolor": "#2a3f5f",
           "arrowhead": 0,
           "arrowwidth": 1
          },
          "autotypenumbers": "strict",
          "coloraxis": {
           "colorbar": {
            "outlinewidth": 0,
            "ticks": ""
           }
          },
          "colorscale": {
           "diverging": [
            [
             0,
             "#8e0152"
            ],
            [
             0.1,
             "#c51b7d"
            ],
            [
             0.2,
             "#de77ae"
            ],
            [
             0.3,
             "#f1b6da"
            ],
            [
             0.4,
             "#fde0ef"
            ],
            [
             0.5,
             "#f7f7f7"
            ],
            [
             0.6,
             "#e6f5d0"
            ],
            [
             0.7,
             "#b8e186"
            ],
            [
             0.8,
             "#7fbc41"
            ],
            [
             0.9,
             "#4d9221"
            ],
            [
             1,
             "#276419"
            ]
           ],
           "sequential": [
            [
             0,
             "#0d0887"
            ],
            [
             0.1111111111111111,
             "#46039f"
            ],
            [
             0.2222222222222222,
             "#7201a8"
            ],
            [
             0.3333333333333333,
             "#9c179e"
            ],
            [
             0.4444444444444444,
             "#bd3786"
            ],
            [
             0.5555555555555556,
             "#d8576b"
            ],
            [
             0.6666666666666666,
             "#ed7953"
            ],
            [
             0.7777777777777778,
             "#fb9f3a"
            ],
            [
             0.8888888888888888,
             "#fdca26"
            ],
            [
             1,
             "#f0f921"
            ]
           ],
           "sequentialminus": [
            [
             0,
             "#0d0887"
            ],
            [
             0.1111111111111111,
             "#46039f"
            ],
            [
             0.2222222222222222,
             "#7201a8"
            ],
            [
             0.3333333333333333,
             "#9c179e"
            ],
            [
             0.4444444444444444,
             "#bd3786"
            ],
            [
             0.5555555555555556,
             "#d8576b"
            ],
            [
             0.6666666666666666,
             "#ed7953"
            ],
            [
             0.7777777777777778,
             "#fb9f3a"
            ],
            [
             0.8888888888888888,
             "#fdca26"
            ],
            [
             1,
             "#f0f921"
            ]
           ]
          },
          "colorway": [
           "#636efa",
           "#EF553B",
           "#00cc96",
           "#ab63fa",
           "#FFA15A",
           "#19d3f3",
           "#FF6692",
           "#B6E880",
           "#FF97FF",
           "#FECB52"
          ],
          "font": {
           "color": "#2a3f5f"
          },
          "geo": {
           "bgcolor": "white",
           "lakecolor": "white",
           "landcolor": "#E5ECF6",
           "showlakes": true,
           "showland": true,
           "subunitcolor": "white"
          },
          "hoverlabel": {
           "align": "left"
          },
          "hovermode": "closest",
          "mapbox": {
           "style": "light"
          },
          "paper_bgcolor": "white",
          "plot_bgcolor": "#E5ECF6",
          "polar": {
           "angularaxis": {
            "gridcolor": "white",
            "linecolor": "white",
            "ticks": ""
           },
           "bgcolor": "#E5ECF6",
           "radialaxis": {
            "gridcolor": "white",
            "linecolor": "white",
            "ticks": ""
           }
          },
          "scene": {
           "xaxis": {
            "backgroundcolor": "#E5ECF6",
            "gridcolor": "white",
            "gridwidth": 2,
            "linecolor": "white",
            "showbackground": true,
            "ticks": "",
            "zerolinecolor": "white"
           },
           "yaxis": {
            "backgroundcolor": "#E5ECF6",
            "gridcolor": "white",
            "gridwidth": 2,
            "linecolor": "white",
            "showbackground": true,
            "ticks": "",
            "zerolinecolor": "white"
           },
           "zaxis": {
            "backgroundcolor": "#E5ECF6",
            "gridcolor": "white",
            "gridwidth": 2,
            "linecolor": "white",
            "showbackground": true,
            "ticks": "",
            "zerolinecolor": "white"
           }
          },
          "shapedefaults": {
           "line": {
            "color": "#2a3f5f"
           }
          },
          "ternary": {
           "aaxis": {
            "gridcolor": "white",
            "linecolor": "white",
            "ticks": ""
           },
           "baxis": {
            "gridcolor": "white",
            "linecolor": "white",
            "ticks": ""
           },
           "bgcolor": "#E5ECF6",
           "caxis": {
            "gridcolor": "white",
            "linecolor": "white",
            "ticks": ""
           }
          },
          "title": {
           "x": 0.05
          },
          "xaxis": {
           "automargin": true,
           "gridcolor": "white",
           "linecolor": "white",
           "ticks": "",
           "title": {
            "standoff": 15
           },
           "zerolinecolor": "white",
           "zerolinewidth": 2
          },
          "yaxis": {
           "automargin": true,
           "gridcolor": "white",
           "linecolor": "white",
           "ticks": "",
           "title": {
            "standoff": 15
           },
           "zerolinecolor": "white",
           "zerolinewidth": 2
          }
         }
        }
       }
      }
     },
     "metadata": {}
    }
   ],
   "source": [
    "fig = go.Figure()\n",
    "fig.add_trace(go.Scatter3d(x=df['Color_Intensity'],\n",
    "                         y=df['Alcohol'], z = df['Proline'],\n",
    "                         mode='markers',                      \n",
    "                      marker=dict(color =labels.astype(np.float)),\n",
    "                        text=labels))\n",
    "fig.show()"
   ]
  },
  {
   "source": [
    "## MeanShift\n",
    "\n",
    "\n",
    "Mean-Shift is a clustering algorithm that unlike KMeans, it does not require specification of the cluster number and unlike DBSCAN you do not need, for example, to parameterize things like \"eps\" - in this case it was DBSCAN's \"epsilon\" - and the minimum number of samples per cluster, but similarly to DBSCAN, it looks for high density regions and claims that in these high density regions there are clusters.\n",
    "\n",
    "What is the problem that he poses to solve? It is the same problem as DBSCAN, having a set of point “C”, it is desired to group “N” points of this set in groups of maximum density.\n",
    "\n",
    "\n",
    "This algorithm takes a point, makes a circle around it, sees where it has the highest density of points and moves the center of that cluster over there. As a result, it moves all of our points to high-density regions.\n",
    "\n",
    "<img src='imgs/meanshift.gif'  style=\"width: 600px;\"/>\n",
    "\n",
    "\n",
    "- What is the purpose of the algorithm? Group the points according to the high density regions. Why should we use it? That is a very good question! First of all, K-means does not usually present a good result when there is noise and groups of non-radial symmetry, as we saw in previous classes.\n",
    "\n",
    "It has fewer parameters to adjust than DBSCAN. The DBSCAN has the \"eps\", the \"min_samples\" and the metric of the distance calculation. Here in our case of MeanShift, the only parameter that we can objectively manipulate and even in a simple way, is which? It's our bandwidth.\n",
    "\n",
    "- What are the advantages? It is robust to outliers, that is, it is robust to noise and points outside the curve. It serves for various types of applications, the type of application that is widely used for it is for image segmentation. It is a field that has been well developed. In fact, even for, for example, computer vision. It is widely used.\n",
    "\n",
    "- - It can detect any type of shape, if you put a smaller bandwidth, you end up detecting stranger shapes and larger bandwidths and we can already detect shapes with more radial symmetry. There is only one parameter to be adjusted, which is the same as what we mentioned, just bandwidth.\n",
    "\n",
    "- What are the disadvantages? It does not work well with high dimensional data. Why? Because it also uses a distance metric to calculate, just like the other algorithms, and it ends up not working very well when the dimensionality of the data is large, that is, when I have a lot of attributes.\n",
    "\n",
    "- - Parameterization of bandwidth is not so simple, you have to estimate more or less the density of the points and the values ​​of the location of the points based, for example, on some statistical resources.\n",
    "\n",
    "- - And it is computationally expensive, because every point at the beginning is treated as a cluster. If it has, for example, a million points - at the beginning I will have a million clusters, It will have to repeat the process for each point until it converges. You can imagine that the computational cost of this algorithm is quite expensive."
   ],
   "cell_type": "markdown",
   "metadata": {}
  },
  {
   "cell_type": "code",
   "execution_count": 28,
   "metadata": {},
   "outputs": [
    {
     "output_type": "execute_result",
     "data": {
      "text/plain": [
       "array([0, 0, 0, 0, 0, 0, 0, 0, 0, 0, 0, 0, 0, 0, 0, 0, 0, 0, 0, 0, 0, 0,\n",
       "       0, 0, 0, 0, 0, 0, 0, 0, 0, 0, 0, 0, 0, 0, 0, 0, 0, 0, 0, 0, 0, 0,\n",
       "       0, 0, 0, 0, 0, 0, 0, 0, 0, 0, 0, 0, 0, 0, 0, 0, 0, 0, 0, 0, 0, 0,\n",
       "       0, 0, 0, 0, 0, 0, 0, 0, 0, 0, 0, 0, 0, 0, 0, 0, 0, 0, 0, 0, 0, 0,\n",
       "       0, 0, 0, 0, 0, 0, 0, 0, 0, 0, 0, 0, 0, 0, 0, 0, 0, 0, 0, 0, 0, 0,\n",
       "       0, 0, 0, 0, 0, 0, 0, 0, 0, 0, 0, 1, 0, 0, 0, 0, 0, 0, 0, 0, 0, 0,\n",
       "       0, 0, 0, 0, 0, 0, 0, 0, 0, 0, 0, 0, 0, 0, 0, 0, 0, 0, 0, 0, 0, 0,\n",
       "       0, 0, 0, 0, 0, 0, 0, 0, 0, 0, 0, 0, 0, 0, 0, 0, 0, 0, 0, 0, 0, 0,\n",
       "       0, 0], dtype=int64)"
      ]
     },
     "metadata": {},
     "execution_count": 28
    }
   ],
   "source": [
    "from sklearn.cluster import MeanShift\n",
    "\n",
    "grouper = MeanShift()\n",
    "grouper.fit(df)\n",
    "\n",
    "grouper.labels_"
   ]
  },
  {
   "cell_type": "code",
   "execution_count": 29,
   "metadata": {},
   "outputs": [
    {
     "output_type": "stream",
     "name": "stderr",
     "text": [
      "C:\\Users\\PedroFerreira\\anaconda3\\lib\\site-packages\\sklearn\\utils\\validation.py:67: FutureWarning:\n\nPass bandwidth=0.7258686846232676 as keyword args. From version 0.25 passing these as positional arguments will result in an error\n\n"
     ]
    },
    {
     "output_type": "execute_result",
     "data": {
      "text/plain": [
       "array([1, 1, 1, 1, 1, 1, 1, 1, 1, 1, 1, 1, 1, 1, 1, 1, 1, 1, 1, 1, 1, 1,\n",
       "       1, 1, 1, 1, 1, 1, 1, 1, 1, 1, 1, 1, 1, 1, 1, 1, 1, 1, 1, 1, 1, 1,\n",
       "       1, 1, 1, 1, 1, 1, 1, 1, 1, 1, 1, 1, 1, 1, 1, 0, 0, 0, 0, 0, 0, 0,\n",
       "       0, 0, 0, 3, 0, 0, 0, 4, 0, 0, 0, 0, 3, 0, 0, 0, 0, 2, 0, 0, 0, 0,\n",
       "       0, 0, 0, 0, 0, 0, 0, 3, 0, 0, 0, 0, 0, 0, 0, 0, 0, 0, 0, 0, 0, 0,\n",
       "       0, 0, 0, 0, 0, 0, 0, 0, 0, 0, 0, 5, 0, 0, 0, 0, 0, 0, 0, 0, 2, 2,\n",
       "       2, 2, 2, 2, 2, 2, 2, 2, 2, 2, 2, 2, 2, 2, 2, 2, 2, 2, 2, 2, 2, 2,\n",
       "       2, 2, 2, 2, 2, 2, 2, 2, 2, 2, 2, 2, 2, 2, 2, 2, 2, 2, 2, 2, 2, 2,\n",
       "       2, 2], dtype=int64)"
      ]
     },
     "metadata": {},
     "execution_count": 29
    }
   ],
   "source": [
    "from sklearn.cluster import estimate_bandwidth\n",
    "\n",
    "BW = estimate_bandwidth(df, quantile = 0.2)\n",
    "grouper = MeanShift(BW)\n",
    "grouper.fit(df)\n",
    "grouper.labels_"
   ]
  },
  {
   "cell_type": "code",
   "execution_count": 30,
   "metadata": {},
   "outputs": [
    {
     "output_type": "display_data",
     "data": {
      "application/vnd.plotly.v1+json": {
       "config": {
        "plotlyServerURL": "https://plot.ly"
       },
       "data": [
        {
         "marker": {
          "color": [
           1,
           1,
           1,
           1,
           1,
           1,
           1,
           1,
           1,
           1,
           1,
           1,
           1,
           1,
           1,
           1,
           1,
           1,
           1,
           1,
           1,
           1,
           1,
           1,
           1,
           1,
           1,
           1,
           1,
           1,
           1,
           1,
           1,
           1,
           1,
           1,
           1,
           1,
           1,
           1,
           1,
           1,
           1,
           1,
           1,
           1,
           1,
           1,
           1,
           1,
           1,
           1,
           1,
           1,
           1,
           1,
           1,
           1,
           1,
           0,
           0,
           0,
           0,
           0,
           0,
           0,
           0,
           0,
           0,
           3,
           0,
           0,
           0,
           4,
           0,
           0,
           0,
           0,
           3,
           0,
           0,
           0,
           0,
           2,
           0,
           0,
           0,
           0,
           0,
           0,
           0,
           0,
           0,
           0,
           0,
           3,
           0,
           0,
           0,
           0,
           0,
           0,
           0,
           0,
           0,
           0,
           0,
           0,
           0,
           0,
           0,
           0,
           0,
           0,
           0,
           0,
           0,
           0,
           0,
           0,
           0,
           5,
           0,
           0,
           0,
           0,
           0,
           0,
           0,
           0,
           2,
           2,
           2,
           2,
           2,
           2,
           2,
           2,
           2,
           2,
           2,
           2,
           2,
           2,
           2,
           2,
           2,
           2,
           2,
           2,
           2,
           2,
           2,
           2,
           2,
           2,
           2,
           2,
           2,
           2,
           2,
           2,
           2,
           2,
           2,
           2,
           2,
           2,
           2,
           2,
           2,
           2,
           2,
           2,
           2,
           2,
           2,
           2
          ]
         },
         "mode": "markers",
         "text": [
          "0",
          "1",
          "2"
         ],
         "type": "scatter3d",
         "x": [
          0.3720136518771331,
          0.26450511945392485,
          0.3754266211604095,
          0.5563139931740614,
          0.2593856655290102,
          0.4667235494880546,
          0.3387372013651877,
          0.3216723549488054,
          0.33447098976109213,
          0.5068259385665529,
          0.3813993174061433,
          0.31740614334470985,
          0.3686006825938566,
          0.3515358361774744,
          0.5307167235494881,
          0.5136518771331058,
          0.41979522184300344,
          0.4539249146757679,
          0.6331058020477814,
          0.325938566552901,
          0.37286689419795227,
          0.27474402730375425,
          0.21501706484641633,
          0.22610921501706485,
          0.1911262798634812,
          0.1962457337883959,
          0.30034129692832756,
          0.22781569965870305,
          0.27474402730375425,
          0.29180887372013653,
          0.37713310580204773,
          0.4795221843003413,
          0.21843003412969278,
          0.3515358361774744,
          0.2491467576791809,
          0.325938566552901,
          0.2832764505119454,
          0.2534129692832764,
          0.20648464163822525,
          0.325938566552901,
          0.4138225255972696,
          0.2559726962457338,
          0.35409556313993173,
          0.2627986348122867,
          0.32081911262798635,
          0.33788395904436863,
          0.3088737201365188,
          0.4112627986348123,
          0.41979522184300344,
          0.6501706484641638,
          0.5051194539249146,
          0.3686006825938566,
          0.4923208191126279,
          0.42832764505119447,
          0.38993174061433444,
          0.424061433447099,
          0.4351535836177475,
          0.40273037542662116,
          0.4709897610921502,
          0.057167235494880536,
          0.1697952218430034,
          0.3813993174061433,
          0.21501706484641633,
          0.2704778156996587,
          0.1424914675767918,
          0.2832764505119454,
          0.3430034129692833,
          0.2901023890784983,
          0.16126279863481227,
          0.13395904436860068,
          0.15102389078498293,
          0.17918088737201363,
          0.2098976109215017,
          0.1766211604095563,
          0.16467576791808872,
          0.21501706484641633,
          0.2832764505119454,
          0.11689419795221842,
          0.18088737201365188,
          0.1100682593856655,
          0.10409556313993173,
          0.22354948805460748,
          0.07849829351535836,
          0.30034129692832756,
          0.15102389078498293,
          0.1143344709897611,
          0.09982935153583619,
          0.11262798634812288,
          0.1296928327645051,
          0.03924914675767918,
          0.09556313993174059,
          0.1979522184300341,
          0.15102389078498293,
          0.07423208191126279,
          0.16808873720136516,
          0.11262798634812288,
          0.10409556313993173,
          0.13822525597269622,
          0.27474402730375425,
          0.08703071672354948,
          0.17235494880546073,
          0.09982935153583619,
          0.1296928327645051,
          0.06655290102389078,
          0.14163822525597267,
          0.12116040955631399,
          0.18088737201365188,
          0.17235494880546073,
          0.12116040955631399,
          0.11689419795221842,
          0.13822525597269622,
          0.06143344709897611,
          0.21501706484641633,
          0.15358361774744025,
          0.13822525597269622,
          0.052901023890784965,
          0.057167235494880536,
          0.06655290102389078,
          0.18088737201365188,
          0,
          0.16808873720136516,
          0.40273037542662116,
          0.06825938566552903,
          0.11262798634812288,
          0.1296928327645051,
          0.12627986348122863,
          0.22696245733788392,
          0.14675767918088736,
          0.07167235494880547,
          0.11262798634812288,
          0.2406143344709897,
          0.3515358361774744,
          0.37713310580204773,
          0.31740614334470985,
          0.35580204778157,
          0.4965870307167235,
          0.21928327645051196,
          0.31740614334470985,
          0.37713310580204773,
          0.31058020477815695,
          0.2832764505119454,
          0.3686006825938566,
          0.26194539249146753,
          0.2662116040955631,
          0.5912969283276451,
          0.23208191126279862,
          0.3088737201365188,
          0.5435153583617748,
          0.6092150170648464,
          0.6928327645051194,
          0.6245733788395904,
          0.8122866894197952,
          0.4965870307167235,
          0.78839590443686,
          0.5392491467576791,
          0.5648464163822525,
          0.659556313993174,
          0.5307167235494881,
          0.9999999999999999,
          0.893344709897611,
          0.5435153583617748,
          0.39249146757679176,
          0.36689419795221845,
          0.341296928327645,
          0.7081911262798635,
          0.45563139931740615,
          0.8020477815699658,
          0.7662116040955631,
          0.6296928327645052,
          0.6160409556313993,
          0.36006825938566556,
          0.735494795221843,
          0.7184300341296928,
          0.5477815699658704,
          0.5136518771331058,
          0.7610921501706484,
          0.6843003412969284,
          0.6757679180887372
         ],
         "y": [
          0.8421052631578951,
          0.5710526315789473,
          0.560526315789474,
          0.8789473684210525,
          0.5815789473684214,
          0.8342105263157893,
          0.8842105263157896,
          0.797368421052632,
          1,
          0.7447368421052629,
          0.8078947368421052,
          0.8131578947368419,
          0.7157894736842105,
          0.9789473684210526,
          0.8815789473684212,
          0.6842105263157898,
          0.8605263157894738,
          0.736842105263158,
          0.831578947368421,
          0.6868421052631581,
          0.797368421052632,
          0.5,
          0.7052631578947373,
          0.47894736842105257,
          0.6499999999999999,
          0.5315789473684216,
          0.6210526315789475,
          0.5973684210526318,
          0.7473684210526317,
          0.7868421052631578,
          0.7105263157894739,
          0.6710526315789473,
          0.6973684210526314,
          0.7184210526315788,
          0.6526315789473687,
          0.6447368421052633,
          0.5921052631578947,
          0.5315789473684216,
          0.5368421052631582,
          0.8394736842105264,
          0.6657894736842107,
          0.6263157894736846,
          0.7500000000000004,
          0.5815789473684214,
          0.5315789473684216,
          0.836842105263158,
          0.8815789473684212,
          0.7552631578947371,
          0.8078947368421052,
          0.7657894736842104,
          0.5315789473684216,
          0.736842105263158,
          0.7342105263157896,
          0.7210526315789472,
          0.7131578947368422,
          0.6657894736842107,
          0.8394736842105264,
          0.594736842105263,
          0.7078947368421056,
          0.3526315789473684,
          0.34210526315789513,
          0.4236842105263161,
          0.6947368421052631,
          0.3526315789473684,
          0.30000000000000027,
          0.3526315789473684,
          0.5473684210526315,
          0.3526315789473684,
          0.6078947368421055,
          0.310526315789474,
          0.331578947368421,
          0.7447368421052629,
          0.6473684210526316,
          0.5157894736842108,
          0.2447368421052638,
          0.1657894736842107,
          0.5263157894736841,
          0.2131578947368422,
          0.34210526315789513,
          0.43947368421052646,
          0.2552631578947371,
          0.44473684210526354,
          0.2763157894736845,
          0.5315789473684216,
          0.2131578947368422,
          0.43157894736842106,
          0.29736842105263195,
          0.1631578947368424,
          0.16052631578947407,
          0.2763157894736845,
          0.2763157894736845,
          0.2552631578947371,
          0.43684210526315814,
          0.331578947368421,
          0.155263157894737,
          0.3789473684210529,
          0.20526315789473726,
          0.331578947368421,
          0.3526315789473684,
          0.331578947368421,
          0.2763157894736845,
          0.4131578947368424,
          0.34473684210526345,
          0.20789473684210558,
          0.38947368421052664,
          0.3657894736842109,
          0.3210526315789477,
          0.44473684210526354,
          0.3131578947368423,
          0.15263157894736867,
          0.11315789473684257,
          0.39210526315789496,
          0.19210526315789478,
          0.10000000000000053,
          0.2763157894736845,
          0,
          0.20789473684210558,
          0.3657894736842109,
          0.45789473684210513,
          0.2552631578947371,
          0.1105263157894738,
          0.13947368421052664,
          0.3657894736842109,
          0.5315789473684216,
          0.2210526315789476,
          0.2736842105263162,
          0.3684210526315792,
          0.20000000000000018,
          0.3526315789473684,
          0.26578947368421035,
          0.4815789473684209,
          0.4868421052631584,
          0.4684210526315793,
          0.43947368421052646,
          0.38947368421052664,
          0.4131578947368424,
          0.3210526315789477,
          0.3947368421052633,
          0.6473684210526316,
          0.47631578947368425,
          0.5,
          0.6131578947368421,
          0.655263157894737,
          0.6815789473684211,
          0.3210526315789477,
          0.560526315789474,
          0.7500000000000004,
          0.48421052631578965,
          0.6026315789473689,
          0.5394736842105265,
          0.6499999999999999,
          0.4631578947368422,
          0.5473684210526315,
          0.5789473684210531,
          0.4078947368421053,
          0.5631578947368423,
          0.7394736842105263,
          0.37368421052631584,
          0.8710526315789475,
          0.6447368421052633,
          0.3500000000000001,
          0.7000000000000002,
          0.47894736842105257,
          0.5078947368421058,
          0.7236842105263159,
          0.7105263157894739,
          0.6368421052631579,
          0.4710526315789476,
          0.6710526315789473,
          0.6236842105263158,
          0.3078947368421052,
          0.45789473684210513,
          0.823684210526316,
          0.7052631578947373,
          0.6236842105263158,
          0.5894736842105264,
          0.5631578947368423,
          0.8157894736842106
         ],
         "z": [
          0.5613409415121255,
          0.5506419400855921,
          0.6469329529243938,
          0.8573466476462198,
          0.3259629101283881,
          0.8359486447931527,
          0.7218259629101285,
          0.725392296718973,
          0.5470756062767476,
          0.5470756062767476,
          0.8787446504992867,
          0.7146932952924394,
          0.7432239657631955,
          0.6219686162624822,
          0.9051355206847361,
          0.7360912981455064,
          0.7146932952924394,
          0.6077032810271041,
          1,
          0.40442225392296727,
          0.35805991440798857,
          0.35092724679029963,
          0.5399429386590585,
          0.5256776034236805,
          0.40442225392296727,
          0.3937232524964337,
          0.6540656205420827,
          0.7182596291012839,
          0.4543509272467904,
          0.5399429386590585,
          0.7182596291012839,
          0.8823109843081313,
          0.5078459343794579,
          0.6825962910128388,
          0.5827389443651926,
          0.4579172610556348,
          0.4293865905848788,
          0.5898716119828816,
          0.529243937232525,
          0.3437945791726106,
          0.36875891583452214,
          0.5399429386590585,
          0.5827389443651926,
          0.2867332382310984,
          0.43295292439372324,
          0.5720399429386591,
          0.5613409415121255,
          0.5042796005706135,
          0.557774607703281,
          0.7004279600570614,
          0.6219686162624822,
          0.7039942938659058,
          0.6504992867332383,
          0.782453637660485,
          0.557774607703281,
          0.6005706134094152,
          0.4935805991440799,
          0.7075606276747504,
          0.7182596291012839,
          0.17261055634807418,
          0.2867332382310984,
          0.12268188302425106,
          0.2510699001426534,
          0.10128388017118403,
          0.054921540656205386,
          0.2853067047075606,
          0.15977175463623397,
          0.1654778887303852,
          0.33666191155492153,
          0.31383737517831667,
          0.4222539229671898,
          0.09415121255349498,
          0.13837375178316688,
          0.5042796005706135,
          0.4336661911554922,
          0.10699001426533525,
          0.08131241084165478,
          0.15834522111269614,
          0.33666191155492153,
          0.1319543509272468,
          0,
          0.3109843081312411,
          0.2510699001426534,
          0.16904422253922965,
          0.17261055634807418,
          0.12268188302425106,
          0.15477888730385161,
          0.20256776034236804,
          0.2867332382310984,
          0.24750356633380885,
          0.1440798858773181,
          0.12268188302425106,
          0.15477888730385161,
          0.008559201141226797,
          0.047788873038516394,
          0.4700427960057062,
          0.24750356633380885,
          0.10699001426533525,
          0.27246790299572043,
          0.09129814550641938,
          0.30813124108416545,
          0.20256776034236804,
          0.11412268188302424,
          0.09771754636233951,
          0.2810271041369472,
          0.02639087018544936,
          0.1654778887303852,
          0.14978601997146931,
          0.02425106990014264,
          0.2867332382310984,
          0.20256776034236804,
          0.033523537803138354,
          0.23466476462196864,
          0.11126961483594863,
          0.07631954350927247,
          0.09201141226818829,
          0.15477888730385161,
          0.047788873038516394,
          0.06704707560627673,
          0.20399429386590587,
          0.24750356633380885,
          0.13338088445078458,
          0.062054208273894434,
          0.07275320970042795,
          0.07275320970042795,
          0.07132667617689017,
          0.052781740370898694,
          0.1340941512125535,
          0.0456490727532097,
          0.21540656205420824,
          0.2510699001426534,
          0.17974322396576317,
          0.20114122681883026,
          0.22967189728958629,
          0.2653352353780314,
          0.297432239657632,
          0.3152639087018545,
          0.16904422253922965,
          0.21540656205420824,
          0.2225392296718973,
          0.22967189728958629,
          0.35805991440798857,
          0.17261055634807418,
          0.1940085592011412,
          0.4115549215406562,
          0.3937232524964337,
          0.09771754636233951,
          0.24750356633380885,
          0.2653352353780314,
          0.1940085592011412,
          0.15834522111269614,
          0.1440798858773181,
          0.1048502139800285,
          0.2831669044222539,
          0.25820256776034234,
          0.318830242510699,
          0.1440798858773181,
          0.4293865905848788,
          0.27246790299572043,
          0.24393723252496433,
          0.17261055634807418,
          0.2867332382310984,
          0.20827389443651925,
          0.2831669044222539,
          0.2403708987161198,
          0.17261055634807418,
          0.297432239657632,
          0.29029957203994294,
          0.33666191155492153,
          0.2510699001426534,
          0.1654778887303852,
          0.1369472182596291,
          0.27246790299572043,
          0.3295292439372326,
          0.33666191155492153,
          0.3972895863052782,
          0.40085592011412274,
          0.20114122681883026
         ]
        }
       ],
       "layout": {
        "template": {
         "data": {
          "bar": [
           {
            "error_x": {
             "color": "#2a3f5f"
            },
            "error_y": {
             "color": "#2a3f5f"
            },
            "marker": {
             "line": {
              "color": "#E5ECF6",
              "width": 0.5
             }
            },
            "type": "bar"
           }
          ],
          "barpolar": [
           {
            "marker": {
             "line": {
              "color": "#E5ECF6",
              "width": 0.5
             }
            },
            "type": "barpolar"
           }
          ],
          "carpet": [
           {
            "aaxis": {
             "endlinecolor": "#2a3f5f",
             "gridcolor": "white",
             "linecolor": "white",
             "minorgridcolor": "white",
             "startlinecolor": "#2a3f5f"
            },
            "baxis": {
             "endlinecolor": "#2a3f5f",
             "gridcolor": "white",
             "linecolor": "white",
             "minorgridcolor": "white",
             "startlinecolor": "#2a3f5f"
            },
            "type": "carpet"
           }
          ],
          "choropleth": [
           {
            "colorbar": {
             "outlinewidth": 0,
             "ticks": ""
            },
            "type": "choropleth"
           }
          ],
          "contour": [
           {
            "colorbar": {
             "outlinewidth": 0,
             "ticks": ""
            },
            "colorscale": [
             [
              0,
              "#0d0887"
             ],
             [
              0.1111111111111111,
              "#46039f"
             ],
             [
              0.2222222222222222,
              "#7201a8"
             ],
             [
              0.3333333333333333,
              "#9c179e"
             ],
             [
              0.4444444444444444,
              "#bd3786"
             ],
             [
              0.5555555555555556,
              "#d8576b"
             ],
             [
              0.6666666666666666,
              "#ed7953"
             ],
             [
              0.7777777777777778,
              "#fb9f3a"
             ],
             [
              0.8888888888888888,
              "#fdca26"
             ],
             [
              1,
              "#f0f921"
             ]
            ],
            "type": "contour"
           }
          ],
          "contourcarpet": [
           {
            "colorbar": {
             "outlinewidth": 0,
             "ticks": ""
            },
            "type": "contourcarpet"
           }
          ],
          "heatmap": [
           {
            "colorbar": {
             "outlinewidth": 0,
             "ticks": ""
            },
            "colorscale": [
             [
              0,
              "#0d0887"
             ],
             [
              0.1111111111111111,
              "#46039f"
             ],
             [
              0.2222222222222222,
              "#7201a8"
             ],
             [
              0.3333333333333333,
              "#9c179e"
             ],
             [
              0.4444444444444444,
              "#bd3786"
             ],
             [
              0.5555555555555556,
              "#d8576b"
             ],
             [
              0.6666666666666666,
              "#ed7953"
             ],
             [
              0.7777777777777778,
              "#fb9f3a"
             ],
             [
              0.8888888888888888,
              "#fdca26"
             ],
             [
              1,
              "#f0f921"
             ]
            ],
            "type": "heatmap"
           }
          ],
          "heatmapgl": [
           {
            "colorbar": {
             "outlinewidth": 0,
             "ticks": ""
            },
            "colorscale": [
             [
              0,
              "#0d0887"
             ],
             [
              0.1111111111111111,
              "#46039f"
             ],
             [
              0.2222222222222222,
              "#7201a8"
             ],
             [
              0.3333333333333333,
              "#9c179e"
             ],
             [
              0.4444444444444444,
              "#bd3786"
             ],
             [
              0.5555555555555556,
              "#d8576b"
             ],
             [
              0.6666666666666666,
              "#ed7953"
             ],
             [
              0.7777777777777778,
              "#fb9f3a"
             ],
             [
              0.8888888888888888,
              "#fdca26"
             ],
             [
              1,
              "#f0f921"
             ]
            ],
            "type": "heatmapgl"
           }
          ],
          "histogram": [
           {
            "marker": {
             "colorbar": {
              "outlinewidth": 0,
              "ticks": ""
             }
            },
            "type": "histogram"
           }
          ],
          "histogram2d": [
           {
            "colorbar": {
             "outlinewidth": 0,
             "ticks": ""
            },
            "colorscale": [
             [
              0,
              "#0d0887"
             ],
             [
              0.1111111111111111,
              "#46039f"
             ],
             [
              0.2222222222222222,
              "#7201a8"
             ],
             [
              0.3333333333333333,
              "#9c179e"
             ],
             [
              0.4444444444444444,
              "#bd3786"
             ],
             [
              0.5555555555555556,
              "#d8576b"
             ],
             [
              0.6666666666666666,
              "#ed7953"
             ],
             [
              0.7777777777777778,
              "#fb9f3a"
             ],
             [
              0.8888888888888888,
              "#fdca26"
             ],
             [
              1,
              "#f0f921"
             ]
            ],
            "type": "histogram2d"
           }
          ],
          "histogram2dcontour": [
           {
            "colorbar": {
             "outlinewidth": 0,
             "ticks": ""
            },
            "colorscale": [
             [
              0,
              "#0d0887"
             ],
             [
              0.1111111111111111,
              "#46039f"
             ],
             [
              0.2222222222222222,
              "#7201a8"
             ],
             [
              0.3333333333333333,
              "#9c179e"
             ],
             [
              0.4444444444444444,
              "#bd3786"
             ],
             [
              0.5555555555555556,
              "#d8576b"
             ],
             [
              0.6666666666666666,
              "#ed7953"
             ],
             [
              0.7777777777777778,
              "#fb9f3a"
             ],
             [
              0.8888888888888888,
              "#fdca26"
             ],
             [
              1,
              "#f0f921"
             ]
            ],
            "type": "histogram2dcontour"
           }
          ],
          "mesh3d": [
           {
            "colorbar": {
             "outlinewidth": 0,
             "ticks": ""
            },
            "type": "mesh3d"
           }
          ],
          "parcoords": [
           {
            "line": {
             "colorbar": {
              "outlinewidth": 0,
              "ticks": ""
             }
            },
            "type": "parcoords"
           }
          ],
          "pie": [
           {
            "automargin": true,
            "type": "pie"
           }
          ],
          "scatter": [
           {
            "marker": {
             "colorbar": {
              "outlinewidth": 0,
              "ticks": ""
             }
            },
            "type": "scatter"
           }
          ],
          "scatter3d": [
           {
            "line": {
             "colorbar": {
              "outlinewidth": 0,
              "ticks": ""
             }
            },
            "marker": {
             "colorbar": {
              "outlinewidth": 0,
              "ticks": ""
             }
            },
            "type": "scatter3d"
           }
          ],
          "scattercarpet": [
           {
            "marker": {
             "colorbar": {
              "outlinewidth": 0,
              "ticks": ""
             }
            },
            "type": "scattercarpet"
           }
          ],
          "scattergeo": [
           {
            "marker": {
             "colorbar": {
              "outlinewidth": 0,
              "ticks": ""
             }
            },
            "type": "scattergeo"
           }
          ],
          "scattergl": [
           {
            "marker": {
             "colorbar": {
              "outlinewidth": 0,
              "ticks": ""
             }
            },
            "type": "scattergl"
           }
          ],
          "scattermapbox": [
           {
            "marker": {
             "colorbar": {
              "outlinewidth": 0,
              "ticks": ""
             }
            },
            "type": "scattermapbox"
           }
          ],
          "scatterpolar": [
           {
            "marker": {
             "colorbar": {
              "outlinewidth": 0,
              "ticks": ""
             }
            },
            "type": "scatterpolar"
           }
          ],
          "scatterpolargl": [
           {
            "marker": {
             "colorbar": {
              "outlinewidth": 0,
              "ticks": ""
             }
            },
            "type": "scatterpolargl"
           }
          ],
          "scatterternary": [
           {
            "marker": {
             "colorbar": {
              "outlinewidth": 0,
              "ticks": ""
             }
            },
            "type": "scatterternary"
           }
          ],
          "surface": [
           {
            "colorbar": {
             "outlinewidth": 0,
             "ticks": ""
            },
            "colorscale": [
             [
              0,
              "#0d0887"
             ],
             [
              0.1111111111111111,
              "#46039f"
             ],
             [
              0.2222222222222222,
              "#7201a8"
             ],
             [
              0.3333333333333333,
              "#9c179e"
             ],
             [
              0.4444444444444444,
              "#bd3786"
             ],
             [
              0.5555555555555556,
              "#d8576b"
             ],
             [
              0.6666666666666666,
              "#ed7953"
             ],
             [
              0.7777777777777778,
              "#fb9f3a"
             ],
             [
              0.8888888888888888,
              "#fdca26"
             ],
             [
              1,
              "#f0f921"
             ]
            ],
            "type": "surface"
           }
          ],
          "table": [
           {
            "cells": {
             "fill": {
              "color": "#EBF0F8"
             },
             "line": {
              "color": "white"
             }
            },
            "header": {
             "fill": {
              "color": "#C8D4E3"
             },
             "line": {
              "color": "white"
             }
            },
            "type": "table"
           }
          ]
         },
         "layout": {
          "annotationdefaults": {
           "arrowcolor": "#2a3f5f",
           "arrowhead": 0,
           "arrowwidth": 1
          },
          "autotypenumbers": "strict",
          "coloraxis": {
           "colorbar": {
            "outlinewidth": 0,
            "ticks": ""
           }
          },
          "colorscale": {
           "diverging": [
            [
             0,
             "#8e0152"
            ],
            [
             0.1,
             "#c51b7d"
            ],
            [
             0.2,
             "#de77ae"
            ],
            [
             0.3,
             "#f1b6da"
            ],
            [
             0.4,
             "#fde0ef"
            ],
            [
             0.5,
             "#f7f7f7"
            ],
            [
             0.6,
             "#e6f5d0"
            ],
            [
             0.7,
             "#b8e186"
            ],
            [
             0.8,
             "#7fbc41"
            ],
            [
             0.9,
             "#4d9221"
            ],
            [
             1,
             "#276419"
            ]
           ],
           "sequential": [
            [
             0,
             "#0d0887"
            ],
            [
             0.1111111111111111,
             "#46039f"
            ],
            [
             0.2222222222222222,
             "#7201a8"
            ],
            [
             0.3333333333333333,
             "#9c179e"
            ],
            [
             0.4444444444444444,
             "#bd3786"
            ],
            [
             0.5555555555555556,
             "#d8576b"
            ],
            [
             0.6666666666666666,
             "#ed7953"
            ],
            [
             0.7777777777777778,
             "#fb9f3a"
            ],
            [
             0.8888888888888888,
             "#fdca26"
            ],
            [
             1,
             "#f0f921"
            ]
           ],
           "sequentialminus": [
            [
             0,
             "#0d0887"
            ],
            [
             0.1111111111111111,
             "#46039f"
            ],
            [
             0.2222222222222222,
             "#7201a8"
            ],
            [
             0.3333333333333333,
             "#9c179e"
            ],
            [
             0.4444444444444444,
             "#bd3786"
            ],
            [
             0.5555555555555556,
             "#d8576b"
            ],
            [
             0.6666666666666666,
             "#ed7953"
            ],
            [
             0.7777777777777778,
             "#fb9f3a"
            ],
            [
             0.8888888888888888,
             "#fdca26"
            ],
            [
             1,
             "#f0f921"
            ]
           ]
          },
          "colorway": [
           "#636efa",
           "#EF553B",
           "#00cc96",
           "#ab63fa",
           "#FFA15A",
           "#19d3f3",
           "#FF6692",
           "#B6E880",
           "#FF97FF",
           "#FECB52"
          ],
          "font": {
           "color": "#2a3f5f"
          },
          "geo": {
           "bgcolor": "white",
           "lakecolor": "white",
           "landcolor": "#E5ECF6",
           "showlakes": true,
           "showland": true,
           "subunitcolor": "white"
          },
          "hoverlabel": {
           "align": "left"
          },
          "hovermode": "closest",
          "mapbox": {
           "style": "light"
          },
          "paper_bgcolor": "white",
          "plot_bgcolor": "#E5ECF6",
          "polar": {
           "angularaxis": {
            "gridcolor": "white",
            "linecolor": "white",
            "ticks": ""
           },
           "bgcolor": "#E5ECF6",
           "radialaxis": {
            "gridcolor": "white",
            "linecolor": "white",
            "ticks": ""
           }
          },
          "scene": {
           "xaxis": {
            "backgroundcolor": "#E5ECF6",
            "gridcolor": "white",
            "gridwidth": 2,
            "linecolor": "white",
            "showbackground": true,
            "ticks": "",
            "zerolinecolor": "white"
           },
           "yaxis": {
            "backgroundcolor": "#E5ECF6",
            "gridcolor": "white",
            "gridwidth": 2,
            "linecolor": "white",
            "showbackground": true,
            "ticks": "",
            "zerolinecolor": "white"
           },
           "zaxis": {
            "backgroundcolor": "#E5ECF6",
            "gridcolor": "white",
            "gridwidth": 2,
            "linecolor": "white",
            "showbackground": true,
            "ticks": "",
            "zerolinecolor": "white"
           }
          },
          "shapedefaults": {
           "line": {
            "color": "#2a3f5f"
           }
          },
          "ternary": {
           "aaxis": {
            "gridcolor": "white",
            "linecolor": "white",
            "ticks": ""
           },
           "baxis": {
            "gridcolor": "white",
            "linecolor": "white",
            "ticks": ""
           },
           "bgcolor": "#E5ECF6",
           "caxis": {
            "gridcolor": "white",
            "linecolor": "white",
            "ticks": ""
           }
          },
          "title": {
           "x": 0.05
          },
          "xaxis": {
           "automargin": true,
           "gridcolor": "white",
           "linecolor": "white",
           "ticks": "",
           "title": {
            "standoff": 15
           },
           "zerolinecolor": "white",
           "zerolinewidth": 2
          },
          "yaxis": {
           "automargin": true,
           "gridcolor": "white",
           "linecolor": "white",
           "ticks": "",
           "title": {
            "standoff": 15
           },
           "zerolinecolor": "white",
           "zerolinewidth": 2
          }
         }
        }
       }
      }
     },
     "metadata": {}
    }
   ],
   "source": [
    "fig = go.Figure()\n",
    "fig.add_trace(go.Scatter3d(x=df['Color_Intensity'],\n",
    "                         y=df['Alcohol'], z=df['Proline'],\n",
    "                         mode = 'markers',                      \n",
    "                          marker = dict(color = grouper.labels_.astype(np.float)),\n",
    "                        text = [0, 1, 2]))\n",
    "fig.show()"
   ]
  },
  {
   "cell_type": "code",
   "execution_count": 31,
   "metadata": {},
   "outputs": [
    {
     "output_type": "display_data",
     "data": {
      "application/vnd.plotly.v1+json": {
       "config": {
        "plotlyServerURL": "https://plot.ly"
       },
       "data": [
        {
         "marker": {
          "color": [
           1,
           1,
           1,
           1,
           1,
           1,
           1,
           1,
           1,
           1,
           1,
           1,
           1,
           1,
           1,
           1,
           1,
           1,
           1,
           1,
           1,
           1,
           1,
           1,
           1,
           1,
           1,
           1,
           1,
           1,
           1,
           1,
           1,
           1,
           1,
           1,
           1,
           1,
           1,
           1,
           1,
           1,
           1,
           1,
           1,
           1,
           1,
           1,
           1,
           1,
           1,
           1,
           1,
           1,
           1,
           1,
           1,
           1,
           1,
           0,
           0,
           0,
           0,
           0,
           0,
           0,
           0,
           0,
           0,
           3,
           0,
           0,
           0,
           4,
           0,
           0,
           0,
           0,
           3,
           0,
           0,
           0,
           0,
           2,
           0,
           0,
           0,
           0,
           0,
           0,
           0,
           0,
           0,
           0,
           0,
           3,
           0,
           0,
           0,
           0,
           0,
           0,
           0,
           0,
           0,
           0,
           0,
           0,
           0,
           0,
           0,
           0,
           0,
           0,
           0,
           0,
           0,
           0,
           0,
           0,
           0,
           5,
           0,
           0,
           0,
           0,
           0,
           0,
           0,
           0,
           2,
           2,
           2,
           2,
           2,
           2,
           2,
           2,
           2,
           2,
           2,
           2,
           2,
           2,
           2,
           2,
           2,
           2,
           2,
           2,
           2,
           2,
           2,
           2,
           2,
           2,
           2,
           2,
           2,
           2,
           2,
           2,
           2,
           2,
           2,
           2,
           2,
           2,
           2,
           2,
           2,
           2,
           2,
           2,
           2,
           2,
           2,
           2
          ]
         },
         "mode": "markers",
         "text": [
          "0",
          "1",
          "2"
         ],
         "type": "scatter3d",
         "x": [
          0.3720136518771331,
          0.26450511945392485,
          0.3754266211604095,
          0.5563139931740614,
          0.2593856655290102,
          0.4667235494880546,
          0.3387372013651877,
          0.3216723549488054,
          0.33447098976109213,
          0.5068259385665529,
          0.3813993174061433,
          0.31740614334470985,
          0.3686006825938566,
          0.3515358361774744,
          0.5307167235494881,
          0.5136518771331058,
          0.41979522184300344,
          0.4539249146757679,
          0.6331058020477814,
          0.325938566552901,
          0.37286689419795227,
          0.27474402730375425,
          0.21501706484641633,
          0.22610921501706485,
          0.1911262798634812,
          0.1962457337883959,
          0.30034129692832756,
          0.22781569965870305,
          0.27474402730375425,
          0.29180887372013653,
          0.37713310580204773,
          0.4795221843003413,
          0.21843003412969278,
          0.3515358361774744,
          0.2491467576791809,
          0.325938566552901,
          0.2832764505119454,
          0.2534129692832764,
          0.20648464163822525,
          0.325938566552901,
          0.4138225255972696,
          0.2559726962457338,
          0.35409556313993173,
          0.2627986348122867,
          0.32081911262798635,
          0.33788395904436863,
          0.3088737201365188,
          0.4112627986348123,
          0.41979522184300344,
          0.6501706484641638,
          0.5051194539249146,
          0.3686006825938566,
          0.4923208191126279,
          0.42832764505119447,
          0.38993174061433444,
          0.424061433447099,
          0.4351535836177475,
          0.40273037542662116,
          0.4709897610921502,
          0.057167235494880536,
          0.1697952218430034,
          0.3813993174061433,
          0.21501706484641633,
          0.2704778156996587,
          0.1424914675767918,
          0.2832764505119454,
          0.3430034129692833,
          0.2901023890784983,
          0.16126279863481227,
          0.13395904436860068,
          0.15102389078498293,
          0.17918088737201363,
          0.2098976109215017,
          0.1766211604095563,
          0.16467576791808872,
          0.21501706484641633,
          0.2832764505119454,
          0.11689419795221842,
          0.18088737201365188,
          0.1100682593856655,
          0.10409556313993173,
          0.22354948805460748,
          0.07849829351535836,
          0.30034129692832756,
          0.15102389078498293,
          0.1143344709897611,
          0.09982935153583619,
          0.11262798634812288,
          0.1296928327645051,
          0.03924914675767918,
          0.09556313993174059,
          0.1979522184300341,
          0.15102389078498293,
          0.07423208191126279,
          0.16808873720136516,
          0.11262798634812288,
          0.10409556313993173,
          0.13822525597269622,
          0.27474402730375425,
          0.08703071672354948,
          0.17235494880546073,
          0.09982935153583619,
          0.1296928327645051,
          0.06655290102389078,
          0.14163822525597267,
          0.12116040955631399,
          0.18088737201365188,
          0.17235494880546073,
          0.12116040955631399,
          0.11689419795221842,
          0.13822525597269622,
          0.06143344709897611,
          0.21501706484641633,
          0.15358361774744025,
          0.13822525597269622,
          0.052901023890784965,
          0.057167235494880536,
          0.06655290102389078,
          0.18088737201365188,
          0,
          0.16808873720136516,
          0.40273037542662116,
          0.06825938566552903,
          0.11262798634812288,
          0.1296928327645051,
          0.12627986348122863,
          0.22696245733788392,
          0.14675767918088736,
          0.07167235494880547,
          0.11262798634812288,
          0.2406143344709897,
          0.3515358361774744,
          0.37713310580204773,
          0.31740614334470985,
          0.35580204778157,
          0.4965870307167235,
          0.21928327645051196,
          0.31740614334470985,
          0.37713310580204773,
          0.31058020477815695,
          0.2832764505119454,
          0.3686006825938566,
          0.26194539249146753,
          0.2662116040955631,
          0.5912969283276451,
          0.23208191126279862,
          0.3088737201365188,
          0.5435153583617748,
          0.6092150170648464,
          0.6928327645051194,
          0.6245733788395904,
          0.8122866894197952,
          0.4965870307167235,
          0.78839590443686,
          0.5392491467576791,
          0.5648464163822525,
          0.659556313993174,
          0.5307167235494881,
          0.9999999999999999,
          0.893344709897611,
          0.5435153583617748,
          0.39249146757679176,
          0.36689419795221845,
          0.341296928327645,
          0.7081911262798635,
          0.45563139931740615,
          0.8020477815699658,
          0.7662116040955631,
          0.6296928327645052,
          0.6160409556313993,
          0.36006825938566556,
          0.735494795221843,
          0.7184300341296928,
          0.5477815699658704,
          0.5136518771331058,
          0.7610921501706484,
          0.6843003412969284,
          0.6757679180887372
         ],
         "y": [
          0.8421052631578951,
          0.5710526315789473,
          0.560526315789474,
          0.8789473684210525,
          0.5815789473684214,
          0.8342105263157893,
          0.8842105263157896,
          0.797368421052632,
          1,
          0.7447368421052629,
          0.8078947368421052,
          0.8131578947368419,
          0.7157894736842105,
          0.9789473684210526,
          0.8815789473684212,
          0.6842105263157898,
          0.8605263157894738,
          0.736842105263158,
          0.831578947368421,
          0.6868421052631581,
          0.797368421052632,
          0.5,
          0.7052631578947373,
          0.47894736842105257,
          0.6499999999999999,
          0.5315789473684216,
          0.6210526315789475,
          0.5973684210526318,
          0.7473684210526317,
          0.7868421052631578,
          0.7105263157894739,
          0.6710526315789473,
          0.6973684210526314,
          0.7184210526315788,
          0.6526315789473687,
          0.6447368421052633,
          0.5921052631578947,
          0.5315789473684216,
          0.5368421052631582,
          0.8394736842105264,
          0.6657894736842107,
          0.6263157894736846,
          0.7500000000000004,
          0.5815789473684214,
          0.5315789473684216,
          0.836842105263158,
          0.8815789473684212,
          0.7552631578947371,
          0.8078947368421052,
          0.7657894736842104,
          0.5315789473684216,
          0.736842105263158,
          0.7342105263157896,
          0.7210526315789472,
          0.7131578947368422,
          0.6657894736842107,
          0.8394736842105264,
          0.594736842105263,
          0.7078947368421056,
          0.3526315789473684,
          0.34210526315789513,
          0.4236842105263161,
          0.6947368421052631,
          0.3526315789473684,
          0.30000000000000027,
          0.3526315789473684,
          0.5473684210526315,
          0.3526315789473684,
          0.6078947368421055,
          0.310526315789474,
          0.331578947368421,
          0.7447368421052629,
          0.6473684210526316,
          0.5157894736842108,
          0.2447368421052638,
          0.1657894736842107,
          0.5263157894736841,
          0.2131578947368422,
          0.34210526315789513,
          0.43947368421052646,
          0.2552631578947371,
          0.44473684210526354,
          0.2763157894736845,
          0.5315789473684216,
          0.2131578947368422,
          0.43157894736842106,
          0.29736842105263195,
          0.1631578947368424,
          0.16052631578947407,
          0.2763157894736845,
          0.2763157894736845,
          0.2552631578947371,
          0.43684210526315814,
          0.331578947368421,
          0.155263157894737,
          0.3789473684210529,
          0.20526315789473726,
          0.331578947368421,
          0.3526315789473684,
          0.331578947368421,
          0.2763157894736845,
          0.4131578947368424,
          0.34473684210526345,
          0.20789473684210558,
          0.38947368421052664,
          0.3657894736842109,
          0.3210526315789477,
          0.44473684210526354,
          0.3131578947368423,
          0.15263157894736867,
          0.11315789473684257,
          0.39210526315789496,
          0.19210526315789478,
          0.10000000000000053,
          0.2763157894736845,
          0,
          0.20789473684210558,
          0.3657894736842109,
          0.45789473684210513,
          0.2552631578947371,
          0.1105263157894738,
          0.13947368421052664,
          0.3657894736842109,
          0.5315789473684216,
          0.2210526315789476,
          0.2736842105263162,
          0.3684210526315792,
          0.20000000000000018,
          0.3526315789473684,
          0.26578947368421035,
          0.4815789473684209,
          0.4868421052631584,
          0.4684210526315793,
          0.43947368421052646,
          0.38947368421052664,
          0.4131578947368424,
          0.3210526315789477,
          0.3947368421052633,
          0.6473684210526316,
          0.47631578947368425,
          0.5,
          0.6131578947368421,
          0.655263157894737,
          0.6815789473684211,
          0.3210526315789477,
          0.560526315789474,
          0.7500000000000004,
          0.48421052631578965,
          0.6026315789473689,
          0.5394736842105265,
          0.6499999999999999,
          0.4631578947368422,
          0.5473684210526315,
          0.5789473684210531,
          0.4078947368421053,
          0.5631578947368423,
          0.7394736842105263,
          0.37368421052631584,
          0.8710526315789475,
          0.6447368421052633,
          0.3500000000000001,
          0.7000000000000002,
          0.47894736842105257,
          0.5078947368421058,
          0.7236842105263159,
          0.7105263157894739,
          0.6368421052631579,
          0.4710526315789476,
          0.6710526315789473,
          0.6236842105263158,
          0.3078947368421052,
          0.45789473684210513,
          0.823684210526316,
          0.7052631578947373,
          0.6236842105263158,
          0.5894736842105264,
          0.5631578947368423,
          0.8157894736842106
         ],
         "z": [
          0.5613409415121255,
          0.5506419400855921,
          0.6469329529243938,
          0.8573466476462198,
          0.3259629101283881,
          0.8359486447931527,
          0.7218259629101285,
          0.725392296718973,
          0.5470756062767476,
          0.5470756062767476,
          0.8787446504992867,
          0.7146932952924394,
          0.7432239657631955,
          0.6219686162624822,
          0.9051355206847361,
          0.7360912981455064,
          0.7146932952924394,
          0.6077032810271041,
          1,
          0.40442225392296727,
          0.35805991440798857,
          0.35092724679029963,
          0.5399429386590585,
          0.5256776034236805,
          0.40442225392296727,
          0.3937232524964337,
          0.6540656205420827,
          0.7182596291012839,
          0.4543509272467904,
          0.5399429386590585,
          0.7182596291012839,
          0.8823109843081313,
          0.5078459343794579,
          0.6825962910128388,
          0.5827389443651926,
          0.4579172610556348,
          0.4293865905848788,
          0.5898716119828816,
          0.529243937232525,
          0.3437945791726106,
          0.36875891583452214,
          0.5399429386590585,
          0.5827389443651926,
          0.2867332382310984,
          0.43295292439372324,
          0.5720399429386591,
          0.5613409415121255,
          0.5042796005706135,
          0.557774607703281,
          0.7004279600570614,
          0.6219686162624822,
          0.7039942938659058,
          0.6504992867332383,
          0.782453637660485,
          0.557774607703281,
          0.6005706134094152,
          0.4935805991440799,
          0.7075606276747504,
          0.7182596291012839,
          0.17261055634807418,
          0.2867332382310984,
          0.12268188302425106,
          0.2510699001426534,
          0.10128388017118403,
          0.054921540656205386,
          0.2853067047075606,
          0.15977175463623397,
          0.1654778887303852,
          0.33666191155492153,
          0.31383737517831667,
          0.4222539229671898,
          0.09415121255349498,
          0.13837375178316688,
          0.5042796005706135,
          0.4336661911554922,
          0.10699001426533525,
          0.08131241084165478,
          0.15834522111269614,
          0.33666191155492153,
          0.1319543509272468,
          0,
          0.3109843081312411,
          0.2510699001426534,
          0.16904422253922965,
          0.17261055634807418,
          0.12268188302425106,
          0.15477888730385161,
          0.20256776034236804,
          0.2867332382310984,
          0.24750356633380885,
          0.1440798858773181,
          0.12268188302425106,
          0.15477888730385161,
          0.008559201141226797,
          0.047788873038516394,
          0.4700427960057062,
          0.24750356633380885,
          0.10699001426533525,
          0.27246790299572043,
          0.09129814550641938,
          0.30813124108416545,
          0.20256776034236804,
          0.11412268188302424,
          0.09771754636233951,
          0.2810271041369472,
          0.02639087018544936,
          0.1654778887303852,
          0.14978601997146931,
          0.02425106990014264,
          0.2867332382310984,
          0.20256776034236804,
          0.033523537803138354,
          0.23466476462196864,
          0.11126961483594863,
          0.07631954350927247,
          0.09201141226818829,
          0.15477888730385161,
          0.047788873038516394,
          0.06704707560627673,
          0.20399429386590587,
          0.24750356633380885,
          0.13338088445078458,
          0.062054208273894434,
          0.07275320970042795,
          0.07275320970042795,
          0.07132667617689017,
          0.052781740370898694,
          0.1340941512125535,
          0.0456490727532097,
          0.21540656205420824,
          0.2510699001426534,
          0.17974322396576317,
          0.20114122681883026,
          0.22967189728958629,
          0.2653352353780314,
          0.297432239657632,
          0.3152639087018545,
          0.16904422253922965,
          0.21540656205420824,
          0.2225392296718973,
          0.22967189728958629,
          0.35805991440798857,
          0.17261055634807418,
          0.1940085592011412,
          0.4115549215406562,
          0.3937232524964337,
          0.09771754636233951,
          0.24750356633380885,
          0.2653352353780314,
          0.1940085592011412,
          0.15834522111269614,
          0.1440798858773181,
          0.1048502139800285,
          0.2831669044222539,
          0.25820256776034234,
          0.318830242510699,
          0.1440798858773181,
          0.4293865905848788,
          0.27246790299572043,
          0.24393723252496433,
          0.17261055634807418,
          0.2867332382310984,
          0.20827389443651925,
          0.2831669044222539,
          0.2403708987161198,
          0.17261055634807418,
          0.297432239657632,
          0.29029957203994294,
          0.33666191155492153,
          0.2510699001426534,
          0.1654778887303852,
          0.1369472182596291,
          0.27246790299572043,
          0.3295292439372326,
          0.33666191155492153,
          0.3972895863052782,
          0.40085592011412274,
          0.20114122681883026
         ]
        }
       ],
       "layout": {
        "scene": {
         "xaxis": {
          "title": {
           "text": "Color Intensity"
          }
         },
         "yaxis": {
          "title": {
           "text": "Alcohol"
          }
         },
         "zaxis": {
          "title": {
           "text": "Proline"
          }
         }
        },
        "template": {
         "data": {
          "bar": [
           {
            "error_x": {
             "color": "#2a3f5f"
            },
            "error_y": {
             "color": "#2a3f5f"
            },
            "marker": {
             "line": {
              "color": "#E5ECF6",
              "width": 0.5
             }
            },
            "type": "bar"
           }
          ],
          "barpolar": [
           {
            "marker": {
             "line": {
              "color": "#E5ECF6",
              "width": 0.5
             }
            },
            "type": "barpolar"
           }
          ],
          "carpet": [
           {
            "aaxis": {
             "endlinecolor": "#2a3f5f",
             "gridcolor": "white",
             "linecolor": "white",
             "minorgridcolor": "white",
             "startlinecolor": "#2a3f5f"
            },
            "baxis": {
             "endlinecolor": "#2a3f5f",
             "gridcolor": "white",
             "linecolor": "white",
             "minorgridcolor": "white",
             "startlinecolor": "#2a3f5f"
            },
            "type": "carpet"
           }
          ],
          "choropleth": [
           {
            "colorbar": {
             "outlinewidth": 0,
             "ticks": ""
            },
            "type": "choropleth"
           }
          ],
          "contour": [
           {
            "colorbar": {
             "outlinewidth": 0,
             "ticks": ""
            },
            "colorscale": [
             [
              0,
              "#0d0887"
             ],
             [
              0.1111111111111111,
              "#46039f"
             ],
             [
              0.2222222222222222,
              "#7201a8"
             ],
             [
              0.3333333333333333,
              "#9c179e"
             ],
             [
              0.4444444444444444,
              "#bd3786"
             ],
             [
              0.5555555555555556,
              "#d8576b"
             ],
             [
              0.6666666666666666,
              "#ed7953"
             ],
             [
              0.7777777777777778,
              "#fb9f3a"
             ],
             [
              0.8888888888888888,
              "#fdca26"
             ],
             [
              1,
              "#f0f921"
             ]
            ],
            "type": "contour"
           }
          ],
          "contourcarpet": [
           {
            "colorbar": {
             "outlinewidth": 0,
             "ticks": ""
            },
            "type": "contourcarpet"
           }
          ],
          "heatmap": [
           {
            "colorbar": {
             "outlinewidth": 0,
             "ticks": ""
            },
            "colorscale": [
             [
              0,
              "#0d0887"
             ],
             [
              0.1111111111111111,
              "#46039f"
             ],
             [
              0.2222222222222222,
              "#7201a8"
             ],
             [
              0.3333333333333333,
              "#9c179e"
             ],
             [
              0.4444444444444444,
              "#bd3786"
             ],
             [
              0.5555555555555556,
              "#d8576b"
             ],
             [
              0.6666666666666666,
              "#ed7953"
             ],
             [
              0.7777777777777778,
              "#fb9f3a"
             ],
             [
              0.8888888888888888,
              "#fdca26"
             ],
             [
              1,
              "#f0f921"
             ]
            ],
            "type": "heatmap"
           }
          ],
          "heatmapgl": [
           {
            "colorbar": {
             "outlinewidth": 0,
             "ticks": ""
            },
            "colorscale": [
             [
              0,
              "#0d0887"
             ],
             [
              0.1111111111111111,
              "#46039f"
             ],
             [
              0.2222222222222222,
              "#7201a8"
             ],
             [
              0.3333333333333333,
              "#9c179e"
             ],
             [
              0.4444444444444444,
              "#bd3786"
             ],
             [
              0.5555555555555556,
              "#d8576b"
             ],
             [
              0.6666666666666666,
              "#ed7953"
             ],
             [
              0.7777777777777778,
              "#fb9f3a"
             ],
             [
              0.8888888888888888,
              "#fdca26"
             ],
             [
              1,
              "#f0f921"
             ]
            ],
            "type": "heatmapgl"
           }
          ],
          "histogram": [
           {
            "marker": {
             "colorbar": {
              "outlinewidth": 0,
              "ticks": ""
             }
            },
            "type": "histogram"
           }
          ],
          "histogram2d": [
           {
            "colorbar": {
             "outlinewidth": 0,
             "ticks": ""
            },
            "colorscale": [
             [
              0,
              "#0d0887"
             ],
             [
              0.1111111111111111,
              "#46039f"
             ],
             [
              0.2222222222222222,
              "#7201a8"
             ],
             [
              0.3333333333333333,
              "#9c179e"
             ],
             [
              0.4444444444444444,
              "#bd3786"
             ],
             [
              0.5555555555555556,
              "#d8576b"
             ],
             [
              0.6666666666666666,
              "#ed7953"
             ],
             [
              0.7777777777777778,
              "#fb9f3a"
             ],
             [
              0.8888888888888888,
              "#fdca26"
             ],
             [
              1,
              "#f0f921"
             ]
            ],
            "type": "histogram2d"
           }
          ],
          "histogram2dcontour": [
           {
            "colorbar": {
             "outlinewidth": 0,
             "ticks": ""
            },
            "colorscale": [
             [
              0,
              "#0d0887"
             ],
             [
              0.1111111111111111,
              "#46039f"
             ],
             [
              0.2222222222222222,
              "#7201a8"
             ],
             [
              0.3333333333333333,
              "#9c179e"
             ],
             [
              0.4444444444444444,
              "#bd3786"
             ],
             [
              0.5555555555555556,
              "#d8576b"
             ],
             [
              0.6666666666666666,
              "#ed7953"
             ],
             [
              0.7777777777777778,
              "#fb9f3a"
             ],
             [
              0.8888888888888888,
              "#fdca26"
             ],
             [
              1,
              "#f0f921"
             ]
            ],
            "type": "histogram2dcontour"
           }
          ],
          "mesh3d": [
           {
            "colorbar": {
             "outlinewidth": 0,
             "ticks": ""
            },
            "type": "mesh3d"
           }
          ],
          "parcoords": [
           {
            "line": {
             "colorbar": {
              "outlinewidth": 0,
              "ticks": ""
             }
            },
            "type": "parcoords"
           }
          ],
          "pie": [
           {
            "automargin": true,
            "type": "pie"
           }
          ],
          "scatter": [
           {
            "marker": {
             "colorbar": {
              "outlinewidth": 0,
              "ticks": ""
             }
            },
            "type": "scatter"
           }
          ],
          "scatter3d": [
           {
            "line": {
             "colorbar": {
              "outlinewidth": 0,
              "ticks": ""
             }
            },
            "marker": {
             "colorbar": {
              "outlinewidth": 0,
              "ticks": ""
             }
            },
            "type": "scatter3d"
           }
          ],
          "scattercarpet": [
           {
            "marker": {
             "colorbar": {
              "outlinewidth": 0,
              "ticks": ""
             }
            },
            "type": "scattercarpet"
           }
          ],
          "scattergeo": [
           {
            "marker": {
             "colorbar": {
              "outlinewidth": 0,
              "ticks": ""
             }
            },
            "type": "scattergeo"
           }
          ],
          "scattergl": [
           {
            "marker": {
             "colorbar": {
              "outlinewidth": 0,
              "ticks": ""
             }
            },
            "type": "scattergl"
           }
          ],
          "scattermapbox": [
           {
            "marker": {
             "colorbar": {
              "outlinewidth": 0,
              "ticks": ""
             }
            },
            "type": "scattermapbox"
           }
          ],
          "scatterpolar": [
           {
            "marker": {
             "colorbar": {
              "outlinewidth": 0,
              "ticks": ""
             }
            },
            "type": "scatterpolar"
           }
          ],
          "scatterpolargl": [
           {
            "marker": {
             "colorbar": {
              "outlinewidth": 0,
              "ticks": ""
             }
            },
            "type": "scatterpolargl"
           }
          ],
          "scatterternary": [
           {
            "marker": {
             "colorbar": {
              "outlinewidth": 0,
              "ticks": ""
             }
            },
            "type": "scatterternary"
           }
          ],
          "surface": [
           {
            "colorbar": {
             "outlinewidth": 0,
             "ticks": ""
            },
            "colorscale": [
             [
              0,
              "#0d0887"
             ],
             [
              0.1111111111111111,
              "#46039f"
             ],
             [
              0.2222222222222222,
              "#7201a8"
             ],
             [
              0.3333333333333333,
              "#9c179e"
             ],
             [
              0.4444444444444444,
              "#bd3786"
             ],
             [
              0.5555555555555556,
              "#d8576b"
             ],
             [
              0.6666666666666666,
              "#ed7953"
             ],
             [
              0.7777777777777778,
              "#fb9f3a"
             ],
             [
              0.8888888888888888,
              "#fdca26"
             ],
             [
              1,
              "#f0f921"
             ]
            ],
            "type": "surface"
           }
          ],
          "table": [
           {
            "cells": {
             "fill": {
              "color": "#EBF0F8"
             },
             "line": {
              "color": "white"
             }
            },
            "header": {
             "fill": {
              "color": "#C8D4E3"
             },
             "line": {
              "color": "white"
             }
            },
            "type": "table"
           }
          ]
         },
         "layout": {
          "annotationdefaults": {
           "arrowcolor": "#2a3f5f",
           "arrowhead": 0,
           "arrowwidth": 1
          },
          "autotypenumbers": "strict",
          "coloraxis": {
           "colorbar": {
            "outlinewidth": 0,
            "ticks": ""
           }
          },
          "colorscale": {
           "diverging": [
            [
             0,
             "#8e0152"
            ],
            [
             0.1,
             "#c51b7d"
            ],
            [
             0.2,
             "#de77ae"
            ],
            [
             0.3,
             "#f1b6da"
            ],
            [
             0.4,
             "#fde0ef"
            ],
            [
             0.5,
             "#f7f7f7"
            ],
            [
             0.6,
             "#e6f5d0"
            ],
            [
             0.7,
             "#b8e186"
            ],
            [
             0.8,
             "#7fbc41"
            ],
            [
             0.9,
             "#4d9221"
            ],
            [
             1,
             "#276419"
            ]
           ],
           "sequential": [
            [
             0,
             "#0d0887"
            ],
            [
             0.1111111111111111,
             "#46039f"
            ],
            [
             0.2222222222222222,
             "#7201a8"
            ],
            [
             0.3333333333333333,
             "#9c179e"
            ],
            [
             0.4444444444444444,
             "#bd3786"
            ],
            [
             0.5555555555555556,
             "#d8576b"
            ],
            [
             0.6666666666666666,
             "#ed7953"
            ],
            [
             0.7777777777777778,
             "#fb9f3a"
            ],
            [
             0.8888888888888888,
             "#fdca26"
            ],
            [
             1,
             "#f0f921"
            ]
           ],
           "sequentialminus": [
            [
             0,
             "#0d0887"
            ],
            [
             0.1111111111111111,
             "#46039f"
            ],
            [
             0.2222222222222222,
             "#7201a8"
            ],
            [
             0.3333333333333333,
             "#9c179e"
            ],
            [
             0.4444444444444444,
             "#bd3786"
            ],
            [
             0.5555555555555556,
             "#d8576b"
            ],
            [
             0.6666666666666666,
             "#ed7953"
            ],
            [
             0.7777777777777778,
             "#fb9f3a"
            ],
            [
             0.8888888888888888,
             "#fdca26"
            ],
            [
             1,
             "#f0f921"
            ]
           ]
          },
          "colorway": [
           "#636efa",
           "#EF553B",
           "#00cc96",
           "#ab63fa",
           "#FFA15A",
           "#19d3f3",
           "#FF6692",
           "#B6E880",
           "#FF97FF",
           "#FECB52"
          ],
          "font": {
           "color": "#2a3f5f"
          },
          "geo": {
           "bgcolor": "white",
           "lakecolor": "white",
           "landcolor": "#E5ECF6",
           "showlakes": true,
           "showland": true,
           "subunitcolor": "white"
          },
          "hoverlabel": {
           "align": "left"
          },
          "hovermode": "closest",
          "mapbox": {
           "style": "light"
          },
          "paper_bgcolor": "white",
          "plot_bgcolor": "#E5ECF6",
          "polar": {
           "angularaxis": {
            "gridcolor": "white",
            "linecolor": "white",
            "ticks": ""
           },
           "bgcolor": "#E5ECF6",
           "radialaxis": {
            "gridcolor": "white",
            "linecolor": "white",
            "ticks": ""
           }
          },
          "scene": {
           "xaxis": {
            "backgroundcolor": "#E5ECF6",
            "gridcolor": "white",
            "gridwidth": 2,
            "linecolor": "white",
            "showbackground": true,
            "ticks": "",
            "zerolinecolor": "white"
           },
           "yaxis": {
            "backgroundcolor": "#E5ECF6",
            "gridcolor": "white",
            "gridwidth": 2,
            "linecolor": "white",
            "showbackground": true,
            "ticks": "",
            "zerolinecolor": "white"
           },
           "zaxis": {
            "backgroundcolor": "#E5ECF6",
            "gridcolor": "white",
            "gridwidth": 2,
            "linecolor": "white",
            "showbackground": true,
            "ticks": "",
            "zerolinecolor": "white"
           }
          },
          "shapedefaults": {
           "line": {
            "color": "#2a3f5f"
           }
          },
          "ternary": {
           "aaxis": {
            "gridcolor": "white",
            "linecolor": "white",
            "ticks": ""
           },
           "baxis": {
            "gridcolor": "white",
            "linecolor": "white",
            "ticks": ""
           },
           "bgcolor": "#E5ECF6",
           "caxis": {
            "gridcolor": "white",
            "linecolor": "white",
            "ticks": ""
           }
          },
          "title": {
           "x": 0.05
          },
          "xaxis": {
           "automargin": true,
           "gridcolor": "white",
           "linecolor": "white",
           "ticks": "",
           "title": {
            "standoff": 15
           },
           "zerolinecolor": "white",
           "zerolinewidth": 2
          },
          "yaxis": {
           "automargin": true,
           "gridcolor": "white",
           "linecolor": "white",
           "ticks": "",
           "title": {
            "standoff": 15
           },
           "zerolinecolor": "white",
           "zerolinewidth": 2
          }
         }
        }
       }
      }
     },
     "metadata": {}
    }
   ],
   "source": [
    "fig.update_layout(scene = dict(\n",
    "                    xaxis_title='Color Intensity',\n",
    "                    yaxis_title='Alcohol',\n",
    "                    zaxis_title='Proline'))\n",
    "fig.show()"
   ]
  },
  {
   "cell_type": "code",
   "execution_count": 32,
   "metadata": {},
   "outputs": [
    {
     "output_type": "display_data",
     "data": {
      "application/vnd.plotly.v1+json": {
       "config": {
        "plotlyServerURL": "https://plot.ly"
       },
       "data": [
        {
         "marker": {
          "color": [
           1,
           1,
           1,
           1,
           1,
           1,
           1,
           1,
           1,
           1,
           1,
           1,
           1,
           1,
           1,
           1,
           1,
           1,
           1,
           1,
           1,
           1,
           1,
           1,
           1,
           1,
           1,
           1,
           1,
           1,
           1,
           1,
           1,
           1,
           1,
           1,
           1,
           1,
           1,
           1,
           1,
           1,
           1,
           1,
           1,
           1,
           1,
           1,
           1,
           1,
           1,
           1,
           1,
           1,
           1,
           1,
           1,
           1,
           1,
           0,
           0,
           0,
           0,
           0,
           0,
           0,
           0,
           0,
           0,
           3,
           0,
           0,
           0,
           4,
           0,
           0,
           0,
           0,
           3,
           0,
           0,
           0,
           0,
           2,
           0,
           0,
           0,
           0,
           0,
           0,
           0,
           0,
           0,
           0,
           0,
           3,
           0,
           0,
           0,
           0,
           0,
           0,
           0,
           0,
           0,
           0,
           0,
           0,
           0,
           0,
           0,
           0,
           0,
           0,
           0,
           0,
           0,
           0,
           0,
           0,
           0,
           5,
           0,
           0,
           0,
           0,
           0,
           0,
           0,
           0,
           2,
           2,
           2,
           2,
           2,
           2,
           2,
           2,
           2,
           2,
           2,
           2,
           2,
           2,
           2,
           2,
           2,
           2,
           2,
           2,
           2,
           2,
           2,
           2,
           2,
           2,
           2,
           2,
           2,
           2,
           2,
           2,
           2,
           2,
           2,
           2,
           2,
           2,
           2,
           2,
           2,
           2,
           2,
           2,
           2,
           2,
           2,
           2
          ]
         },
         "mode": "markers",
         "text": [
          "0",
          "1",
          "2"
         ],
         "type": "scatter3d",
         "x": [
          0.3720136518771331,
          0.26450511945392485,
          0.3754266211604095,
          0.5563139931740614,
          0.2593856655290102,
          0.4667235494880546,
          0.3387372013651877,
          0.3216723549488054,
          0.33447098976109213,
          0.5068259385665529,
          0.3813993174061433,
          0.31740614334470985,
          0.3686006825938566,
          0.3515358361774744,
          0.5307167235494881,
          0.5136518771331058,
          0.41979522184300344,
          0.4539249146757679,
          0.6331058020477814,
          0.325938566552901,
          0.37286689419795227,
          0.27474402730375425,
          0.21501706484641633,
          0.22610921501706485,
          0.1911262798634812,
          0.1962457337883959,
          0.30034129692832756,
          0.22781569965870305,
          0.27474402730375425,
          0.29180887372013653,
          0.37713310580204773,
          0.4795221843003413,
          0.21843003412969278,
          0.3515358361774744,
          0.2491467576791809,
          0.325938566552901,
          0.2832764505119454,
          0.2534129692832764,
          0.20648464163822525,
          0.325938566552901,
          0.4138225255972696,
          0.2559726962457338,
          0.35409556313993173,
          0.2627986348122867,
          0.32081911262798635,
          0.33788395904436863,
          0.3088737201365188,
          0.4112627986348123,
          0.41979522184300344,
          0.6501706484641638,
          0.5051194539249146,
          0.3686006825938566,
          0.4923208191126279,
          0.42832764505119447,
          0.38993174061433444,
          0.424061433447099,
          0.4351535836177475,
          0.40273037542662116,
          0.4709897610921502,
          0.057167235494880536,
          0.1697952218430034,
          0.3813993174061433,
          0.21501706484641633,
          0.2704778156996587,
          0.1424914675767918,
          0.2832764505119454,
          0.3430034129692833,
          0.2901023890784983,
          0.16126279863481227,
          0.13395904436860068,
          0.15102389078498293,
          0.17918088737201363,
          0.2098976109215017,
          0.1766211604095563,
          0.16467576791808872,
          0.21501706484641633,
          0.2832764505119454,
          0.11689419795221842,
          0.18088737201365188,
          0.1100682593856655,
          0.10409556313993173,
          0.22354948805460748,
          0.07849829351535836,
          0.30034129692832756,
          0.15102389078498293,
          0.1143344709897611,
          0.09982935153583619,
          0.11262798634812288,
          0.1296928327645051,
          0.03924914675767918,
          0.09556313993174059,
          0.1979522184300341,
          0.15102389078498293,
          0.07423208191126279,
          0.16808873720136516,
          0.11262798634812288,
          0.10409556313993173,
          0.13822525597269622,
          0.27474402730375425,
          0.08703071672354948,
          0.17235494880546073,
          0.09982935153583619,
          0.1296928327645051,
          0.06655290102389078,
          0.14163822525597267,
          0.12116040955631399,
          0.18088737201365188,
          0.17235494880546073,
          0.12116040955631399,
          0.11689419795221842,
          0.13822525597269622,
          0.06143344709897611,
          0.21501706484641633,
          0.15358361774744025,
          0.13822525597269622,
          0.052901023890784965,
          0.057167235494880536,
          0.06655290102389078,
          0.18088737201365188,
          0,
          0.16808873720136516,
          0.40273037542662116,
          0.06825938566552903,
          0.11262798634812288,
          0.1296928327645051,
          0.12627986348122863,
          0.22696245733788392,
          0.14675767918088736,
          0.07167235494880547,
          0.11262798634812288,
          0.2406143344709897,
          0.3515358361774744,
          0.37713310580204773,
          0.31740614334470985,
          0.35580204778157,
          0.4965870307167235,
          0.21928327645051196,
          0.31740614334470985,
          0.37713310580204773,
          0.31058020477815695,
          0.2832764505119454,
          0.3686006825938566,
          0.26194539249146753,
          0.2662116040955631,
          0.5912969283276451,
          0.23208191126279862,
          0.3088737201365188,
          0.5435153583617748,
          0.6092150170648464,
          0.6928327645051194,
          0.6245733788395904,
          0.8122866894197952,
          0.4965870307167235,
          0.78839590443686,
          0.5392491467576791,
          0.5648464163822525,
          0.659556313993174,
          0.5307167235494881,
          0.9999999999999999,
          0.893344709897611,
          0.5435153583617748,
          0.39249146757679176,
          0.36689419795221845,
          0.341296928327645,
          0.7081911262798635,
          0.45563139931740615,
          0.8020477815699658,
          0.7662116040955631,
          0.6296928327645052,
          0.6160409556313993,
          0.36006825938566556,
          0.735494795221843,
          0.7184300341296928,
          0.5477815699658704,
          0.5136518771331058,
          0.7610921501706484,
          0.6843003412969284,
          0.6757679180887372
         ],
         "y": [
          0.8421052631578951,
          0.5710526315789473,
          0.560526315789474,
          0.8789473684210525,
          0.5815789473684214,
          0.8342105263157893,
          0.8842105263157896,
          0.797368421052632,
          1,
          0.7447368421052629,
          0.8078947368421052,
          0.8131578947368419,
          0.7157894736842105,
          0.9789473684210526,
          0.8815789473684212,
          0.6842105263157898,
          0.8605263157894738,
          0.736842105263158,
          0.831578947368421,
          0.6868421052631581,
          0.797368421052632,
          0.5,
          0.7052631578947373,
          0.47894736842105257,
          0.6499999999999999,
          0.5315789473684216,
          0.6210526315789475,
          0.5973684210526318,
          0.7473684210526317,
          0.7868421052631578,
          0.7105263157894739,
          0.6710526315789473,
          0.6973684210526314,
          0.7184210526315788,
          0.6526315789473687,
          0.6447368421052633,
          0.5921052631578947,
          0.5315789473684216,
          0.5368421052631582,
          0.8394736842105264,
          0.6657894736842107,
          0.6263157894736846,
          0.7500000000000004,
          0.5815789473684214,
          0.5315789473684216,
          0.836842105263158,
          0.8815789473684212,
          0.7552631578947371,
          0.8078947368421052,
          0.7657894736842104,
          0.5315789473684216,
          0.736842105263158,
          0.7342105263157896,
          0.7210526315789472,
          0.7131578947368422,
          0.6657894736842107,
          0.8394736842105264,
          0.594736842105263,
          0.7078947368421056,
          0.3526315789473684,
          0.34210526315789513,
          0.4236842105263161,
          0.6947368421052631,
          0.3526315789473684,
          0.30000000000000027,
          0.3526315789473684,
          0.5473684210526315,
          0.3526315789473684,
          0.6078947368421055,
          0.310526315789474,
          0.331578947368421,
          0.7447368421052629,
          0.6473684210526316,
          0.5157894736842108,
          0.2447368421052638,
          0.1657894736842107,
          0.5263157894736841,
          0.2131578947368422,
          0.34210526315789513,
          0.43947368421052646,
          0.2552631578947371,
          0.44473684210526354,
          0.2763157894736845,
          0.5315789473684216,
          0.2131578947368422,
          0.43157894736842106,
          0.29736842105263195,
          0.1631578947368424,
          0.16052631578947407,
          0.2763157894736845,
          0.2763157894736845,
          0.2552631578947371,
          0.43684210526315814,
          0.331578947368421,
          0.155263157894737,
          0.3789473684210529,
          0.20526315789473726,
          0.331578947368421,
          0.3526315789473684,
          0.331578947368421,
          0.2763157894736845,
          0.4131578947368424,
          0.34473684210526345,
          0.20789473684210558,
          0.38947368421052664,
          0.3657894736842109,
          0.3210526315789477,
          0.44473684210526354,
          0.3131578947368423,
          0.15263157894736867,
          0.11315789473684257,
          0.39210526315789496,
          0.19210526315789478,
          0.10000000000000053,
          0.2763157894736845,
          0,
          0.20789473684210558,
          0.3657894736842109,
          0.45789473684210513,
          0.2552631578947371,
          0.1105263157894738,
          0.13947368421052664,
          0.3657894736842109,
          0.5315789473684216,
          0.2210526315789476,
          0.2736842105263162,
          0.3684210526315792,
          0.20000000000000018,
          0.3526315789473684,
          0.26578947368421035,
          0.4815789473684209,
          0.4868421052631584,
          0.4684210526315793,
          0.43947368421052646,
          0.38947368421052664,
          0.4131578947368424,
          0.3210526315789477,
          0.3947368421052633,
          0.6473684210526316,
          0.47631578947368425,
          0.5,
          0.6131578947368421,
          0.655263157894737,
          0.6815789473684211,
          0.3210526315789477,
          0.560526315789474,
          0.7500000000000004,
          0.48421052631578965,
          0.6026315789473689,
          0.5394736842105265,
          0.6499999999999999,
          0.4631578947368422,
          0.5473684210526315,
          0.5789473684210531,
          0.4078947368421053,
          0.5631578947368423,
          0.7394736842105263,
          0.37368421052631584,
          0.8710526315789475,
          0.6447368421052633,
          0.3500000000000001,
          0.7000000000000002,
          0.47894736842105257,
          0.5078947368421058,
          0.7236842105263159,
          0.7105263157894739,
          0.6368421052631579,
          0.4710526315789476,
          0.6710526315789473,
          0.6236842105263158,
          0.3078947368421052,
          0.45789473684210513,
          0.823684210526316,
          0.7052631578947373,
          0.6236842105263158,
          0.5894736842105264,
          0.5631578947368423,
          0.8157894736842106
         ],
         "z": [
          0.5613409415121255,
          0.5506419400855921,
          0.6469329529243938,
          0.8573466476462198,
          0.3259629101283881,
          0.8359486447931527,
          0.7218259629101285,
          0.725392296718973,
          0.5470756062767476,
          0.5470756062767476,
          0.8787446504992867,
          0.7146932952924394,
          0.7432239657631955,
          0.6219686162624822,
          0.9051355206847361,
          0.7360912981455064,
          0.7146932952924394,
          0.6077032810271041,
          1,
          0.40442225392296727,
          0.35805991440798857,
          0.35092724679029963,
          0.5399429386590585,
          0.5256776034236805,
          0.40442225392296727,
          0.3937232524964337,
          0.6540656205420827,
          0.7182596291012839,
          0.4543509272467904,
          0.5399429386590585,
          0.7182596291012839,
          0.8823109843081313,
          0.5078459343794579,
          0.6825962910128388,
          0.5827389443651926,
          0.4579172610556348,
          0.4293865905848788,
          0.5898716119828816,
          0.529243937232525,
          0.3437945791726106,
          0.36875891583452214,
          0.5399429386590585,
          0.5827389443651926,
          0.2867332382310984,
          0.43295292439372324,
          0.5720399429386591,
          0.5613409415121255,
          0.5042796005706135,
          0.557774607703281,
          0.7004279600570614,
          0.6219686162624822,
          0.7039942938659058,
          0.6504992867332383,
          0.782453637660485,
          0.557774607703281,
          0.6005706134094152,
          0.4935805991440799,
          0.7075606276747504,
          0.7182596291012839,
          0.17261055634807418,
          0.2867332382310984,
          0.12268188302425106,
          0.2510699001426534,
          0.10128388017118403,
          0.054921540656205386,
          0.2853067047075606,
          0.15977175463623397,
          0.1654778887303852,
          0.33666191155492153,
          0.31383737517831667,
          0.4222539229671898,
          0.09415121255349498,
          0.13837375178316688,
          0.5042796005706135,
          0.4336661911554922,
          0.10699001426533525,
          0.08131241084165478,
          0.15834522111269614,
          0.33666191155492153,
          0.1319543509272468,
          0,
          0.3109843081312411,
          0.2510699001426534,
          0.16904422253922965,
          0.17261055634807418,
          0.12268188302425106,
          0.15477888730385161,
          0.20256776034236804,
          0.2867332382310984,
          0.24750356633380885,
          0.1440798858773181,
          0.12268188302425106,
          0.15477888730385161,
          0.008559201141226797,
          0.047788873038516394,
          0.4700427960057062,
          0.24750356633380885,
          0.10699001426533525,
          0.27246790299572043,
          0.09129814550641938,
          0.30813124108416545,
          0.20256776034236804,
          0.11412268188302424,
          0.09771754636233951,
          0.2810271041369472,
          0.02639087018544936,
          0.1654778887303852,
          0.14978601997146931,
          0.02425106990014264,
          0.2867332382310984,
          0.20256776034236804,
          0.033523537803138354,
          0.23466476462196864,
          0.11126961483594863,
          0.07631954350927247,
          0.09201141226818829,
          0.15477888730385161,
          0.047788873038516394,
          0.06704707560627673,
          0.20399429386590587,
          0.24750356633380885,
          0.13338088445078458,
          0.062054208273894434,
          0.07275320970042795,
          0.07275320970042795,
          0.07132667617689017,
          0.052781740370898694,
          0.1340941512125535,
          0.0456490727532097,
          0.21540656205420824,
          0.2510699001426534,
          0.17974322396576317,
          0.20114122681883026,
          0.22967189728958629,
          0.2653352353780314,
          0.297432239657632,
          0.3152639087018545,
          0.16904422253922965,
          0.21540656205420824,
          0.2225392296718973,
          0.22967189728958629,
          0.35805991440798857,
          0.17261055634807418,
          0.1940085592011412,
          0.4115549215406562,
          0.3937232524964337,
          0.09771754636233951,
          0.24750356633380885,
          0.2653352353780314,
          0.1940085592011412,
          0.15834522111269614,
          0.1440798858773181,
          0.1048502139800285,
          0.2831669044222539,
          0.25820256776034234,
          0.318830242510699,
          0.1440798858773181,
          0.4293865905848788,
          0.27246790299572043,
          0.24393723252496433,
          0.17261055634807418,
          0.2867332382310984,
          0.20827389443651925,
          0.2831669044222539,
          0.2403708987161198,
          0.17261055634807418,
          0.297432239657632,
          0.29029957203994294,
          0.33666191155492153,
          0.2510699001426534,
          0.1654778887303852,
          0.1369472182596291,
          0.27246790299572043,
          0.3295292439372326,
          0.33666191155492153,
          0.3972895863052782,
          0.40085592011412274,
          0.20114122681883026
         ]
        },
        {
         "marker": {
          "color": "red"
         },
         "mode": "markers",
         "text": [
          "0",
          "1",
          "2"
         ],
         "type": "scatter3d",
         "x": [
          0.17027517064846412,
          0.3653495351300459,
          0.5046928309096306,
          0.1424914675767918,
          0.1766211604095563,
          0.40273037542662116
         ],
         "y": [
          0.3798519736842106,
          0.7175589836660615,
          0.5513157894736844,
          0.34385964912280736,
          0.5157894736842108,
          0.13947368421052664
         ],
         "z": [
          0.2236648537803139,
          0.6010256284126126,
          0.24889908825900886,
          0.3735140275796482,
          0.5042796005706135,
          0.13338088445078458
         ]
        }
       ],
       "layout": {
        "scene": {
         "xaxis": {
          "title": {
           "text": "Color Intensity"
          }
         },
         "yaxis": {
          "title": {
           "text": "Alcohol"
          }
         },
         "zaxis": {
          "title": {
           "text": "Proline"
          }
         }
        },
        "template": {
         "data": {
          "bar": [
           {
            "error_x": {
             "color": "#2a3f5f"
            },
            "error_y": {
             "color": "#2a3f5f"
            },
            "marker": {
             "line": {
              "color": "#E5ECF6",
              "width": 0.5
             }
            },
            "type": "bar"
           }
          ],
          "barpolar": [
           {
            "marker": {
             "line": {
              "color": "#E5ECF6",
              "width": 0.5
             }
            },
            "type": "barpolar"
           }
          ],
          "carpet": [
           {
            "aaxis": {
             "endlinecolor": "#2a3f5f",
             "gridcolor": "white",
             "linecolor": "white",
             "minorgridcolor": "white",
             "startlinecolor": "#2a3f5f"
            },
            "baxis": {
             "endlinecolor": "#2a3f5f",
             "gridcolor": "white",
             "linecolor": "white",
             "minorgridcolor": "white",
             "startlinecolor": "#2a3f5f"
            },
            "type": "carpet"
           }
          ],
          "choropleth": [
           {
            "colorbar": {
             "outlinewidth": 0,
             "ticks": ""
            },
            "type": "choropleth"
           }
          ],
          "contour": [
           {
            "colorbar": {
             "outlinewidth": 0,
             "ticks": ""
            },
            "colorscale": [
             [
              0,
              "#0d0887"
             ],
             [
              0.1111111111111111,
              "#46039f"
             ],
             [
              0.2222222222222222,
              "#7201a8"
             ],
             [
              0.3333333333333333,
              "#9c179e"
             ],
             [
              0.4444444444444444,
              "#bd3786"
             ],
             [
              0.5555555555555556,
              "#d8576b"
             ],
             [
              0.6666666666666666,
              "#ed7953"
             ],
             [
              0.7777777777777778,
              "#fb9f3a"
             ],
             [
              0.8888888888888888,
              "#fdca26"
             ],
             [
              1,
              "#f0f921"
             ]
            ],
            "type": "contour"
           }
          ],
          "contourcarpet": [
           {
            "colorbar": {
             "outlinewidth": 0,
             "ticks": ""
            },
            "type": "contourcarpet"
           }
          ],
          "heatmap": [
           {
            "colorbar": {
             "outlinewidth": 0,
             "ticks": ""
            },
            "colorscale": [
             [
              0,
              "#0d0887"
             ],
             [
              0.1111111111111111,
              "#46039f"
             ],
             [
              0.2222222222222222,
              "#7201a8"
             ],
             [
              0.3333333333333333,
              "#9c179e"
             ],
             [
              0.4444444444444444,
              "#bd3786"
             ],
             [
              0.5555555555555556,
              "#d8576b"
             ],
             [
              0.6666666666666666,
              "#ed7953"
             ],
             [
              0.7777777777777778,
              "#fb9f3a"
             ],
             [
              0.8888888888888888,
              "#fdca26"
             ],
             [
              1,
              "#f0f921"
             ]
            ],
            "type": "heatmap"
           }
          ],
          "heatmapgl": [
           {
            "colorbar": {
             "outlinewidth": 0,
             "ticks": ""
            },
            "colorscale": [
             [
              0,
              "#0d0887"
             ],
             [
              0.1111111111111111,
              "#46039f"
             ],
             [
              0.2222222222222222,
              "#7201a8"
             ],
             [
              0.3333333333333333,
              "#9c179e"
             ],
             [
              0.4444444444444444,
              "#bd3786"
             ],
             [
              0.5555555555555556,
              "#d8576b"
             ],
             [
              0.6666666666666666,
              "#ed7953"
             ],
             [
              0.7777777777777778,
              "#fb9f3a"
             ],
             [
              0.8888888888888888,
              "#fdca26"
             ],
             [
              1,
              "#f0f921"
             ]
            ],
            "type": "heatmapgl"
           }
          ],
          "histogram": [
           {
            "marker": {
             "colorbar": {
              "outlinewidth": 0,
              "ticks": ""
             }
            },
            "type": "histogram"
           }
          ],
          "histogram2d": [
           {
            "colorbar": {
             "outlinewidth": 0,
             "ticks": ""
            },
            "colorscale": [
             [
              0,
              "#0d0887"
             ],
             [
              0.1111111111111111,
              "#46039f"
             ],
             [
              0.2222222222222222,
              "#7201a8"
             ],
             [
              0.3333333333333333,
              "#9c179e"
             ],
             [
              0.4444444444444444,
              "#bd3786"
             ],
             [
              0.5555555555555556,
              "#d8576b"
             ],
             [
              0.6666666666666666,
              "#ed7953"
             ],
             [
              0.7777777777777778,
              "#fb9f3a"
             ],
             [
              0.8888888888888888,
              "#fdca26"
             ],
             [
              1,
              "#f0f921"
             ]
            ],
            "type": "histogram2d"
           }
          ],
          "histogram2dcontour": [
           {
            "colorbar": {
             "outlinewidth": 0,
             "ticks": ""
            },
            "colorscale": [
             [
              0,
              "#0d0887"
             ],
             [
              0.1111111111111111,
              "#46039f"
             ],
             [
              0.2222222222222222,
              "#7201a8"
             ],
             [
              0.3333333333333333,
              "#9c179e"
             ],
             [
              0.4444444444444444,
              "#bd3786"
             ],
             [
              0.5555555555555556,
              "#d8576b"
             ],
             [
              0.6666666666666666,
              "#ed7953"
             ],
             [
              0.7777777777777778,
              "#fb9f3a"
             ],
             [
              0.8888888888888888,
              "#fdca26"
             ],
             [
              1,
              "#f0f921"
             ]
            ],
            "type": "histogram2dcontour"
           }
          ],
          "mesh3d": [
           {
            "colorbar": {
             "outlinewidth": 0,
             "ticks": ""
            },
            "type": "mesh3d"
           }
          ],
          "parcoords": [
           {
            "line": {
             "colorbar": {
              "outlinewidth": 0,
              "ticks": ""
             }
            },
            "type": "parcoords"
           }
          ],
          "pie": [
           {
            "automargin": true,
            "type": "pie"
           }
          ],
          "scatter": [
           {
            "marker": {
             "colorbar": {
              "outlinewidth": 0,
              "ticks": ""
             }
            },
            "type": "scatter"
           }
          ],
          "scatter3d": [
           {
            "line": {
             "colorbar": {
              "outlinewidth": 0,
              "ticks": ""
             }
            },
            "marker": {
             "colorbar": {
              "outlinewidth": 0,
              "ticks": ""
             }
            },
            "type": "scatter3d"
           }
          ],
          "scattercarpet": [
           {
            "marker": {
             "colorbar": {
              "outlinewidth": 0,
              "ticks": ""
             }
            },
            "type": "scattercarpet"
           }
          ],
          "scattergeo": [
           {
            "marker": {
             "colorbar": {
              "outlinewidth": 0,
              "ticks": ""
             }
            },
            "type": "scattergeo"
           }
          ],
          "scattergl": [
           {
            "marker": {
             "colorbar": {
              "outlinewidth": 0,
              "ticks": ""
             }
            },
            "type": "scattergl"
           }
          ],
          "scattermapbox": [
           {
            "marker": {
             "colorbar": {
              "outlinewidth": 0,
              "ticks": ""
             }
            },
            "type": "scattermapbox"
           }
          ],
          "scatterpolar": [
           {
            "marker": {
             "colorbar": {
              "outlinewidth": 0,
              "ticks": ""
             }
            },
            "type": "scatterpolar"
           }
          ],
          "scatterpolargl": [
           {
            "marker": {
             "colorbar": {
              "outlinewidth": 0,
              "ticks": ""
             }
            },
            "type": "scatterpolargl"
           }
          ],
          "scatterternary": [
           {
            "marker": {
             "colorbar": {
              "outlinewidth": 0,
              "ticks": ""
             }
            },
            "type": "scatterternary"
           }
          ],
          "surface": [
           {
            "colorbar": {
             "outlinewidth": 0,
             "ticks": ""
            },
            "colorscale": [
             [
              0,
              "#0d0887"
             ],
             [
              0.1111111111111111,
              "#46039f"
             ],
             [
              0.2222222222222222,
              "#7201a8"
             ],
             [
              0.3333333333333333,
              "#9c179e"
             ],
             [
              0.4444444444444444,
              "#bd3786"
             ],
             [
              0.5555555555555556,
              "#d8576b"
             ],
             [
              0.6666666666666666,
              "#ed7953"
             ],
             [
              0.7777777777777778,
              "#fb9f3a"
             ],
             [
              0.8888888888888888,
              "#fdca26"
             ],
             [
              1,
              "#f0f921"
             ]
            ],
            "type": "surface"
           }
          ],
          "table": [
           {
            "cells": {
             "fill": {
              "color": "#EBF0F8"
             },
             "line": {
              "color": "white"
             }
            },
            "header": {
             "fill": {
              "color": "#C8D4E3"
             },
             "line": {
              "color": "white"
             }
            },
            "type": "table"
           }
          ]
         },
         "layout": {
          "annotationdefaults": {
           "arrowcolor": "#2a3f5f",
           "arrowhead": 0,
           "arrowwidth": 1
          },
          "autotypenumbers": "strict",
          "coloraxis": {
           "colorbar": {
            "outlinewidth": 0,
            "ticks": ""
           }
          },
          "colorscale": {
           "diverging": [
            [
             0,
             "#8e0152"
            ],
            [
             0.1,
             "#c51b7d"
            ],
            [
             0.2,
             "#de77ae"
            ],
            [
             0.3,
             "#f1b6da"
            ],
            [
             0.4,
             "#fde0ef"
            ],
            [
             0.5,
             "#f7f7f7"
            ],
            [
             0.6,
             "#e6f5d0"
            ],
            [
             0.7,
             "#b8e186"
            ],
            [
             0.8,
             "#7fbc41"
            ],
            [
             0.9,
             "#4d9221"
            ],
            [
             1,
             "#276419"
            ]
           ],
           "sequential": [
            [
             0,
             "#0d0887"
            ],
            [
             0.1111111111111111,
             "#46039f"
            ],
            [
             0.2222222222222222,
             "#7201a8"
            ],
            [
             0.3333333333333333,
             "#9c179e"
            ],
            [
             0.4444444444444444,
             "#bd3786"
            ],
            [
             0.5555555555555556,
             "#d8576b"
            ],
            [
             0.6666666666666666,
             "#ed7953"
            ],
            [
             0.7777777777777778,
             "#fb9f3a"
            ],
            [
             0.8888888888888888,
             "#fdca26"
            ],
            [
             1,
             "#f0f921"
            ]
           ],
           "sequentialminus": [
            [
             0,
             "#0d0887"
            ],
            [
             0.1111111111111111,
             "#46039f"
            ],
            [
             0.2222222222222222,
             "#7201a8"
            ],
            [
             0.3333333333333333,
             "#9c179e"
            ],
            [
             0.4444444444444444,
             "#bd3786"
            ],
            [
             0.5555555555555556,
             "#d8576b"
            ],
            [
             0.6666666666666666,
             "#ed7953"
            ],
            [
             0.7777777777777778,
             "#fb9f3a"
            ],
            [
             0.8888888888888888,
             "#fdca26"
            ],
            [
             1,
             "#f0f921"
            ]
           ]
          },
          "colorway": [
           "#636efa",
           "#EF553B",
           "#00cc96",
           "#ab63fa",
           "#FFA15A",
           "#19d3f3",
           "#FF6692",
           "#B6E880",
           "#FF97FF",
           "#FECB52"
          ],
          "font": {
           "color": "#2a3f5f"
          },
          "geo": {
           "bgcolor": "white",
           "lakecolor": "white",
           "landcolor": "#E5ECF6",
           "showlakes": true,
           "showland": true,
           "subunitcolor": "white"
          },
          "hoverlabel": {
           "align": "left"
          },
          "hovermode": "closest",
          "mapbox": {
           "style": "light"
          },
          "paper_bgcolor": "white",
          "plot_bgcolor": "#E5ECF6",
          "polar": {
           "angularaxis": {
            "gridcolor": "white",
            "linecolor": "white",
            "ticks": ""
           },
           "bgcolor": "#E5ECF6",
           "radialaxis": {
            "gridcolor": "white",
            "linecolor": "white",
            "ticks": ""
           }
          },
          "scene": {
           "xaxis": {
            "backgroundcolor": "#E5ECF6",
            "gridcolor": "white",
            "gridwidth": 2,
            "linecolor": "white",
            "showbackground": true,
            "ticks": "",
            "zerolinecolor": "white"
           },
           "yaxis": {
            "backgroundcolor": "#E5ECF6",
            "gridcolor": "white",
            "gridwidth": 2,
            "linecolor": "white",
            "showbackground": true,
            "ticks": "",
            "zerolinecolor": "white"
           },
           "zaxis": {
            "backgroundcolor": "#E5ECF6",
            "gridcolor": "white",
            "gridwidth": 2,
            "linecolor": "white",
            "showbackground": true,
            "ticks": "",
            "zerolinecolor": "white"
           }
          },
          "shapedefaults": {
           "line": {
            "color": "#2a3f5f"
           }
          },
          "ternary": {
           "aaxis": {
            "gridcolor": "white",
            "linecolor": "white",
            "ticks": ""
           },
           "baxis": {
            "gridcolor": "white",
            "linecolor": "white",
            "ticks": ""
           },
           "bgcolor": "#E5ECF6",
           "caxis": {
            "gridcolor": "white",
            "linecolor": "white",
            "ticks": ""
           }
          },
          "title": {
           "x": 0.05
          },
          "xaxis": {
           "automargin": true,
           "gridcolor": "white",
           "linecolor": "white",
           "ticks": "",
           "title": {
            "standoff": 15
           },
           "zerolinecolor": "white",
           "zerolinewidth": 2
          },
          "yaxis": {
           "automargin": true,
           "gridcolor": "white",
           "linecolor": "white",
           "ticks": "",
           "title": {
            "standoff": 15
           },
           "zerolinecolor": "white",
           "zerolinewidth": 2
          }
         }
        }
       }
      }
     },
     "metadata": {}
    }
   ],
   "source": [
    "centers = pd.DataFrame(grouper.cluster_centers_)\n",
    "centers.columns = columns\n",
    "\n",
    "fig.add_trace(go.Scatter3d(x=centers['Color_Intensity'],\n",
    "                         y=centers['Alcohol'], z=centers['Proline'],\n",
    "                         mode = 'markers',                  \n",
    "                         marker = dict(color = 'red'),\n",
    "                         text = [0, 1, 2]))"
   ]
  },
  {
   "cell_type": "code",
   "execution_count": 33,
   "metadata": {},
   "outputs": [],
   "source": [
    "grouper = KMeans(n_clusters=5)\n",
    "grouper.fit(df)\n",
    "labels = grouper.labels_"
   ]
  },
  {
   "cell_type": "code",
   "execution_count": 34,
   "metadata": {},
   "outputs": [
    {
     "output_type": "display_data",
     "data": {
      "application/vnd.plotly.v1+json": {
       "config": {
        "plotlyServerURL": "https://plot.ly"
       },
       "data": [
        {
         "marker": {
          "color": [
           0,
           0,
           0,
           0,
           0,
           0,
           0,
           0,
           0,
           0,
           0,
           0,
           0,
           0,
           0,
           0,
           0,
           0,
           0,
           0,
           0,
           0,
           0,
           0,
           0,
           0,
           0,
           0,
           0,
           0,
           0,
           0,
           0,
           0,
           0,
           0,
           0,
           0,
           0,
           0,
           0,
           0,
           0,
           0,
           0,
           0,
           0,
           0,
           0,
           0,
           0,
           0,
           0,
           0,
           0,
           0,
           0,
           0,
           0,
           2,
           2,
           2,
           2,
           3,
           2,
           3,
           3,
           3,
           2,
           3,
           2,
           3,
           3,
           3,
           3,
           2,
           3,
           2,
           3,
           3,
           3,
           3,
           2,
           2,
           3,
           3,
           2,
           2,
           2,
           2,
           2,
           2,
           2,
           3,
           3,
           3,
           3,
           3,
           3,
           3,
           3,
           2,
           3,
           2,
           3,
           2,
           3,
           2,
           3,
           3,
           3,
           3,
           2,
           2,
           3,
           2,
           3,
           3,
           2,
           3,
           3,
           3,
           3,
           3,
           3,
           3,
           3,
           2,
           3,
           2,
           4,
           4,
           4,
           4,
           1,
           1,
           1,
           1,
           1,
           1,
           1,
           1,
           1,
           1,
           4,
           1,
           1,
           1,
           1,
           4,
           4,
           4,
           4,
           1,
           1,
           1,
           1,
           1,
           1,
           1,
           1,
           1,
           1,
           1,
           1,
           1,
           1,
           1,
           1,
           4,
           1,
           1,
           1,
           1,
           1,
           1,
           1,
           1
          ]
         },
         "mode": "markers",
         "text": [
          0,
          0,
          0,
          0,
          0,
          0,
          0,
          0,
          0,
          0,
          0,
          0,
          0,
          0,
          0,
          0,
          0,
          0,
          0,
          0,
          0,
          0,
          0,
          0,
          0,
          0,
          0,
          0,
          0,
          0,
          0,
          0,
          0,
          0,
          0,
          0,
          0,
          0,
          0,
          0,
          0,
          0,
          0,
          0,
          0,
          0,
          0,
          0,
          0,
          0,
          0,
          0,
          0,
          0,
          0,
          0,
          0,
          0,
          0,
          2,
          2,
          2,
          2,
          3,
          2,
          3,
          3,
          3,
          2,
          3,
          2,
          3,
          3,
          3,
          3,
          2,
          3,
          2,
          3,
          3,
          3,
          3,
          2,
          2,
          3,
          3,
          2,
          2,
          2,
          2,
          2,
          2,
          2,
          3,
          3,
          3,
          3,
          3,
          3,
          3,
          3,
          2,
          3,
          2,
          3,
          2,
          3,
          2,
          3,
          3,
          3,
          3,
          2,
          2,
          3,
          2,
          3,
          3,
          2,
          3,
          3,
          3,
          3,
          3,
          3,
          3,
          3,
          2,
          3,
          2,
          4,
          4,
          4,
          4,
          1,
          1,
          1,
          1,
          1,
          1,
          1,
          1,
          1,
          1,
          4,
          1,
          1,
          1,
          1,
          4,
          4,
          4,
          4,
          1,
          1,
          1,
          1,
          1,
          1,
          1,
          1,
          1,
          1,
          1,
          1,
          1,
          1,
          1,
          1,
          4,
          1,
          1,
          1,
          1,
          1,
          1,
          1,
          1
         ],
         "type": "scatter3d",
         "x": [
          0.3720136518771331,
          0.26450511945392485,
          0.3754266211604095,
          0.5563139931740614,
          0.2593856655290102,
          0.4667235494880546,
          0.3387372013651877,
          0.3216723549488054,
          0.33447098976109213,
          0.5068259385665529,
          0.3813993174061433,
          0.31740614334470985,
          0.3686006825938566,
          0.3515358361774744,
          0.5307167235494881,
          0.5136518771331058,
          0.41979522184300344,
          0.4539249146757679,
          0.6331058020477814,
          0.325938566552901,
          0.37286689419795227,
          0.27474402730375425,
          0.21501706484641633,
          0.22610921501706485,
          0.1911262798634812,
          0.1962457337883959,
          0.30034129692832756,
          0.22781569965870305,
          0.27474402730375425,
          0.29180887372013653,
          0.37713310580204773,
          0.4795221843003413,
          0.21843003412969278,
          0.3515358361774744,
          0.2491467576791809,
          0.325938566552901,
          0.2832764505119454,
          0.2534129692832764,
          0.20648464163822525,
          0.325938566552901,
          0.4138225255972696,
          0.2559726962457338,
          0.35409556313993173,
          0.2627986348122867,
          0.32081911262798635,
          0.33788395904436863,
          0.3088737201365188,
          0.4112627986348123,
          0.41979522184300344,
          0.6501706484641638,
          0.5051194539249146,
          0.3686006825938566,
          0.4923208191126279,
          0.42832764505119447,
          0.38993174061433444,
          0.424061433447099,
          0.4351535836177475,
          0.40273037542662116,
          0.4709897610921502,
          0.057167235494880536,
          0.1697952218430034,
          0.3813993174061433,
          0.21501706484641633,
          0.2704778156996587,
          0.1424914675767918,
          0.2832764505119454,
          0.3430034129692833,
          0.2901023890784983,
          0.16126279863481227,
          0.13395904436860068,
          0.15102389078498293,
          0.17918088737201363,
          0.2098976109215017,
          0.1766211604095563,
          0.16467576791808872,
          0.21501706484641633,
          0.2832764505119454,
          0.11689419795221842,
          0.18088737201365188,
          0.1100682593856655,
          0.10409556313993173,
          0.22354948805460748,
          0.07849829351535836,
          0.30034129692832756,
          0.15102389078498293,
          0.1143344709897611,
          0.09982935153583619,
          0.11262798634812288,
          0.1296928327645051,
          0.03924914675767918,
          0.09556313993174059,
          0.1979522184300341,
          0.15102389078498293,
          0.07423208191126279,
          0.16808873720136516,
          0.11262798634812288,
          0.10409556313993173,
          0.13822525597269622,
          0.27474402730375425,
          0.08703071672354948,
          0.17235494880546073,
          0.09982935153583619,
          0.1296928327645051,
          0.06655290102389078,
          0.14163822525597267,
          0.12116040955631399,
          0.18088737201365188,
          0.17235494880546073,
          0.12116040955631399,
          0.11689419795221842,
          0.13822525597269622,
          0.06143344709897611,
          0.21501706484641633,
          0.15358361774744025,
          0.13822525597269622,
          0.052901023890784965,
          0.057167235494880536,
          0.06655290102389078,
          0.18088737201365188,
          0,
          0.16808873720136516,
          0.40273037542662116,
          0.06825938566552903,
          0.11262798634812288,
          0.1296928327645051,
          0.12627986348122863,
          0.22696245733788392,
          0.14675767918088736,
          0.07167235494880547,
          0.11262798634812288,
          0.2406143344709897,
          0.3515358361774744,
          0.37713310580204773,
          0.31740614334470985,
          0.35580204778157,
          0.4965870307167235,
          0.21928327645051196,
          0.31740614334470985,
          0.37713310580204773,
          0.31058020477815695,
          0.2832764505119454,
          0.3686006825938566,
          0.26194539249146753,
          0.2662116040955631,
          0.5912969283276451,
          0.23208191126279862,
          0.3088737201365188,
          0.5435153583617748,
          0.6092150170648464,
          0.6928327645051194,
          0.6245733788395904,
          0.8122866894197952,
          0.4965870307167235,
          0.78839590443686,
          0.5392491467576791,
          0.5648464163822525,
          0.659556313993174,
          0.5307167235494881,
          0.9999999999999999,
          0.893344709897611,
          0.5435153583617748,
          0.39249146757679176,
          0.36689419795221845,
          0.341296928327645,
          0.7081911262798635,
          0.45563139931740615,
          0.8020477815699658,
          0.7662116040955631,
          0.6296928327645052,
          0.6160409556313993,
          0.36006825938566556,
          0.735494795221843,
          0.7184300341296928,
          0.5477815699658704,
          0.5136518771331058,
          0.7610921501706484,
          0.6843003412969284,
          0.6757679180887372
         ],
         "y": [
          0.8421052631578951,
          0.5710526315789473,
          0.560526315789474,
          0.8789473684210525,
          0.5815789473684214,
          0.8342105263157893,
          0.8842105263157896,
          0.797368421052632,
          1,
          0.7447368421052629,
          0.8078947368421052,
          0.8131578947368419,
          0.7157894736842105,
          0.9789473684210526,
          0.8815789473684212,
          0.6842105263157898,
          0.8605263157894738,
          0.736842105263158,
          0.831578947368421,
          0.6868421052631581,
          0.797368421052632,
          0.5,
          0.7052631578947373,
          0.47894736842105257,
          0.6499999999999999,
          0.5315789473684216,
          0.6210526315789475,
          0.5973684210526318,
          0.7473684210526317,
          0.7868421052631578,
          0.7105263157894739,
          0.6710526315789473,
          0.6973684210526314,
          0.7184210526315788,
          0.6526315789473687,
          0.6447368421052633,
          0.5921052631578947,
          0.5315789473684216,
          0.5368421052631582,
          0.8394736842105264,
          0.6657894736842107,
          0.6263157894736846,
          0.7500000000000004,
          0.5815789473684214,
          0.5315789473684216,
          0.836842105263158,
          0.8815789473684212,
          0.7552631578947371,
          0.8078947368421052,
          0.7657894736842104,
          0.5315789473684216,
          0.736842105263158,
          0.7342105263157896,
          0.7210526315789472,
          0.7131578947368422,
          0.6657894736842107,
          0.8394736842105264,
          0.594736842105263,
          0.7078947368421056,
          0.3526315789473684,
          0.34210526315789513,
          0.4236842105263161,
          0.6947368421052631,
          0.3526315789473684,
          0.30000000000000027,
          0.3526315789473684,
          0.5473684210526315,
          0.3526315789473684,
          0.6078947368421055,
          0.310526315789474,
          0.331578947368421,
          0.7447368421052629,
          0.6473684210526316,
          0.5157894736842108,
          0.2447368421052638,
          0.1657894736842107,
          0.5263157894736841,
          0.2131578947368422,
          0.34210526315789513,
          0.43947368421052646,
          0.2552631578947371,
          0.44473684210526354,
          0.2763157894736845,
          0.5315789473684216,
          0.2131578947368422,
          0.43157894736842106,
          0.29736842105263195,
          0.1631578947368424,
          0.16052631578947407,
          0.2763157894736845,
          0.2763157894736845,
          0.2552631578947371,
          0.43684210526315814,
          0.331578947368421,
          0.155263157894737,
          0.3789473684210529,
          0.20526315789473726,
          0.331578947368421,
          0.3526315789473684,
          0.331578947368421,
          0.2763157894736845,
          0.4131578947368424,
          0.34473684210526345,
          0.20789473684210558,
          0.38947368421052664,
          0.3657894736842109,
          0.3210526315789477,
          0.44473684210526354,
          0.3131578947368423,
          0.15263157894736867,
          0.11315789473684257,
          0.39210526315789496,
          0.19210526315789478,
          0.10000000000000053,
          0.2763157894736845,
          0,
          0.20789473684210558,
          0.3657894736842109,
          0.45789473684210513,
          0.2552631578947371,
          0.1105263157894738,
          0.13947368421052664,
          0.3657894736842109,
          0.5315789473684216,
          0.2210526315789476,
          0.2736842105263162,
          0.3684210526315792,
          0.20000000000000018,
          0.3526315789473684,
          0.26578947368421035,
          0.4815789473684209,
          0.4868421052631584,
          0.4684210526315793,
          0.43947368421052646,
          0.38947368421052664,
          0.4131578947368424,
          0.3210526315789477,
          0.3947368421052633,
          0.6473684210526316,
          0.47631578947368425,
          0.5,
          0.6131578947368421,
          0.655263157894737,
          0.6815789473684211,
          0.3210526315789477,
          0.560526315789474,
          0.7500000000000004,
          0.48421052631578965,
          0.6026315789473689,
          0.5394736842105265,
          0.6499999999999999,
          0.4631578947368422,
          0.5473684210526315,
          0.5789473684210531,
          0.4078947368421053,
          0.5631578947368423,
          0.7394736842105263,
          0.37368421052631584,
          0.8710526315789475,
          0.6447368421052633,
          0.3500000000000001,
          0.7000000000000002,
          0.47894736842105257,
          0.5078947368421058,
          0.7236842105263159,
          0.7105263157894739,
          0.6368421052631579,
          0.4710526315789476,
          0.6710526315789473,
          0.6236842105263158,
          0.3078947368421052,
          0.45789473684210513,
          0.823684210526316,
          0.7052631578947373,
          0.6236842105263158,
          0.5894736842105264,
          0.5631578947368423,
          0.8157894736842106
         ],
         "z": [
          0.5613409415121255,
          0.5506419400855921,
          0.6469329529243938,
          0.8573466476462198,
          0.3259629101283881,
          0.8359486447931527,
          0.7218259629101285,
          0.725392296718973,
          0.5470756062767476,
          0.5470756062767476,
          0.8787446504992867,
          0.7146932952924394,
          0.7432239657631955,
          0.6219686162624822,
          0.9051355206847361,
          0.7360912981455064,
          0.7146932952924394,
          0.6077032810271041,
          1,
          0.40442225392296727,
          0.35805991440798857,
          0.35092724679029963,
          0.5399429386590585,
          0.5256776034236805,
          0.40442225392296727,
          0.3937232524964337,
          0.6540656205420827,
          0.7182596291012839,
          0.4543509272467904,
          0.5399429386590585,
          0.7182596291012839,
          0.8823109843081313,
          0.5078459343794579,
          0.6825962910128388,
          0.5827389443651926,
          0.4579172610556348,
          0.4293865905848788,
          0.5898716119828816,
          0.529243937232525,
          0.3437945791726106,
          0.36875891583452214,
          0.5399429386590585,
          0.5827389443651926,
          0.2867332382310984,
          0.43295292439372324,
          0.5720399429386591,
          0.5613409415121255,
          0.5042796005706135,
          0.557774607703281,
          0.7004279600570614,
          0.6219686162624822,
          0.7039942938659058,
          0.6504992867332383,
          0.782453637660485,
          0.557774607703281,
          0.6005706134094152,
          0.4935805991440799,
          0.7075606276747504,
          0.7182596291012839,
          0.17261055634807418,
          0.2867332382310984,
          0.12268188302425106,
          0.2510699001426534,
          0.10128388017118403,
          0.054921540656205386,
          0.2853067047075606,
          0.15977175463623397,
          0.1654778887303852,
          0.33666191155492153,
          0.31383737517831667,
          0.4222539229671898,
          0.09415121255349498,
          0.13837375178316688,
          0.5042796005706135,
          0.4336661911554922,
          0.10699001426533525,
          0.08131241084165478,
          0.15834522111269614,
          0.33666191155492153,
          0.1319543509272468,
          0,
          0.3109843081312411,
          0.2510699001426534,
          0.16904422253922965,
          0.17261055634807418,
          0.12268188302425106,
          0.15477888730385161,
          0.20256776034236804,
          0.2867332382310984,
          0.24750356633380885,
          0.1440798858773181,
          0.12268188302425106,
          0.15477888730385161,
          0.008559201141226797,
          0.047788873038516394,
          0.4700427960057062,
          0.24750356633380885,
          0.10699001426533525,
          0.27246790299572043,
          0.09129814550641938,
          0.30813124108416545,
          0.20256776034236804,
          0.11412268188302424,
          0.09771754636233951,
          0.2810271041369472,
          0.02639087018544936,
          0.1654778887303852,
          0.14978601997146931,
          0.02425106990014264,
          0.2867332382310984,
          0.20256776034236804,
          0.033523537803138354,
          0.23466476462196864,
          0.11126961483594863,
          0.07631954350927247,
          0.09201141226818829,
          0.15477888730385161,
          0.047788873038516394,
          0.06704707560627673,
          0.20399429386590587,
          0.24750356633380885,
          0.13338088445078458,
          0.062054208273894434,
          0.07275320970042795,
          0.07275320970042795,
          0.07132667617689017,
          0.052781740370898694,
          0.1340941512125535,
          0.0456490727532097,
          0.21540656205420824,
          0.2510699001426534,
          0.17974322396576317,
          0.20114122681883026,
          0.22967189728958629,
          0.2653352353780314,
          0.297432239657632,
          0.3152639087018545,
          0.16904422253922965,
          0.21540656205420824,
          0.2225392296718973,
          0.22967189728958629,
          0.35805991440798857,
          0.17261055634807418,
          0.1940085592011412,
          0.4115549215406562,
          0.3937232524964337,
          0.09771754636233951,
          0.24750356633380885,
          0.2653352353780314,
          0.1940085592011412,
          0.15834522111269614,
          0.1440798858773181,
          0.1048502139800285,
          0.2831669044222539,
          0.25820256776034234,
          0.318830242510699,
          0.1440798858773181,
          0.4293865905848788,
          0.27246790299572043,
          0.24393723252496433,
          0.17261055634807418,
          0.2867332382310984,
          0.20827389443651925,
          0.2831669044222539,
          0.2403708987161198,
          0.17261055634807418,
          0.297432239657632,
          0.29029957203994294,
          0.33666191155492153,
          0.2510699001426534,
          0.1654778887303852,
          0.1369472182596291,
          0.27246790299572043,
          0.3295292439372326,
          0.33666191155492153,
          0.3972895863052782,
          0.40085592011412274,
          0.20114122681883026
         ]
        }
       ],
       "layout": {
        "template": {
         "data": {
          "bar": [
           {
            "error_x": {
             "color": "#2a3f5f"
            },
            "error_y": {
             "color": "#2a3f5f"
            },
            "marker": {
             "line": {
              "color": "#E5ECF6",
              "width": 0.5
             }
            },
            "type": "bar"
           }
          ],
          "barpolar": [
           {
            "marker": {
             "line": {
              "color": "#E5ECF6",
              "width": 0.5
             }
            },
            "type": "barpolar"
           }
          ],
          "carpet": [
           {
            "aaxis": {
             "endlinecolor": "#2a3f5f",
             "gridcolor": "white",
             "linecolor": "white",
             "minorgridcolor": "white",
             "startlinecolor": "#2a3f5f"
            },
            "baxis": {
             "endlinecolor": "#2a3f5f",
             "gridcolor": "white",
             "linecolor": "white",
             "minorgridcolor": "white",
             "startlinecolor": "#2a3f5f"
            },
            "type": "carpet"
           }
          ],
          "choropleth": [
           {
            "colorbar": {
             "outlinewidth": 0,
             "ticks": ""
            },
            "type": "choropleth"
           }
          ],
          "contour": [
           {
            "colorbar": {
             "outlinewidth": 0,
             "ticks": ""
            },
            "colorscale": [
             [
              0,
              "#0d0887"
             ],
             [
              0.1111111111111111,
              "#46039f"
             ],
             [
              0.2222222222222222,
              "#7201a8"
             ],
             [
              0.3333333333333333,
              "#9c179e"
             ],
             [
              0.4444444444444444,
              "#bd3786"
             ],
             [
              0.5555555555555556,
              "#d8576b"
             ],
             [
              0.6666666666666666,
              "#ed7953"
             ],
             [
              0.7777777777777778,
              "#fb9f3a"
             ],
             [
              0.8888888888888888,
              "#fdca26"
             ],
             [
              1,
              "#f0f921"
             ]
            ],
            "type": "contour"
           }
          ],
          "contourcarpet": [
           {
            "colorbar": {
             "outlinewidth": 0,
             "ticks": ""
            },
            "type": "contourcarpet"
           }
          ],
          "heatmap": [
           {
            "colorbar": {
             "outlinewidth": 0,
             "ticks": ""
            },
            "colorscale": [
             [
              0,
              "#0d0887"
             ],
             [
              0.1111111111111111,
              "#46039f"
             ],
             [
              0.2222222222222222,
              "#7201a8"
             ],
             [
              0.3333333333333333,
              "#9c179e"
             ],
             [
              0.4444444444444444,
              "#bd3786"
             ],
             [
              0.5555555555555556,
              "#d8576b"
             ],
             [
              0.6666666666666666,
              "#ed7953"
             ],
             [
              0.7777777777777778,
              "#fb9f3a"
             ],
             [
              0.8888888888888888,
              "#fdca26"
             ],
             [
              1,
              "#f0f921"
             ]
            ],
            "type": "heatmap"
           }
          ],
          "heatmapgl": [
           {
            "colorbar": {
             "outlinewidth": 0,
             "ticks": ""
            },
            "colorscale": [
             [
              0,
              "#0d0887"
             ],
             [
              0.1111111111111111,
              "#46039f"
             ],
             [
              0.2222222222222222,
              "#7201a8"
             ],
             [
              0.3333333333333333,
              "#9c179e"
             ],
             [
              0.4444444444444444,
              "#bd3786"
             ],
             [
              0.5555555555555556,
              "#d8576b"
             ],
             [
              0.6666666666666666,
              "#ed7953"
             ],
             [
              0.7777777777777778,
              "#fb9f3a"
             ],
             [
              0.8888888888888888,
              "#fdca26"
             ],
             [
              1,
              "#f0f921"
             ]
            ],
            "type": "heatmapgl"
           }
          ],
          "histogram": [
           {
            "marker": {
             "colorbar": {
              "outlinewidth": 0,
              "ticks": ""
             }
            },
            "type": "histogram"
           }
          ],
          "histogram2d": [
           {
            "colorbar": {
             "outlinewidth": 0,
             "ticks": ""
            },
            "colorscale": [
             [
              0,
              "#0d0887"
             ],
             [
              0.1111111111111111,
              "#46039f"
             ],
             [
              0.2222222222222222,
              "#7201a8"
             ],
             [
              0.3333333333333333,
              "#9c179e"
             ],
             [
              0.4444444444444444,
              "#bd3786"
             ],
             [
              0.5555555555555556,
              "#d8576b"
             ],
             [
              0.6666666666666666,
              "#ed7953"
             ],
             [
              0.7777777777777778,
              "#fb9f3a"
             ],
             [
              0.8888888888888888,
              "#fdca26"
             ],
             [
              1,
              "#f0f921"
             ]
            ],
            "type": "histogram2d"
           }
          ],
          "histogram2dcontour": [
           {
            "colorbar": {
             "outlinewidth": 0,
             "ticks": ""
            },
            "colorscale": [
             [
              0,
              "#0d0887"
             ],
             [
              0.1111111111111111,
              "#46039f"
             ],
             [
              0.2222222222222222,
              "#7201a8"
             ],
             [
              0.3333333333333333,
              "#9c179e"
             ],
             [
              0.4444444444444444,
              "#bd3786"
             ],
             [
              0.5555555555555556,
              "#d8576b"
             ],
             [
              0.6666666666666666,
              "#ed7953"
             ],
             [
              0.7777777777777778,
              "#fb9f3a"
             ],
             [
              0.8888888888888888,
              "#fdca26"
             ],
             [
              1,
              "#f0f921"
             ]
            ],
            "type": "histogram2dcontour"
           }
          ],
          "mesh3d": [
           {
            "colorbar": {
             "outlinewidth": 0,
             "ticks": ""
            },
            "type": "mesh3d"
           }
          ],
          "parcoords": [
           {
            "line": {
             "colorbar": {
              "outlinewidth": 0,
              "ticks": ""
             }
            },
            "type": "parcoords"
           }
          ],
          "pie": [
           {
            "automargin": true,
            "type": "pie"
           }
          ],
          "scatter": [
           {
            "marker": {
             "colorbar": {
              "outlinewidth": 0,
              "ticks": ""
             }
            },
            "type": "scatter"
           }
          ],
          "scatter3d": [
           {
            "line": {
             "colorbar": {
              "outlinewidth": 0,
              "ticks": ""
             }
            },
            "marker": {
             "colorbar": {
              "outlinewidth": 0,
              "ticks": ""
             }
            },
            "type": "scatter3d"
           }
          ],
          "scattercarpet": [
           {
            "marker": {
             "colorbar": {
              "outlinewidth": 0,
              "ticks": ""
             }
            },
            "type": "scattercarpet"
           }
          ],
          "scattergeo": [
           {
            "marker": {
             "colorbar": {
              "outlinewidth": 0,
              "ticks": ""
             }
            },
            "type": "scattergeo"
           }
          ],
          "scattergl": [
           {
            "marker": {
             "colorbar": {
              "outlinewidth": 0,
              "ticks": ""
             }
            },
            "type": "scattergl"
           }
          ],
          "scattermapbox": [
           {
            "marker": {
             "colorbar": {
              "outlinewidth": 0,
              "ticks": ""
             }
            },
            "type": "scattermapbox"
           }
          ],
          "scatterpolar": [
           {
            "marker": {
             "colorbar": {
              "outlinewidth": 0,
              "ticks": ""
             }
            },
            "type": "scatterpolar"
           }
          ],
          "scatterpolargl": [
           {
            "marker": {
             "colorbar": {
              "outlinewidth": 0,
              "ticks": ""
             }
            },
            "type": "scatterpolargl"
           }
          ],
          "scatterternary": [
           {
            "marker": {
             "colorbar": {
              "outlinewidth": 0,
              "ticks": ""
             }
            },
            "type": "scatterternary"
           }
          ],
          "surface": [
           {
            "colorbar": {
             "outlinewidth": 0,
             "ticks": ""
            },
            "colorscale": [
             [
              0,
              "#0d0887"
             ],
             [
              0.1111111111111111,
              "#46039f"
             ],
             [
              0.2222222222222222,
              "#7201a8"
             ],
             [
              0.3333333333333333,
              "#9c179e"
             ],
             [
              0.4444444444444444,
              "#bd3786"
             ],
             [
              0.5555555555555556,
              "#d8576b"
             ],
             [
              0.6666666666666666,
              "#ed7953"
             ],
             [
              0.7777777777777778,
              "#fb9f3a"
             ],
             [
              0.8888888888888888,
              "#fdca26"
             ],
             [
              1,
              "#f0f921"
             ]
            ],
            "type": "surface"
           }
          ],
          "table": [
           {
            "cells": {
             "fill": {
              "color": "#EBF0F8"
             },
             "line": {
              "color": "white"
             }
            },
            "header": {
             "fill": {
              "color": "#C8D4E3"
             },
             "line": {
              "color": "white"
             }
            },
            "type": "table"
           }
          ]
         },
         "layout": {
          "annotationdefaults": {
           "arrowcolor": "#2a3f5f",
           "arrowhead": 0,
           "arrowwidth": 1
          },
          "autotypenumbers": "strict",
          "coloraxis": {
           "colorbar": {
            "outlinewidth": 0,
            "ticks": ""
           }
          },
          "colorscale": {
           "diverging": [
            [
             0,
             "#8e0152"
            ],
            [
             0.1,
             "#c51b7d"
            ],
            [
             0.2,
             "#de77ae"
            ],
            [
             0.3,
             "#f1b6da"
            ],
            [
             0.4,
             "#fde0ef"
            ],
            [
             0.5,
             "#f7f7f7"
            ],
            [
             0.6,
             "#e6f5d0"
            ],
            [
             0.7,
             "#b8e186"
            ],
            [
             0.8,
             "#7fbc41"
            ],
            [
             0.9,
             "#4d9221"
            ],
            [
             1,
             "#276419"
            ]
           ],
           "sequential": [
            [
             0,
             "#0d0887"
            ],
            [
             0.1111111111111111,
             "#46039f"
            ],
            [
             0.2222222222222222,
             "#7201a8"
            ],
            [
             0.3333333333333333,
             "#9c179e"
            ],
            [
             0.4444444444444444,
             "#bd3786"
            ],
            [
             0.5555555555555556,
             "#d8576b"
            ],
            [
             0.6666666666666666,
             "#ed7953"
            ],
            [
             0.7777777777777778,
             "#fb9f3a"
            ],
            [
             0.8888888888888888,
             "#fdca26"
            ],
            [
             1,
             "#f0f921"
            ]
           ],
           "sequentialminus": [
            [
             0,
             "#0d0887"
            ],
            [
             0.1111111111111111,
             "#46039f"
            ],
            [
             0.2222222222222222,
             "#7201a8"
            ],
            [
             0.3333333333333333,
             "#9c179e"
            ],
            [
             0.4444444444444444,
             "#bd3786"
            ],
            [
             0.5555555555555556,
             "#d8576b"
            ],
            [
             0.6666666666666666,
             "#ed7953"
            ],
            [
             0.7777777777777778,
             "#fb9f3a"
            ],
            [
             0.8888888888888888,
             "#fdca26"
            ],
            [
             1,
             "#f0f921"
            ]
           ]
          },
          "colorway": [
           "#636efa",
           "#EF553B",
           "#00cc96",
           "#ab63fa",
           "#FFA15A",
           "#19d3f3",
           "#FF6692",
           "#B6E880",
           "#FF97FF",
           "#FECB52"
          ],
          "font": {
           "color": "#2a3f5f"
          },
          "geo": {
           "bgcolor": "white",
           "lakecolor": "white",
           "landcolor": "#E5ECF6",
           "showlakes": true,
           "showland": true,
           "subunitcolor": "white"
          },
          "hoverlabel": {
           "align": "left"
          },
          "hovermode": "closest",
          "mapbox": {
           "style": "light"
          },
          "paper_bgcolor": "white",
          "plot_bgcolor": "#E5ECF6",
          "polar": {
           "angularaxis": {
            "gridcolor": "white",
            "linecolor": "white",
            "ticks": ""
           },
           "bgcolor": "#E5ECF6",
           "radialaxis": {
            "gridcolor": "white",
            "linecolor": "white",
            "ticks": ""
           }
          },
          "scene": {
           "xaxis": {
            "backgroundcolor": "#E5ECF6",
            "gridcolor": "white",
            "gridwidth": 2,
            "linecolor": "white",
            "showbackground": true,
            "ticks": "",
            "zerolinecolor": "white"
           },
           "yaxis": {
            "backgroundcolor": "#E5ECF6",
            "gridcolor": "white",
            "gridwidth": 2,
            "linecolor": "white",
            "showbackground": true,
            "ticks": "",
            "zerolinecolor": "white"
           },
           "zaxis": {
            "backgroundcolor": "#E5ECF6",
            "gridcolor": "white",
            "gridwidth": 2,
            "linecolor": "white",
            "showbackground": true,
            "ticks": "",
            "zerolinecolor": "white"
           }
          },
          "shapedefaults": {
           "line": {
            "color": "#2a3f5f"
           }
          },
          "ternary": {
           "aaxis": {
            "gridcolor": "white",
            "linecolor": "white",
            "ticks": ""
           },
           "baxis": {
            "gridcolor": "white",
            "linecolor": "white",
            "ticks": ""
           },
           "bgcolor": "#E5ECF6",
           "caxis": {
            "gridcolor": "white",
            "linecolor": "white",
            "ticks": ""
           }
          },
          "title": {
           "x": 0.05
          },
          "xaxis": {
           "automargin": true,
           "gridcolor": "white",
           "linecolor": "white",
           "ticks": "",
           "title": {
            "standoff": 15
           },
           "zerolinecolor": "white",
           "zerolinewidth": 2
          },
          "yaxis": {
           "automargin": true,
           "gridcolor": "white",
           "linecolor": "white",
           "ticks": "",
           "title": {
            "standoff": 15
           },
           "zerolinecolor": "white",
           "zerolinewidth": 2
          }
         }
        }
       }
      }
     },
     "metadata": {}
    }
   ],
   "source": [
    "fig = go.Figure()\n",
    "fig.add_trace(go.Scatter3d(x=df['Color_Intensity'],\n",
    "                         y=df['Alcohol'],\n",
    "                         z=df['Proline'],\n",
    "                         mode = 'markers',                  \n",
    "                         marker = dict(color = labels.astype(np.float)),\n",
    "                         text = labels))\n",
    "fig.show()                         "
   ]
  },
  {
   "cell_type": "code",
   "execution_count": 35,
   "metadata": {},
   "outputs": [
    {
     "output_type": "stream",
     "name": "stdout",
     "text": [
      "[2, 3, 4, 5, 6, 7, 8, 9]\n"
     ]
    }
   ],
   "source": [
    "from sklearn.metrics import silhouette_score\n",
    "\n",
    "range_n_clusters = [i for i in range(2,10)]\n",
    "print(range_n_clusters)"
   ]
  },
  {
   "cell_type": "code",
   "execution_count": 45,
   "metadata": {},
   "outputs": [
    {
     "output_type": "display_data",
     "data": {
      "application/vnd.plotly.v1+json": {
       "config": {
        "plotlyServerURL": "https://plot.ly"
       },
       "data": [
        {
         "type": "scatter",
         "x": [
          2,
          3,
          4,
          5,
          6,
          7,
          8,
          9
         ],
         "y": [
          0.3450438553643069,
          0.36950618492736303,
          0.3051749472621832,
          0.28642942069102423,
          0.2383181149977668,
          0.1887239600065368,
          0.15358574508128553,
          0.12930875152825133
         ]
        }
       ],
       "layout": {
        "template": {
         "data": {
          "bar": [
           {
            "error_x": {
             "color": "#2a3f5f"
            },
            "error_y": {
             "color": "#2a3f5f"
            },
            "marker": {
             "line": {
              "color": "#E5ECF6",
              "width": 0.5
             }
            },
            "type": "bar"
           }
          ],
          "barpolar": [
           {
            "marker": {
             "line": {
              "color": "#E5ECF6",
              "width": 0.5
             }
            },
            "type": "barpolar"
           }
          ],
          "carpet": [
           {
            "aaxis": {
             "endlinecolor": "#2a3f5f",
             "gridcolor": "white",
             "linecolor": "white",
             "minorgridcolor": "white",
             "startlinecolor": "#2a3f5f"
            },
            "baxis": {
             "endlinecolor": "#2a3f5f",
             "gridcolor": "white",
             "linecolor": "white",
             "minorgridcolor": "white",
             "startlinecolor": "#2a3f5f"
            },
            "type": "carpet"
           }
          ],
          "choropleth": [
           {
            "colorbar": {
             "outlinewidth": 0,
             "ticks": ""
            },
            "type": "choropleth"
           }
          ],
          "contour": [
           {
            "colorbar": {
             "outlinewidth": 0,
             "ticks": ""
            },
            "colorscale": [
             [
              0,
              "#0d0887"
             ],
             [
              0.1111111111111111,
              "#46039f"
             ],
             [
              0.2222222222222222,
              "#7201a8"
             ],
             [
              0.3333333333333333,
              "#9c179e"
             ],
             [
              0.4444444444444444,
              "#bd3786"
             ],
             [
              0.5555555555555556,
              "#d8576b"
             ],
             [
              0.6666666666666666,
              "#ed7953"
             ],
             [
              0.7777777777777778,
              "#fb9f3a"
             ],
             [
              0.8888888888888888,
              "#fdca26"
             ],
             [
              1,
              "#f0f921"
             ]
            ],
            "type": "contour"
           }
          ],
          "contourcarpet": [
           {
            "colorbar": {
             "outlinewidth": 0,
             "ticks": ""
            },
            "type": "contourcarpet"
           }
          ],
          "heatmap": [
           {
            "colorbar": {
             "outlinewidth": 0,
             "ticks": ""
            },
            "colorscale": [
             [
              0,
              "#0d0887"
             ],
             [
              0.1111111111111111,
              "#46039f"
             ],
             [
              0.2222222222222222,
              "#7201a8"
             ],
             [
              0.3333333333333333,
              "#9c179e"
             ],
             [
              0.4444444444444444,
              "#bd3786"
             ],
             [
              0.5555555555555556,
              "#d8576b"
             ],
             [
              0.6666666666666666,
              "#ed7953"
             ],
             [
              0.7777777777777778,
              "#fb9f3a"
             ],
             [
              0.8888888888888888,
              "#fdca26"
             ],
             [
              1,
              "#f0f921"
             ]
            ],
            "type": "heatmap"
           }
          ],
          "heatmapgl": [
           {
            "colorbar": {
             "outlinewidth": 0,
             "ticks": ""
            },
            "colorscale": [
             [
              0,
              "#0d0887"
             ],
             [
              0.1111111111111111,
              "#46039f"
             ],
             [
              0.2222222222222222,
              "#7201a8"
             ],
             [
              0.3333333333333333,
              "#9c179e"
             ],
             [
              0.4444444444444444,
              "#bd3786"
             ],
             [
              0.5555555555555556,
              "#d8576b"
             ],
             [
              0.6666666666666666,
              "#ed7953"
             ],
             [
              0.7777777777777778,
              "#fb9f3a"
             ],
             [
              0.8888888888888888,
              "#fdca26"
             ],
             [
              1,
              "#f0f921"
             ]
            ],
            "type": "heatmapgl"
           }
          ],
          "histogram": [
           {
            "marker": {
             "colorbar": {
              "outlinewidth": 0,
              "ticks": ""
             }
            },
            "type": "histogram"
           }
          ],
          "histogram2d": [
           {
            "colorbar": {
             "outlinewidth": 0,
             "ticks": ""
            },
            "colorscale": [
             [
              0,
              "#0d0887"
             ],
             [
              0.1111111111111111,
              "#46039f"
             ],
             [
              0.2222222222222222,
              "#7201a8"
             ],
             [
              0.3333333333333333,
              "#9c179e"
             ],
             [
              0.4444444444444444,
              "#bd3786"
             ],
             [
              0.5555555555555556,
              "#d8576b"
             ],
             [
              0.6666666666666666,
              "#ed7953"
             ],
             [
              0.7777777777777778,
              "#fb9f3a"
             ],
             [
              0.8888888888888888,
              "#fdca26"
             ],
             [
              1,
              "#f0f921"
             ]
            ],
            "type": "histogram2d"
           }
          ],
          "histogram2dcontour": [
           {
            "colorbar": {
             "outlinewidth": 0,
             "ticks": ""
            },
            "colorscale": [
             [
              0,
              "#0d0887"
             ],
             [
              0.1111111111111111,
              "#46039f"
             ],
             [
              0.2222222222222222,
              "#7201a8"
             ],
             [
              0.3333333333333333,
              "#9c179e"
             ],
             [
              0.4444444444444444,
              "#bd3786"
             ],
             [
              0.5555555555555556,
              "#d8576b"
             ],
             [
              0.6666666666666666,
              "#ed7953"
             ],
             [
              0.7777777777777778,
              "#fb9f3a"
             ],
             [
              0.8888888888888888,
              "#fdca26"
             ],
             [
              1,
              "#f0f921"
             ]
            ],
            "type": "histogram2dcontour"
           }
          ],
          "mesh3d": [
           {
            "colorbar": {
             "outlinewidth": 0,
             "ticks": ""
            },
            "type": "mesh3d"
           }
          ],
          "parcoords": [
           {
            "line": {
             "colorbar": {
              "outlinewidth": 0,
              "ticks": ""
             }
            },
            "type": "parcoords"
           }
          ],
          "pie": [
           {
            "automargin": true,
            "type": "pie"
           }
          ],
          "scatter": [
           {
            "marker": {
             "colorbar": {
              "outlinewidth": 0,
              "ticks": ""
             }
            },
            "type": "scatter"
           }
          ],
          "scatter3d": [
           {
            "line": {
             "colorbar": {
              "outlinewidth": 0,
              "ticks": ""
             }
            },
            "marker": {
             "colorbar": {
              "outlinewidth": 0,
              "ticks": ""
             }
            },
            "type": "scatter3d"
           }
          ],
          "scattercarpet": [
           {
            "marker": {
             "colorbar": {
              "outlinewidth": 0,
              "ticks": ""
             }
            },
            "type": "scattercarpet"
           }
          ],
          "scattergeo": [
           {
            "marker": {
             "colorbar": {
              "outlinewidth": 0,
              "ticks": ""
             }
            },
            "type": "scattergeo"
           }
          ],
          "scattergl": [
           {
            "marker": {
             "colorbar": {
              "outlinewidth": 0,
              "ticks": ""
             }
            },
            "type": "scattergl"
           }
          ],
          "scattermapbox": [
           {
            "marker": {
             "colorbar": {
              "outlinewidth": 0,
              "ticks": ""
             }
            },
            "type": "scattermapbox"
           }
          ],
          "scatterpolar": [
           {
            "marker": {
             "colorbar": {
              "outlinewidth": 0,
              "ticks": ""
             }
            },
            "type": "scatterpolar"
           }
          ],
          "scatterpolargl": [
           {
            "marker": {
             "colorbar": {
              "outlinewidth": 0,
              "ticks": ""
             }
            },
            "type": "scatterpolargl"
           }
          ],
          "scatterternary": [
           {
            "marker": {
             "colorbar": {
              "outlinewidth": 0,
              "ticks": ""
             }
            },
            "type": "scatterternary"
           }
          ],
          "surface": [
           {
            "colorbar": {
             "outlinewidth": 0,
             "ticks": ""
            },
            "colorscale": [
             [
              0,
              "#0d0887"
             ],
             [
              0.1111111111111111,
              "#46039f"
             ],
             [
              0.2222222222222222,
              "#7201a8"
             ],
             [
              0.3333333333333333,
              "#9c179e"
             ],
             [
              0.4444444444444444,
              "#bd3786"
             ],
             [
              0.5555555555555556,
              "#d8576b"
             ],
             [
              0.6666666666666666,
              "#ed7953"
             ],
             [
              0.7777777777777778,
              "#fb9f3a"
             ],
             [
              0.8888888888888888,
              "#fdca26"
             ],
             [
              1,
              "#f0f921"
             ]
            ],
            "type": "surface"
           }
          ],
          "table": [
           {
            "cells": {
             "fill": {
              "color": "#EBF0F8"
             },
             "line": {
              "color": "white"
             }
            },
            "header": {
             "fill": {
              "color": "#C8D4E3"
             },
             "line": {
              "color": "white"
             }
            },
            "type": "table"
           }
          ]
         },
         "layout": {
          "annotationdefaults": {
           "arrowcolor": "#2a3f5f",
           "arrowhead": 0,
           "arrowwidth": 1
          },
          "autotypenumbers": "strict",
          "coloraxis": {
           "colorbar": {
            "outlinewidth": 0,
            "ticks": ""
           }
          },
          "colorscale": {
           "diverging": [
            [
             0,
             "#8e0152"
            ],
            [
             0.1,
             "#c51b7d"
            ],
            [
             0.2,
             "#de77ae"
            ],
            [
             0.3,
             "#f1b6da"
            ],
            [
             0.4,
             "#fde0ef"
            ],
            [
             0.5,
             "#f7f7f7"
            ],
            [
             0.6,
             "#e6f5d0"
            ],
            [
             0.7,
             "#b8e186"
            ],
            [
             0.8,
             "#7fbc41"
            ],
            [
             0.9,
             "#4d9221"
            ],
            [
             1,
             "#276419"
            ]
           ],
           "sequential": [
            [
             0,
             "#0d0887"
            ],
            [
             0.1111111111111111,
             "#46039f"
            ],
            [
             0.2222222222222222,
             "#7201a8"
            ],
            [
             0.3333333333333333,
             "#9c179e"
            ],
            [
             0.4444444444444444,
             "#bd3786"
            ],
            [
             0.5555555555555556,
             "#d8576b"
            ],
            [
             0.6666666666666666,
             "#ed7953"
            ],
            [
             0.7777777777777778,
             "#fb9f3a"
            ],
            [
             0.8888888888888888,
             "#fdca26"
            ],
            [
             1,
             "#f0f921"
            ]
           ],
           "sequentialminus": [
            [
             0,
             "#0d0887"
            ],
            [
             0.1111111111111111,
             "#46039f"
            ],
            [
             0.2222222222222222,
             "#7201a8"
            ],
            [
             0.3333333333333333,
             "#9c179e"
            ],
            [
             0.4444444444444444,
             "#bd3786"
            ],
            [
             0.5555555555555556,
             "#d8576b"
            ],
            [
             0.6666666666666666,
             "#ed7953"
            ],
            [
             0.7777777777777778,
             "#fb9f3a"
            ],
            [
             0.8888888888888888,
             "#fdca26"
            ],
            [
             1,
             "#f0f921"
            ]
           ]
          },
          "colorway": [
           "#636efa",
           "#EF553B",
           "#00cc96",
           "#ab63fa",
           "#FFA15A",
           "#19d3f3",
           "#FF6692",
           "#B6E880",
           "#FF97FF",
           "#FECB52"
          ],
          "font": {
           "color": "#2a3f5f"
          },
          "geo": {
           "bgcolor": "white",
           "lakecolor": "white",
           "landcolor": "#E5ECF6",
           "showlakes": true,
           "showland": true,
           "subunitcolor": "white"
          },
          "hoverlabel": {
           "align": "left"
          },
          "hovermode": "closest",
          "mapbox": {
           "style": "light"
          },
          "paper_bgcolor": "white",
          "plot_bgcolor": "#E5ECF6",
          "polar": {
           "angularaxis": {
            "gridcolor": "white",
            "linecolor": "white",
            "ticks": ""
           },
           "bgcolor": "#E5ECF6",
           "radialaxis": {
            "gridcolor": "white",
            "linecolor": "white",
            "ticks": ""
           }
          },
          "scene": {
           "xaxis": {
            "backgroundcolor": "#E5ECF6",
            "gridcolor": "white",
            "gridwidth": 2,
            "linecolor": "white",
            "showbackground": true,
            "ticks": "",
            "zerolinecolor": "white"
           },
           "yaxis": {
            "backgroundcolor": "#E5ECF6",
            "gridcolor": "white",
            "gridwidth": 2,
            "linecolor": "white",
            "showbackground": true,
            "ticks": "",
            "zerolinecolor": "white"
           },
           "zaxis": {
            "backgroundcolor": "#E5ECF6",
            "gridcolor": "white",
            "gridwidth": 2,
            "linecolor": "white",
            "showbackground": true,
            "ticks": "",
            "zerolinecolor": "white"
           }
          },
          "shapedefaults": {
           "line": {
            "color": "#2a3f5f"
           }
          },
          "ternary": {
           "aaxis": {
            "gridcolor": "white",
            "linecolor": "white",
            "ticks": ""
           },
           "baxis": {
            "gridcolor": "white",
            "linecolor": "white",
            "ticks": ""
           },
           "bgcolor": "#E5ECF6",
           "caxis": {
            "gridcolor": "white",
            "linecolor": "white",
            "ticks": ""
           }
          },
          "title": {
           "x": 0.05
          },
          "xaxis": {
           "automargin": true,
           "gridcolor": "white",
           "linecolor": "white",
           "ticks": "",
           "title": {
            "standoff": 15
           },
           "zerolinecolor": "white",
           "zerolinewidth": 2
          },
          "yaxis": {
           "automargin": true,
           "gridcolor": "white",
           "linecolor": "white",
           "ticks": "",
           "title": {
            "standoff": 15
           },
           "zerolinecolor": "white",
           "zerolinewidth": 2
          }
         }
        },
        "title": {
         "text": "Silhouette mean values"
        },
        "xaxis": {
         "title": {
          "text": "Number of clusters"
         }
        },
        "yaxis": {
         "title": {
          "text": "Silhouette mean value"
         }
        }
       }
      }
     },
     "metadata": {}
    }
   ],
   "source": [
    "from sklearn.cluster import KMeans\n",
    "\n",
    "silhouette_values = []\n",
    "\n",
    "for k in range_n_clusters:\n",
    "    grouper = KMeans(n_clusters = k)    \n",
    "    labels = grouper.fit_predict(df)\n",
    "    silhouette_mean = silhouette_score(df, labels)\n",
    "    silhouette_values.append(silhouette_mean)\n",
    "\n",
    "\n",
    "fig = go.Figure()\n",
    "fig.add_trace(go.Scatter(x=range_n_clusters,\n",
    "                         y=silhouette_values))\n",
    "\n",
    "fig.update_layout(title = 'Silhouette mean values',\n",
    "                  xaxis_title = 'Number of clusters',\n",
    "                  yaxis_title = 'Silhouette mean value')                         "
   ]
  },
  {
   "cell_type": "code",
   "execution_count": 54,
   "metadata": {},
   "outputs": [
    {
     "output_type": "execute_result",
     "data": {
      "text/plain": [
       "array([0.02      , 0.03655172, 0.05310345, 0.06965517, 0.0862069 ,\n",
       "       0.10275862, 0.11931034, 0.13586207, 0.15241379, 0.16896552,\n",
       "       0.18551724, 0.20206897, 0.21862069, 0.23517241, 0.25172414,\n",
       "       0.26827586, 0.28482759, 0.30137931, 0.31793103, 0.33448276,\n",
       "       0.35103448, 0.36758621, 0.38413793, 0.40068966, 0.41724138,\n",
       "       0.4337931 , 0.45034483, 0.46689655, 0.48344828, 0.5       ])"
      ]
     },
     "metadata": {},
     "execution_count": 54
    }
   ],
   "source": [
    "quantile_range = np.linspace(0.02, 0.5, 30)\n",
    "quantile_range"
   ]
  },
  {
   "cell_type": "code",
   "execution_count": 55,
   "metadata": {},
   "outputs": [
    {
     "output_type": "stream",
     "name": "stderr",
     "text": [
      "C:\\Users\\PedroFerreira\\anaconda3\\lib\\site-packages\\sklearn\\utils\\validation.py:67: FutureWarning:\n",
      "\n",
      "Pass bandwidth=0.41407073402433764 as keyword args. From version 0.25 passing these as positional arguments will result in an error\n",
      "\n",
      "C:\\Users\\PedroFerreira\\anaconda3\\lib\\site-packages\\sklearn\\utils\\validation.py:67: FutureWarning:\n",
      "\n",
      "Pass bandwidth=0.49002627383760705 as keyword args. From version 0.25 passing these as positional arguments will result in an error\n",
      "\n",
      "C:\\Users\\PedroFerreira\\anaconda3\\lib\\site-packages\\sklearn\\utils\\validation.py:67: FutureWarning:\n",
      "\n",
      "Pass bandwidth=0.5304660110980739 as keyword args. From version 0.25 passing these as positional arguments will result in an error\n",
      "\n",
      "C:\\Users\\PedroFerreira\\anaconda3\\lib\\site-packages\\sklearn\\utils\\validation.py:67: FutureWarning:\n",
      "\n",
      "Pass bandwidth=0.559893978378914 as keyword args. From version 0.25 passing these as positional arguments will result in an error\n",
      "\n",
      "C:\\Users\\PedroFerreira\\anaconda3\\lib\\site-packages\\sklearn\\utils\\validation.py:67: FutureWarning:\n",
      "\n",
      "Pass bandwidth=0.5865107839766164 as keyword args. From version 0.25 passing these as positional arguments will result in an error\n",
      "\n",
      "C:\\Users\\PedroFerreira\\anaconda3\\lib\\site-packages\\sklearn\\utils\\validation.py:67: FutureWarning:\n",
      "\n",
      "Pass bandwidth=0.6079661029689013 as keyword args. From version 0.25 passing these as positional arguments will result in an error\n",
      "\n",
      "C:\\Users\\PedroFerreira\\anaconda3\\lib\\site-packages\\sklearn\\utils\\validation.py:67: FutureWarning:\n",
      "\n",
      "Pass bandwidth=0.6307456022450317 as keyword args. From version 0.25 passing these as positional arguments will result in an error\n",
      "\n",
      "C:\\Users\\PedroFerreira\\anaconda3\\lib\\site-packages\\sklearn\\utils\\validation.py:67: FutureWarning:\n",
      "\n",
      "Pass bandwidth=0.6521639321157859 as keyword args. From version 0.25 passing these as positional arguments will result in an error\n",
      "\n",
      "C:\\Users\\PedroFerreira\\anaconda3\\lib\\site-packages\\sklearn\\utils\\validation.py:67: FutureWarning:\n",
      "\n",
      "Pass bandwidth=0.6727164194401183 as keyword args. From version 0.25 passing these as positional arguments will result in an error\n",
      "\n",
      "C:\\Users\\PedroFerreira\\anaconda3\\lib\\site-packages\\sklearn\\utils\\validation.py:67: FutureWarning:\n",
      "\n",
      "Pass bandwidth=0.6921798217309247 as keyword args. From version 0.25 passing these as positional arguments will result in an error\n",
      "\n",
      "C:\\Users\\PedroFerreira\\anaconda3\\lib\\site-packages\\sklearn\\utils\\validation.py:67: FutureWarning:\n",
      "\n",
      "Pass bandwidth=0.7118570345999325 as keyword args. From version 0.25 passing these as positional arguments will result in an error\n",
      "\n",
      "C:\\Users\\PedroFerreira\\anaconda3\\lib\\site-packages\\sklearn\\utils\\validation.py:67: FutureWarning:\n",
      "\n",
      "Pass bandwidth=0.7258686846232676 as keyword args. From version 0.25 passing these as positional arguments will result in an error\n",
      "\n",
      "C:\\Users\\PedroFerreira\\anaconda3\\lib\\site-packages\\sklearn\\utils\\validation.py:67: FutureWarning:\n",
      "\n",
      "Pass bandwidth=0.746885467725698 as keyword args. From version 0.25 passing these as positional arguments will result in an error\n",
      "\n",
      "C:\\Users\\PedroFerreira\\anaconda3\\lib\\site-packages\\sklearn\\utils\\validation.py:67: FutureWarning:\n",
      "\n",
      "Pass bandwidth=0.7686126783751506 as keyword args. From version 0.25 passing these as positional arguments will result in an error\n",
      "\n",
      "C:\\Users\\PedroFerreira\\anaconda3\\lib\\site-packages\\sklearn\\utils\\validation.py:67: FutureWarning:\n",
      "\n",
      "Pass bandwidth=0.7933948087316043 as keyword args. From version 0.25 passing these as positional arguments will result in an error\n",
      "\n",
      "C:\\Users\\PedroFerreira\\anaconda3\\lib\\site-packages\\sklearn\\utils\\validation.py:67: FutureWarning:\n",
      "\n",
      "Pass bandwidth=0.8203867296284721 as keyword args. From version 0.25 passing these as positional arguments will result in an error\n",
      "\n",
      "C:\\Users\\PedroFerreira\\anaconda3\\lib\\site-packages\\sklearn\\utils\\validation.py:67: FutureWarning:\n",
      "\n",
      "Pass bandwidth=0.8506619865789286 as keyword args. From version 0.25 passing these as positional arguments will result in an error\n",
      "\n",
      "C:\\Users\\PedroFerreira\\anaconda3\\lib\\site-packages\\sklearn\\utils\\validation.py:67: FutureWarning:\n",
      "\n",
      "Pass bandwidth=0.8804157053665643 as keyword args. From version 0.25 passing these as positional arguments will result in an error\n",
      "\n",
      "C:\\Users\\PedroFerreira\\anaconda3\\lib\\site-packages\\sklearn\\utils\\validation.py:67: FutureWarning:\n",
      "\n",
      "Pass bandwidth=0.9100308955386752 as keyword args. From version 0.25 passing these as positional arguments will result in an error\n",
      "\n",
      "C:\\Users\\PedroFerreira\\anaconda3\\lib\\site-packages\\sklearn\\utils\\validation.py:67: FutureWarning:\n",
      "\n",
      "Pass bandwidth=0.9497006122582984 as keyword args. From version 0.25 passing these as positional arguments will result in an error\n",
      "\n",
      "C:\\Users\\PedroFerreira\\anaconda3\\lib\\site-packages\\sklearn\\utils\\validation.py:67: FutureWarning:\n",
      "\n",
      "Pass bandwidth=0.9831961121463512 as keyword args. From version 0.25 passing these as positional arguments will result in an error\n",
      "\n",
      "C:\\Users\\PedroFerreira\\anaconda3\\lib\\site-packages\\sklearn\\utils\\validation.py:67: FutureWarning:\n",
      "\n",
      "Pass bandwidth=1.0085367597908803 as keyword args. From version 0.25 passing these as positional arguments will result in an error\n",
      "\n",
      "C:\\Users\\PedroFerreira\\anaconda3\\lib\\site-packages\\sklearn\\utils\\validation.py:67: FutureWarning:\n",
      "\n",
      "Pass bandwidth=1.0283353725967863 as keyword args. From version 0.25 passing these as positional arguments will result in an error\n",
      "\n",
      "C:\\Users\\PedroFerreira\\anaconda3\\lib\\site-packages\\sklearn\\utils\\validation.py:67: FutureWarning:\n",
      "\n",
      "Pass bandwidth=1.0457460965455212 as keyword args. From version 0.25 passing these as positional arguments will result in an error\n",
      "\n",
      "C:\\Users\\PedroFerreira\\anaconda3\\lib\\site-packages\\sklearn\\utils\\validation.py:67: FutureWarning:\n",
      "\n",
      "Pass bandwidth=1.0600328712239726 as keyword args. From version 0.25 passing these as positional arguments will result in an error\n",
      "\n",
      "C:\\Users\\PedroFerreira\\anaconda3\\lib\\site-packages\\sklearn\\utils\\validation.py:67: FutureWarning:\n",
      "\n",
      "Pass bandwidth=1.0743820869675154 as keyword args. From version 0.25 passing these as positional arguments will result in an error\n",
      "\n",
      "C:\\Users\\PedroFerreira\\anaconda3\\lib\\site-packages\\sklearn\\utils\\validation.py:67: FutureWarning:\n",
      "\n",
      "Pass bandwidth=1.089372071558583 as keyword args. From version 0.25 passing these as positional arguments will result in an error\n",
      "\n",
      "C:\\Users\\PedroFerreira\\anaconda3\\lib\\site-packages\\sklearn\\utils\\validation.py:67: FutureWarning:\n",
      "\n",
      "Pass bandwidth=1.104612785076024 as keyword args. From version 0.25 passing these as positional arguments will result in an error\n",
      "\n",
      "C:\\Users\\PedroFerreira\\anaconda3\\lib\\site-packages\\sklearn\\utils\\validation.py:67: FutureWarning:\n",
      "\n",
      "Pass bandwidth=1.1191455505736345 as keyword args. From version 0.25 passing these as positional arguments will result in an error\n",
      "\n",
      "C:\\Users\\PedroFerreira\\anaconda3\\lib\\site-packages\\sklearn\\utils\\validation.py:67: FutureWarning:\n",
      "\n",
      "Pass bandwidth=1.1322358239471637 as keyword args. From version 0.25 passing these as positional arguments will result in an error\n",
      "\n"
     ]
    }
   ],
   "source": [
    "silhouette_values = []\n",
    "quantile_plot = []\n",
    "\n",
    "for quantile in quantile_range:\n",
    "    bandwidth = estimate_bandwidth(df, quantile = quantile)\n",
    "    grouper = MeanShift(bandwidth)\n",
    "    labels = grouper.fit_predict(df)\n",
    "\n",
    "    if(len(np.unique(labels)) < len(df) and len(np.unique(labels)) > 1):\n",
    "        silhouette_mean = silhouette_score(df, labels)\n",
    "        silhouette_values.append(silhouette_mean)\n",
    "        quantile_plot.append(quantile)"
   ]
  },
  {
   "cell_type": "code",
   "execution_count": 56,
   "metadata": {},
   "outputs": [
    {
     "output_type": "display_data",
     "data": {
      "application/vnd.plotly.v1+json": {
       "config": {
        "plotlyServerURL": "https://plot.ly"
       },
       "data": [
        {
         "type": "scatter",
         "x": [
          0.02,
          0.036551724137931035,
          0.05310344827586207,
          0.06965517241379311,
          0.08620689655172414,
          0.10275862068965518,
          0.11931034482758622,
          0.13586206896551725,
          0.15241379310344827,
          0.16896551724137931,
          0.18551724137931033,
          0.20206896551724138,
          0.21862068965517242,
          0.23517241379310344,
          0.2517241379310345,
          0.26827586206896553,
          0.2848275862068966,
          0.3013793103448276,
          0.31793103448275867
         ],
         "y": [
          0.06885772218718562,
          0.1269573020851445,
          0.21222500077088088,
          0.2286093688267214,
          0.2317584058145142,
          0.24240075989450527,
          0.2415047883060417,
          0.28061084874032294,
          0.2901268382090164,
          0.31458072630392764,
          0.3448247813495863,
          0.34353173543532023,
          0.34353173543532023,
          0.2030594510891413,
          0.22791764552102653,
          0.30638538825691164,
          0.30672378482144275,
          0.20758352839192915,
          0.20758352839192915
         ]
        }
       ],
       "layout": {
        "template": {
         "data": {
          "bar": [
           {
            "error_x": {
             "color": "#2a3f5f"
            },
            "error_y": {
             "color": "#2a3f5f"
            },
            "marker": {
             "line": {
              "color": "#E5ECF6",
              "width": 0.5
             }
            },
            "type": "bar"
           }
          ],
          "barpolar": [
           {
            "marker": {
             "line": {
              "color": "#E5ECF6",
              "width": 0.5
             }
            },
            "type": "barpolar"
           }
          ],
          "carpet": [
           {
            "aaxis": {
             "endlinecolor": "#2a3f5f",
             "gridcolor": "white",
             "linecolor": "white",
             "minorgridcolor": "white",
             "startlinecolor": "#2a3f5f"
            },
            "baxis": {
             "endlinecolor": "#2a3f5f",
             "gridcolor": "white",
             "linecolor": "white",
             "minorgridcolor": "white",
             "startlinecolor": "#2a3f5f"
            },
            "type": "carpet"
           }
          ],
          "choropleth": [
           {
            "colorbar": {
             "outlinewidth": 0,
             "ticks": ""
            },
            "type": "choropleth"
           }
          ],
          "contour": [
           {
            "colorbar": {
             "outlinewidth": 0,
             "ticks": ""
            },
            "colorscale": [
             [
              0,
              "#0d0887"
             ],
             [
              0.1111111111111111,
              "#46039f"
             ],
             [
              0.2222222222222222,
              "#7201a8"
             ],
             [
              0.3333333333333333,
              "#9c179e"
             ],
             [
              0.4444444444444444,
              "#bd3786"
             ],
             [
              0.5555555555555556,
              "#d8576b"
             ],
             [
              0.6666666666666666,
              "#ed7953"
             ],
             [
              0.7777777777777778,
              "#fb9f3a"
             ],
             [
              0.8888888888888888,
              "#fdca26"
             ],
             [
              1,
              "#f0f921"
             ]
            ],
            "type": "contour"
           }
          ],
          "contourcarpet": [
           {
            "colorbar": {
             "outlinewidth": 0,
             "ticks": ""
            },
            "type": "contourcarpet"
           }
          ],
          "heatmap": [
           {
            "colorbar": {
             "outlinewidth": 0,
             "ticks": ""
            },
            "colorscale": [
             [
              0,
              "#0d0887"
             ],
             [
              0.1111111111111111,
              "#46039f"
             ],
             [
              0.2222222222222222,
              "#7201a8"
             ],
             [
              0.3333333333333333,
              "#9c179e"
             ],
             [
              0.4444444444444444,
              "#bd3786"
             ],
             [
              0.5555555555555556,
              "#d8576b"
             ],
             [
              0.6666666666666666,
              "#ed7953"
             ],
             [
              0.7777777777777778,
              "#fb9f3a"
             ],
             [
              0.8888888888888888,
              "#fdca26"
             ],
             [
              1,
              "#f0f921"
             ]
            ],
            "type": "heatmap"
           }
          ],
          "heatmapgl": [
           {
            "colorbar": {
             "outlinewidth": 0,
             "ticks": ""
            },
            "colorscale": [
             [
              0,
              "#0d0887"
             ],
             [
              0.1111111111111111,
              "#46039f"
             ],
             [
              0.2222222222222222,
              "#7201a8"
             ],
             [
              0.3333333333333333,
              "#9c179e"
             ],
             [
              0.4444444444444444,
              "#bd3786"
             ],
             [
              0.5555555555555556,
              "#d8576b"
             ],
             [
              0.6666666666666666,
              "#ed7953"
             ],
             [
              0.7777777777777778,
              "#fb9f3a"
             ],
             [
              0.8888888888888888,
              "#fdca26"
             ],
             [
              1,
              "#f0f921"
             ]
            ],
            "type": "heatmapgl"
           }
          ],
          "histogram": [
           {
            "marker": {
             "colorbar": {
              "outlinewidth": 0,
              "ticks": ""
             }
            },
            "type": "histogram"
           }
          ],
          "histogram2d": [
           {
            "colorbar": {
             "outlinewidth": 0,
             "ticks": ""
            },
            "colorscale": [
             [
              0,
              "#0d0887"
             ],
             [
              0.1111111111111111,
              "#46039f"
             ],
             [
              0.2222222222222222,
              "#7201a8"
             ],
             [
              0.3333333333333333,
              "#9c179e"
             ],
             [
              0.4444444444444444,
              "#bd3786"
             ],
             [
              0.5555555555555556,
              "#d8576b"
             ],
             [
              0.6666666666666666,
              "#ed7953"
             ],
             [
              0.7777777777777778,
              "#fb9f3a"
             ],
             [
              0.8888888888888888,
              "#fdca26"
             ],
             [
              1,
              "#f0f921"
             ]
            ],
            "type": "histogram2d"
           }
          ],
          "histogram2dcontour": [
           {
            "colorbar": {
             "outlinewidth": 0,
             "ticks": ""
            },
            "colorscale": [
             [
              0,
              "#0d0887"
             ],
             [
              0.1111111111111111,
              "#46039f"
             ],
             [
              0.2222222222222222,
              "#7201a8"
             ],
             [
              0.3333333333333333,
              "#9c179e"
             ],
             [
              0.4444444444444444,
              "#bd3786"
             ],
             [
              0.5555555555555556,
              "#d8576b"
             ],
             [
              0.6666666666666666,
              "#ed7953"
             ],
             [
              0.7777777777777778,
              "#fb9f3a"
             ],
             [
              0.8888888888888888,
              "#fdca26"
             ],
             [
              1,
              "#f0f921"
             ]
            ],
            "type": "histogram2dcontour"
           }
          ],
          "mesh3d": [
           {
            "colorbar": {
             "outlinewidth": 0,
             "ticks": ""
            },
            "type": "mesh3d"
           }
          ],
          "parcoords": [
           {
            "line": {
             "colorbar": {
              "outlinewidth": 0,
              "ticks": ""
             }
            },
            "type": "parcoords"
           }
          ],
          "pie": [
           {
            "automargin": true,
            "type": "pie"
           }
          ],
          "scatter": [
           {
            "marker": {
             "colorbar": {
              "outlinewidth": 0,
              "ticks": ""
             }
            },
            "type": "scatter"
           }
          ],
          "scatter3d": [
           {
            "line": {
             "colorbar": {
              "outlinewidth": 0,
              "ticks": ""
             }
            },
            "marker": {
             "colorbar": {
              "outlinewidth": 0,
              "ticks": ""
             }
            },
            "type": "scatter3d"
           }
          ],
          "scattercarpet": [
           {
            "marker": {
             "colorbar": {
              "outlinewidth": 0,
              "ticks": ""
             }
            },
            "type": "scattercarpet"
           }
          ],
          "scattergeo": [
           {
            "marker": {
             "colorbar": {
              "outlinewidth": 0,
              "ticks": ""
             }
            },
            "type": "scattergeo"
           }
          ],
          "scattergl": [
           {
            "marker": {
             "colorbar": {
              "outlinewidth": 0,
              "ticks": ""
             }
            },
            "type": "scattergl"
           }
          ],
          "scattermapbox": [
           {
            "marker": {
             "colorbar": {
              "outlinewidth": 0,
              "ticks": ""
             }
            },
            "type": "scattermapbox"
           }
          ],
          "scatterpolar": [
           {
            "marker": {
             "colorbar": {
              "outlinewidth": 0,
              "ticks": ""
             }
            },
            "type": "scatterpolar"
           }
          ],
          "scatterpolargl": [
           {
            "marker": {
             "colorbar": {
              "outlinewidth": 0,
              "ticks": ""
             }
            },
            "type": "scatterpolargl"
           }
          ],
          "scatterternary": [
           {
            "marker": {
             "colorbar": {
              "outlinewidth": 0,
              "ticks": ""
             }
            },
            "type": "scatterternary"
           }
          ],
          "surface": [
           {
            "colorbar": {
             "outlinewidth": 0,
             "ticks": ""
            },
            "colorscale": [
             [
              0,
              "#0d0887"
             ],
             [
              0.1111111111111111,
              "#46039f"
             ],
             [
              0.2222222222222222,
              "#7201a8"
             ],
             [
              0.3333333333333333,
              "#9c179e"
             ],
             [
              0.4444444444444444,
              "#bd3786"
             ],
             [
              0.5555555555555556,
              "#d8576b"
             ],
             [
              0.6666666666666666,
              "#ed7953"
             ],
             [
              0.7777777777777778,
              "#fb9f3a"
             ],
             [
              0.8888888888888888,
              "#fdca26"
             ],
             [
              1,
              "#f0f921"
             ]
            ],
            "type": "surface"
           }
          ],
          "table": [
           {
            "cells": {
             "fill": {
              "color": "#EBF0F8"
             },
             "line": {
              "color": "white"
             }
            },
            "header": {
             "fill": {
              "color": "#C8D4E3"
             },
             "line": {
              "color": "white"
             }
            },
            "type": "table"
           }
          ]
         },
         "layout": {
          "annotationdefaults": {
           "arrowcolor": "#2a3f5f",
           "arrowhead": 0,
           "arrowwidth": 1
          },
          "autotypenumbers": "strict",
          "coloraxis": {
           "colorbar": {
            "outlinewidth": 0,
            "ticks": ""
           }
          },
          "colorscale": {
           "diverging": [
            [
             0,
             "#8e0152"
            ],
            [
             0.1,
             "#c51b7d"
            ],
            [
             0.2,
             "#de77ae"
            ],
            [
             0.3,
             "#f1b6da"
            ],
            [
             0.4,
             "#fde0ef"
            ],
            [
             0.5,
             "#f7f7f7"
            ],
            [
             0.6,
             "#e6f5d0"
            ],
            [
             0.7,
             "#b8e186"
            ],
            [
             0.8,
             "#7fbc41"
            ],
            [
             0.9,
             "#4d9221"
            ],
            [
             1,
             "#276419"
            ]
           ],
           "sequential": [
            [
             0,
             "#0d0887"
            ],
            [
             0.1111111111111111,
             "#46039f"
            ],
            [
             0.2222222222222222,
             "#7201a8"
            ],
            [
             0.3333333333333333,
             "#9c179e"
            ],
            [
             0.4444444444444444,
             "#bd3786"
            ],
            [
             0.5555555555555556,
             "#d8576b"
            ],
            [
             0.6666666666666666,
             "#ed7953"
            ],
            [
             0.7777777777777778,
             "#fb9f3a"
            ],
            [
             0.8888888888888888,
             "#fdca26"
            ],
            [
             1,
             "#f0f921"
            ]
           ],
           "sequentialminus": [
            [
             0,
             "#0d0887"
            ],
            [
             0.1111111111111111,
             "#46039f"
            ],
            [
             0.2222222222222222,
             "#7201a8"
            ],
            [
             0.3333333333333333,
             "#9c179e"
            ],
            [
             0.4444444444444444,
             "#bd3786"
            ],
            [
             0.5555555555555556,
             "#d8576b"
            ],
            [
             0.6666666666666666,
             "#ed7953"
            ],
            [
             0.7777777777777778,
             "#fb9f3a"
            ],
            [
             0.8888888888888888,
             "#fdca26"
            ],
            [
             1,
             "#f0f921"
            ]
           ]
          },
          "colorway": [
           "#636efa",
           "#EF553B",
           "#00cc96",
           "#ab63fa",
           "#FFA15A",
           "#19d3f3",
           "#FF6692",
           "#B6E880",
           "#FF97FF",
           "#FECB52"
          ],
          "font": {
           "color": "#2a3f5f"
          },
          "geo": {
           "bgcolor": "white",
           "lakecolor": "white",
           "landcolor": "#E5ECF6",
           "showlakes": true,
           "showland": true,
           "subunitcolor": "white"
          },
          "hoverlabel": {
           "align": "left"
          },
          "hovermode": "closest",
          "mapbox": {
           "style": "light"
          },
          "paper_bgcolor": "white",
          "plot_bgcolor": "#E5ECF6",
          "polar": {
           "angularaxis": {
            "gridcolor": "white",
            "linecolor": "white",
            "ticks": ""
           },
           "bgcolor": "#E5ECF6",
           "radialaxis": {
            "gridcolor": "white",
            "linecolor": "white",
            "ticks": ""
           }
          },
          "scene": {
           "xaxis": {
            "backgroundcolor": "#E5ECF6",
            "gridcolor": "white",
            "gridwidth": 2,
            "linecolor": "white",
            "showbackground": true,
            "ticks": "",
            "zerolinecolor": "white"
           },
           "yaxis": {
            "backgroundcolor": "#E5ECF6",
            "gridcolor": "white",
            "gridwidth": 2,
            "linecolor": "white",
            "showbackground": true,
            "ticks": "",
            "zerolinecolor": "white"
           },
           "zaxis": {
            "backgroundcolor": "#E5ECF6",
            "gridcolor": "white",
            "gridwidth": 2,
            "linecolor": "white",
            "showbackground": true,
            "ticks": "",
            "zerolinecolor": "white"
           }
          },
          "shapedefaults": {
           "line": {
            "color": "#2a3f5f"
           }
          },
          "ternary": {
           "aaxis": {
            "gridcolor": "white",
            "linecolor": "white",
            "ticks": ""
           },
           "baxis": {
            "gridcolor": "white",
            "linecolor": "white",
            "ticks": ""
           },
           "bgcolor": "#E5ECF6",
           "caxis": {
            "gridcolor": "white",
            "linecolor": "white",
            "ticks": ""
           }
          },
          "title": {
           "x": 0.05
          },
          "xaxis": {
           "automargin": true,
           "gridcolor": "white",
           "linecolor": "white",
           "ticks": "",
           "title": {
            "standoff": 15
           },
           "zerolinecolor": "white",
           "zerolinewidth": 2
          },
          "yaxis": {
           "automargin": true,
           "gridcolor": "white",
           "linecolor": "white",
           "ticks": "",
           "title": {
            "standoff": 15
           },
           "zerolinecolor": "white",
           "zerolinewidth": 2
          }
         }
        },
        "xaxis": {
         "title": {
          "text": "Quantile"
         }
        },
        "yaxis": {
         "title": {
          "text": "Silhouette Mean"
         }
        }
       }
      }
     },
     "metadata": {}
    }
   ],
   "source": [
    "fig = go.Figure()\n",
    "fig.add_trace(go.Scatter(x=quantile_plot,\n",
    "                         y=silhouette_values))\n",
    "\n",
    "fig.update_layout(dict(xaxis_title = 'Quantile',\n",
    "                        yaxis_title = 'Silhouette Mean'))"
   ]
  },
  {
   "cell_type": "code",
   "execution_count": 59,
   "metadata": {},
   "outputs": [
    {
     "output_type": "stream",
     "name": "stdout",
     "text": [
      "Labels KMeans:  [1 1 1 1 1 1 1 1 1 1 1 1 1 1 1 1 1 1 1 1 1 1 1 1 1 1 1 1 1 1 1 1 1 1 1 1 1\n 1 1 1 1 1 1 1 1 1 1 1 1 1 1 1 1 1 1 1 1 1 1 0 0 0 0 0 0 0 0 0 0 0 0 0 0 1\n 0 0 0 0 0 0 0 0 0 2 0 0 0 0 0 0 0 0 0 0 0 0 0 0 0 0 0 0 0 0 0 0 0 0 0 0 0\n 0 0 0 0 0 0 0 0 0 0 0 0 0 0 0 0 0 0 0 2 2 2 2 2 2 2 2 2 2 2 2 2 2 2 2 2 2\n 2 2 2 2 2 2 2 2 2 2 2 2 2 2 2 2 2 2 2 2 2 2 2 2 2 2 2 2 2 2]\nLabels DBSCAN:  [ 0  0  0  0  0  0  0  0  0  0  0  0  0  0  0  0  0  0  0  0  0  0  0  0\n  0  0  0  0  0  0  0  0  0  0  0  0  0  0  0  0  0  0  0  0  0  0  0  0\n  0  0  0  0  0  0  0  0  0  0  0 -1 -1 -1  0  0 -1  0  0  0 -1 -1 -1  0\n  0 -1  0  0  0 -1 -1  0  0  0  0 -1  0  0  0  0  0  0  0  0 -1  0  0 -1\n -1  0  0 -1  0  0  0  0  0 -1  0  0  0  0 -1  0 -1  0  0 -1  0  0 -1  0\n  0 -1 -1  0 -1  0  0 -1  0 -1 -1 -1 -1 -1 -1 -1 -1 -1 -1 -1 -1 -1 -1 -1\n -1 -1 -1 -1 -1 -1 -1 -1 -1 -1 -1 -1 -1 -1 -1 -1 -1 -1 -1 -1 -1 -1 -1 -1\n -1 -1 -1 -1 -1 -1 -1 -1 -1 -1]\nLabels Meanshift:  [0 0 0 0 0 0 0 0 0 0 0 0 0 0 0 0 0 0 0 0 0 0 0 0 0 0 0 0 0 0 0 0 0 0 0 0 0\n 0 0 0 0 0 0 0 0 0 0 0 0 0 0 0 0 0 0 0 0 0 0 0 1 1 0 0 0 0 0 0 0 0 1 0 0 0\n 0 0 0 1 0 0 0 0 0 1 0 0 0 0 0 0 0 0 1 0 0 0 0 0 0 0 0 0 0 0 0 1 0 1 0 0 0\n 0 1 0 0 0 0 0 1 0 0 2 0 0 0 0 0 1 0 1 1 1 1 1 1 1 1 1 1 1 1 1 1 1 1 1 1 1\n 1 1 1 1 1 1 1 1 1 1 1 1 1 1 1 1 1 1 1 1 1 1 1 1 1 1 1 1 1 1]\n"
     ]
    }
   ],
   "source": [
    "from sklearn.cluster import KMeans, MeanShift, DBSCAN, estimate_bandwidth\n",
    "from sklearn.metrics import silhouette_score\n",
    "\n",
    "grouper_kmeans = KMeans(n_clusters = 3)\n",
    "grouper_DBSCAN = DBSCAN(eps = 2.1, min_samples = 56, metric = 'manhattan')\n",
    "\n",
    "BW = estimate_bandwidth(df, quantile = 0.28)\n",
    "grouper_meanshift = MeanShift(bandwidth=BW)\n",
    "\n",
    "labels_kmeans = grouper_kmeans.fit_predict(df)\n",
    "labels_dbscan = grouper_DBSCAN.fit_predict(df)\n",
    "labels_meanshift = grouper_meanshift.fit_predict(df)\n",
    "\n",
    "print('Labels KMeans: ', labels_kmeans)\n",
    "print('Labels DBSCAN: ', labels_dbscan)\n",
    "print('Labels Meanshift: ', labels_meanshift)"
   ]
  },
  {
   "cell_type": "code",
   "execution_count": 61,
   "metadata": {},
   "outputs": [
    {
     "output_type": "stream",
     "name": "stdout",
     "text": [
      "Silhouette coefficient of KMeans is:  0.36950618492736303\nSilhouette coefficient of DBSCAN is:  0.3016232115094375\nSilhouette coefficient of Meanshift is:  0.30591528661156275\n"
     ]
    }
   ],
   "source": [
    "print('Silhouette coefficient of KMeans is: ', silhouette_score(df, labels_kmeans))\n",
    "print('Silhouette coefficient of DBSCAN is: ', silhouette_score(df, labels_dbscan))\n",
    "print('Silhouette coefficient of Meanshift is: ', silhouette_score(df, labels_meanshift))"
   ]
  },
  {
   "source": [
    "The above code shows that according to the silhouette coefficient, KMeans is the best grouper for the given dataframe"
   ],
   "cell_type": "markdown",
   "metadata": {}
  }
 ]
}