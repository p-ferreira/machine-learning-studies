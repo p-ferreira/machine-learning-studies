{
 "metadata": {
  "language_info": {
   "codemirror_mode": {
    "name": "ipython",
    "version": 3
   },
   "file_extension": ".py",
   "mimetype": "text/x-python",
   "name": "python",
   "nbconvert_exporter": "python",
   "pygments_lexer": "ipython3",
   "version": "3.8.5"
  },
  "orig_nbformat": 2,
  "kernelspec": {
   "name": "python385jvsc74a57bd0694c8744488563f6cd2d93f9dc805a9ad929a19bb6157c2d6f3cab25a4c31ca1",
   "display_name": "Python 3.8.5 64-bit ('base': conda)"
  }
 },
 "nbformat": 4,
 "nbformat_minor": 2,
 "cells": [
  {
   "cell_type": "code",
   "execution_count": 25,
   "metadata": {},
   "outputs": [],
   "source": [
    "import pandas as pd\r\n",
    "\r\n",
    "uri = 'https://s3.amazonaws.com/caelum-online-public/356-intro-machine-learning/busca.csv'\r\n",
    "\r\n",
    "data = pd.read_csv(uri, sep =',')\r\n",
    "\r\n",
    "data.rename({'busca': 'search', 'logado': 'logged', 'comprou': 'bought'}, axis='columns', inplace=True)"
   ]
  },
  {
   "cell_type": "code",
   "execution_count": 26,
   "metadata": {},
   "outputs": [],
   "source": [
    "X = data[['home', 'search', 'logged']]\n",
    "Y = data['bought']\n",
    "\n",
    "\n",
    "X = pd.get_dummies(X)"
   ]
  },
  {
   "cell_type": "code",
   "execution_count": 56,
   "metadata": {},
   "outputs": [
    {
     "output_type": "stream",
     "name": "stdout",
     "text": [
      "82.0\n100\nBaseline: 82.0\n"
     ]
    }
   ],
   "source": [
    "# With Multinomial naive bayes algorithm\n",
    "\n",
    "from sklearn.naive_bayes import MultinomialNB\n",
    "from collections import Counter\n",
    "\n",
    "train_percentage = 0.9\n",
    "train_size = int(train_percentage * len(data))\n",
    "\n",
    "train_X = X[:train_size]\n",
    "train_Y = Y[:train_size]\n",
    "\n",
    "test_size = int(len(data) - train_size)\n",
    "\n",
    "test_X = X[-test_size:]\n",
    "test_Y = Y[-test_size:]\n",
    "\n",
    "model = MultinomialNB()\n",
    "model.fit(train_X, train_Y)\n",
    "\n",
    "result = model.predict(test_X)\n",
    "differences = result == test_Y\n",
    "\n",
    "hits = sum(differences.values)\n",
    "total_elements = len(test_X)\n",
    "accuracy = 100.0 * hits / total_elements\n",
    "\n",
    "baseline = (100 * max(Counter(test_Y).values()) / len(test_Y))\n",
    "\n",
    "print(accuracy)\n",
    "print(total_elements)\n",
    "print(f'Baseline: {baseline}')"
   ]
  },
  {
   "cell_type": "code",
   "execution_count": 57,
   "metadata": {},
   "outputs": [
    {
     "output_type": "stream",
     "name": "stdout",
     "text": [
      "85.0\n100\nBaseline: 82.0\n"
     ]
    }
   ],
   "source": [
    "# With Adaboost algorithm\n",
    "\n",
    "from sklearn.ensemble import AdaBoostClassifier\n",
    "from collections import Counter\n",
    "\n",
    "train_percentage = 0.9\n",
    "train_size = int(train_percentage * len(data))\n",
    "\n",
    "train_X = X[:train_size]\n",
    "train_Y = Y[:train_size]\n",
    "\n",
    "test_size = int(len(data) - train_size)\n",
    "\n",
    "test_X = X[-test_size:]\n",
    "test_Y = Y[-test_size:]\n",
    "\n",
    "model = AdaBoostClassifier()\n",
    "model.fit(train_X, train_Y)\n",
    "\n",
    "result = model.predict(test_X)\n",
    "differences = result == test_Y\n",
    "\n",
    "hits = sum(differences.values)\n",
    "total_elements = len(test_X)\n",
    "accuracy = 100.0 * hits / total_elements\n",
    "\n",
    "baseline = (100 * max(Counter(test_Y).values()) / len(test_Y))\n",
    "\n",
    "print(accuracy)\n",
    "print(total_elements)\n",
    "print(f'Baseline: {baseline}')"
   ]
  },
  {
   "cell_type": "code",
   "execution_count": 81,
   "metadata": {},
   "outputs": [],
   "source": [
    "# Creating function to reuse code easily\n",
    "\n",
    "def fit_and_predict(name, model, train_X, train_Y, test_X, test_Y):\n",
    "    model.fit(train_X, train_Y)\n",
    "\n",
    "    result = model.predict(test_X)\n",
    "    differences = result == test_Y\n",
    "\n",
    "    hits = sum(differences.values)\n",
    "    total_elements = len(test_X)\n",
    "    accuracy = 100.0 * hits / total_elements\n",
    "\n",
    "    baseline = (100 * max(Counter(test_Y).values()) / len(test_Y))\n",
    "\n",
    "    print(f'Name: {name} : Accuracy of {accuracy} | Total elements: {total_elements}  Baseline: {baseline}')    \n",
    "    return accuracy"
   ]
  },
  {
   "cell_type": "code",
   "execution_count": 83,
   "metadata": {},
   "outputs": [
    {
     "output_type": "stream",
     "name": "stdout",
     "text": [
      "Name: MultinomialNB : Accuracy of 82.0 | Total elements: 100  Baseline: 82.0\nName: AdaBoost : Accuracy of 84.0 | Total elements: 100  Baseline: 82.0\nAccuracy of winner model with validation data: 85.0\n"
     ]
    }
   ],
   "source": [
    "from sklearn.naive_bayes import MultinomialNB\n",
    "from sklearn.ensemble import AdaBoostClassifier\n",
    "from collections import Counter\n",
    "\n",
    "X = data[['home', 'search', 'logged']]\n",
    "Y = data['bought']\n",
    "\n",
    "X = pd.get_dummies(X)\n",
    "\n",
    "train_percentage = 0.8\n",
    "test_percentage = 0.1\n",
    "\n",
    "train_size = int(train_percentage * len(Y))\n",
    "test_size = int(test_percentage * len(Y))\n",
    "validation_size = len(Y) - train_size - test_size\n",
    "\n",
    "train_X = X[0:train_size]\n",
    "train_Y = Y[0:train_size]\n",
    "\n",
    "end_test = train_size + test_size\n",
    "\n",
    "test_X = X[train_size:end_test]\n",
    "test_Y = Y[train_size:end_test]\n",
    "\n",
    "validation_X = X[end_test:]\n",
    "validation_Y = Y[end_test:]\n",
    "\n",
    "model_multinomial_nb = MultinomialNB()\n",
    "model_adaBoost = AdaBoostClassifier()\n",
    "\n",
    "result_multinomial = fit_and_predict('MultinomialNB', model_multinomial_nb, train_X, train_Y, test_X, test_Y)\n",
    "\n",
    "result_adaboost = fit_and_predict('AdaBoost', model_adaBoost, train_X, train_Y, test_X, test_Y)\n",
    "\n",
    "\n",
    "if result_multinomial > result_adaboost:\n",
    "    winner = model_multinomial_nb\n",
    "else:\n",
    "    winner = model_adaBoost\n",
    "\n",
    "result = winner.predict(validation_X)\n",
    "accuracy = (result - validation_Y)\n",
    "\n",
    "hits = sum(differences.values)\n",
    "total_elements = len(test_X)\n",
    "accuracy = 100.0 * hits / total_elements\n",
    "\n",
    "\n",
    "print(f'Accuracy of winner model with validation data: {accuracy}')"
   ]
  }
 ]
}